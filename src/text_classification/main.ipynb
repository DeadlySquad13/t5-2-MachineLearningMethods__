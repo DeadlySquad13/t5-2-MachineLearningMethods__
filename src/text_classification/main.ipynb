{
    "cells": [
        {
            "cell_type": "markdown",
            "id": "68130576",
            "metadata": {},
            "source": "# \u041b\u0430\u0431\u043e\u0440\u0430\u0442\u043e\u0440\u043d\u0430\u044f \u0440\u0430\u0431\u043e\u0442\u0430 \u043f\u043e \u0442\u0435\u043c\u0435 \"\u041a\u043b\u0430\u0441\u0441\u0438\u0444\u0438\u043a\u0430\u0446\u0438\u044f \u0442\u0435\u043a\u0441\u0442\u0430\"\n\u0412\u044b\u043f\u043e\u043b\u043d\u0438\u043b: \u041f\u0430\u043a\u0430\u043b\u043e \u0410\u043b\u0435\u043a\u0441\u0430\u043d\u0434\u0440 \u0421\u0435\u0440\u0433\u0435\u0435\u0432\u0438\u0447 \u0418\u04235-22\u041c\n\n## \u0417\u0430\u0434\u0430\u043d\u0438\u0435\n\u0414\u043b\u044f \u043f\u0440\u043e\u0438\u0437\u0432\u043e\u043b\u044c\u043d\u043e\u0433\u043e \u043d\u0430\u0431\u043e\u0440\u0430 \u0434\u0430\u043d\u043d\u044b\u0445, \u043f\u0440\u0435\u0434\u043d\u0430\u0437\u043d\u0430\u0447\u0435\u043d\u043d\u043e\u0433\u043e \u0434\u043b\u044f \u043a\u043b\u0430\u0441\u0441\u0438\u0444\u0438\u043a\u0430\u0446\u0438\u0438 \u0442\u0435\u043a\u0441\u0442\u043e\u0432, \u0440\u0435\u0448\u0438\u0442\u0435 \u0437\u0430\u0434\u0430\u0447\u0443 \u043a\u043b\u0430\u0441\u0441\u0438\u0444\u0438\u043a\u0430\u0446\u0438\u0438 \u0442\u0435\u043a\u0441\u0442\u0430 \u0434\u0432\u0443\u043c\u044f \u0441\u043f\u043e\u0441\u043e\u0431\u0430\u043c\u0438:\n\n\u0421\u043f\u043e\u0441\u043e\u0431 1. \u041d\u0430 \u043e\u0441\u043d\u043e\u0432\u0435 CountVectorizer \u0438\u043b\u0438 **TfidfVectorizer**.\n\u0421\u043f\u043e\u0441\u043e\u0431 2. \u041d\u0430 \u043e\u0441\u043d\u043e\u0432\u0435 \u043c\u043e\u0434\u0435\u043b\u0435\u0439 **word2vec** \u0438\u043b\u0438 Glove \u0438\u043b\u0438 fastText.\n\u0421\u0440\u0430\u0432\u043d\u0438\u0442\u0435 \u043a\u0430\u0447\u0435\u0441\u0442\u0432\u043e \u043f\u043e\u043b\u0443\u0447\u0435\u043d\u043d\u044b\u0445 \u043c\u043e\u0434\u0435\u043b\u0435\u0439.\n\u0414\u043b\u044f \u043f\u043e\u0438\u0441\u043a\u0430 \u043d\u0430\u0431\u043e\u0440\u043e\u0432 \u0434\u0430\u043d\u043d\u044b\u0445 \u0432 \u043f\u043e\u0438\u0441\u043a\u043e\u0432\u043e\u0439 \u0441\u0438\u0441\u0442\u0435\u043c\u0435 \u043c\u043e\u0436\u043d\u043e \u0438\u0441\u043f\u043e\u043b\u044c\u0437\u043e\u0432\u0430\u0442\u044c \u043a\u043b\u044e\u0447\u0435\u0432\u044b\u0435 \u0441\u043b\u043e\u0432\u0430 \"datasets for text classification\"."
        },
        {
            "cell_type": "markdown",
            "id": "2fb6818a",
            "metadata": {},
            "source": "\u0421\u043f\u0438\u0441\u043e\u043a \u0434\u043e\u0441\u0442\u0443\u043f\u043d\u044b\u0445 \u043f\u0440\u0435\u0434\u043e\u0431\u0443\u0447\u0435\u043d\u043d\u043d\u044b\u0445 \u043c\u043e\u0434\u0435\u043b\u0435\u0439"
        },
        {
            "cell_type": "code",
            "execution_count": 6,
            "id": "e8365435",
            "metadata": {
                "trusted": true
            },
            "outputs": [
                {
                    "data": {
                        "text/plain": "['fasttext-wiki-news-subwords-300',\n 'conceptnet-numberbatch-17-06-300',\n 'word2vec-ruscorpora-300',\n 'word2vec-google-news-300',\n 'glove-wiki-gigaword-50',\n 'glove-wiki-gigaword-100',\n 'glove-wiki-gigaword-200',\n 'glove-wiki-gigaword-300',\n 'glove-twitter-25',\n 'glove-twitter-50',\n 'glove-twitter-100',\n 'glove-twitter-200',\n '__testing_word2vec-matrix-synopsis']"
                    },
                    "execution_count": 6,
                    "metadata": {},
                    "output_type": "execute_result"
                }
            ],
            "source": "import gensim\nfrom gensim.downloader import info\n\nlist(info()['models'].keys())"
        },
        {
            "cell_type": "code",
            "execution_count": 8,
            "id": "e27ff4da",
            "metadata": {
                "trusted": true
            },
            "outputs": [],
            "source": "from gensim.downloader import info, load\n\n# You can safely restart this cell, gensim will download it only once.\n# It still takes some time to load, though.\nword2vec_google_news_300_model = load(\"word2vec-google-news-300\")"
        },
        {
            "cell_type": "code",
            "execution_count": 9,
            "id": "2ea5ded7",
            "metadata": {
                "trusted": true
            },
            "outputs": [],
            "source": "model = word2vec_google_news_300_model"
        },
        {
            "cell_type": "code",
            "execution_count": 19,
            "id": "6d2dfdb5",
            "metadata": {
                "trusted": true
            },
            "outputs": [],
            "source": "words = [\"king\", \"queen\", \"man\", \"woman\"]"
        },
        {
            "cell_type": "code",
            "execution_count": 34,
            "id": "657e3a88",
            "metadata": {
                "trusted": true
            },
            "outputs": [
                {
                    "data": {
                        "text/plain": "[\"\u0414\u043b\u044f \u043f\u0430\u0440\u044b \u0441\u043b\u043e\u0432 ('king', 'queen') \u0441\u0445\u043e\u0436\u0435\u0441\u0442\u044c: 0.65\",\n \"\u0414\u043b\u044f \u043f\u0430\u0440\u044b \u0441\u043b\u043e\u0432 ('king', 'man') \u0441\u0445\u043e\u0436\u0435\u0441\u0442\u044c: 0.23\",\n \"\u0414\u043b\u044f \u043f\u0430\u0440\u044b \u0441\u043b\u043e\u0432 ('king', 'woman') \u0441\u0445\u043e\u0436\u0435\u0441\u0442\u044c: 0.13\",\n \"\u0414\u043b\u044f \u043f\u0430\u0440\u044b \u0441\u043b\u043e\u0432 ('queen', 'king') \u0441\u0445\u043e\u0436\u0435\u0441\u0442\u044c: 0.65\",\n \"\u0414\u043b\u044f \u043f\u0430\u0440\u044b \u0441\u043b\u043e\u0432 ('queen', 'man') \u0441\u0445\u043e\u0436\u0435\u0441\u0442\u044c: 0.17\",\n \"\u0414\u043b\u044f \u043f\u0430\u0440\u044b \u0441\u043b\u043e\u0432 ('queen', 'woman') \u0441\u0445\u043e\u0436\u0435\u0441\u0442\u044c: 0.32\",\n \"\u0414\u043b\u044f \u043f\u0430\u0440\u044b \u0441\u043b\u043e\u0432 ('man', 'king') \u0441\u0445\u043e\u0436\u0435\u0441\u0442\u044c: 0.23\",\n \"\u0414\u043b\u044f \u043f\u0430\u0440\u044b \u0441\u043b\u043e\u0432 ('man', 'queen') \u0441\u0445\u043e\u0436\u0435\u0441\u0442\u044c: 0.17\",\n \"\u0414\u043b\u044f \u043f\u0430\u0440\u044b \u0441\u043b\u043e\u0432 ('man', 'woman') \u0441\u0445\u043e\u0436\u0435\u0441\u0442\u044c: 0.77\",\n \"\u0414\u043b\u044f \u043f\u0430\u0440\u044b \u0441\u043b\u043e\u0432 ('woman', 'king') \u0441\u0445\u043e\u0436\u0435\u0441\u0442\u044c: 0.13\",\n \"\u0414\u043b\u044f \u043f\u0430\u0440\u044b \u0441\u043b\u043e\u0432 ('woman', 'queen') \u0441\u0445\u043e\u0436\u0435\u0441\u0442\u044c: 0.32\",\n \"\u0414\u043b\u044f \u043f\u0430\u0440\u044b \u0441\u043b\u043e\u0432 ('woman', 'man') \u0441\u0445\u043e\u0436\u0435\u0441\u0442\u044c: 0.77\"]"
                    },
                    "execution_count": 34,
                    "metadata": {},
                    "output_type": "execute_result"
                }
            ],
            "source": "from itertools import permutations\n\nPAIRS = 2\n[f\"\u0414\u043b\u044f \u043f\u0430\u0440\u044b \u0441\u043b\u043e\u0432 {word_pair} \u0441\u0445\u043e\u0436\u0435\u0441\u0442\u044c: {model.similarity(*word_pair):1.2f}\" for word_pair in permutations(words, PAIRS)]"
        },
        {
            "cell_type": "code",
            "execution_count": null,
            "id": "ca9e73d2",
            "metadata": {
                "trusted": true
            },
            "outputs": [],
            "source": "import spacy\nfrom spacy.lang.ru import Russian\n\n# Changes display style for spacy.displacy.\nIS_JUPYTER = True"
        },
        {
            "cell_type": "code",
            "execution_count": null,
            "id": "277c3d71",
            "metadata": {
                "trusted": true
            },
            "outputs": [],
            "source": "text1 = \"Natural Language Toolkit (NLTK) - \u043e\u0434\u043d\u0430 \u0438\u0437 \u043d\u0430\u0438\u0431\u043e\u043b\u0435\u0435 \u0441\u0442\u0430\u0440\u044b\u0445 \u0438 \u0438\u0437\u0432\u0435\u0441\u0442\u043d\u044b\u0445 \u0431\u0438\u0431\u043b\u0438\u043e\u0442\u0435\u043a. Spacy - \u043d\u0430 \u0441\u0435\u0433\u043e\u0434\u043d\u044f\u0448\u043d\u0438\u0439 \u0434\u0435\u043d\u044c \u043e\u0434\u043d\u0430 \u0438\u0437 \u043d\u0430\u0438\u0431\u043e\u043b\u0435\u0435 \u0440\u0430\u0437\u0432\u0438\u0442\u044b\u0445 \u0431\u0438\u0431\u043b\u0438\u043e\u0442\u0435\u043a, \u043f\u0440\u0435\u0434\u043d\u0430\u0437\u043d\u0430\u0447\u0435\u043d\u043d\u044b\u0445 \u0434\u043b\u044f \u043e\u0431\u0440\u0430\u0431\u043e\u0442\u043a\u0438 \u0435\u0441\u0442\u0435\u0441\u0442\u0432\u0435\u043d\u043d\u043e\u0433\u043e \u044f\u0437\u044b\u043a\u0430, \u0432 \u0442\u043e\u043c \u0447\u0438\u0441\u043b\u0435 \u043e\u0440\u0438\u0435\u043d\u0442\u0438\u0440\u043e\u0432\u0430\u043d\u043d\u0430\u044f \u043d\u0430 \u0440\u0443\u0441\u0441\u043a\u0438\u0439 \u044f\u0437\u044b\u043a.\"\n# \u0425\u043e\u0440\u043e\u0448\u043e \u043f\u043e\u0434\u0445\u043e\u0434\u0438\u0442 \u0434\u043b\u044f \u0442\u0435\u0441\u0442\u0438\u0440\u043e\u0432\u0430\u043d\u0438\u044f \u0447\u0430\u0441\u0442\u0435\u0439 \u0440\u0435\u0447\u0438 (2 \u043f\u0443\u043d\u043a\u0442) \u0438 \u0440\u0430\u0437\u0431\u043e\u0440\u0430 \u043f\u0440\u0435\u0434\u043b\u043e\u0436\u0435\u043d\u0438\u044f\n# (\u043f\u0443\u043d\u043a\u0442 5).\ntext2 = \"\u041d\u0430 \u043a\u043e\u0441\u043e\u0439 \u043a\u043e\u0441\u0435 \u041a\u043e\u0441\u043e\u0439 \u043a\u043e\u0441\u0438\u043b \u0442\u0440\u0430\u0432\u0443 \u043a\u043e\u0441\u043e\u0439 \u043a\u043e\u0441\u043e\u0439.\"\n# \u0425\u043e\u0440\u043e\u0448\u043e \u043f\u043e\u0434\u0445\u043e\u0434\u0438\u0442 \u0434\u043b\u044f \u0442\u0435\u0441\u0442\u0438\u0440\u043e\u0432\u0430\u043d\u0438\u044f Named Entity Recognition (4 \u043f\u0443\u043d\u043a\u0442).\ntext3 = (\n    \"\u041c\u043e\u0441\u043a\u0432\u0430 - \u0441\u0442\u043e\u043b\u0438\u0446\u0430 \u0420\u043e\u0441\u0441\u0438\u0438, \u043f\u043e \u043f\u0440\u0435\u0434\u0430\u043d\u0438\u044e \u0435\u0435 \u043e\u0441\u043d\u043e\u0432\u0430\u043b \u043a\u043d\u044f\u0437\u044c \u042e\u0440\u0438\u0439 \u0414\u043e\u043b\u0433\u043e\u0440\u0443\u043a\u0438\u0439 \u0432 1147 \u0433\u043e\u0434\u0443.\"\n)\n#\nmy_text = (\n    \"Nyandex - \u043e\u0442\u043b\u0438\u0447\u043d\u0430\u044f \u043a\u043e\u043c\u043f\u0430\u043d\u0438\u044f, \u0432\u0435\u0434\u044c \u0432 \u043d\u0435\u0439 (\u043d\u0435) \u0440\u0430\u0431\u043e\u0442\u0430\u044e\u0442 \u0442\u0430\u043a\u0438\u0435 \u043b\u044e\u0434\u0438 \u043a\u0430\u043a \u041f\u0432\u0438\u043d\u043a\u043e\u0432\u0438\u0447\"\n)\n\nCHOSEN_TEXT = my_text"
        },
        {
            "cell_type": "markdown",
            "id": "5f5e76ed",
            "metadata": {},
            "source": "### 1. \u0422\u043e\u043a\u0435\u043d\u0438\u0437\u0430\u0446\u0438\u044f"
        },
        {
            "cell_type": "code",
            "execution_count": null,
            "id": "2bf49438",
            "metadata": {
                "trusted": true
            },
            "outputs": [],
            "source": "nlp = spacy.load(\"ru_core_news_sm\")\nspacy_text = nlp(CHOSEN_TEXT)\n\nfor token in spacy_text:\n    print(token)"
        },
        {
            "cell_type": "markdown",
            "id": "3b15dba6",
            "metadata": {},
            "source": "### 2. \u0427\u0430\u0441\u0442\u0435\u0440\u0435\u0447\u043d\u0430\u044f \u0440\u0430\u0437\u043c\u0435\u0442\u043a\u0430"
        },
        {
            "cell_type": "code",
            "execution_count": null,
            "id": "3712563d",
            "metadata": {
                "trusted": true
            },
            "outputs": [],
            "source": "import pandas as pd\n\n# You may need reduce or other method for larger texts because it can get slow:\n# for each column we iterate over all dataset.\ntoken_text_column = [token.text for token in spacy_text]\ntoken_position_column = [token.pos_ for token in spacy_text]\ntoken_dep_column = [token.dep_ for token in spacy_text]\ntoken_explanation_column = [\n    f\"{spacy.explain(position)}, {spacy.explain(dep)}\"\n    for position, dep in zip(token_position_column, token_dep_column)\n]\n\npd.DataFrame(\n    data={\n        \"text\": token_text_column,\n        \"position\": token_position_column,\n        \"dep\": token_dep_column,\n        \"explanation\": token_explanation_column,\n    }\n)"
        },
        {
            "cell_type": "markdown",
            "id": "b9218110",
            "metadata": {},
            "source": "### 3. \u041b\u0435\u043c\u043c\u0430\u0442\u0438\u0437\u0430\u0446\u0438\u044f"
        },
        {
            "cell_type": "code",
            "execution_count": null,
            "id": "4f5c4804",
            "metadata": {
                "trusted": true
            },
            "outputs": [],
            "source": "# You may need reduce or other method for larger texts because it can get slow:\n# for each column we iterate over all dataset.\ntoken_lemma_column = [token.lemma_ for token in spacy_text]\n\npd.DataFrame(\n    data={\n        \"text\": token_text_column,\n        \"lemma\": token_lemma_column,\n    }\n)"
        },
        {
            "cell_type": "markdown",
            "id": "1a0847f2",
            "metadata": {},
            "source": "### 4. \u0412\u044b\u0434\u0435\u043b\u0435\u043d\u0438\u0435 (\u0440\u0430\u0441\u043f\u043e\u0437\u043d\u0430\u0432\u0430\u043d\u0438\u0435) \u0438\u043c\u0435\u043d\u043e\u0432\u0430\u043d\u043d\u044b\u0445 \u0441\u0443\u0449\u043d\u043e\u0441\u0442\u0435\u0439"
        },
        {
            "cell_type": "code",
            "execution_count": null,
            "id": "f2b03a6c",
            "metadata": {
                "trusted": true
            },
            "outputs": [],
            "source": "from spacy import displacy\n\ndisplacy.render(spacy_text, style=\"ent\", jupyter=IS_JUPYTER)"
        },
        {
            "cell_type": "code",
            "execution_count": null,
            "id": "7246f0b7",
            "metadata": {
                "trusted": true
            },
            "outputs": [],
            "source": "entity_text_column = [entity.text for entity in spacy_text.ents]\nentity_label_column = [entity.label_ for entity in spacy_text.ents]\nentity_explanation_column = [spacy.explain(entity) for entity in entity_label_column]\n\npd.DataFrame(\n    data={\n        \"entity\": entity_text_column,\n        \"label\": entity_label_column,\n        \"explanation\": entity_explanation_column,\n    }\n)"
        },
        {
            "cell_type": "markdown",
            "id": "cdcd838b",
            "metadata": {},
            "source": "### 5. \u0420\u0430\u0437\u0431\u043e\u0440 \u043f\u0440\u0435\u0434\u043b\u043e\u0436\u0435\u043d\u0438\u044f"
        },
        {
            "cell_type": "code",
            "execution_count": null,
            "id": "8c391c6a",
            "metadata": {
                "trusted": true
            },
            "outputs": [],
            "source": "from spacy import displacy\n\ndisplacy.render(spacy_text, style=\"dep\", jupyter=IS_JUPYTER)"
        },
        {
            "cell_type": "markdown",
            "id": "20bced34",
            "metadata": {},
            "source": "## \u0412\u044b\u0432\u043e\u0434\n\u0411\u0438\u0431\u043b\u0438\u043e\u0442\u0435\u043a\u0430 `spacy` \u043e\u0442\u043b\u0438\u0447\u043d\u043e \u0441\u043f\u0440\u0430\u0432\u043b\u044f\u0435\u0442\u0441\u044f \u0441 \u0437\u0430\u0434\u0430\u0447\u0430\u043c\u0438 \u043f\u0440\u0435\u043e\u0431\u0440\u0430\u0431\u043e\u0442\u043a\u0438 \u0438 \u0430\u043d\u0430\u043b\u0438\u0437\u0430 \u0442\u0435\u043a\u0441\u0442\u043e\u0432.\n\u0421 \u043f\u043e\u043c\u043e\u0449\u044c\u044e \u043d\u0435\u0451 \u043c\u044b \u043c\u043e\u0436\u0435\u043c \u0442\u043e\u043a\u0435\u043d\u0438\u0437\u0438\u0440\u043e\u0432\u0430\u0442\u044c \u0442\u0435\u043a\u0441\u0442, \u043e\u043f\u0440\u0435\u0434\u0435\u043b\u0438\u0442\u044c \u043b\u0435\u043c\u043c\u044b, \u0432\u044b\u0434\u0435\u043b\u0438\u0442\u044c \u0438\u043c\u0435\u043d\u043e\u0432\u0430\u043d\u043d\u044b\u0435 \u0441\u0443\u0449\u043d\u043e\u0441\u0442\u0438\n\u0438 \u0434\u0430\u0436\u0435 \u0440\u0430\u0437\u043e\u0431\u0440\u0430\u0442\u044c \u043f\u0440\u0435\u0434\u043b\u043e\u0436\u0435\u043d\u0438\u0435."
        }
    ],
    "metadata": {
        "kernelspec": {
            "display_name": "Python 3 (ipykernel)",
            "language": "python",
            "name": "python3"
        },
        "language_info": {
            "codemirror_mode": {
                "name": "ipython",
                "version": 3
            },
            "file_extension": ".py",
            "mimetype": "text/x-python",
            "name": "python",
            "nbconvert_exporter": "python",
            "pygments_lexer": "ipython3",
            "version": "3.12.3"
        }
    },
    "nbformat": 4,
    "nbformat_minor": 5
}