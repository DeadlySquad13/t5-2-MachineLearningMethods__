{
    "cells": [
        {
            "cell_type": "markdown",
            "id": "91e86049",
            "metadata": {},
            "source": "# \u041b\u0430\u0431\u043e\u0440\u0430\u0442\u043e\u0440\u043d\u0430\u044f \u0440\u0430\u0431\u043e\u0442\u0430 \u043f\u043e \u0442\u0435\u043c\u0435 \"\u041a\u043b\u0430\u0441\u0441\u0438\u0444\u0438\u043a\u0430\u0446\u0438\u044f \u0442\u0435\u043a\u0441\u0442\u0430\"\n\u0412\u044b\u043f\u043e\u043b\u043d\u0438\u043b: \u041f\u0430\u043a\u0430\u043b\u043e \u0410\u043b\u0435\u043a\u0441\u0430\u043d\u0434\u0440 \u0421\u0435\u0440\u0433\u0435\u0435\u0432\u0438\u0447 \u0418\u04235-22\u041c\n\n## \u0417\u0430\u0434\u0430\u043d\u0438\u0435\n\u0414\u043b\u044f \u043f\u0440\u043e\u0438\u0437\u0432\u043e\u043b\u044c\u043d\u043e\u0433\u043e \u043d\u0430\u0431\u043e\u0440\u0430 \u0434\u0430\u043d\u043d\u044b\u0445, \u043f\u0440\u0435\u0434\u043d\u0430\u0437\u043d\u0430\u0447\u0435\u043d\u043d\u043e\u0433\u043e \u0434\u043b\u044f \u043a\u043b\u0430\u0441\u0441\u0438\u0444\u0438\u043a\u0430\u0446\u0438\u0438 \u0442\u0435\u043a\u0441\u0442\u043e\u0432, \u0440\u0435\u0448\u0438\u0442\u0435 \u0437\u0430\u0434\u0430\u0447\u0443 \u043a\u043b\u0430\u0441\u0441\u0438\u0444\u0438\u043a\u0430\u0446\u0438\u0438 \u0442\u0435\u043a\u0441\u0442\u0430 \u0434\u0432\u0443\u043c\u044f \u0441\u043f\u043e\u0441\u043e\u0431\u0430\u043c\u0438:\n\n- \u0421\u043f\u043e\u0441\u043e\u0431 1. \u041d\u0430 \u043e\u0441\u043d\u043e\u0432\u0435 CountVectorizer \u0438\u043b\u0438 **TfidfVectorizer**.\n- \u0421\u043f\u043e\u0441\u043e\u0431 2. \u041d\u0430 \u043e\u0441\u043d\u043e\u0432\u0435 \u043c\u043e\u0434\u0435\u043b\u0435\u0439 **word2vec** \u0438\u043b\u0438 Glove \u0438\u043b\u0438 fastText.\n\n\u0421\u0440\u0430\u0432\u043d\u0438\u0442\u0435 \u043a\u0430\u0447\u0435\u0441\u0442\u0432\u043e \u043f\u043e\u043b\u0443\u0447\u0435\u043d\u043d\u044b\u0445 \u043c\u043e\u0434\u0435\u043b\u0435\u0439.\n\u0414\u043b\u044f \u043f\u043e\u0438\u0441\u043a\u0430 \u043d\u0430\u0431\u043e\u0440\u043e\u0432 \u0434\u0430\u043d\u043d\u044b\u0445 \u0432 \u043f\u043e\u0438\u0441\u043a\u043e\u0432\u043e\u0439 \u0441\u0438\u0441\u0442\u0435\u043c\u0435 \u043c\u043e\u0436\u043d\u043e \u0438\u0441\u043f\u043e\u043b\u044c\u0437\u043e\u0432\u0430\u0442\u044c \u043a\u043b\u044e\u0447\u0435\u0432\u044b\u0435 \u0441\u043b\u043e\u0432\u0430 \"datasets for text classification\"."
        },
        {
            "cell_type": "code",
            "execution_count": 58,
            "id": "0796ae9f",
            "metadata": {
                "trusted": true
            },
            "outputs": [],
            "source": "# Loading extension for reloading editable packages (pip install -e .)\n%load_ext autoreload"
        },
        {
            "cell_type": "code",
            "execution_count": 1,
            "id": "2aea3044",
            "metadata": {
                "trusted": true
            },
            "outputs": [],
            "source": "RANDOM_SEED = 13"
        },
        {
            "cell_type": "markdown",
            "id": "0c54f99d",
            "metadata": {},
            "source": "## \u041d\u0430\u0431\u043e\u0440 \u0434\u0430\u043d\u043d\u044b\u0445\n\u041f\u0440\u043e\u0432\u0435\u0434\u0451\u043c \u043a\u043b\u0430\u0441\u0441\u0438\u0444\u0438\u043a\u0430\u0446\u0438\u044e \u0442\u0435\u043a\u0441\u0442\u0430 \u0438\u0441\u043f\u043e\u043b\u044c\u0437\u0443\u044f \u043d\u0430\u0431\u043e\u0440 \u0434\u0430\u043d\u043d\u044b\u0445 [BBC News Archive](https://www.kaggle.com/datasets/hgultekin/bbcnewsarchive)"
        },
        {
            "cell_type": "markdown",
            "id": "daec11f3",
            "metadata": {},
            "source": "\u041f\u043e\u0434\u0433\u043e\u0442\u043e\u0432\u043a\u0430 \u043f\u0435\u0440\u0435\u043c\u0435\u043d\u043d\u044b\u0445 \u0434\u043b\u044f \u0440\u0430\u0431\u043e\u0442\u044b \u0441 \u0434\u0430\u043d\u043d\u044b\u043c\u0438"
        },
        {
            "cell_type": "code",
            "execution_count": 2,
            "id": "bb4289cb",
            "metadata": {
                "trusted": true
            },
            "outputs": [],
            "source": "from pathlib import Path\n\ndata_path = Path(\"../../data\")\nexternal_data_path = data_path / \"external\"\nraw_data_path = data_path / \"raw\"\n\ndataset_filename = \"bbc-news-data.zip\""
        },
        {
            "cell_type": "markdown",
            "id": "bbaebd25",
            "metadata": {},
            "source": "\u0420\u0430\u0437\u0430\u0440\u0445\u0438\u0432\u0438\u0440\u043e\u0432\u0430\u043d\u0438\u0435 \u043d\u0430\u0431\u043e\u0440\u0430 \u0434\u0430\u043d\u043d\u044b\u0445"
        },
        {
            "cell_type": "code",
            "execution_count": 3,
            "id": "9cc8b3ef",
            "metadata": {
                "trusted": true
            },
            "outputs": [],
            "source": "import os\nimport shutil\n\nraw_data_path.mkdir(exist_ok=True)\n\nfile_path = external_data_path / dataset_filename\nraw_data_path = external_data_path / dataset_filename\n\nif not os.path.isfile(raw_data_path):\n    shutil.unpack_archive(file_path, extract_dir=raw_data_path)\n    # file_path.unlink()  # Remove archive after extracting it."
        },
        {
            "cell_type": "markdown",
            "id": "e8e7d20e",
            "metadata": {},
            "source": "\u0417\u0430\u0433\u0440\u0443\u0437\u043a\u0430 \u0434\u0430\u043d\u043d\u044b\u0445 \u0438\u0437 csv"
        },
        {
            "cell_type": "code",
            "execution_count": 4,
            "id": "f7b03a0e",
            "metadata": {
                "trusted": true
            },
            "outputs": [],
            "source": "import pandas as pd\n\ndf = pd.read_csv(raw_data_path, sep=\"\\t\")"
        },
        {
            "cell_type": "markdown",
            "id": "2abc1c4c",
            "metadata": {},
            "source": "### \u0420\u0430\u0437\u0432\u0435\u0434\u043e\u0447\u043d\u044b\u0439 \u0430\u043d\u0430\u043b\u0438\u0437 \u0434\u0430\u043d\u043d\u044b\u0445\n\u041e\u0437\u043d\u0430\u043a\u043e\u043c\u0438\u043c\u0441\u044f \u043d\u0435\u043c\u043d\u043e\u0433\u043e \u0441 \u0434\u0430\u043d\u043d\u044b\u043c\u0438, \u0441 \u043a\u043e\u0442\u043e\u0440\u044b\u043c\u0438 \u0441\u043e\u0431\u0438\u0440\u0430\u0435\u043c\u0441\u044f \u0440\u0430\u0431\u043e\u0442\u0430\u0442\u044c"
        },
        {
            "cell_type": "markdown",
            "id": "8d5c389e",
            "metadata": {},
            "source": "\u041e\u0441\u043d\u043e\u0432\u043d\u044b\u0435 \u0445\u0430\u0440\u0430\u043a\u0442\u0435\u0440\u0438\u0441\u0442\u0438\u043a\u0438 \u0434\u0430\u0442\u0430\u0441\u0435\u0442\u0430"
        },
        {
            "cell_type": "code",
            "execution_count": 5,
            "id": "995a8c0a",
            "metadata": {
                "trusted": true
            },
            "outputs": [
                {
                    "data": {
                        "text/html": "<div>\n<style scoped>\n    .dataframe tbody tr th:only-of-type {\n        vertical-align: middle;\n    }\n\n    .dataframe tbody tr th {\n        vertical-align: top;\n    }\n\n    .dataframe thead th {\n        text-align: right;\n    }\n</style>\n<table border=\"1\" class=\"dataframe\">\n  <thead>\n    <tr style=\"text-align: right;\">\n      <th></th>\n      <th>category</th>\n      <th>filename</th>\n      <th>title</th>\n      <th>content</th>\n    </tr>\n  </thead>\n  <tbody>\n    <tr>\n      <th>0</th>\n      <td>business</td>\n      <td>001.txt</td>\n      <td>Ad sales boost Time Warner profit</td>\n      <td>Quarterly profits at US media giant TimeWarne...</td>\n    </tr>\n    <tr>\n      <th>1</th>\n      <td>business</td>\n      <td>002.txt</td>\n      <td>Dollar gains on Greenspan speech</td>\n      <td>The dollar has hit its highest level against ...</td>\n    </tr>\n    <tr>\n      <th>2</th>\n      <td>business</td>\n      <td>003.txt</td>\n      <td>Yukos unit buyer faces loan claim</td>\n      <td>The owners of embattled Russian oil giant Yuk...</td>\n    </tr>\n    <tr>\n      <th>3</th>\n      <td>business</td>\n      <td>004.txt</td>\n      <td>High fuel prices hit BA's profits</td>\n      <td>British Airways has blamed high fuel prices f...</td>\n    </tr>\n    <tr>\n      <th>4</th>\n      <td>business</td>\n      <td>005.txt</td>\n      <td>Pernod takeover talk lifts Domecq</td>\n      <td>Shares in UK drinks and food firm Allied Dome...</td>\n    </tr>\n  </tbody>\n</table>\n</div>",
                        "text/plain": "   category filename                              title  \\\n0  business  001.txt  Ad sales boost Time Warner profit   \n1  business  002.txt   Dollar gains on Greenspan speech   \n2  business  003.txt  Yukos unit buyer faces loan claim   \n3  business  004.txt  High fuel prices hit BA's profits   \n4  business  005.txt  Pernod takeover talk lifts Domecq   \n\n                                             content  \n0   Quarterly profits at US media giant TimeWarne...  \n1   The dollar has hit its highest level against ...  \n2   The owners of embattled Russian oil giant Yuk...  \n3   British Airways has blamed high fuel prices f...  \n4   Shares in UK drinks and food firm Allied Dome...  "
                    },
                    "execution_count": 5,
                    "metadata": {},
                    "output_type": "execute_result"
                }
            ],
            "source": "df.head()"
        },
        {
            "cell_type": "code",
            "execution_count": 6,
            "id": "19fa44ba",
            "metadata": {
                "trusted": true
            },
            "outputs": [
                {
                    "data": {
                        "text/html": "<div>\n<style scoped>\n    .dataframe tbody tr th:only-of-type {\n        vertical-align: middle;\n    }\n\n    .dataframe tbody tr th {\n        vertical-align: top;\n    }\n\n    .dataframe thead th {\n        text-align: right;\n    }\n</style>\n<table border=\"1\" class=\"dataframe\">\n  <thead>\n    <tr style=\"text-align: right;\">\n      <th></th>\n      <th>category</th>\n      <th>filename</th>\n      <th>title</th>\n      <th>content</th>\n    </tr>\n  </thead>\n  <tbody>\n    <tr>\n      <th>2220</th>\n      <td>tech</td>\n      <td>397.txt</td>\n      <td>BT program to beat dialler scams</td>\n      <td>BT is introducing two initiatives to help bea...</td>\n    </tr>\n    <tr>\n      <th>2221</th>\n      <td>tech</td>\n      <td>398.txt</td>\n      <td>Spam e-mails tempt net shoppers</td>\n      <td>Computer users across the world continue to i...</td>\n    </tr>\n    <tr>\n      <th>2222</th>\n      <td>tech</td>\n      <td>399.txt</td>\n      <td>Be careful how you code</td>\n      <td>A new European directive could put software w...</td>\n    </tr>\n    <tr>\n      <th>2223</th>\n      <td>tech</td>\n      <td>400.txt</td>\n      <td>US cyber security chief resigns</td>\n      <td>The man making sure US computer networks are ...</td>\n    </tr>\n    <tr>\n      <th>2224</th>\n      <td>tech</td>\n      <td>401.txt</td>\n      <td>Losing yourself in online gaming</td>\n      <td>Online role playing games are time-consuming,...</td>\n    </tr>\n  </tbody>\n</table>\n</div>",
                        "text/plain": "     category filename                             title  \\\n2220     tech  397.txt  BT program to beat dialler scams   \n2221     tech  398.txt   Spam e-mails tempt net shoppers   \n2222     tech  399.txt           Be careful how you code   \n2223     tech  400.txt   US cyber security chief resigns   \n2224     tech  401.txt  Losing yourself in online gaming   \n\n                                                content  \n2220   BT is introducing two initiatives to help bea...  \n2221   Computer users across the world continue to i...  \n2222   A new European directive could put software w...  \n2223   The man making sure US computer networks are ...  \n2224   Online role playing games are time-consuming,...  "
                    },
                    "execution_count": 6,
                    "metadata": {},
                    "output_type": "execute_result"
                }
            ],
            "source": "df.tail()"
        },
        {
            "cell_type": "markdown",
            "id": "764941cd",
            "metadata": {},
            "source": "\u0420\u0430\u0437\u043c\u0435\u0440 \u0434\u0430\u0442\u0430\u0441\u0435\u0442\u0430"
        },
        {
            "cell_type": "code",
            "execution_count": 7,
            "id": "57dd7691",
            "metadata": {
                "trusted": true
            },
            "outputs": [
                {
                    "name": "stdout",
                    "output_type": "stream",
                    "text": "\u0420\u0430\u0437\u043c\u0435\u0440 \u0434\u0430\u0442\u0430\u0441\u0435\u0442\u0430: 2225 \u0441\u0442\u0440\u043e\u043a, 4 \u043a\u043e\u043b\u043e\u043d\u043e\u043a\n"
                }
            ],
            "source": "num_of_rows, num_of_columns = df.shape\nprint(f'\u0420\u0430\u0437\u043c\u0435\u0440 \u0434\u0430\u0442\u0430\u0441\u0435\u0442\u0430: {num_of_rows} \u0441\u0442\u0440\u043e\u043a, {num_of_columns} \u043a\u043e\u043b\u043e\u043d\u043e\u043a')"
        },
        {
            "cell_type": "markdown",
            "id": "4cc15c50",
            "metadata": {},
            "source": "\u041e\u043f\u0440\u0435\u0434\u0435\u043b\u0435\u043d\u0438\u0435 \u0442\u0438\u043f\u043e\u0432"
        },
        {
            "cell_type": "code",
            "execution_count": 8,
            "id": "b3d81bc6",
            "metadata": {
                "trusted": true
            },
            "outputs": [
                {
                    "data": {
                        "text/plain": "category    object\nfilename    object\ntitle       object\ncontent     object\ndtype: object"
                    },
                    "execution_count": 8,
                    "metadata": {},
                    "output_type": "execute_result"
                }
            ],
            "source": "df.dtypes"
        },
        {
            "cell_type": "markdown",
            "id": "ca830f35",
            "metadata": {},
            "source": "\u041f\u0440\u043e\u0432\u0435\u0440\u043a\u0430 \u043d\u0430 \u043d\u0430\u043b\u0438\u0447\u0438\u0435 \u043f\u0443\u0441\u0442\u044b\u0445 \u0437\u043d\u0430\u0447\u0435\u043d\u0438\u0439"
        },
        {
            "cell_type": "code",
            "execution_count": 9,
            "id": "61777bf5",
            "metadata": {
                "trusted": true
            },
            "outputs": [
                {
                    "data": {
                        "text/plain": "category    0\nfilename    0\ntitle       0\ncontent     0\ndtype: int64"
                    },
                    "execution_count": 9,
                    "metadata": {},
                    "output_type": "execute_result"
                }
            ],
            "source": "df.isnull().sum()"
        },
        {
            "cell_type": "markdown",
            "id": "dab3734a",
            "metadata": {},
            "source": "\u041e\u0431\u0440\u0430\u0431\u043e\u0442\u043a\u0438 \u043f\u0443\u0441\u0442\u044b\u0445 \u0437\u043d\u0430\u0447\u0435\u043d\u0438\u0439 \u043d\u0435 \u0442\u0440\u0435\u0431\u0443\u0435\u0442\u0441\u044f"
        },
        {
            "cell_type": "markdown",
            "id": "293f8316",
            "metadata": {},
            "source": "\u041f\u0440\u043e\u0432\u0435\u0440\u043a\u0430 \u043d\u0430 \u0443\u043d\u0438\u043a\u0430\u043b\u044c\u043d\u044b\u0435 \u0437\u043d\u0430\u0447\u0435\u043d\u0438\u044f"
        },
        {
            "cell_type": "code",
            "execution_count": 10,
            "id": "3e0e0bdb",
            "metadata": {
                "trusted": true
            },
            "outputs": [
                {
                    "data": {
                        "text/plain": "0         business\n1    entertainment\n2         politics\n3            sport\n4             tech\ndtype: object"
                    },
                    "execution_count": 10,
                    "metadata": {},
                    "output_type": "execute_result"
                }
            ],
            "source": "pd.Series(df[\"category\"].unique())"
        },
        {
            "cell_type": "markdown",
            "id": "62729aa1",
            "metadata": {},
            "source": "### \u041f\u043e\u0434\u0433\u043e\u0442\u043e\u0432\u043a\u0430 \u043a\u043e\u0440\u043f\u0443\u0441\u0430"
        },
        {
            "cell_type": "markdown",
            "id": "1bf730c0",
            "metadata": {},
            "source": "\u041d\u0435\u043a\u043e\u0442\u043e\u0440\u044b\u0435 \u043a\u043e\u043b\u043e\u043d\u043a\u0438 \u0438\u043c\u0435\u044e\u0442 \u043d\u0435\u0432\u0435\u0440\u043d\u044b\u0435 \u0442\u0438\u043f\u044b \u0434\u0430\u043d\u043d\u044b\u0445, \u0438\u0445 \u0441\u043b\u0435\u0434\u0443\u0435\u0442 \u043f\u0440\u0435\u043e\u0431\u0440\u0430\u0437\u043e\u0432\u0430\u0442\u044c.\n\n\u0421\u0442\u0440\u043e\u043a\u0438 \u0432\u043c\u0435\u0441\u0442\u043e `object` \u0441\u0434\u0435\u043b\u0430\u0435\u043c `string`, \u0430 \u043a\u043e\u043b\u043e\u043d\u043a\u0443 \"category\" \u0441\u0434\u0435\u043b\u0430\u0435\u043c\n\u0442\u0438\u043f\u0430 `category`."
        },
        {
            "cell_type": "code",
            "execution_count": 11,
            "id": "90bab991",
            "metadata": {
                "trusted": true
            },
            "outputs": [
                {
                    "data": {
                        "text/plain": "category          category\nfilename    string[python]\ntitle       string[python]\ncontent     string[python]\ndtype: object"
                    },
                    "execution_count": 11,
                    "metadata": {},
                    "output_type": "execute_result"
                }
            ],
            "source": "df = df.astype({\n    \"category\": \"category\",\n    \"filename\": \"string\",\n    \"title\": \"string\",\n    \"content\": \"string\",\n})\ndf.dtypes"
        },
        {
            "cell_type": "markdown",
            "id": "47170487",
            "metadata": {},
            "source": "\u0422\u043e\u043a\u0435\u043d\u0438\u0437\u0430\u0446\u0438\u044f"
        },
        {
            "cell_type": "markdown",
            "id": "a4c363da",
            "metadata": {},
            "source": "\u0417\u0430\u0433\u0440\u0443\u0437\u043a\u0430 \u043c\u043e\u0434\u0435\u043b\u0438 spacy."
        },
        {
            "cell_type": "code",
            "execution_count": 12,
            "id": "b5b6a380",
            "metadata": {
                "trusted": true
            },
            "outputs": [],
            "source": "import spacy\n\nspacy_prefers_gpu = spacy.prefer_gpu()\nnlp = spacy.load(\"en_core_web_sm\")"
        },
        {
            "cell_type": "markdown",
            "id": "25313294",
            "metadata": {},
            "source": "\u0422\u043e\u043a\u0435\u043d\u0438\u0437\u0430\u0446\u0438\u044f \u0442\u0435\u043a\u0441\u0442\u043e\u0432\u044b\u0445 \u0437\u043d\u0430\u0447\u0435\u043d\u0438\u0439 \u043d\u0430\u0431\u043e\u0440\u0430 \u0434\u0430\u043d\u043d\u044b\u0445 (\u043a\u0440\u043e\u043c\u0435 \u043d\u0430\u0437\u0432\u0430\u043d\u0438\u044f \u0444\u0430\u0439\u043b\u0430)"
        },
        {
            "cell_type": "code",
            "execution_count": 13,
            "id": "b40daa0a",
            "metadata": {
                "trusted": true
            },
            "outputs": [
                {
                    "data": {
                        "text/plain": "[Ad sales boost Time Warner profit Quarterly profits at US media giant TimeWarner jumped 76% to $1.13bn (\u00a3600m) for the three months to December, from $639m year-earlier.  The firm, which is now one of the biggest investors in Google, benefited from sales of high-speed internet connections and higher advert sales. TimeWarner said fourth quarter sales rose 2% to $11.1bn from $10.9bn. Its profits were buoyed by one-off gains which offset a profit dip at Warner Bros, and less users for AOL.  Time Warner said on Friday that it now owns 8% of search-engine Google. But its own internet business, AOL, had has mixed fortunes. It lost 464,000 subscribers in the fourth quarter profits were lower than in the preceding three quarters. However, the company said AOL's underlying profit before exceptional items rose 8% on the back of stronger internet advertising revenues. It hopes to increase subscribers by offering the online service free to TimeWarner internet customers and will try to sign up AOL's existing customers for high-speed broadband. TimeWarner also has to restate 2000 and 2003 results following a probe by the US Securities Exchange Commission (SEC), which is close to concluding.  Time Warner's fourth quarter profits were slightly better than analysts' expectations. But its film division saw profits slump 27% to $284m, helped by box-office flops Alexander and Catwoman, a sharp contrast to year-earlier, when the third and final film in the Lord of the Rings trilogy boosted results. For the full-year, TimeWarner posted a profit of $3.36bn, up 27% from its 2003 performance, while revenues grew 6.4% to $42.09bn. \"Our financial performance was strong, meeting or exceeding all of our full-year objectives and greatly enhancing our flexibility,\" chairman and chief executive Richard Parsons said. For 2005, TimeWarner is projecting operating earnings growth of around 5%, and also expects higher revenue and wider profit margins.  TimeWarner is to restate its accounts as part of efforts to resolve an inquiry into AOL by US market regulators. It has already offered to pay $300m to settle charges, in a deal that is under review by the SEC. The company said it was unable to estimate the amount it needed to set aside for legal reserves, which it previously set at $500m. It intends to adjust the way it accounts for a deal with German music publisher Bertelsmann's purchase of a stake in AOL Europe, which it had reported as advertising revenue. It will now book the sale of its stake in AOL Europe as a loss on the value of that stake. ,\n Dollar gains on Greenspan speech The dollar has hit its highest level against the euro in almost three months after the Federal Reserve head said the US trade deficit is set to stabilise.  And Alan Greenspan highlighted the US government's willingness to curb spending and rising household savings as factors which may help to reduce it. In late trading in New York, the dollar reached $1.2871 against the euro, from $1.2974 on Thursday. Market concerns about the deficit has hit the greenback in recent months. On Friday, Federal Reserve chairman Mr Greenspan's speech in London ahead of the meeting of G7 finance ministers sent the dollar higher after it had earlier tumbled on the back of worse-than-expected US jobs data. \"I think the chairman's taking a much more sanguine view on the current account deficit than he's taken for some time,\" said Robert Sinche, head of currency strategy at Bank of America in New York. \"He's taking a longer-term view, laying out a set of conditions under which the current account deficit can improve this year and next.\"  Worries about the deficit concerns about China do, however, remain. China's currency remains pegged to the dollar and the US currency's sharp falls in recent months have therefore made Chinese export prices highly competitive. But calls for a shift in Beijing's policy have fallen on deaf ears, despite recent comments in a major Chinese newspaper that the \"time is ripe\" for a loosening of the peg. The G7 meeting is thought unlikely to produce any meaningful movement in Chinese policy. In the meantime, the US Federal Reserve's decision on 2 February to boost interest rates by a quarter of a point - the sixth such move in as many months - has opened up a differential with European rates. The half-point window, some believe, could be enough to keep US assets looking more attractive, and could help prop up the dollar. The recent falls have partly been the result of big budget deficits, as well as the US's yawning current account gap, both of which need to be funded by the buying of US bonds and assets by foreign firms and governments. The White House will announce its budget on Monday, and many commentators believe the deficit will remain at close to half a trillion dollars. ,\n Yukos unit buyer faces loan claim The owners of embattled Russian oil giant Yukos are to ask the buyer of its former production unit to pay back a $900m (\u00a3479m) loan.  State-owned Rosneft bought the Yugansk unit for $9.3bn in a sale forced by Russia to part settle a $27.5bn tax claim against Yukos. Yukos' owner Menatep Group says it will ask Rosneft to repay a loan that Yugansk had secured on its assets. Rosneft already faces a similar $540m repayment demand from foreign banks. Legal experts said Rosneft's purchase of Yugansk would include such obligations. \"The pledged assets are with Rosneft, so it will have to pay real money to the creditors to avoid seizure of Yugansk assets,\" said Moscow-based US lawyer Jamie Firestone, who is not connected to the case. Menatep Group's managing director Tim Osborne told the Reuters news agency: \"If they default, we will fight them where the rule of law exists under the international arbitration clauses of the credit.\"  Rosneft officials were unavailable for comment. But the company has said it intends to take action against Menatep to recover some of the tax claims and debts owed by Yugansk. Yukos had filed for bankruptcy protection in a US court in an attempt to prevent the forced sale of its main production arm. The sale went ahead in December and Yugansk was sold to a little-known shell company which in turn was bought by Rosneft. Yukos claims its downfall was punishment for the political ambitions of its founder Mikhail Khodorkovsky and has vowed to sue any participant in the sale. ]"
                    },
                    "execution_count": 13,
                    "metadata": {},
                    "output_type": "execute_result"
                }
            ],
            "source": "from spacy.tokens.doc import Doc\n\ncorpus: list[Doc] = []\n\nfor text in (df[\"title\"] + df[\"content\"]).values:\n    corpus.append(nlp(text))\n\ncorpus[:3]"
        },
        {
            "cell_type": "code",
            "execution_count": 14,
            "id": "ad69b028",
            "metadata": {
                "trusted": true
            },
            "outputs": [],
            "source": "assert len(corpus) == num_of_rows"
        },
        {
            "cell_type": "markdown",
            "id": "eb92f99f",
            "metadata": {},
            "source": "\u0417\u0430\u043c\u0435\u0442\u0438\u043c, \u0447\u0442\u043e spacy \u043f\u0440\u0438 \u043f\u0435\u0447\u0430\u0442\u0438 \u0438 \u0432\u044b\u0432\u043e\u0434\u0438\u0442 \u0442\u0435\u043a\u0441\u0442, \u043d\u0430 \u0441\u0430\u043c\u043e\u043c \u0434\u0435\u043b\u0435 \u044d\u0442\u043e \u043e\u0431\u044a\u0435\u043a\u0442.\nWord2Vec \u043e\u0436\u0438\u0434\u0430\u0435\u0442 \u0443\u0432\u0438\u0434\u0435\u0442\u044c \u0441\u0442\u0440\u043e\u043a\u0438 \u043b\u0438\u0431\u043e \u0441\u043f\u0438\u0441\u043a\u0438."
        },
        {
            "cell_type": "code",
            "execution_count": 15,
            "id": "5f280efb",
            "metadata": {
                "trusted": true
            },
            "outputs": [
                {
                    "data": {
                        "text/plain": "(training: nlp!, spacy.tokens.doc.Doc, spacy.tokens.token.Token)"
                    },
                    "execution_count": 15,
                    "metadata": {},
                    "output_type": "execute_result"
                }
            ],
            "source": "spacy_text = nlp('training: nlp!')\nspacy_text, type(spacy_text), type(spacy_text[0])"
        },
        {
            "cell_type": "code",
            "execution_count": 16,
            "id": "b019e0bb",
            "metadata": {
                "trusted": true
            },
            "outputs": [
                {
                    "data": {
                        "text/plain": "['training', ':', 'nlp', '!']"
                    },
                    "execution_count": 16,
                    "metadata": {},
                    "output_type": "execute_result"
                }
            ],
            "source": "[token.text for token in spacy_text]"
        },
        {
            "cell_type": "markdown",
            "id": "c5405703",
            "metadata": {},
            "source": "\u041f\u043e\u044d\u0442\u043e\u043c\u0443 \u043f\u0440\u0435\u043e\u0431\u0440\u0430\u0437\u0443\u0435\u043c \u043d\u0430\u0448 `corpus` \u0432 \u0443\u043f\u0440\u043e\u0449\u0451\u043d\u043d\u044b\u0439 \u0444\u043e\u0440\u043c\u0430\u0442, \u0441\u043e\u0432\u043c\u0435\u0441\u0442\u0438\u043c\u044b\u0439 \u0441 word2vec."
        },
        {
            "cell_type": "code",
            "execution_count": 17,
            "id": "b7069141",
            "metadata": {
                "trusted": true
            },
            "outputs": [
                {
                    "data": {
                        "text/plain": "[['Ad',\n  'sales',\n  'boost',\n  'Time',\n  'Warner',\n  'profit',\n  'Quarterly',\n  'profits',\n  'at',\n  'US',\n  'media',\n  'giant',\n  'TimeWarner',\n  'jumped',\n  '76',\n  '%',\n  'to',\n  '$',\n  '1.13bn',\n  '(',\n  '\u00a3',\n  '600',\n  'm',\n  ')',\n  'for',\n  'the',\n  'three',\n  'months',\n  'to',\n  'December',\n  ',',\n  'from',\n  '$',\n  '639',\n  'm',\n  'year',\n  '-',\n  'earlier',\n  '.',\n  ' ',\n  'The',\n  'firm',\n  ',',\n  'which',\n  'is',\n  'now',\n  'one',\n  'of',\n  'the',\n  'biggest',\n  'investors',\n  'in',\n  'Google',\n  ',',\n  'benefited',\n  'from',\n  'sales',\n  'of',\n  'high',\n  '-',\n  'speed',\n  'internet',\n  'connections',\n  'and',\n  'higher',\n  'advert',\n  'sales',\n  '.',\n  'TimeWarner',\n  'said',\n  'fourth',\n  'quarter',\n  'sales',\n  'rose',\n  '2',\n  '%',\n  'to',\n  '$',\n  '11.1bn',\n  'from',\n  '$',\n  '10.9bn',\n  '.',\n  'Its',\n  'profits',\n  'were',\n  'buoyed',\n  'by',\n  'one',\n  '-',\n  'off',\n  'gains',\n  'which',\n  'offset',\n  'a',\n  'profit',\n  'dip',\n  'at',\n  'Warner',\n  'Bros',\n  ',',\n  'and',\n  'less',\n  'users',\n  'for',\n  'AOL',\n  '.',\n  ' ',\n  'Time',\n  'Warner',\n  'said',\n  'on',\n  'Friday',\n  'that',\n  'it',\n  'now',\n  'owns',\n  '8',\n  '%',\n  'of',\n  'search',\n  '-',\n  'engine',\n  'Google',\n  '.',\n  'But',\n  'its',\n  'own',\n  'internet',\n  'business',\n  ',',\n  'AOL',\n  ',',\n  'had',\n  'has',\n  'mixed',\n  'fortunes',\n  '.',\n  'It',\n  'lost',\n  '464,000',\n  'subscribers',\n  'in',\n  'the',\n  'fourth',\n  'quarter',\n  'profits',\n  'were',\n  'lower',\n  'than',\n  'in',\n  'the',\n  'preceding',\n  'three',\n  'quarters',\n  '.',\n  'However',\n  ',',\n  'the',\n  'company',\n  'said',\n  'AOL',\n  \"'s\",\n  'underlying',\n  'profit',\n  'before',\n  'exceptional',\n  'items',\n  'rose',\n  '8',\n  '%',\n  'on',\n  'the',\n  'back',\n  'of',\n  'stronger',\n  'internet',\n  'advertising',\n  'revenues',\n  '.',\n  'It',\n  'hopes',\n  'to',\n  'increase',\n  'subscribers',\n  'by',\n  'offering',\n  'the',\n  'online',\n  'service',\n  'free',\n  'to',\n  'TimeWarner',\n  'internet',\n  'customers',\n  'and',\n  'will',\n  'try',\n  'to',\n  'sign',\n  'up',\n  'AOL',\n  \"'s\",\n  'existing',\n  'customers',\n  'for',\n  'high',\n  '-',\n  'speed',\n  'broadband',\n  '.',\n  'TimeWarner',\n  'also',\n  'has',\n  'to',\n  'restate',\n  '2000',\n  'and',\n  '2003',\n  'results',\n  'following',\n  'a',\n  'probe',\n  'by',\n  'the',\n  'US',\n  'Securities',\n  'Exchange',\n  'Commission',\n  '(',\n  'SEC',\n  ')',\n  ',',\n  'which',\n  'is',\n  'close',\n  'to',\n  'concluding',\n  '.',\n  ' ',\n  'Time',\n  'Warner',\n  \"'s\",\n  'fourth',\n  'quarter',\n  'profits',\n  'were',\n  'slightly',\n  'better',\n  'than',\n  'analysts',\n  \"'\",\n  'expectations',\n  '.',\n  'But',\n  'its',\n  'film',\n  'division',\n  'saw',\n  'profits',\n  'slump',\n  '27',\n  '%',\n  'to',\n  '$',\n  '284',\n  'm',\n  ',',\n  'helped',\n  'by',\n  'box',\n  '-',\n  'office',\n  'flops',\n  'Alexander',\n  'and',\n  'Catwoman',\n  ',',\n  'a',\n  'sharp',\n  'contrast',\n  'to',\n  'year',\n  '-',\n  'earlier',\n  ',',\n  'when',\n  'the',\n  'third',\n  'and',\n  'final',\n  'film',\n  'in',\n  'the',\n  'Lord',\n  'of',\n  'the',\n  'Rings',\n  'trilogy',\n  'boosted',\n  'results',\n  '.',\n  'For',\n  'the',\n  'full',\n  '-',\n  'year',\n  ',',\n  'TimeWarner',\n  'posted',\n  'a',\n  'profit',\n  'of',\n  '$',\n  '3.36bn',\n  ',',\n  'up',\n  '27',\n  '%',\n  'from',\n  'its',\n  '2003',\n  'performance',\n  ',',\n  'while',\n  'revenues',\n  'grew',\n  '6.4',\n  '%',\n  'to',\n  '$',\n  '42.09bn',\n  '.',\n  '\"',\n  'Our',\n  'financial',\n  'performance',\n  'was',\n  'strong',\n  ',',\n  'meeting',\n  'or',\n  'exceeding',\n  'all',\n  'of',\n  'our',\n  'full',\n  '-',\n  'year',\n  'objectives',\n  'and',\n  'greatly',\n  'enhancing',\n  'our',\n  'flexibility',\n  ',',\n  '\"',\n  'chairman',\n  'and',\n  'chief',\n  'executive',\n  'Richard',\n  'Parsons',\n  'said',\n  '.',\n  'For',\n  '2005',\n  ',',\n  'TimeWarner',\n  'is',\n  'projecting',\n  'operating',\n  'earnings',\n  'growth',\n  'of',\n  'around',\n  '5',\n  '%',\n  ',',\n  'and',\n  'also',\n  'expects',\n  'higher',\n  'revenue',\n  'and',\n  'wider',\n  'profit',\n  'margins',\n  '.',\n  ' ',\n  'TimeWarner',\n  'is',\n  'to',\n  'restate',\n  'its',\n  'accounts',\n  'as',\n  'part',\n  'of',\n  'efforts',\n  'to',\n  'resolve',\n  'an',\n  'inquiry',\n  'into',\n  'AOL',\n  'by',\n  'US',\n  'market',\n  'regulators',\n  '.',\n  'It',\n  'has',\n  'already',\n  'offered',\n  'to',\n  'pay',\n  '$',\n  '300',\n  'm',\n  'to',\n  'settle',\n  'charges',\n  ',',\n  'in',\n  'a',\n  'deal',\n  'that',\n  'is',\n  'under',\n  'review',\n  'by',\n  'the',\n  'SEC',\n  '.',\n  'The',\n  'company',\n  'said',\n  'it',\n  'was',\n  'unable',\n  'to',\n  'estimate',\n  'the',\n  'amount',\n  'it',\n  'needed',\n  'to',\n  'set',\n  'aside',\n  'for',\n  'legal',\n  'reserves',\n  ',',\n  'which',\n  'it',\n  'previously',\n  'set',\n  'at',\n  '$',\n  '500',\n  'm.',\n  'It',\n  'intends',\n  'to',\n  'adjust',\n  'the',\n  'way',\n  'it',\n  'accounts',\n  'for',\n  'a',\n  'deal',\n  'with',\n  'German',\n  'music',\n  'publisher',\n  'Bertelsmann',\n  \"'s\",\n  'purchase',\n  'of',\n  'a',\n  'stake',\n  'in',\n  'AOL',\n  'Europe',\n  ',',\n  'which',\n  'it',\n  'had',\n  'reported',\n  'as',\n  'advertising',\n  'revenue',\n  '.',\n  'It',\n  'will',\n  'now',\n  'book',\n  'the',\n  'sale',\n  'of',\n  'its',\n  'stake',\n  'in',\n  'AOL',\n  'Europe',\n  'as',\n  'a',\n  'loss',\n  'on',\n  'the',\n  'value',\n  'of',\n  'that',\n  'stake',\n  '.'],\n ['Dollar',\n  'gains',\n  'on',\n  'Greenspan',\n  'speech',\n  'The',\n  'dollar',\n  'has',\n  'hit',\n  'its',\n  'highest',\n  'level',\n  'against',\n  'the',\n  'euro',\n  'in',\n  'almost',\n  'three',\n  'months',\n  'after',\n  'the',\n  'Federal',\n  'Reserve',\n  'head',\n  'said',\n  'the',\n  'US',\n  'trade',\n  'deficit',\n  'is',\n  'set',\n  'to',\n  'stabilise',\n  '.',\n  ' ',\n  'And',\n  'Alan',\n  'Greenspan',\n  'highlighted',\n  'the',\n  'US',\n  'government',\n  \"'s\",\n  'willingness',\n  'to',\n  'curb',\n  'spending',\n  'and',\n  'rising',\n  'household',\n  'savings',\n  'as',\n  'factors',\n  'which',\n  'may',\n  'help',\n  'to',\n  'reduce',\n  'it',\n  '.',\n  'In',\n  'late',\n  'trading',\n  'in',\n  'New',\n  'York',\n  ',',\n  'the',\n  'dollar',\n  'reached',\n  '$',\n  '1.2871',\n  'against',\n  'the',\n  'euro',\n  ',',\n  'from',\n  '$',\n  '1.2974',\n  'on',\n  'Thursday',\n  '.',\n  'Market',\n  'concerns',\n  'about',\n  'the',\n  'deficit',\n  'has',\n  'hit',\n  'the',\n  'greenback',\n  'in',\n  'recent',\n  'months',\n  '.',\n  'On',\n  'Friday',\n  ',',\n  'Federal',\n  'Reserve',\n  'chairman',\n  'Mr',\n  'Greenspan',\n  \"'s\",\n  'speech',\n  'in',\n  'London',\n  'ahead',\n  'of',\n  'the',\n  'meeting',\n  'of',\n  'G7',\n  'finance',\n  'ministers',\n  'sent',\n  'the',\n  'dollar',\n  'higher',\n  'after',\n  'it',\n  'had',\n  'earlier',\n  'tumbled',\n  'on',\n  'the',\n  'back',\n  'of',\n  'worse',\n  '-',\n  'than',\n  '-',\n  'expected',\n  'US',\n  'jobs',\n  'data',\n  '.',\n  '\"',\n  'I',\n  'think',\n  'the',\n  'chairman',\n  \"'s\",\n  'taking',\n  'a',\n  'much',\n  'more',\n  'sanguine',\n  'view',\n  'on',\n  'the',\n  'current',\n  'account',\n  'deficit',\n  'than',\n  'he',\n  \"'s\",\n  'taken',\n  'for',\n  'some',\n  'time',\n  ',',\n  '\"',\n  'said',\n  'Robert',\n  'Sinche',\n  ',',\n  'head',\n  'of',\n  'currency',\n  'strategy',\n  'at',\n  'Bank',\n  'of',\n  'America',\n  'in',\n  'New',\n  'York',\n  '.',\n  '\"',\n  'He',\n  \"'s\",\n  'taking',\n  'a',\n  'longer',\n  '-',\n  'term',\n  'view',\n  ',',\n  'laying',\n  'out',\n  'a',\n  'set',\n  'of',\n  'conditions',\n  'under',\n  'which',\n  'the',\n  'current',\n  'account',\n  'deficit',\n  'can',\n  'improve',\n  'this',\n  'year',\n  'and',\n  'next',\n  '.',\n  '\"',\n  ' ',\n  'Worries',\n  'about',\n  'the',\n  'deficit',\n  'concerns',\n  'about',\n  'China',\n  'do',\n  ',',\n  'however',\n  ',',\n  'remain',\n  '.',\n  'China',\n  \"'s\",\n  'currency',\n  'remains',\n  'pegged',\n  'to',\n  'the',\n  'dollar',\n  'and',\n  'the',\n  'US',\n  'currency',\n  \"'s\",\n  'sharp',\n  'falls',\n  'in',\n  'recent',\n  'months',\n  'have',\n  'therefore',\n  'made',\n  'Chinese',\n  'export',\n  'prices',\n  'highly',\n  'competitive',\n  '.',\n  'But',\n  'calls',\n  'for',\n  'a',\n  'shift',\n  'in',\n  'Beijing',\n  \"'s\",\n  'policy',\n  'have',\n  'fallen',\n  'on',\n  'deaf',\n  'ears',\n  ',',\n  'despite',\n  'recent',\n  'comments',\n  'in',\n  'a',\n  'major',\n  'Chinese',\n  'newspaper',\n  'that',\n  'the',\n  '\"',\n  'time',\n  'is',\n  'ripe',\n  '\"',\n  'for',\n  'a',\n  'loosening',\n  'of',\n  'the',\n  'peg',\n  '.',\n  'The',\n  'G7',\n  'meeting',\n  'is',\n  'thought',\n  'unlikely',\n  'to',\n  'produce',\n  'any',\n  'meaningful',\n  'movement',\n  'in',\n  'Chinese',\n  'policy',\n  '.',\n  'In',\n  'the',\n  'meantime',\n  ',',\n  'the',\n  'US',\n  'Federal',\n  'Reserve',\n  \"'s\",\n  'decision',\n  'on',\n  '2',\n  'February',\n  'to',\n  'boost',\n  'interest',\n  'rates',\n  'by',\n  'a',\n  'quarter',\n  'of',\n  'a',\n  'point',\n  '-',\n  'the',\n  'sixth',\n  'such',\n  'move',\n  'in',\n  'as',\n  'many',\n  'months',\n  '-',\n  'has',\n  'opened',\n  'up',\n  'a',\n  'differential',\n  'with',\n  'European',\n  'rates',\n  '.',\n  'The',\n  'half',\n  '-',\n  'point',\n  'window',\n  ',',\n  'some',\n  'believe',\n  ',',\n  'could',\n  'be',\n  'enough',\n  'to',\n  'keep',\n  'US',\n  'assets',\n  'looking',\n  'more',\n  'attractive',\n  ',',\n  'and',\n  'could',\n  'help',\n  'prop',\n  'up',\n  'the',\n  'dollar',\n  '.',\n  'The',\n  'recent',\n  'falls',\n  'have',\n  'partly',\n  'been',\n  'the',\n  'result',\n  'of',\n  'big',\n  'budget',\n  'deficits',\n  ',',\n  'as',\n  'well',\n  'as',\n  'the',\n  'US',\n  \"'s\",\n  'yawning',\n  'current',\n  'account',\n  'gap',\n  ',',\n  'both',\n  'of',\n  'which',\n  'need',\n  'to',\n  'be',\n  'funded',\n  'by',\n  'the',\n  'buying',\n  'of',\n  'US',\n  'bonds',\n  'and',\n  'assets',\n  'by',\n  'foreign',\n  'firms',\n  'and',\n  'governments',\n  '.',\n  'The',\n  'White',\n  'House',\n  'will',\n  'announce',\n  'its',\n  'budget',\n  'on',\n  'Monday',\n  ',',\n  'and',\n  'many',\n  'commentators',\n  'believe',\n  'the',\n  'deficit',\n  'will',\n  'remain',\n  'at',\n  'close',\n  'to',\n  'half',\n  'a',\n  'trillion',\n  'dollars',\n  '.'],\n ['Yukos',\n  'unit',\n  'buyer',\n  'faces',\n  'loan',\n  'claim',\n  'The',\n  'owners',\n  'of',\n  'embattled',\n  'Russian',\n  'oil',\n  'giant',\n  'Yukos',\n  'are',\n  'to',\n  'ask',\n  'the',\n  'buyer',\n  'of',\n  'its',\n  'former',\n  'production',\n  'unit',\n  'to',\n  'pay',\n  'back',\n  'a',\n  '$',\n  '900',\n  'm',\n  '(',\n  '\u00a3',\n  '479',\n  'm',\n  ')',\n  'loan',\n  '.',\n  ' ',\n  'State',\n  '-',\n  'owned',\n  'Rosneft',\n  'bought',\n  'the',\n  'Yugansk',\n  'unit',\n  'for',\n  '$',\n  '9.3bn',\n  'in',\n  'a',\n  'sale',\n  'forced',\n  'by',\n  'Russia',\n  'to',\n  'part',\n  'settle',\n  'a',\n  '$',\n  '27.5bn',\n  'tax',\n  'claim',\n  'against',\n  'Yukos',\n  '.',\n  'Yukos',\n  \"'\",\n  'owner',\n  'Menatep',\n  'Group',\n  'says',\n  'it',\n  'will',\n  'ask',\n  'Rosneft',\n  'to',\n  'repay',\n  'a',\n  'loan',\n  'that',\n  'Yugansk',\n  'had',\n  'secured',\n  'on',\n  'its',\n  'assets',\n  '.',\n  'Rosneft',\n  'already',\n  'faces',\n  'a',\n  'similar',\n  '$',\n  '540',\n  'm',\n  'repayment',\n  'demand',\n  'from',\n  'foreign',\n  'banks',\n  '.',\n  'Legal',\n  'experts',\n  'said',\n  'Rosneft',\n  \"'s\",\n  'purchase',\n  'of',\n  'Yugansk',\n  'would',\n  'include',\n  'such',\n  'obligations',\n  '.',\n  '\"',\n  'The',\n  'pledged',\n  'assets',\n  'are',\n  'with',\n  'Rosneft',\n  ',',\n  'so',\n  'it',\n  'will',\n  'have',\n  'to',\n  'pay',\n  'real',\n  'money',\n  'to',\n  'the',\n  'creditors',\n  'to',\n  'avoid',\n  'seizure',\n  'of',\n  'Yugansk',\n  'assets',\n  ',',\n  '\"',\n  'said',\n  'Moscow',\n  '-',\n  'based',\n  'US',\n  'lawyer',\n  'Jamie',\n  'Firestone',\n  ',',\n  'who',\n  'is',\n  'not',\n  'connected',\n  'to',\n  'the',\n  'case',\n  '.',\n  'Menatep',\n  'Group',\n  \"'s\",\n  'managing',\n  'director',\n  'Tim',\n  'Osborne',\n  'told',\n  'the',\n  'Reuters',\n  'news',\n  'agency',\n  ':',\n  '\"',\n  'If',\n  'they',\n  'default',\n  ',',\n  'we',\n  'will',\n  'fight',\n  'them',\n  'where',\n  'the',\n  'rule',\n  'of',\n  'law',\n  'exists',\n  'under',\n  'the',\n  'international',\n  'arbitration',\n  'clauses',\n  'of',\n  'the',\n  'credit',\n  '.',\n  '\"',\n  ' ',\n  'Rosneft',\n  'officials',\n  'were',\n  'unavailable',\n  'for',\n  'comment',\n  '.',\n  'But',\n  'the',\n  'company',\n  'has',\n  'said',\n  'it',\n  'intends',\n  'to',\n  'take',\n  'action',\n  'against',\n  'Menatep',\n  'to',\n  'recover',\n  'some',\n  'of',\n  'the',\n  'tax',\n  'claims',\n  'and',\n  'debts',\n  'owed',\n  'by',\n  'Yugansk',\n  '.',\n  'Yukos',\n  'had',\n  'filed',\n  'for',\n  'bankruptcy',\n  'protection',\n  'in',\n  'a',\n  'US',\n  'court',\n  'in',\n  'an',\n  'attempt',\n  'to',\n  'prevent',\n  'the',\n  'forced',\n  'sale',\n  'of',\n  'its',\n  'main',\n  'production',\n  'arm',\n  '.',\n  'The',\n  'sale',\n  'went',\n  'ahead',\n  'in',\n  'December',\n  'and',\n  'Yugansk',\n  'was',\n  'sold',\n  'to',\n  'a',\n  'little',\n  '-',\n  'known',\n  'shell',\n  'company',\n  'which',\n  'in',\n  'turn',\n  'was',\n  'bought',\n  'by',\n  'Rosneft',\n  '.',\n  'Yukos',\n  'claims',\n  'its',\n  'downfall',\n  'was',\n  'punishment',\n  'for',\n  'the',\n  'political',\n  'ambitions',\n  'of',\n  'its',\n  'founder',\n  'Mikhail',\n  'Khodorkovsky',\n  'and',\n  'has',\n  'vowed',\n  'to',\n  'sue',\n  'any',\n  'participant',\n  'in',\n  'the',\n  'sale',\n  '.']]"
                    },
                    "execution_count": 17,
                    "metadata": {},
                    "output_type": "execute_result"
                }
            ],
            "source": "corpus_for_word2vec = [[token.text for token in spacy_text] for spacy_text in corpus]\n\ncorpus_for_word2vec[:3]"
        },
        {
            "cell_type": "markdown",
            "id": "527ab630",
            "metadata": {},
            "source": "## \u041c\u043e\u0434\u0435\u043b\u044c word2vec\n\u0421\u043f\u0438\u0441\u043e\u043a \u0434\u043e\u0441\u0442\u0443\u043f\u043d\u044b\u0445 \u043f\u0440\u0435\u0434\u043e\u0431\u0443\u0447\u0435\u043d\u043d\u043d\u044b\u0445 \u043c\u043e\u0434\u0435\u043b\u0435\u0439"
        },
        {
            "cell_type": "code",
            "execution_count": 18,
            "id": "5c7682be",
            "metadata": {
                "trusted": true
            },
            "outputs": [
                {
                    "data": {
                        "text/plain": "['fasttext-wiki-news-subwords-300',\n 'conceptnet-numberbatch-17-06-300',\n 'word2vec-ruscorpora-300',\n 'word2vec-google-news-300',\n 'glove-wiki-gigaword-50',\n 'glove-wiki-gigaword-100',\n 'glove-wiki-gigaword-200',\n 'glove-wiki-gigaword-300',\n 'glove-twitter-25',\n 'glove-twitter-50',\n 'glove-twitter-100',\n 'glove-twitter-200',\n '__testing_word2vec-matrix-synopsis']"
                    },
                    "execution_count": 18,
                    "metadata": {},
                    "output_type": "execute_result"
                }
            ],
            "source": "from gensim.downloader import info\n\nlist(info()['models'].keys())"
        },
        {
            "cell_type": "markdown",
            "id": "eb90fadd",
            "metadata": {},
            "source": "\u0417\u0430\u0433\u0440\u0443\u0437\u043a\u0430 \u043c\u043e\u0434\u0435\u043b\u0438"
        },
        {
            "cell_type": "code",
            "execution_count": 19,
            "id": "473f870e",
            "metadata": {
                "trusted": true
            },
            "outputs": [],
            "source": "from gensim.downloader import info, load\n\n# You can safely restart this cell, gensim will download it only once.\n# It still takes some time to load, though.\nword2vec_google_news_300_model = load(\"word2vec-google-news-300\")"
        },
        {
            "cell_type": "markdown",
            "id": "9bfbc842",
            "metadata": {},
            "source": "\u041d\u0435\u0431\u043e\u043b\u044c\u0448\u0430\u044f \u043f\u0440\u043e\u0432\u0435\u0440\u043a\u0430 \u0440\u0430\u0431\u043e\u0442\u044b \u043c\u043e\u0434\u0435\u043b\u0438"
        },
        {
            "cell_type": "code",
            "execution_count": 20,
            "id": "1b2695c3",
            "metadata": {
                "trusted": true
            },
            "outputs": [],
            "source": "words = [\"king\", \"queen\", \"man\", \"woman\"]"
        },
        {
            "cell_type": "code",
            "execution_count": 21,
            "id": "482ed981",
            "metadata": {
                "trusted": true
            },
            "outputs": [
                {
                    "data": {
                        "text/plain": "[\"\u0414\u043b\u044f \u043f\u0430\u0440\u044b \u0441\u043b\u043e\u0432 ('king', 'queen') \u0441\u0445\u043e\u0436\u0435\u0441\u0442\u044c: 0.65\",\n \"\u0414\u043b\u044f \u043f\u0430\u0440\u044b \u0441\u043b\u043e\u0432 ('king', 'man') \u0441\u0445\u043e\u0436\u0435\u0441\u0442\u044c: 0.23\",\n \"\u0414\u043b\u044f \u043f\u0430\u0440\u044b \u0441\u043b\u043e\u0432 ('king', 'woman') \u0441\u0445\u043e\u0436\u0435\u0441\u0442\u044c: 0.13\",\n \"\u0414\u043b\u044f \u043f\u0430\u0440\u044b \u0441\u043b\u043e\u0432 ('queen', 'king') \u0441\u0445\u043e\u0436\u0435\u0441\u0442\u044c: 0.65\",\n \"\u0414\u043b\u044f \u043f\u0430\u0440\u044b \u0441\u043b\u043e\u0432 ('queen', 'man') \u0441\u0445\u043e\u0436\u0435\u0441\u0442\u044c: 0.17\",\n \"\u0414\u043b\u044f \u043f\u0430\u0440\u044b \u0441\u043b\u043e\u0432 ('queen', 'woman') \u0441\u0445\u043e\u0436\u0435\u0441\u0442\u044c: 0.32\",\n \"\u0414\u043b\u044f \u043f\u0430\u0440\u044b \u0441\u043b\u043e\u0432 ('man', 'king') \u0441\u0445\u043e\u0436\u0435\u0441\u0442\u044c: 0.23\",\n \"\u0414\u043b\u044f \u043f\u0430\u0440\u044b \u0441\u043b\u043e\u0432 ('man', 'queen') \u0441\u0445\u043e\u0436\u0435\u0441\u0442\u044c: 0.17\",\n \"\u0414\u043b\u044f \u043f\u0430\u0440\u044b \u0441\u043b\u043e\u0432 ('man', 'woman') \u0441\u0445\u043e\u0436\u0435\u0441\u0442\u044c: 0.77\",\n \"\u0414\u043b\u044f \u043f\u0430\u0440\u044b \u0441\u043b\u043e\u0432 ('woman', 'king') \u0441\u0445\u043e\u0436\u0435\u0441\u0442\u044c: 0.13\",\n \"\u0414\u043b\u044f \u043f\u0430\u0440\u044b \u0441\u043b\u043e\u0432 ('woman', 'queen') \u0441\u0445\u043e\u0436\u0435\u0441\u0442\u044c: 0.32\",\n \"\u0414\u043b\u044f \u043f\u0430\u0440\u044b \u0441\u043b\u043e\u0432 ('woman', 'man') \u0441\u0445\u043e\u0436\u0435\u0441\u0442\u044c: 0.77\"]"
                    },
                    "execution_count": 21,
                    "metadata": {},
                    "output_type": "execute_result"
                }
            ],
            "source": "from itertools import permutations\n\nPAIRS = 2\n[f\"\u0414\u043b\u044f \u043f\u0430\u0440\u044b \u0441\u043b\u043e\u0432 {word_pair} \u0441\u0445\u043e\u0436\u0435\u0441\u0442\u044c: {word2vec_google_news_300_model.similarity(*word_pair):1.2f}\" for word_pair in permutations(words, PAIRS)]"
        },
        {
            "cell_type": "markdown",
            "id": "024a2802",
            "metadata": {},
            "source": "### \u041e\u0431\u0443\u0447\u0435\u043d\u0438\u0435 \u0441\u043e\u0431\u0441\u0442\u0432\u0435\u043d\u043d\u043e\u0439 \u043c\u043e\u0434\u0435\u043b\u0438"
        },
        {
            "cell_type": "code",
            "execution_count": 22,
            "id": "ced55ed4",
            "metadata": {
                "trusted": true
            },
            "outputs": [
                {
                    "data": {
                        "text/plain": "'Ad sales boost Time Warner profit Quarterly profits at US media giant TimeWarner jumped 76% to $1.13bn (\u00a3600m) for the three months to December, from $639m year-earlier.  The firm, which is now one of the biggest investors in Google, benefited from sales of high-speed internet connections and higher advert sales. TimeWarner said fourth quarter sales rose 2% to $11.1bn from $10.9bn. Its profits were buoyed by one-off gains which offset a profit dip at Warner Bros, and less users for AOL.  Time Warner said on Friday that it now owns 8% of search-engine Google. But its own internet business, AOL, had has mixed fortunes. It lost 464,000 subscribers in the fourth quarter profits were lower than in the preceding three quarters. However, the company said AOL\\'s underlying profit before exceptional items rose 8% on the back of stronger internet advertising revenues. It hopes to increase subscribers by offering the online service free to TimeWarner internet customers and will try to sign up AOL\\'s existing customers for high-speed broadband. TimeWarner also has to restate 2000 and 2003 results following a probe by the US Securities Exchange Commission (SEC), which is close to concluding.  Time Warner\\'s fourth quarter profits were slightly better than analysts\\' expectations. But its film division saw profits slump 27% to $284m, helped by box-office flops Alexander and Catwoman, a sharp contrast to year-earlier, when the third and final film in the Lord of the Rings trilogy boosted results. For the full-year, TimeWarner posted a profit of $3.36bn, up 27% from its 2003 performance, while revenues grew 6.4% to $42.09bn. \"Our financial performance was strong, meeting or exceeding all of our full-year objectives and greatly enhancing our flexibility,\" chairman and chief executive Richard Parsons said. For 2005, TimeWarner is projecting operating earnings growth of around 5%, and also expects higher revenue and wider profit margins.  TimeWarner is to restate its accounts as part of efforts to resolve an inquiry into AOL by US market regulators. It has already offered to pay $300m to settle charges, in a deal that is under review by the SEC. The company said it was unable to estimate the amount it needed to set aside for legal reserves, which it previously set at $500m. It intends to adjust the way it accounts for a deal with German music publisher Bertelsmann\\'s purchase of a stake in AOL Europe, which it had reported as advertising revenue. It will now book the sale of its stake in AOL Europe as a loss on the value of that stake. '"
                    },
                    "execution_count": 22,
                    "metadata": {},
                    "output_type": "execute_result"
                }
            ],
            "source": "corpus[0].text"
        },
        {
            "cell_type": "code",
            "execution_count": 23,
            "id": "23088405",
            "metadata": {
                "trusted": true
            },
            "outputs": [
                {
                    "name": "stdout",
                    "output_type": "stream",
                    "text": "CPU times: user 3.55 s, sys: 5.56 ms, total: 3.56 s\nWall time: 764 ms\n"
                }
            ],
            "source": "from gensim.models import word2vec\n\nmodel_trained_on_dataset: word2vec.Word2Vec\n\n%time model_trained_on_dataset = word2vec.Word2Vec(corpus_for_word2vec, workers=8, min_count=10, window=10, sample=1e-3)"
        },
        {
            "cell_type": "code",
            "execution_count": 24,
            "id": "601777c6",
            "metadata": {
                "trusted": true
            },
            "outputs": [],
            "source": "wv = model_trained_on_dataset.wv"
        },
        {
            "cell_type": "code",
            "execution_count": 25,
            "id": "60a6a9f5",
            "metadata": {
                "trusted": true
            },
            "outputs": [
                {
                    "name": "stdout",
                    "output_type": "stream",
                    "text": "word #0/7528 is the\nword #1/7528 is .\nword #2/7528 is ,\nword #3/7528 is to\nword #4/7528 is \"\nword #5/7528 is of\nword #6/7528 is and\nword #7/7528 is a\nword #8/7528 is in\nword #9/7528 is -\n"
                }
            ],
            "source": "for index, word in enumerate(wv.index_to_key):\n    if index == 10:\n        break\n    print(f\"word #{index}/{len(wv.index_to_key)} is {word}\")"
        },
        {
            "cell_type": "code",
            "execution_count": 26,
            "id": "a3cb0985",
            "metadata": {
                "trusted": true
            },
            "outputs": [
                {
                    "data": {
                        "text/plain": "array([ 2.2328116e-03,  1.3145196e+00,  4.8119223e-01,  8.2273012e-01,\n       -7.3784679e-01,  1.1799921e-01,  1.2944862e-01, -1.8478009e-01,\n       -9.5712818e-02,  4.8478240e-01,  1.3814596e+00,  6.6620255e-01,\n       -4.7658932e-01,  3.2528889e-01, -7.1216339e-01,  5.6120133e-01,\n        8.8995785e-01, -4.8151794e-01, -1.4412236e+00, -1.8842486e+00,\n        1.0169474e+00,  8.3980924e-01,  2.4093542e+00, -9.2637980e-01,\n       -8.3508015e-01,  9.9907434e-01, -5.7357568e-01, -1.4646709e+00,\n       -6.7030293e-01, -3.8889077e-01, -7.6762259e-01,  2.7496248e-01,\n        1.0931668e+00,  6.8747324e-01,  6.2028271e-01, -3.3290204e-01,\n        5.7881808e-01,  5.3475720e-01,  1.8358558e-01,  2.6981041e-01,\n       -2.4757305e-01,  2.0826844e-02, -4.2661145e-01,  3.0817699e-01,\n       -2.9780325e-01,  9.1499192e-01, -1.1656585e+00,  1.4410807e+00,\n        1.2741096e+00, -6.7983754e-02, -1.7749549e+00, -1.9587585e-01,\n        2.4553971e-01, -7.5158238e-01,  5.5168909e-01, -1.2906446e-01,\n        4.2212862e-01,  7.7437592e-01,  5.7517707e-01,  6.7730933e-01,\n        8.8157815e-01, -7.6260799e-01, -4.7266704e-01,  2.6451347e-02,\n       -7.6551944e-02,  2.3745088e-02,  1.9332466e-01,  5.6181389e-01,\n        4.4821772e-01,  7.7733681e-02,  3.2478690e-01,  3.0262700e-01,\n       -6.9305700e-01, -9.7270983e-01, -5.7941396e-04,  1.0702924e+00,\n       -2.6772329e-01,  3.6738709e-01,  6.1123437e-01,  1.0923735e+00,\n       -3.4841591e-01,  5.8158273e-01,  2.2036607e+00,  3.7529814e-01,\n       -4.2797166e-01, -4.8759389e-01,  7.7847892e-01, -1.3478311e+00,\n        7.5376707e-01, -1.8138057e-01,  4.5300011e-02,  9.0197438e-01,\n        8.1529826e-01, -2.1493059e-01,  7.5356930e-01, -1.8846135e-01,\n       -2.4992822e-01, -3.3751857e-01, -4.7414747e-01,  8.6240608e-01],\n      dtype=float32)"
                    },
                    "execution_count": 26,
                    "metadata": {},
                    "output_type": "execute_result"
                }
            ],
            "source": "wv['the']"
        },
        {
            "cell_type": "code",
            "execution_count": 27,
            "id": "482c49d0",
            "metadata": {
                "trusted": true
            },
            "outputs": [
                {
                    "data": {
                        "text/plain": "[('tackled', 0.5361359715461731),\n ('question', 0.5353929400444031),\n ('House', 0.5064075589179993),\n ('another', 0.49653181433677673),\n ('course', 0.4722856879234314)]"
                    },
                    "execution_count": 27,
                    "metadata": {},
                    "output_type": "execute_result"
                }
            ],
            "source": "model_trained_on_dataset.wv.most_similar(positive=['the'], topn=5)"
        },
        {
            "cell_type": "markdown",
            "id": "24aebac8",
            "metadata": {},
            "source": "## \u041a\u043b\u0430\u0441\u0441\u0438\u0444\u0438\u043a\u0430\u0446\u0438\u044f"
        },
        {
            "cell_type": "markdown",
            "id": "2af5f4f0",
            "metadata": {},
            "source": "### \u041f\u043e\u0434\u0433\u043e\u0442\u043e\u0432\u043a\u0430 \u0434\u0430\u043d\u043d\u044b\u0445 \u0434\u043b\u044f \u043a\u043b\u0430\u0441\u0441\u0438\u0444\u0438\u043a\u0430\u0446\u0438\u0438"
        },
        {
            "cell_type": "markdown",
            "id": "c827ed60",
            "metadata": {},
            "source": "\u0412\u044b\u0431\u0435\u0440\u0435\u043c `X` \u0438 `y` \u0441\u0440\u0435\u0434\u0438 \u043d\u0430\u0448\u0435\u0433\u043e \u043d\u0430\u0431\u043e\u0440\u0430 \u0434\u0430\u043d\u043d\u044b\u0445"
        },
        {
            "cell_type": "code",
            "execution_count": 28,
            "id": "2d916728",
            "metadata": {
                "trusted": true
            },
            "outputs": [],
            "source": "X = corpus_for_word2vec\ny = df[\"category\"].values"
        },
        {
            "cell_type": "markdown",
            "id": "10e153bd",
            "metadata": {},
            "source": "\u0421\u043e\u0441\u0442\u0430\u0432\u0438\u043c \u0432\u044b\u0431\u043e\u0440\u043a\u0438 \u0434\u043b\u044f \u043e\u0431\u0443\u0447\u0435\u043d\u0438\u044f"
        },
        {
            "cell_type": "code",
            "execution_count": 29,
            "id": "0e5eccab",
            "metadata": {
                "trusted": true
            },
            "outputs": [],
            "source": "from sklearn.model_selection import train_test_split\n\nX_train, X_test, y_train, y_test = train_test_split(\n    X, y,\n    test_size=0.33,\n    random_state=RANDOM_SEED\n)"
        },
        {
            "cell_type": "markdown",
            "id": "8898fbb1",
            "metadata": {},
            "source": "\u0410\u043d\u0430\u043b\u043e\u0433\u0438\u0447\u043d\u044b\u0435 \u0432\u044b\u0431\u043e\u0440\u043a\u0438 \u0441\u0434\u0435\u043b\u0430\u0435\u043c \u0434\u043b\u044f \u043c\u043e\u0434\u0435\u043b\u0435\u0439, \u043a\u043e\u0442\u043e\u0440\u044b\u0435 \u0432 \u0441\u0435\u0431\u044f \u043f\u0440\u0438\u043d\u0438\u043c\u0430\u044e\u0442 \u0441\u043f\u0438\u0441\u043e\u043a\n\u0441\u0442\u0440\u043e\u043a, \u0430 \u043d\u0435 \u0441\u043f\u0438\u0441\u043e\u043a \u0442\u043e\u043a\u0435\u043d\u043e\u0432."
        },
        {
            "cell_type": "code",
            "execution_count": 30,
            "id": "6b47b990",
            "metadata": {
                "trusted": true
            },
            "outputs": [],
            "source": "X_str = [spacy_text.text for spacy_text in corpus]"
        },
        {
            "cell_type": "code",
            "execution_count": 31,
            "id": "be995301",
            "metadata": {
                "trusted": true
            },
            "outputs": [],
            "source": "from sklearn.model_selection import train_test_split\n\nX_str_train, X_str_test, y_str_train, y_str_test = train_test_split(\n    X_str, y,\n    test_size=0.33,\n    random_state=RANDOM_SEED\n)"
        },
        {
            "cell_type": "markdown",
            "id": "a5a270c7",
            "metadata": {},
            "source": "### \u0421\u043e\u0441\u0442\u0430\u0432\u0438\u043c pipeline"
        },
        {
            "cell_type": "markdown",
            "id": "cf52b91b",
            "metadata": {},
            "source": "\u041f\u043e\u0434\u0433\u043e\u0442\u043e\u0432\u0438\u043c scaler'\u044b \u0434\u043b\u044f \u043f\u043e\u0441\u043b\u0435\u0434\u0443\u044e\u0449\u0438\u0445 \u043c\u043e\u0434\u0435\u043b\u0435\u0439.\n\n\u041d\u0430\u043f\u0440\u0438\u043c\u0435\u0440, NaiveBayes \u0443\u043c\u0435\u0435\u0442 \u0440\u0430\u0431\u043e\u0442\u0430\u0442\u044c \u0442\u043e\u043b\u044c\u043a\u043e \u0441 \u043d\u0435\u043e\u0442\u0440\u0438\u0446\u0430\u0442\u0435\u043b\u044c\u043d\u044b\u043c\u0438 \u0447\u0438\u0441\u043b\u0430\u043c\u0438."
        },
        {
            "cell_type": "code",
            "execution_count": 32,
            "id": "974e7465",
            "metadata": {
                "trusted": true
            },
            "outputs": [],
            "source": "from sklearn.preprocessing import MinMaxScaler, StandardScaler\n\nstandard_scaler = StandardScaler()\nmin_max_scaler = MinMaxScaler()"
        },
        {
            "cell_type": "markdown",
            "id": "ac407bc4",
            "metadata": {},
            "source": "\u0421\u043e\u0441\u0442\u0430\u0432\u0438\u043c pipeline"
        },
        {
            "cell_type": "code",
            "execution_count": 33,
            "id": "322e40e9",
            "metadata": {
                "trusted": true
            },
            "outputs": [],
            "source": "import numpy as np\nfrom IPython.display import display\nfrom sklearn.linear_model import LogisticRegression\nfrom sklearn.metrics import accuracy_score, balanced_accuracy_score\n\n\ndef accuracy_score_for_classes(\n    y_true: np.ndarray, \n    y_pred: np.ndarray) -> dict[int, float]:\n    \"\"\"\n    \u0412\u044b\u0447\u0438\u0441\u043b\u0435\u043d\u0438\u0435 \u043c\u0435\u0442\u0440\u0438\u043a\u0438 accuracy \u0434\u043b\u044f \u043a\u0430\u0436\u0434\u043e\u0433\u043e \u043a\u043b\u0430\u0441\u0441\u0430\n    y_true - \u0438\u0441\u0442\u0438\u043d\u043d\u044b\u0435 \u0437\u043d\u0430\u0447\u0435\u043d\u0438\u044f \u043a\u043b\u0430\u0441\u0441\u043e\u0432\n    y_pred - \u043f\u0440\u0435\u0434\u0441\u043a\u0430\u0437\u0430\u043d\u043d\u044b\u0435 \u0437\u043d\u0430\u0447\u0435\u043d\u0438\u044f \u043a\u043b\u0430\u0441\u0441\u043e\u0432\n    \u0412\u043e\u0437\u0432\u0440\u0430\u0449\u0430\u0435\u0442 \u0441\u043b\u043e\u0432\u0430\u0440\u044c: \u043a\u043b\u044e\u0447 - \u043c\u0435\u0442\u043a\u0430 \u043a\u043b\u0430\u0441\u0441\u0430, \n    \u0437\u043d\u0430\u0447\u0435\u043d\u0438\u0435 - Accuracy \u0434\u043b\u044f \u0434\u0430\u043d\u043d\u043e\u0433\u043e \u043a\u043b\u0430\u0441\u0441\u0430\n    \"\"\"\n    # \u0414\u043b\u044f \u0443\u0434\u043e\u0431\u0441\u0442\u0432\u0430 \u0444\u0438\u043b\u044c\u0442\u0440\u0430\u0446\u0438\u0438 \u0441\u0444\u043e\u0440\u043c\u0438\u0440\u0443\u0435\u043c Pandas DataFrame \n    d = {'t': y_true, 'p': y_pred}\n    df = pd.DataFrame(data=d)\n    # \u041c\u0435\u0442\u043a\u0438 \u043a\u043b\u0430\u0441\u0441\u043e\u0432\n    classes = np.unique(y_true)\n    # \u0420\u0435\u0437\u0443\u043b\u044c\u0442\u0438\u0440\u0443\u044e\u0449\u0438\u0439 \u0441\u043b\u043e\u0432\u0430\u0440\u044c\n    res = dict()\n    # \u041f\u0435\u0440\u0435\u0431\u043e\u0440 \u043c\u0435\u0442\u043e\u043a \u043a\u043b\u0430\u0441\u0441\u043e\u0432\n    for c in classes:\n        # \u043e\u0442\u0444\u0438\u043b\u044c\u0442\u0440\u0443\u0435\u043c \u0434\u0430\u043d\u043d\u044b\u0435, \u043a\u043e\u0442\u043e\u0440\u044b\u0435 \u0441\u043e\u043e\u0442\u0432\u0435\u0442\u0441\u0442\u0432\u0443\u044e\u0442 \n        # \u0442\u0435\u043a\u0443\u0449\u0435\u0439 \u043c\u0435\u0442\u043a\u0435 \u043a\u043b\u0430\u0441\u0441\u0430 \u0432 \u0438\u0441\u0442\u0438\u043d\u043d\u044b\u0445 \u0437\u043d\u0430\u0447\u0435\u043d\u0438\u044f\u0445\n        temp_data_flt = df[df['t']==c]\n        # \u0440\u0430\u0441\u0447\u0435\u0442 accuracy \u0434\u043b\u044f \u0437\u0430\u0434\u0430\u043d\u043d\u043e\u0439 \u043c\u0435\u0442\u043a\u0438 \u043a\u043b\u0430\u0441\u0441\u0430\n        temp_acc = accuracy_score(\n            temp_data_flt['t'].values, \n            temp_data_flt['p'].values)\n        # \u0441\u043e\u0445\u0440\u0430\u043d\u0435\u043d\u0438\u0435 \u0440\u0435\u0437\u0443\u043b\u044c\u0442\u0430\u0442\u0430 \u0432 \u0441\u043b\u043e\u0432\u0430\u0440\u044c\n        res[c] = temp_acc\n    return res\n\ndef print_accuracy_score_for_classes(\n    y_true: np.ndarray, \n    y_pred: np.ndarray):\n    \"\"\"\n    \u0412\u044b\u0432\u043e\u0434 \u043c\u0435\u0442\u0440\u0438\u043a\u0438 accuracy \u0434\u043b\u044f \u043a\u0430\u0436\u0434\u043e\u0433\u043e \u043a\u043b\u0430\u0441\u0441\u0430\n    \"\"\"\n\n    accs = accuracy_score_for_classes(y_true, y_pred)\n    results = pd.DataFrame(data={ \"\u041a\u0430\u0442\u0435\u0433\u043e\u0440\u0438\u044f\": accs.keys(), \"\u0422\u043e\u0447\u043d\u043e\u0441\u0442\u044c\": accs.values() })\n\n    display(results)\n\n    return results"
        },
        {
            "cell_type": "code",
            "execution_count": 34,
            "id": "22c7b986",
            "metadata": {
                "trusted": true
            },
            "outputs": [],
            "source": "class EmbeddingVectorizer(object):\n    '''\n    \u0414\u043b\u044f \u0442\u0435\u043a\u0441\u0442\u0430 \u0443\u0441\u0440\u0435\u0434\u043d\u0438\u043c \u0432\u0435\u043a\u0442\u043e\u0440\u0430 \u0432\u0445\u043e\u0434\u044f\u0449\u0438\u0445 \u0432 \u043d\u0435\u0433\u043e \u0441\u043b\u043e\u0432\n    '''\n    def __init__(self, model):\n        self.model = model\n        self.size = model.vector_size\n\n    def fit(self, X, y):\n        return self\n\n    def transform(self, X):\n        return np.array([np.mean(\n            [self.model[w] for w in words if w in self.model] \n            or [np.zeros(self.size)], axis=0)\n            for words in X])"
        },
        {
            "cell_type": "code",
            "execution_count": 35,
            "id": "abec735a",
            "metadata": {
                "trusted": true
            },
            "outputs": [],
            "source": "from sklearn.pipeline import Pipeline\n\n\ndef classifier_pipeline(v, c, scaler=None, corpus_already_tokenized=True):\n    pipeline_steps = [\n        (\"vectorizer\", v), \n    ]\n\n    if scaler:\n        pipeline_steps.append((\"scaler\", scaler))\n\n    pipeline_steps.append((\"classifier\", c))\n\n    pipeline = Pipeline(pipeline_steps)\n\n    classifier_X_train = X_train\n    classifier_y_train = y_train\n    classifier_X_test = X_test\n    classifier_y_test = y_test\n\n    if not corpus_already_tokenized:\n        classifier_X_train = X_str_train\n        classifier_y_train = y_str_train\n        classifier_X_test = X_str_test\n        classifier_y_test = y_str_test\n\n    pipeline.fit(classifier_X_train, classifier_y_train)\n    y_pred = pipeline.predict(classifier_X_test)\n\n    return print_accuracy_score_for_classes(classifier_y_test, y_pred)"
        },
        {
            "cell_type": "markdown",
            "id": "38eac8cc",
            "metadata": {},
            "source": "### \u041f\u0440\u043e\u0432\u0435\u0440\u043a\u0430 \u0440\u0435\u0437\u0443\u043b\u044c\u0442\u0430\u0442\u043e\u0432"
        },
        {
            "cell_type": "code",
            "execution_count": 36,
            "id": "b2549de0",
            "metadata": {
                "trusted": true
            },
            "outputs": [],
            "source": "ClassifierName = str\nModelName = str\n\nmetrics_data: dict[ClassifierName, dict[ModelName, float]] = {}"
        },
        {
            "cell_type": "code",
            "execution_count": 37,
            "id": "9882a317",
            "metadata": {
                "trusted": true
            },
            "outputs": [],
            "source": "def add_metrics_data(classier_name: ClassifierName, model_name: ModelName, results: pd.DataFrame):\n    if not metrics_data.get(classier_name):\n        metrics_data[classier_name] = {}\n\n    metrics_data[classier_name][model_name] = np.mean(results['\u0422\u043e\u0447\u043d\u043e\u0441\u0442\u044c'])\n\n    return metrics_data"
        },
        {
            "cell_type": "markdown",
            "id": "96b8cdc1",
            "metadata": {},
            "source": "### \u041f\u0440\u043e\u0442\u0435\u0441\u0442\u0438\u0440\u0443\u0435\u043c \u0441\u043e\u0431\u0441\u0442\u0432\u0435\u043d\u043d\u043e-\u043e\u0431\u0443\u0447\u0435\u043d\u043d\u0443\u044e \u043c\u043e\u0434\u0435\u043b\u044c Word2Vec."
        },
        {
            "cell_type": "markdown",
            "id": "eb760925",
            "metadata": {},
            "source": "#### LogisticRegression"
        },
        {
            "cell_type": "code",
            "execution_count": 38,
            "id": "296213ed",
            "metadata": {
                "trusted": true
            },
            "outputs": [
                {
                    "name": "stderr",
                    "output_type": "stream",
                    "text": "/home/ds13/Projects/--educational/Bmstu__/t5-2-/MachineLearningMethods__/t5-2-MachineLearningMethods__Fundamentals/.venv/lib/python3.12/site-packages/sklearn/linear_model/_logistic.py:469: ConvergenceWarning: lbfgs failed to converge (status=1):\nSTOP: TOTAL NO. of ITERATIONS REACHED LIMIT.\n\nIncrease the number of iterations (max_iter) or scale the data as shown in:\n    https://scikit-learn.org/stable/modules/preprocessing.html\nPlease also refer to the documentation for alternative solver options:\n    https://scikit-learn.org/stable/modules/linear_model.html#logistic-regression\n  n_iter_i = _check_optimize_result(\n"
                },
                {
                    "data": {
                        "text/html": "<div>\n<style scoped>\n    .dataframe tbody tr th:only-of-type {\n        vertical-align: middle;\n    }\n\n    .dataframe tbody tr th {\n        vertical-align: top;\n    }\n\n    .dataframe thead th {\n        text-align: right;\n    }\n</style>\n<table border=\"1\" class=\"dataframe\">\n  <thead>\n    <tr style=\"text-align: right;\">\n      <th></th>\n      <th>\u041a\u0430\u0442\u0435\u0433\u043e\u0440\u0438\u044f</th>\n      <th>\u0422\u043e\u0447\u043d\u043e\u0441\u0442\u044c</th>\n    </tr>\n  </thead>\n  <tbody>\n    <tr>\n      <th>0</th>\n      <td>business</td>\n      <td>0.861635</td>\n    </tr>\n    <tr>\n      <th>1</th>\n      <td>entertainment</td>\n      <td>0.766423</td>\n    </tr>\n    <tr>\n      <th>2</th>\n      <td>politics</td>\n      <td>0.870504</td>\n    </tr>\n    <tr>\n      <th>3</th>\n      <td>sport</td>\n      <td>0.924528</td>\n    </tr>\n    <tr>\n      <th>4</th>\n      <td>tech</td>\n      <td>0.879433</td>\n    </tr>\n  </tbody>\n</table>\n</div>",
                        "text/plain": "       \u041a\u0430\u0442\u0435\u0433\u043e\u0440\u0438\u044f  \u0422\u043e\u0447\u043d\u043e\u0441\u0442\u044c\n0       business  0.861635\n1  entertainment  0.766423\n2       politics  0.870504\n3          sport  0.924528\n4           tech  0.879433"
                    },
                    "metadata": {},
                    "output_type": "display_data"
                },
                {
                    "data": {
                        "text/plain": "{'LogisticRegression': {'our w2v': 0.8605046201825178}}"
                    },
                    "execution_count": 38,
                    "metadata": {},
                    "output_type": "execute_result"
                }
            ],
            "source": "add_metrics_data(\"LogisticRegression\", \"our w2v\", classifier_pipeline(EmbeddingVectorizer(model_trained_on_dataset.wv), LogisticRegression(C=5.0)))"
        },
        {
            "cell_type": "markdown",
            "id": "8fb1f538",
            "metadata": {},
            "source": "LogisticRegression \u0441 min_max_scaler"
        },
        {
            "cell_type": "code",
            "execution_count": 39,
            "id": "4d8aceb9",
            "metadata": {
                "trusted": true
            },
            "outputs": [
                {
                    "name": "stderr",
                    "output_type": "stream",
                    "text": "/home/ds13/Projects/--educational/Bmstu__/t5-2-/MachineLearningMethods__/t5-2-MachineLearningMethods__Fundamentals/.venv/lib/python3.12/site-packages/sklearn/linear_model/_logistic.py:469: ConvergenceWarning: lbfgs failed to converge (status=1):\nSTOP: TOTAL NO. of ITERATIONS REACHED LIMIT.\n\nIncrease the number of iterations (max_iter) or scale the data as shown in:\n    https://scikit-learn.org/stable/modules/preprocessing.html\nPlease also refer to the documentation for alternative solver options:\n    https://scikit-learn.org/stable/modules/linear_model.html#logistic-regression\n  n_iter_i = _check_optimize_result(\n"
                },
                {
                    "data": {
                        "text/html": "<div>\n<style scoped>\n    .dataframe tbody tr th:only-of-type {\n        vertical-align: middle;\n    }\n\n    .dataframe tbody tr th {\n        vertical-align: top;\n    }\n\n    .dataframe thead th {\n        text-align: right;\n    }\n</style>\n<table border=\"1\" class=\"dataframe\">\n  <thead>\n    <tr style=\"text-align: right;\">\n      <th></th>\n      <th>\u041a\u0430\u0442\u0435\u0433\u043e\u0440\u0438\u044f</th>\n      <th>\u0422\u043e\u0447\u043d\u043e\u0441\u0442\u044c</th>\n    </tr>\n  </thead>\n  <tbody>\n    <tr>\n      <th>0</th>\n      <td>business</td>\n      <td>0.861635</td>\n    </tr>\n    <tr>\n      <th>1</th>\n      <td>entertainment</td>\n      <td>0.781022</td>\n    </tr>\n    <tr>\n      <th>2</th>\n      <td>politics</td>\n      <td>0.884892</td>\n    </tr>\n    <tr>\n      <th>3</th>\n      <td>sport</td>\n      <td>0.924528</td>\n    </tr>\n    <tr>\n      <th>4</th>\n      <td>tech</td>\n      <td>0.865248</td>\n    </tr>\n  </tbody>\n</table>\n</div>",
                        "text/plain": "       \u041a\u0430\u0442\u0435\u0433\u043e\u0440\u0438\u044f  \u0422\u043e\u0447\u043d\u043e\u0441\u0442\u044c\n0       business  0.861635\n1  entertainment  0.781022\n2       politics  0.884892\n3          sport  0.924528\n4           tech  0.865248"
                    },
                    "metadata": {},
                    "output_type": "display_data"
                },
                {
                    "data": {
                        "text/plain": "{'LogisticRegression': {'our w2v': 0.8605046201825178},\n 'LogisticRegression with scaler': {'our w2v': 0.8634651466208176}}"
                    },
                    "execution_count": 39,
                    "metadata": {},
                    "output_type": "execute_result"
                }
            ],
            "source": "add_metrics_data(\"LogisticRegression with scaler\", \"our w2v\", classifier_pipeline(EmbeddingVectorizer(model_trained_on_dataset.wv), LogisticRegression(C=5.0), scaler=min_max_scaler))"
        },
        {
            "cell_type": "markdown",
            "id": "03004729",
            "metadata": {},
            "source": "#### MultinomialNaiveBayes"
        },
        {
            "cell_type": "code",
            "execution_count": 40,
            "id": "a5c299ff",
            "metadata": {
                "trusted": true
            },
            "outputs": [
                {
                    "data": {
                        "text/html": "<div>\n<style scoped>\n    .dataframe tbody tr th:only-of-type {\n        vertical-align: middle;\n    }\n\n    .dataframe tbody tr th {\n        vertical-align: top;\n    }\n\n    .dataframe thead th {\n        text-align: right;\n    }\n</style>\n<table border=\"1\" class=\"dataframe\">\n  <thead>\n    <tr style=\"text-align: right;\">\n      <th></th>\n      <th>\u041a\u0430\u0442\u0435\u0433\u043e\u0440\u0438\u044f</th>\n      <th>\u0422\u043e\u0447\u043d\u043e\u0441\u0442\u044c</th>\n    </tr>\n  </thead>\n  <tbody>\n    <tr>\n      <th>0</th>\n      <td>business</td>\n      <td>0.792453</td>\n    </tr>\n    <tr>\n      <th>1</th>\n      <td>entertainment</td>\n      <td>0.554745</td>\n    </tr>\n    <tr>\n      <th>2</th>\n      <td>politics</td>\n      <td>0.791367</td>\n    </tr>\n    <tr>\n      <th>3</th>\n      <td>sport</td>\n      <td>0.779874</td>\n    </tr>\n    <tr>\n      <th>4</th>\n      <td>tech</td>\n      <td>0.801418</td>\n    </tr>\n  </tbody>\n</table>\n</div>",
                        "text/plain": "       \u041a\u0430\u0442\u0435\u0433\u043e\u0440\u0438\u044f  \u0422\u043e\u0447\u043d\u043e\u0441\u0442\u044c\n0       business  0.792453\n1  entertainment  0.554745\n2       politics  0.791367\n3          sport  0.779874\n4           tech  0.801418"
                    },
                    "metadata": {},
                    "output_type": "display_data"
                },
                {
                    "data": {
                        "text/plain": "{'LogisticRegression': {'our w2v': 0.8605046201825178},\n 'LogisticRegression with scaler': {'our w2v': 0.8634651466208176},\n 'MultinomialNB': {'our w2v': 0.743971383152747}}"
                    },
                    "execution_count": 40,
                    "metadata": {},
                    "output_type": "execute_result"
                }
            ],
            "source": "from sklearn.naive_bayes import MultinomialNB\n\n# NB \u043d\u0443\u0436\u043d\u044b \u043d\u0435\u043e\u0442\u0440\u0438\u0446\u0430\u0442\u0435\u043b\u044c\u043d\u044b\u0435 \u0437\u043d\u0430\u0447\u0435\u043d\u0438\u044f.\nadd_metrics_data(\"MultinomialNB\", \"our w2v\", classifier_pipeline(EmbeddingVectorizer(model_trained_on_dataset.wv), MultinomialNB(), scaler=min_max_scaler))"
        },
        {
            "cell_type": "markdown",
            "id": "7ffa2442",
            "metadata": {},
            "source": "#### KNeighborsClassifier"
        },
        {
            "cell_type": "code",
            "execution_count": 41,
            "id": "7dc9bfce",
            "metadata": {
                "trusted": true
            },
            "outputs": [
                {
                    "data": {
                        "text/html": "<div>\n<style scoped>\n    .dataframe tbody tr th:only-of-type {\n        vertical-align: middle;\n    }\n\n    .dataframe tbody tr th {\n        vertical-align: top;\n    }\n\n    .dataframe thead th {\n        text-align: right;\n    }\n</style>\n<table border=\"1\" class=\"dataframe\">\n  <thead>\n    <tr style=\"text-align: right;\">\n      <th></th>\n      <th>\u041a\u0430\u0442\u0435\u0433\u043e\u0440\u0438\u044f</th>\n      <th>\u0422\u043e\u0447\u043d\u043e\u0441\u0442\u044c</th>\n    </tr>\n  </thead>\n  <tbody>\n    <tr>\n      <th>0</th>\n      <td>business</td>\n      <td>0.836478</td>\n    </tr>\n    <tr>\n      <th>1</th>\n      <td>entertainment</td>\n      <td>0.708029</td>\n    </tr>\n    <tr>\n      <th>2</th>\n      <td>politics</td>\n      <td>0.856115</td>\n    </tr>\n    <tr>\n      <th>3</th>\n      <td>sport</td>\n      <td>0.893082</td>\n    </tr>\n    <tr>\n      <th>4</th>\n      <td>tech</td>\n      <td>0.858156</td>\n    </tr>\n  </tbody>\n</table>\n</div>",
                        "text/plain": "       \u041a\u0430\u0442\u0435\u0433\u043e\u0440\u0438\u044f  \u0422\u043e\u0447\u043d\u043e\u0441\u0442\u044c\n0       business  0.836478\n1  entertainment  0.708029\n2       politics  0.856115\n3          sport  0.893082\n4           tech  0.858156"
                    },
                    "metadata": {},
                    "output_type": "display_data"
                },
                {
                    "data": {
                        "text/plain": "{'LogisticRegression': {'our w2v': 0.8605046201825178},\n 'LogisticRegression with scaler': {'our w2v': 0.8634651466208176},\n 'MultinomialNB': {'our w2v': 0.743971383152747},\n 'KNeighborsClassifier': {'our w2v': 0.8303720163580858}}"
                    },
                    "execution_count": 41,
                    "metadata": {},
                    "output_type": "execute_result"
                }
            ],
            "source": "from sklearn.neighbors import KNeighborsClassifier\n\n# KNC \u043d\u0443\u0436\u043d\u044b \u0437\u043d\u0430\u0447\u0435\u043d\u0438\u044f, \u0440\u0430\u0441\u043f\u0440\u0435\u0434\u0435\u043b\u0451\u043d\u043d\u044b\u0435 \u043f\u043e \u043d\u043e\u0440\u043c\u0430\u043b\u044c\u043d\u043e\u043c\u0443 \u0440\u0430\u0441\u043f\u0440\u0435\u0434\u0435\u043b\u0435\u043d\u0438\u044e.\nadd_metrics_data(\"KNeighborsClassifier\", \"our w2v\", classifier_pipeline(EmbeddingVectorizer(model_trained_on_dataset.wv), KNeighborsClassifier(n_neighbors=15), scaler=standard_scaler))"
        },
        {
            "cell_type": "markdown",
            "id": "7233fd48",
            "metadata": {},
            "source": "#### DecisionTreeClassifier"
        },
        {
            "cell_type": "code",
            "execution_count": 42,
            "id": "d413b2dc",
            "metadata": {
                "trusted": true
            },
            "outputs": [
                {
                    "data": {
                        "text/html": "<div>\n<style scoped>\n    .dataframe tbody tr th:only-of-type {\n        vertical-align: middle;\n    }\n\n    .dataframe tbody tr th {\n        vertical-align: top;\n    }\n\n    .dataframe thead th {\n        text-align: right;\n    }\n</style>\n<table border=\"1\" class=\"dataframe\">\n  <thead>\n    <tr style=\"text-align: right;\">\n      <th></th>\n      <th>\u041a\u0430\u0442\u0435\u0433\u043e\u0440\u0438\u044f</th>\n      <th>\u0422\u043e\u0447\u043d\u043e\u0441\u0442\u044c</th>\n    </tr>\n  </thead>\n  <tbody>\n    <tr>\n      <th>0</th>\n      <td>business</td>\n      <td>0.735849</td>\n    </tr>\n    <tr>\n      <th>1</th>\n      <td>entertainment</td>\n      <td>0.635036</td>\n    </tr>\n    <tr>\n      <th>2</th>\n      <td>politics</td>\n      <td>0.762590</td>\n    </tr>\n    <tr>\n      <th>3</th>\n      <td>sport</td>\n      <td>0.792453</td>\n    </tr>\n    <tr>\n      <th>4</th>\n      <td>tech</td>\n      <td>0.822695</td>\n    </tr>\n  </tbody>\n</table>\n</div>",
                        "text/plain": "       \u041a\u0430\u0442\u0435\u0433\u043e\u0440\u0438\u044f  \u0422\u043e\u0447\u043d\u043e\u0441\u0442\u044c\n0       business  0.735849\n1  entertainment  0.635036\n2       politics  0.762590\n3          sport  0.792453\n4           tech  0.822695"
                    },
                    "metadata": {},
                    "output_type": "display_data"
                },
                {
                    "data": {
                        "text/html": "<div>\n<style scoped>\n    .dataframe tbody tr th:only-of-type {\n        vertical-align: middle;\n    }\n\n    .dataframe tbody tr th {\n        vertical-align: top;\n    }\n\n    .dataframe thead th {\n        text-align: right;\n    }\n</style>\n<table border=\"1\" class=\"dataframe\">\n  <thead>\n    <tr style=\"text-align: right;\">\n      <th></th>\n      <th>\u041a\u0430\u0442\u0435\u0433\u043e\u0440\u0438\u044f</th>\n      <th>\u0422\u043e\u0447\u043d\u043e\u0441\u0442\u044c</th>\n    </tr>\n  </thead>\n  <tbody>\n    <tr>\n      <th>0</th>\n      <td>business</td>\n      <td>0.735849</td>\n    </tr>\n    <tr>\n      <th>1</th>\n      <td>entertainment</td>\n      <td>0.635036</td>\n    </tr>\n    <tr>\n      <th>2</th>\n      <td>politics</td>\n      <td>0.762590</td>\n    </tr>\n    <tr>\n      <th>3</th>\n      <td>sport</td>\n      <td>0.792453</td>\n    </tr>\n    <tr>\n      <th>4</th>\n      <td>tech</td>\n      <td>0.822695</td>\n    </tr>\n  </tbody>\n</table>\n</div>",
                        "text/plain": "       \u041a\u0430\u0442\u0435\u0433\u043e\u0440\u0438\u044f  \u0422\u043e\u0447\u043d\u043e\u0441\u0442\u044c\n0       business  0.735849\n1  entertainment  0.635036\n2       politics  0.762590\n3          sport  0.792453\n4           tech  0.822695"
                    },
                    "execution_count": 42,
                    "metadata": {},
                    "output_type": "execute_result"
                }
            ],
            "source": "from sklearn.tree import DecisionTreeClassifier\n\nclassifier_pipeline(EmbeddingVectorizer(model_trained_on_dataset.wv), DecisionTreeClassifier(max_depth=20, criterion=\"gini\"))"
        },
        {
            "cell_type": "code",
            "execution_count": 43,
            "id": "2d20604e",
            "metadata": {
                "trusted": true
            },
            "outputs": [
                {
                    "data": {
                        "text/html": "<div>\n<style scoped>\n    .dataframe tbody tr th:only-of-type {\n        vertical-align: middle;\n    }\n\n    .dataframe tbody tr th {\n        vertical-align: top;\n    }\n\n    .dataframe thead th {\n        text-align: right;\n    }\n</style>\n<table border=\"1\" class=\"dataframe\">\n  <thead>\n    <tr style=\"text-align: right;\">\n      <th></th>\n      <th>\u041a\u0430\u0442\u0435\u0433\u043e\u0440\u0438\u044f</th>\n      <th>\u0422\u043e\u0447\u043d\u043e\u0441\u0442\u044c</th>\n    </tr>\n  </thead>\n  <tbody>\n    <tr>\n      <th>0</th>\n      <td>business</td>\n      <td>0.729560</td>\n    </tr>\n    <tr>\n      <th>1</th>\n      <td>entertainment</td>\n      <td>0.598540</td>\n    </tr>\n    <tr>\n      <th>2</th>\n      <td>politics</td>\n      <td>0.741007</td>\n    </tr>\n    <tr>\n      <th>3</th>\n      <td>sport</td>\n      <td>0.817610</td>\n    </tr>\n    <tr>\n      <th>4</th>\n      <td>tech</td>\n      <td>0.787234</td>\n    </tr>\n  </tbody>\n</table>\n</div>",
                        "text/plain": "       \u041a\u0430\u0442\u0435\u0433\u043e\u0440\u0438\u044f  \u0422\u043e\u0447\u043d\u043e\u0441\u0442\u044c\n0       business  0.729560\n1  entertainment  0.598540\n2       politics  0.741007\n3          sport  0.817610\n4           tech  0.787234"
                    },
                    "metadata": {},
                    "output_type": "display_data"
                },
                {
                    "data": {
                        "text/html": "<div>\n<style scoped>\n    .dataframe tbody tr th:only-of-type {\n        vertical-align: middle;\n    }\n\n    .dataframe tbody tr th {\n        vertical-align: top;\n    }\n\n    .dataframe thead th {\n        text-align: right;\n    }\n</style>\n<table border=\"1\" class=\"dataframe\">\n  <thead>\n    <tr style=\"text-align: right;\">\n      <th></th>\n      <th>\u041a\u0430\u0442\u0435\u0433\u043e\u0440\u0438\u044f</th>\n      <th>\u0422\u043e\u0447\u043d\u043e\u0441\u0442\u044c</th>\n    </tr>\n  </thead>\n  <tbody>\n    <tr>\n      <th>0</th>\n      <td>business</td>\n      <td>0.729560</td>\n    </tr>\n    <tr>\n      <th>1</th>\n      <td>entertainment</td>\n      <td>0.598540</td>\n    </tr>\n    <tr>\n      <th>2</th>\n      <td>politics</td>\n      <td>0.741007</td>\n    </tr>\n    <tr>\n      <th>3</th>\n      <td>sport</td>\n      <td>0.817610</td>\n    </tr>\n    <tr>\n      <th>4</th>\n      <td>tech</td>\n      <td>0.787234</td>\n    </tr>\n  </tbody>\n</table>\n</div>",
                        "text/plain": "       \u041a\u0430\u0442\u0435\u0433\u043e\u0440\u0438\u044f  \u0422\u043e\u0447\u043d\u043e\u0441\u0442\u044c\n0       business  0.729560\n1  entertainment  0.598540\n2       politics  0.741007\n3          sport  0.817610\n4           tech  0.787234"
                    },
                    "execution_count": 43,
                    "metadata": {},
                    "output_type": "execute_result"
                }
            ],
            "source": "classifier_pipeline(EmbeddingVectorizer(model_trained_on_dataset.wv), DecisionTreeClassifier(max_depth=60, criterion=\"gini\"))"
        },
        {
            "cell_type": "code",
            "execution_count": 44,
            "id": "35d3213b",
            "metadata": {
                "trusted": true
            },
            "outputs": [
                {
                    "data": {
                        "text/html": "<div>\n<style scoped>\n    .dataframe tbody tr th:only-of-type {\n        vertical-align: middle;\n    }\n\n    .dataframe tbody tr th {\n        vertical-align: top;\n    }\n\n    .dataframe thead th {\n        text-align: right;\n    }\n</style>\n<table border=\"1\" class=\"dataframe\">\n  <thead>\n    <tr style=\"text-align: right;\">\n      <th></th>\n      <th>\u041a\u0430\u0442\u0435\u0433\u043e\u0440\u0438\u044f</th>\n      <th>\u0422\u043e\u0447\u043d\u043e\u0441\u0442\u044c</th>\n    </tr>\n  </thead>\n  <tbody>\n    <tr>\n      <th>0</th>\n      <td>business</td>\n      <td>0.779874</td>\n    </tr>\n    <tr>\n      <th>1</th>\n      <td>entertainment</td>\n      <td>0.620438</td>\n    </tr>\n    <tr>\n      <th>2</th>\n      <td>politics</td>\n      <td>0.733813</td>\n    </tr>\n    <tr>\n      <th>3</th>\n      <td>sport</td>\n      <td>0.805031</td>\n    </tr>\n    <tr>\n      <th>4</th>\n      <td>tech</td>\n      <td>0.829787</td>\n    </tr>\n  </tbody>\n</table>\n</div>",
                        "text/plain": "       \u041a\u0430\u0442\u0435\u0433\u043e\u0440\u0438\u044f  \u0422\u043e\u0447\u043d\u043e\u0441\u0442\u044c\n0       business  0.779874\n1  entertainment  0.620438\n2       politics  0.733813\n3          sport  0.805031\n4           tech  0.829787"
                    },
                    "metadata": {},
                    "output_type": "display_data"
                },
                {
                    "data": {
                        "text/plain": "{'LogisticRegression': {'our w2v': 0.8605046201825178},\n 'LogisticRegression with scaler': {'our w2v': 0.8634651466208176},\n 'MultinomialNB': {'our w2v': 0.743971383152747},\n 'KNeighborsClassifier': {'our w2v': 0.8303720163580858},\n 'DecisionTreeClassifier': {'our w2v': 0.7537887600529158}}"
                    },
                    "execution_count": 44,
                    "metadata": {},
                    "output_type": "execute_result"
                }
            ],
            "source": "add_metrics_data(\"DecisionTreeClassifier\", \"our w2v\", classifier_pipeline(EmbeddingVectorizer(model_trained_on_dataset.wv), DecisionTreeClassifier(max_depth=200, criterion=\"gini\")))"
        },
        {
            "cell_type": "markdown",
            "id": "a5327f60",
            "metadata": {},
            "source": "### \u041f\u0440\u043e\u0442\u0435\u0441\u0442\u0438\u0440\u0443\u0435\u043c \u043f\u0440\u0435\u0434\u043e\u0431\u0443\u0447\u0435\u043d\u043d\u0443\u044e \u043c\u043e\u0434\u0435\u043b\u044c \u043e\u0442 google Word2Vec."
        },
        {
            "cell_type": "markdown",
            "id": "db612f3c",
            "metadata": {},
            "source": "#### LogisticRegression"
        },
        {
            "cell_type": "code",
            "execution_count": 45,
            "id": "d16103a7",
            "metadata": {
                "trusted": true
            },
            "outputs": [
                {
                    "data": {
                        "text/html": "<div>\n<style scoped>\n    .dataframe tbody tr th:only-of-type {\n        vertical-align: middle;\n    }\n\n    .dataframe tbody tr th {\n        vertical-align: top;\n    }\n\n    .dataframe thead th {\n        text-align: right;\n    }\n</style>\n<table border=\"1\" class=\"dataframe\">\n  <thead>\n    <tr style=\"text-align: right;\">\n      <th></th>\n      <th>\u041a\u0430\u0442\u0435\u0433\u043e\u0440\u0438\u044f</th>\n      <th>\u0422\u043e\u0447\u043d\u043e\u0441\u0442\u044c</th>\n    </tr>\n  </thead>\n  <tbody>\n    <tr>\n      <th>0</th>\n      <td>business</td>\n      <td>0.943396</td>\n    </tr>\n    <tr>\n      <th>1</th>\n      <td>entertainment</td>\n      <td>0.963504</td>\n    </tr>\n    <tr>\n      <th>2</th>\n      <td>politics</td>\n      <td>0.949640</td>\n    </tr>\n    <tr>\n      <th>3</th>\n      <td>sport</td>\n      <td>0.993711</td>\n    </tr>\n    <tr>\n      <th>4</th>\n      <td>tech</td>\n      <td>0.971631</td>\n    </tr>\n  </tbody>\n</table>\n</div>",
                        "text/plain": "       \u041a\u0430\u0442\u0435\u0433\u043e\u0440\u0438\u044f  \u0422\u043e\u0447\u043d\u043e\u0441\u0442\u044c\n0       business  0.943396\n1  entertainment  0.963504\n2       politics  0.949640\n3          sport  0.993711\n4           tech  0.971631"
                    },
                    "metadata": {},
                    "output_type": "display_data"
                },
                {
                    "data": {
                        "text/plain": "{'LogisticRegression': {'our w2v': 0.8605046201825178,\n  'google w2v': 0.9643764122635148},\n 'LogisticRegression with scaler': {'our w2v': 0.8634651466208176},\n 'MultinomialNB': {'our w2v': 0.743971383152747},\n 'KNeighborsClassifier': {'our w2v': 0.8303720163580858},\n 'DecisionTreeClassifier': {'our w2v': 0.7537887600529158}}"
                    },
                    "execution_count": 45,
                    "metadata": {},
                    "output_type": "execute_result"
                }
            ],
            "source": "add_metrics_data(\"LogisticRegression\", \"google w2v\", classifier_pipeline(EmbeddingVectorizer(word2vec_google_news_300_model), LogisticRegression(C=5.0)))"
        },
        {
            "cell_type": "markdown",
            "id": "51aba90a",
            "metadata": {},
            "source": "LogisticRegression \u0441 min_max_scaler"
        },
        {
            "cell_type": "code",
            "execution_count": 46,
            "id": "3277c725",
            "metadata": {
                "trusted": true
            },
            "outputs": [
                {
                    "data": {
                        "text/html": "<div>\n<style scoped>\n    .dataframe tbody tr th:only-of-type {\n        vertical-align: middle;\n    }\n\n    .dataframe tbody tr th {\n        vertical-align: top;\n    }\n\n    .dataframe thead th {\n        text-align: right;\n    }\n</style>\n<table border=\"1\" class=\"dataframe\">\n  <thead>\n    <tr style=\"text-align: right;\">\n      <th></th>\n      <th>\u041a\u0430\u0442\u0435\u0433\u043e\u0440\u0438\u044f</th>\n      <th>\u0422\u043e\u0447\u043d\u043e\u0441\u0442\u044c</th>\n    </tr>\n  </thead>\n  <tbody>\n    <tr>\n      <th>0</th>\n      <td>business</td>\n      <td>0.955975</td>\n    </tr>\n    <tr>\n      <th>1</th>\n      <td>entertainment</td>\n      <td>0.978102</td>\n    </tr>\n    <tr>\n      <th>2</th>\n      <td>politics</td>\n      <td>0.942446</td>\n    </tr>\n    <tr>\n      <th>3</th>\n      <td>sport</td>\n      <td>0.993711</td>\n    </tr>\n    <tr>\n      <th>4</th>\n      <td>tech</td>\n      <td>0.992908</td>\n    </tr>\n  </tbody>\n</table>\n</div>",
                        "text/plain": "       \u041a\u0430\u0442\u0435\u0433\u043e\u0440\u0438\u044f  \u0422\u043e\u0447\u043d\u043e\u0441\u0442\u044c\n0       business  0.955975\n1  entertainment  0.978102\n2       politics  0.942446\n3          sport  0.993711\n4           tech  0.992908"
                    },
                    "metadata": {},
                    "output_type": "display_data"
                },
                {
                    "data": {
                        "text/plain": "{'LogisticRegression': {'our w2v': 0.8605046201825178,\n  'google w2v': 0.9643764122635148},\n 'LogisticRegression with scaler': {'our w2v': 0.8634651466208176,\n  'google w2v': 0.9726283137912249},\n 'MultinomialNB': {'our w2v': 0.743971383152747},\n 'KNeighborsClassifier': {'our w2v': 0.8303720163580858},\n 'DecisionTreeClassifier': {'our w2v': 0.7537887600529158}}"
                    },
                    "execution_count": 46,
                    "metadata": {},
                    "output_type": "execute_result"
                }
            ],
            "source": "add_metrics_data(\"LogisticRegression with scaler\", \"google w2v\", classifier_pipeline(EmbeddingVectorizer(word2vec_google_news_300_model), LogisticRegression(C=5.0), scaler=min_max_scaler))"
        },
        {
            "cell_type": "markdown",
            "id": "d2de3a5d",
            "metadata": {},
            "source": "#### MultinomialNaiveBayes"
        },
        {
            "cell_type": "code",
            "execution_count": 47,
            "id": "029b1d51",
            "metadata": {
                "trusted": true
            },
            "outputs": [
                {
                    "data": {
                        "text/html": "<div>\n<style scoped>\n    .dataframe tbody tr th:only-of-type {\n        vertical-align: middle;\n    }\n\n    .dataframe tbody tr th {\n        vertical-align: top;\n    }\n\n    .dataframe thead th {\n        text-align: right;\n    }\n</style>\n<table border=\"1\" class=\"dataframe\">\n  <thead>\n    <tr style=\"text-align: right;\">\n      <th></th>\n      <th>\u041a\u0430\u0442\u0435\u0433\u043e\u0440\u0438\u044f</th>\n      <th>\u0422\u043e\u0447\u043d\u043e\u0441\u0442\u044c</th>\n    </tr>\n  </thead>\n  <tbody>\n    <tr>\n      <th>0</th>\n      <td>business</td>\n      <td>0.924528</td>\n    </tr>\n    <tr>\n      <th>1</th>\n      <td>entertainment</td>\n      <td>0.905109</td>\n    </tr>\n    <tr>\n      <th>2</th>\n      <td>politics</td>\n      <td>0.949640</td>\n    </tr>\n    <tr>\n      <th>3</th>\n      <td>sport</td>\n      <td>0.987421</td>\n    </tr>\n    <tr>\n      <th>4</th>\n      <td>tech</td>\n      <td>0.929078</td>\n    </tr>\n  </tbody>\n</table>\n</div>",
                        "text/plain": "       \u041a\u0430\u0442\u0435\u0433\u043e\u0440\u0438\u044f  \u0422\u043e\u0447\u043d\u043e\u0441\u0442\u044c\n0       business  0.924528\n1  entertainment  0.905109\n2       politics  0.949640\n3          sport  0.987421\n4           tech  0.929078"
                    },
                    "metadata": {},
                    "output_type": "display_data"
                },
                {
                    "data": {
                        "text/plain": "{'LogisticRegression': {'our w2v': 0.8605046201825178,\n  'google w2v': 0.9643764122635148},\n 'LogisticRegression with scaler': {'our w2v': 0.8634651466208176,\n  'google w2v': 0.9726283137912249},\n 'MultinomialNB': {'our w2v': 0.743971383152747,\n  'google w2v': 0.9391554953079735},\n 'KNeighborsClassifier': {'our w2v': 0.8303720163580858},\n 'DecisionTreeClassifier': {'our w2v': 0.7537887600529158}}"
                    },
                    "execution_count": 47,
                    "metadata": {},
                    "output_type": "execute_result"
                }
            ],
            "source": "from sklearn.naive_bayes import MultinomialNB\n\n# NB \u043d\u0443\u0436\u043d\u044b \u043d\u0435\u043e\u0442\u0440\u0438\u0446\u0430\u0442\u0435\u043b\u044c\u043d\u044b\u0435 \u0437\u043d\u0430\u0447\u0435\u043d\u0438\u044f.\nadd_metrics_data(\"MultinomialNB\", \"google w2v\", classifier_pipeline(EmbeddingVectorizer(word2vec_google_news_300_model), MultinomialNB(), scaler=min_max_scaler))"
        },
        {
            "cell_type": "markdown",
            "id": "5e69f36d",
            "metadata": {},
            "source": "#### KNeighborsClassifier"
        },
        {
            "cell_type": "code",
            "execution_count": 48,
            "id": "0f42b583",
            "metadata": {
                "trusted": true
            },
            "outputs": [
                {
                    "data": {
                        "text/html": "<div>\n<style scoped>\n    .dataframe tbody tr th:only-of-type {\n        vertical-align: middle;\n    }\n\n    .dataframe tbody tr th {\n        vertical-align: top;\n    }\n\n    .dataframe thead th {\n        text-align: right;\n    }\n</style>\n<table border=\"1\" class=\"dataframe\">\n  <thead>\n    <tr style=\"text-align: right;\">\n      <th></th>\n      <th>\u041a\u0430\u0442\u0435\u0433\u043e\u0440\u0438\u044f</th>\n      <th>\u0422\u043e\u0447\u043d\u043e\u0441\u0442\u044c</th>\n    </tr>\n  </thead>\n  <tbody>\n    <tr>\n      <th>0</th>\n      <td>business</td>\n      <td>0.905660</td>\n    </tr>\n    <tr>\n      <th>1</th>\n      <td>entertainment</td>\n      <td>0.948905</td>\n    </tr>\n    <tr>\n      <th>2</th>\n      <td>politics</td>\n      <td>0.971223</td>\n    </tr>\n    <tr>\n      <th>3</th>\n      <td>sport</td>\n      <td>1.000000</td>\n    </tr>\n    <tr>\n      <th>4</th>\n      <td>tech</td>\n      <td>0.964539</td>\n    </tr>\n  </tbody>\n</table>\n</div>",
                        "text/plain": "       \u041a\u0430\u0442\u0435\u0433\u043e\u0440\u0438\u044f  \u0422\u043e\u0447\u043d\u043e\u0441\u0442\u044c\n0       business  0.905660\n1  entertainment  0.948905\n2       politics  0.971223\n3          sport  1.000000\n4           tech  0.964539"
                    },
                    "metadata": {},
                    "output_type": "display_data"
                },
                {
                    "data": {
                        "text/plain": "{'LogisticRegression': {'our w2v': 0.8605046201825178,\n  'google w2v': 0.9643764122635148},\n 'LogisticRegression with scaler': {'our w2v': 0.8634651466208176,\n  'google w2v': 0.9726283137912249},\n 'MultinomialNB': {'our w2v': 0.743971383152747,\n  'google w2v': 0.9391554953079735},\n 'KNeighborsClassifier': {'our w2v': 0.8303720163580858,\n  'google w2v': 0.9580655031044948},\n 'DecisionTreeClassifier': {'our w2v': 0.7537887600529158}}"
                    },
                    "execution_count": 48,
                    "metadata": {},
                    "output_type": "execute_result"
                }
            ],
            "source": "from sklearn.neighbors import KNeighborsClassifier\n\n# KNC \u043d\u0443\u0436\u043d\u044b \u0437\u043d\u0430\u0447\u0435\u043d\u0438\u044f, \u0440\u0430\u0441\u043f\u0440\u0435\u0434\u0435\u043b\u0451\u043d\u043d\u044b\u0435 \u043f\u043e \u043d\u043e\u0440\u043c\u0430\u043b\u044c\u043d\u043e\u043c\u0443 \u0440\u0430\u0441\u043f\u0440\u0435\u0434\u0435\u043b\u0435\u043d\u0438\u044e.\nadd_metrics_data(\"KNeighborsClassifier\", \"google w2v\", classifier_pipeline(EmbeddingVectorizer(word2vec_google_news_300_model), KNeighborsClassifier(n_neighbors=15), scaler=standard_scaler))"
        },
        {
            "cell_type": "markdown",
            "id": "d8b03461",
            "metadata": {},
            "source": "#### DecisionTreeClassifier"
        },
        {
            "cell_type": "code",
            "execution_count": 49,
            "id": "53fd934a",
            "metadata": {
                "trusted": true
            },
            "outputs": [
                {
                    "data": {
                        "text/html": "<div>\n<style scoped>\n    .dataframe tbody tr th:only-of-type {\n        vertical-align: middle;\n    }\n\n    .dataframe tbody tr th {\n        vertical-align: top;\n    }\n\n    .dataframe thead th {\n        text-align: right;\n    }\n</style>\n<table border=\"1\" class=\"dataframe\">\n  <thead>\n    <tr style=\"text-align: right;\">\n      <th></th>\n      <th>\u041a\u0430\u0442\u0435\u0433\u043e\u0440\u0438\u044f</th>\n      <th>\u0422\u043e\u0447\u043d\u043e\u0441\u0442\u044c</th>\n    </tr>\n  </thead>\n  <tbody>\n    <tr>\n      <th>0</th>\n      <td>business</td>\n      <td>0.880503</td>\n    </tr>\n    <tr>\n      <th>1</th>\n      <td>entertainment</td>\n      <td>0.795620</td>\n    </tr>\n    <tr>\n      <th>2</th>\n      <td>politics</td>\n      <td>0.834532</td>\n    </tr>\n    <tr>\n      <th>3</th>\n      <td>sport</td>\n      <td>0.949686</td>\n    </tr>\n    <tr>\n      <th>4</th>\n      <td>tech</td>\n      <td>0.836879</td>\n    </tr>\n  </tbody>\n</table>\n</div>",
                        "text/plain": "       \u041a\u0430\u0442\u0435\u0433\u043e\u0440\u0438\u044f  \u0422\u043e\u0447\u043d\u043e\u0441\u0442\u044c\n0       business  0.880503\n1  entertainment  0.795620\n2       politics  0.834532\n3          sport  0.949686\n4           tech  0.836879"
                    },
                    "metadata": {},
                    "output_type": "display_data"
                },
                {
                    "data": {
                        "text/plain": "{'LogisticRegression': {'our w2v': 0.8605046201825178,\n  'google w2v': 0.9643764122635148},\n 'LogisticRegression with scaler': {'our w2v': 0.8634651466208176,\n  'google w2v': 0.9726283137912249},\n 'MultinomialNB': {'our w2v': 0.743971383152747,\n  'google w2v': 0.9391554953079735},\n 'KNeighborsClassifier': {'our w2v': 0.8303720163580858,\n  'google w2v': 0.9580655031044948},\n 'DecisionTreeClassifier': {'our w2v': 0.7537887600529158,\n  'google w2v': 0.8594441847852641}}"
                    },
                    "execution_count": 49,
                    "metadata": {},
                    "output_type": "execute_result"
                }
            ],
            "source": "from sklearn.tree import DecisionTreeClassifier\n\nadd_metrics_data(\"DecisionTreeClassifier\", \"google w2v\", classifier_pipeline(EmbeddingVectorizer(word2vec_google_news_300_model), DecisionTreeClassifier(max_depth=200, criterion=\"gini\")))"
        },
        {
            "cell_type": "markdown",
            "id": "56017675",
            "metadata": {},
            "source": "### TFIDF\nScaler \u043d\u0435 \u043d\u0443\u0436\u0435\u043d (\u0438 \u0435\u0433\u043e \u0434\u0430\u0436\u0435 \u043d\u0435\u0432\u043e\u0437\u043c\u043e\u0436\u043d\u043e \u043f\u0440\u0438\u043c\u0435\u043d\u0438\u0442\u044c, \u0432\u0435\u0434\u044c tfidf \u0432\u043e\u0437\u0432\u0440\u0430\u0449\u0430\u0435\u0442\n\u0440\u0430\u0437\u0440\u0435\u0436\u0435\u043d\u043d\u0443\u044e \u043c\u0430\u0442\u0440\u0438\u0446\u0443)"
        },
        {
            "cell_type": "code",
            "execution_count": 50,
            "id": "00f98d7c",
            "metadata": {
                "trusted": true
            },
            "outputs": [],
            "source": "from sklearn.feature_extraction.text import TfidfVectorizer\n\ntfidf = TfidfVectorizer(ngram_range=(1,3))"
        },
        {
            "cell_type": "markdown",
            "id": "20d82175",
            "metadata": {},
            "source": "#### LogisticRegression"
        },
        {
            "cell_type": "code",
            "execution_count": 51,
            "id": "d33b5be2",
            "metadata": {
                "trusted": true
            },
            "outputs": [
                {
                    "data": {
                        "text/html": "<div>\n<style scoped>\n    .dataframe tbody tr th:only-of-type {\n        vertical-align: middle;\n    }\n\n    .dataframe tbody tr th {\n        vertical-align: top;\n    }\n\n    .dataframe thead th {\n        text-align: right;\n    }\n</style>\n<table border=\"1\" class=\"dataframe\">\n  <thead>\n    <tr style=\"text-align: right;\">\n      <th></th>\n      <th>\u041a\u0430\u0442\u0435\u0433\u043e\u0440\u0438\u044f</th>\n      <th>\u0422\u043e\u0447\u043d\u043e\u0441\u0442\u044c</th>\n    </tr>\n  </thead>\n  <tbody>\n    <tr>\n      <th>0</th>\n      <td>business</td>\n      <td>0.955975</td>\n    </tr>\n    <tr>\n      <th>1</th>\n      <td>entertainment</td>\n      <td>0.919708</td>\n    </tr>\n    <tr>\n      <th>2</th>\n      <td>politics</td>\n      <td>0.971223</td>\n    </tr>\n    <tr>\n      <th>3</th>\n      <td>sport</td>\n      <td>0.993711</td>\n    </tr>\n    <tr>\n      <th>4</th>\n      <td>tech</td>\n      <td>0.992908</td>\n    </tr>\n  </tbody>\n</table>\n</div>",
                        "text/plain": "       \u041a\u0430\u0442\u0435\u0433\u043e\u0440\u0438\u044f  \u0422\u043e\u0447\u043d\u043e\u0441\u0442\u044c\n0       business  0.955975\n1  entertainment  0.919708\n2       politics  0.971223\n3          sport  0.993711\n4           tech  0.992908"
                    },
                    "metadata": {},
                    "output_type": "display_data"
                },
                {
                    "data": {
                        "text/plain": "{'LogisticRegression': {'our w2v': 0.8605046201825178,\n  'google w2v': 0.9643764122635148,\n  'tfidf': 0.9667048773578898},\n 'LogisticRegression with scaler': {'our w2v': 0.8634651466208176,\n  'google w2v': 0.9726283137912249},\n 'MultinomialNB': {'our w2v': 0.743971383152747,\n  'google w2v': 0.9391554953079735},\n 'KNeighborsClassifier': {'our w2v': 0.8303720163580858,\n  'google w2v': 0.9580655031044948},\n 'DecisionTreeClassifier': {'our w2v': 0.7537887600529158,\n  'google w2v': 0.8594441847852641}}"
                    },
                    "execution_count": 51,
                    "metadata": {},
                    "output_type": "execute_result"
                }
            ],
            "source": "add_metrics_data(\"LogisticRegression\", \"tfidf\", classifier_pipeline(tfidf, LogisticRegression(C=5.0), corpus_already_tokenized=False))"
        },
        {
            "cell_type": "markdown",
            "id": "329093bf",
            "metadata": {},
            "source": "#### MultinomialNaiveBayes"
        },
        {
            "cell_type": "code",
            "execution_count": 52,
            "id": "930afa21",
            "metadata": {
                "trusted": true
            },
            "outputs": [
                {
                    "data": {
                        "text/html": "<div>\n<style scoped>\n    .dataframe tbody tr th:only-of-type {\n        vertical-align: middle;\n    }\n\n    .dataframe tbody tr th {\n        vertical-align: top;\n    }\n\n    .dataframe thead th {\n        text-align: right;\n    }\n</style>\n<table border=\"1\" class=\"dataframe\">\n  <thead>\n    <tr style=\"text-align: right;\">\n      <th></th>\n      <th>\u041a\u0430\u0442\u0435\u0433\u043e\u0440\u0438\u044f</th>\n      <th>\u0422\u043e\u0447\u043d\u043e\u0441\u0442\u044c</th>\n    </tr>\n  </thead>\n  <tbody>\n    <tr>\n      <th>0</th>\n      <td>business</td>\n      <td>0.974843</td>\n    </tr>\n    <tr>\n      <th>1</th>\n      <td>entertainment</td>\n      <td>0.598540</td>\n    </tr>\n    <tr>\n      <th>2</th>\n      <td>politics</td>\n      <td>0.949640</td>\n    </tr>\n    <tr>\n      <th>3</th>\n      <td>sport</td>\n      <td>1.000000</td>\n    </tr>\n    <tr>\n      <th>4</th>\n      <td>tech</td>\n      <td>0.921986</td>\n    </tr>\n  </tbody>\n</table>\n</div>",
                        "text/plain": "       \u041a\u0430\u0442\u0435\u0433\u043e\u0440\u0438\u044f  \u0422\u043e\u0447\u043d\u043e\u0441\u0442\u044c\n0       business  0.974843\n1  entertainment  0.598540\n2       politics  0.949640\n3          sport  1.000000\n4           tech  0.921986"
                    },
                    "metadata": {},
                    "output_type": "display_data"
                },
                {
                    "data": {
                        "text/plain": "{'LogisticRegression': {'our w2v': 0.8605046201825178,\n  'google w2v': 0.9643764122635148,\n  'tfidf': 0.9667048773578898},\n 'LogisticRegression with scaler': {'our w2v': 0.8634651466208176,\n  'google w2v': 0.9726283137912249},\n 'MultinomialNB': {'our w2v': 0.743971383152747,\n  'google w2v': 0.9391554953079735,\n  'tfidf': 0.8890018033307239},\n 'KNeighborsClassifier': {'our w2v': 0.8303720163580858,\n  'google w2v': 0.9580655031044948},\n 'DecisionTreeClassifier': {'our w2v': 0.7537887600529158,\n  'google w2v': 0.8594441847852641}}"
                    },
                    "execution_count": 52,
                    "metadata": {},
                    "output_type": "execute_result"
                }
            ],
            "source": "from sklearn.naive_bayes import MultinomialNB\n\n# NB \u043d\u0443\u0436\u043d\u044b \u043d\u0435\u043e\u0442\u0440\u0438\u0446\u0430\u0442\u0435\u043b\u044c\u043d\u044b\u0435 \u0437\u043d\u0430\u0447\u0435\u043d\u0438\u044f.\nadd_metrics_data(\"MultinomialNB\", \"tfidf\", classifier_pipeline(tfidf, MultinomialNB(), corpus_already_tokenized=False))"
        },
        {
            "cell_type": "markdown",
            "id": "16aaa03a",
            "metadata": {},
            "source": "#### KNeighborsClassifier"
        },
        {
            "cell_type": "code",
            "execution_count": 53,
            "id": "a84c2e6d",
            "metadata": {
                "trusted": true
            },
            "outputs": [
                {
                    "data": {
                        "text/html": "<div>\n<style scoped>\n    .dataframe tbody tr th:only-of-type {\n        vertical-align: middle;\n    }\n\n    .dataframe tbody tr th {\n        vertical-align: top;\n    }\n\n    .dataframe thead th {\n        text-align: right;\n    }\n</style>\n<table border=\"1\" class=\"dataframe\">\n  <thead>\n    <tr style=\"text-align: right;\">\n      <th></th>\n      <th>\u041a\u0430\u0442\u0435\u0433\u043e\u0440\u0438\u044f</th>\n      <th>\u0422\u043e\u0447\u043d\u043e\u0441\u0442\u044c</th>\n    </tr>\n  </thead>\n  <tbody>\n    <tr>\n      <th>0</th>\n      <td>business</td>\n      <td>0.874214</td>\n    </tr>\n    <tr>\n      <th>1</th>\n      <td>entertainment</td>\n      <td>0.868613</td>\n    </tr>\n    <tr>\n      <th>2</th>\n      <td>politics</td>\n      <td>0.964029</td>\n    </tr>\n    <tr>\n      <th>3</th>\n      <td>sport</td>\n      <td>0.981132</td>\n    </tr>\n    <tr>\n      <th>4</th>\n      <td>tech</td>\n      <td>0.950355</td>\n    </tr>\n  </tbody>\n</table>\n</div>",
                        "text/plain": "       \u041a\u0430\u0442\u0435\u0433\u043e\u0440\u0438\u044f  \u0422\u043e\u0447\u043d\u043e\u0441\u0442\u044c\n0       business  0.874214\n1  entertainment  0.868613\n2       politics  0.964029\n3          sport  0.981132\n4           tech  0.950355"
                    },
                    "metadata": {},
                    "output_type": "display_data"
                },
                {
                    "data": {
                        "text/plain": "{'LogisticRegression': {'our w2v': 0.8605046201825178,\n  'google w2v': 0.9643764122635148,\n  'tfidf': 0.9667048773578898},\n 'LogisticRegression with scaler': {'our w2v': 0.8634651466208176,\n  'google w2v': 0.9726283137912249},\n 'MultinomialNB': {'our w2v': 0.743971383152747,\n  'google w2v': 0.9391554953079735,\n  'tfidf': 0.8890018033307239},\n 'KNeighborsClassifier': {'our w2v': 0.8303720163580858,\n  'google w2v': 0.9580655031044948,\n  'tfidf': 0.9276684875086623},\n 'DecisionTreeClassifier': {'our w2v': 0.7537887600529158,\n  'google w2v': 0.8594441847852641}}"
                    },
                    "execution_count": 53,
                    "metadata": {},
                    "output_type": "execute_result"
                }
            ],
            "source": "from sklearn.neighbors import KNeighborsClassifier\n\n# KNC \u043d\u0443\u0436\u043d\u044b \u0437\u043d\u0430\u0447\u0435\u043d\u0438\u044f, \u0440\u0430\u0441\u043f\u0440\u0435\u0434\u0435\u043b\u0451\u043d\u043d\u044b\u0435 \u043f\u043e \u043d\u043e\u0440\u043c\u0430\u043b\u044c\u043d\u043e\u043c\u0443 \u0440\u0430\u0441\u043f\u0440\u0435\u0434\u0435\u043b\u0435\u043d\u0438\u044e.\nadd_metrics_data(\"KNeighborsClassifier\", \"tfidf\", classifier_pipeline(tfidf, KNeighborsClassifier(n_neighbors=15), corpus_already_tokenized=False))"
        },
        {
            "cell_type": "markdown",
            "id": "8dd953da",
            "metadata": {},
            "source": "#### DecisionTreeClassifier"
        },
        {
            "cell_type": "code",
            "execution_count": 54,
            "id": "9f64c58c",
            "metadata": {
                "trusted": true
            },
            "outputs": [
                {
                    "data": {
                        "text/html": "<div>\n<style scoped>\n    .dataframe tbody tr th:only-of-type {\n        vertical-align: middle;\n    }\n\n    .dataframe tbody tr th {\n        vertical-align: top;\n    }\n\n    .dataframe thead th {\n        text-align: right;\n    }\n</style>\n<table border=\"1\" class=\"dataframe\">\n  <thead>\n    <tr style=\"text-align: right;\">\n      <th></th>\n      <th>\u041a\u0430\u0442\u0435\u0433\u043e\u0440\u0438\u044f</th>\n      <th>\u0422\u043e\u0447\u043d\u043e\u0441\u0442\u044c</th>\n    </tr>\n  </thead>\n  <tbody>\n    <tr>\n      <th>0</th>\n      <td>business</td>\n      <td>0.748428</td>\n    </tr>\n    <tr>\n      <th>1</th>\n      <td>entertainment</td>\n      <td>0.656934</td>\n    </tr>\n    <tr>\n      <th>2</th>\n      <td>politics</td>\n      <td>0.719424</td>\n    </tr>\n    <tr>\n      <th>3</th>\n      <td>sport</td>\n      <td>0.880503</td>\n    </tr>\n    <tr>\n      <th>4</th>\n      <td>tech</td>\n      <td>0.709220</td>\n    </tr>\n  </tbody>\n</table>\n</div>",
                        "text/plain": "       \u041a\u0430\u0442\u0435\u0433\u043e\u0440\u0438\u044f  \u0422\u043e\u0447\u043d\u043e\u0441\u0442\u044c\n0       business  0.748428\n1  entertainment  0.656934\n2       politics  0.719424\n3          sport  0.880503\n4           tech  0.709220"
                    },
                    "metadata": {},
                    "output_type": "display_data"
                },
                {
                    "data": {
                        "text/plain": "{'LogisticRegression': {'our w2v': 0.8605046201825178,\n  'google w2v': 0.9643764122635148,\n  'tfidf': 0.9667048773578898},\n 'LogisticRegression with scaler': {'our w2v': 0.8634651466208176,\n  'google w2v': 0.9726283137912249},\n 'MultinomialNB': {'our w2v': 0.743971383152747,\n  'google w2v': 0.9391554953079735,\n  'tfidf': 0.8890018033307239},\n 'KNeighborsClassifier': {'our w2v': 0.8303720163580858,\n  'google w2v': 0.9580655031044948,\n  'tfidf': 0.9276684875086623},\n 'DecisionTreeClassifier': {'our w2v': 0.7537887600529158,\n  'google w2v': 0.8594441847852641,\n  'tfidf': 0.7429018885534178}}"
                    },
                    "execution_count": 54,
                    "metadata": {},
                    "output_type": "execute_result"
                }
            ],
            "source": "from sklearn.tree import DecisionTreeClassifier\n\nadd_metrics_data(\"DecisionTreeClassifier\", \"tfidf\", classifier_pipeline(tfidf, DecisionTreeClassifier(max_depth=200, criterion=\"gini\"), corpus_already_tokenized=False))"
        },
        {
            "cell_type": "markdown",
            "id": "f79704aa",
            "metadata": {},
            "source": "### \u0421\u0440\u0430\u0432\u043d\u0435\u043d\u0438\u0435 \u0440\u0435\u0437\u0443\u043b\u044c\u0442\u0430\u0442\u043e\u0432"
        },
        {
            "cell_type": "code",
            "execution_count": 62,
            "id": "f5f42402",
            "metadata": {
                "trusted": true
            },
            "outputs": [
                {
                    "data": {
                        "image/png": "[encoded data removed]",
                        "text/plain": "<Figure size 1500x1500 with 1 Axes>"
                    },
                    "metadata": {},
                    "output_type": "display_data"
                }
            ],
            "source": "# Reloading editable packages.\n%autoreload\nfrom charts.main import grouped_bar_chart, get_metrics_grouped_bar_chart\n\nmodels_bar_chart = get_metrics_grouped_bar_chart(metrics_data)\nmodels_bar_chart[\"plt\"].title('\u0421\u0440\u0430\u0432\u043d\u0435\u043d\u0438\u0435 \u043c\u043e\u0434\u0435\u043b\u0435\u0439 \u0438 \u043a\u043b\u0430\u0441\u0441\u0438\u0444\u0438\u043a\u0430\u0442\u043e\u0440\u043e\u0432')\nmodels_bar_chart[\"plt\"].xlabel('\u041c\u043e\u0434\u0435\u043b\u044c')\nmodels_bar_chart[\"plt\"].ylabel('\u0417\u043d\u0430\u0447\u0435\u043d\u0438\u0435 (\u0441\u0440\u0435\u0434\u043d\u0435\u0435 \u043f\u043e \u0432\u0441\u0435\u043c \u043a\u0430\u0442\u0435\u0433\u043e\u0440\u0438\u044f\u043c)')\n\nmodels_bar_chart[\"ax\"].legend(title='\u041a\u043b\u0430\u0441\u0441\u0438\u0444\u0438\u043a\u0430\u0442\u043e\u0440', bbox_to_anchor=(1.25, 1))\n\nmodels_bar_chart[\"plt\"].show()"
        },
        {
            "cell_type": "markdown",
            "id": "ce01e9ba",
            "metadata": {},
            "source": "> \u0423 TFIDF \u043d\u0435\u0442 \"LogisticRegression with scaler\", \u043f\u043e\u0442\u043e\u043c\u0443 \u0447\u0442\u043e scaler \u043d\u0435 \u043d\u0443\u0436\u0435\u043d (\u0438 \u0435\u0433\u043e \u043d\u0435\u0432\u043e\u0437\u043c\u043e\u0436\u043d\u043e \u043f\u0440\u0438\u043c\u0435\u043d\u0438\u0442\u044c \u0434\u043b\u044f \u0440\u0430\u0437\u0440\u0435\u0436\u0435\u043d\u043d\u043e\u0439 \u043c\u0430\u0442\u0440\u0438\u0446\u044b)."
        },
        {
            "cell_type": "markdown",
            "id": "5a1c489e",
            "metadata": {},
            "source": "## \u0412\u044b\u0432\u043e\u0434\n\u041a\u0430\u043a \u0432\u0438\u0434\u043d\u043e \u043f\u043e \u0433\u0440\u0430\u0444\u0438\u043a\u0443 \u0441\u0440\u0430\u0432\u043d\u0435\u043d\u0438\u044f \u043c\u043e\u0434\u0435\u043b\u0435\u0439 \u0438 \u043a\u043b\u0430\u0441\u0441\u0438\u0444\u0438\u043a\u0430\u0442\u043e\u0440\u043e\u0432, \u043d\u0430\u0438\u0431\u043e\u043b\u0435\u0435 \u0443\u0441\u043f\u0435\u0448\u043d\u043e\u0439 \u043e\u043a\u0430\u0437\u0430\u043b\u0430\u0441\u044c \u0441\u0432\u044f\u0437\u043a\u0430 word2vector, \u043f\u0440\u0435\u0434\u043e\u0431\u0443\u0447\u0435\u043d\u043d\u0430\u044f google, \u0438 \u043b\u043e\u0433\u0438\u0441\u0442\u0438\u0447\u0435\u0441\u043a\u043e\u0439 \u0440\u0435\u0433\u0440\u0435\u0441\u0441\u0438\u0438 \u0441\u043e scaler'\u043e\u043c.\n\n\u0412 \u0441\u0440\u0435\u0434\u043d\u0435\u043c, \u043c\u043e\u0434\u0435\u043b\u044c \u043e\u0442 google \u043f\u0440\u043e\u0434\u0435\u043c\u043e\u043d\u0441\u0442\u0440\u0438\u0440\u043e\u0432\u0430\u043b\u0430 \u0441\u0430\u043c\u044b\u0439 \u0432\u044b\u0441\u043e\u043a\u0438\u0439 \u0440\u0435\u0437\u0443\u043b\u044c\u0442\u0430\u0442 \u0434\u043b\u044f \u043b\u044e\u0431\u043e\u0433\u043e \u043a\u043b\u0430\u0441\u0441\u0438\u0444\u0438\u043a\u0430\u0442\u043e\u0440\u0430. \u0415\u0434\u0438\u043d\u0441\u0442\u0432\u0435\u043d\u043d\u043e\u0435 \u0438\u0441\u043a\u043b\u044e\u0447\u0435\u043d\u0438\u0435 - \u043b\u043e\u0433\u0438\u0441\u0442\u0438\u0447\u0435\u0441\u043a\u0430\u044f \u0440\u0435\u0433\u0440\u0435\u0441\u0441\u0438\u044f \u0434\u043b\u044f tfidf. \u042d\u0442\u043e \u043a\u043e\u043c\u0431\u0438\u043d\u0430\u0446\u0438\u044f \u043f\u043e\u043a\u0430\u0437\u0430\u043b\u0430\n\u043e\u0447\u0435\u043d\u044c \u0445\u043e\u0440\u043e\u0448\u0438\u0439 \u0440\u0435\u0437\u0443\u043b\u044c\u0442\u0430\u0442, \u043a\u043e\u0442\u043e\u0440\u044b\u0439 \u043b\u0438\u0448\u044c \u043d\u0435\u043c\u043d\u043e\u0433\u043e \u043e\u0442\u0441\u0442\u0430\u0451\u0442 \u043e\u0442 \u043b\u0443\u0447\u0448\u0438\u0445 \u0437\u043d\u0430\u0447\u0435\u043d\u0438\u0439 google word2vector.\n\n\u0422\u0430\u043a, \u0432\u0438\u0434\u043d\u043e, \u0447\u0442\u043e \u0432 \u0441\u0440\u0435\u0434\u043d\u0435\u043c tfidf \u0434\u043e\u0441\u0442\u0438\u0433\u0430\u0435\u0442 \u043f\u043e\u043a\u0430\u0437\u0430\u0442\u0435\u043b\u0435\u0439 \u043b\u0438\u0448\u044c \u043d\u0430 2-5 \u043f\u0440\u043e\u0446\u0435\u043d\u0442\u043e\u0432 \u0445\u0443\u0436\u0435 google2vector. \u0423\u0447\u0438\u0442\u044b\u0432\u0430\u044f \u043f\u0440\u043e\u0441\u0442\u043e\u0442\u0443 \u0430\u043b\u0433\u043e\u0440\u0438\u0442\u043c\u0430, \u044d\u0442\u043e \u0443\u0434\u0438\u0432\u0438\u0442\u0435\u043b\u044c\u043d\u044b\u0439 \u0440\u0435\u0437\u0443\u043b\u044c\u0442\u0430\u0442.\n\n\u041e\u0431\u0443\u0447\u0435\u043d\u043d\u0430\u044f \u043d\u0430\u043c\u0438 \u043c\u043e\u0434\u0435\u043b\u044c word2vec \u0434\u0430\u0451\u0442 \u0432 \u043b\u0443\u0447\u0448\u0435\u043c \u0432\u0430\u0440\u0438\u0430\u043d\u0442\u0435 86%, \u0447\u0442\u043e \u044f\u0432\u043b\u044f\u0435\u0442\u0441\u044f \u0432\u043f\u043e\u043b\u043d\u0435 \u043f\u0440\u0438\u0435\u043c\u043b\u0435\u043c\u044b\u043c. \u041e\u0434\u043d\u0430\u043a\u043e \u0432 \u0441\u0440\u0435\u0434\u043d\u0435\u043c \u0443 \u043d\u0435\u0451 \u0441\u0430\u043c\u044b\u0435 \u043f\u043b\u043e\u0445\u0438\u0435 \u0440\u0435\u0437\u0443\u043b\u044c\u0442\u0430\u0442\u044b \u0441\u0440\u0435\u0434\u0438 \u0440\u0430\u0441\u0441\u043c\u0430\u0442\u0440\u0438\u0432\u0430\u0435\u043c\u044b\u0445 \u043c\u043e\u0434\u0435\u043b\u0435\u0439.\n\u042d\u0442\u043e \u0434\u043e\u0432\u043e\u043b\u044c\u043d\u043e \u043d\u0435\u043e\u0436\u0438\u0434\u0430\u043d\u043d\u043e, \u0432\u0435\u0434\u044c \u043e\u0431\u0443\u0447\u0435\u043d\u0438\u0435 \u0438 \u0442\u0440\u0435\u043d\u0438\u0440\u043e\u0432\u043a\u0430 \u043d\u0430 \u0434\u0430\u043d\u043d\u044b\u0445 \u0438\u0437 \u043e\u0434\u043d\u043e\u0439 \u043f\u0440\u0435\u0434\u043c\u0435\u0442\u043d\u043e\u0439 \u043e\u0431\u043b\u0430\u0441\u0442\u0438 \u0434\u043e\u043b\u0436\u043d\u044b \u0431\u044b\u043b\u0438 \u0434\u0430\u0442\u044c \u043b\u0443\u0447\u0448\u0435\u0435 \u043a\u0430\u0447\u0435\u0441\u0442\u0432\u043e.\n\n\u041f\u044b\u0442\u0430\u044f\u0441\u044c \u043d\u0430\u0439\u0442\u0438 \u043f\u0440\u0438\u0447\u0438\u043d\u044b, \u043f\u0435\u0440\u0432\u044b\u043c \u043f\u0440\u0438\u0445\u043e\u0434\u0438\u0442 \u043d\u0430 \u0443\u043c \u043d\u0435\u0434\u043e\u0441\u0442\u0430\u0442\u043e\u043a \u0434\u0430\u043d\u043d\u044b\u0445: \u043d\u0430\u0448 \u043d\u0430\u0431\u043e\u0440 \u043d\u0435 \u043e\u0447\u0435\u043d\u044c \u0441\u043f\u0435\u0444\u0438\u0447\u043d\u044b\u0439 \u0438 \u043d\u0430 \u043d\u0435\u0441\u043a\u043e\u043b\u044c\u043a\u043e \u043f\u043e\u0440\u044f\u0434\u043a\u043e\u0432 \u043c\u0435\u043d\u044c\u0448\u0435 \u043d\u0430\u0431\u043e\u0440\u0430 \u0434\u0430\u043d\u043d\u044b\u0445 google. \u041d\u043e \u0432 \u0442\u043e \u0436\u0435 \u0432\u0440\u0435\u043c\u044f\n\u043e\u0431\u044a\u0451\u043c \u043d\u0430\u0448\u0435\u0439 \u0432\u044b\u0431\u043e\u0440\u043a\u0438 \u0445\u043e\u0442\u044c \u0438 \u0441\u043e\u0441\u0442\u0430\u0432\u043b\u044f\u0435\u0442 \u043d\u0435\u0441\u043a\u043e\u043b\u044c\u043a\u043e \u0442\u044b\u0441\u044f\u0447 \u0441\u0442\u0440\u043e\u043a, \u0432 \u043a\u0430\u0436\u0434\u043e\u0439 \u0438\u0437 \u043d\u0438\u0445 \u0435\u0441\u0442\u044c \u044f\u0447\u0435\u0439\u043a\u0430 \u0441 \u0441\u043e\u0434\u0435\u0440\u0436\u0430\u043d\u0438\u0435\u043c \u043f\u043e\u043b\u043d\u043e\u0446\u0435\u043d\u043d\u043e\u0439 \u0441\u0442\u0430\u0442\u044c\u0438, \u0442\u043e \u0435\u0441\u0442\u044c \u043a\u043e\u043b\u0438\u0447\u0435\u0441\u0442\u0432\u043e \u0442\u043e\u043a\u0435\u043d\u043e\u0432 \u0434\u043e\u043b\u0436\u043d\u043e \u043e\u0442\u0432\u0435\u0447\u0430\u0442\u044c\n\u0437\u0430\u043f\u0440\u043e\u0441\u0430\u043c word2vec.\n\n\u0412\u0435\u0440\u043e\u044f\u0442\u043d\u043e, \u043f\u0435\u0440\u0432\u043e\u043f\u0440\u0438\u0447\u0438\u043d\u0430 \u043a\u0440\u043e\u0435\u0442\u0441\u044f \u0432 \u043a\u0430\u0447\u0435\u0441\u0442\u0432\u0435 \u0441\u0430\u043c\u043e\u0433\u043e \u043e\u0431\u0443\u0447\u0435\u043d\u0438\u044f: \u043c\u044b \u043c\u0430\u043b\u043e \u043f\u0440\u043e\u0432\u043e\u0434\u0438\u043b\u0438 \u0440\u0430\u0431\u043e\u0442\u044b \u0441 \u043a\u043e\u0440\u043f\u0443\u0441\u043e\u043c \u0442\u043e\u043a\u0435\u043d\u043e\u0432. \u0421\u0440\u0430\u0437\u0443 \u043f\u043e\u0441\u043b\u0435 \u0440\u0430\u0437\u0431\u0438\u0435\u043d\u0438\u044f \u0442\u0435\u043a\u0441\u0442\u0430 \u0441 \u043f\u043e\u043c\u043e\u0449\u044c\u044e `spacy`\n\u043d\u0430 \u0442\u043e\u043a\u0435\u043d\u044b, \u043c\u044b \u043e\u0442\u043f\u0440\u0430\u0432\u0438\u043b\u0438 \u043c\u043e\u0434\u0435\u043b\u044c \u043e\u0431\u0443\u0447\u0430\u0442\u044c\u0441\u044f. \u0412\u043f\u043e\u043b\u043d\u0435 \u0432\u043e\u0437\u043c\u043e\u0436\u043d\u043e, \u0434\u043e\u043f\u043e\u043b\u043d\u0438\u0442\u0435\u043b\u044c\u043d\u044b\u0435 \u043e\u043f\u0442\u0438\u043c\u0438\u0437\u0430\u0446\u0438\u0438 \u043d\u0430 \u0443\u0440\u043e\u0432\u043d\u0435 \u043f\u0440\u0435\u0434\u043b\u043e\u0436\u0435\u043d\u0438\u0439 \u0438 \u044f\u0437\u044b\u043a\u0430 \u043f\u043e\u0441\u043f\u043e\u0441\u043e\u0431\u0441\u0442\u0432\u043e\u0432\u0430\u043b\u0438 \u0431\u044b \u0443\u043b\u0443\u0447\u0448\u0435\u043d\u0438\u044e \u043a\u0430\u0447\u0435\u0441\u0442\u0432\u0430\n\u043c\u043e\u0434\u0435\u043b\u0438. \u041d\u0430\u043f\u0440\u0438\u043c\u0435\u0440, \u0443\u0441\u0442\u0440\u0430\u043d\u0435\u043d\u0438\u0435 \u0441\u0442\u043e\u043f-\u0441\u043b\u043e\u0432 \u0438\u043b\u0438 \u043e\u0447\u0435\u043d\u044c \u0447\u0430\u0441\u0442\u044b\u0445 \u0441\u043b\u043e\u0432, \u043d\u0435\u0441\u0443\u0449\u0438\u0445 \u043c\u0430\u043b\u044b\u0439 \u0441\u043c\u044b\u0441\u043b \u0432 \u0440\u0430\u043c\u043a\u0430\u0445 \u043d\u0430\u0448\u0435\u0439 \u0437\u0430\u0434\u0430\u0447\u0438 (\u0441\u043e\u044e\u0437\u044b, \u043f\u0440\u0435\u0434\u043b\u043e\u0433\u0438), \u0438\u0437 \u0432\u044b\u0431\u043e\u0440\u043a\u0438. \u041d\u0430 \u044d\u0442\u043e \u0435\u0449\u0451 \u0431\u043e\u043b\u044c\u0448\u0435\n\u043d\u0430\u043c\u0435\u043a\u0430\u0435\u0442 \u0445\u043e\u0440\u043e\u0448\u0438\u0439 \u0440\u0435\u0437\u0443\u043b\u044c\u0442\u0430\u0442 TFIDF, \u0432\u0435\u0434\u044c \u043e\u043d \u044d\u0442\u0438 \u043e\u043f\u0442\u0438\u043c\u0438\u0437\u0430\u0446\u0438\u0438 \u043f\u0440\u043e\u0432\u043e\u0434\u0438\u0442 \"\u0430\u0432\u0442\u043e\u043c\u0430\u0442\u0438\u0447\u0435\u0441\u043a\u0438\" \u0432\u0432\u0438\u0434\u0443 \u043e\u0441\u043e\u0431\u0435\u043d\u043d\u043e\u0441\u0442\u0435\u0439 \u0444\u043e\u0440\u043c\u0443\u043b\u044b.\n\n\u0422\u0430\u043a\u0438\u043c \u043e\u0431\u0440\u0430\u0437\u043e\u043c, \u043c\u044b \u043e\u0431\u0443\u0447\u0438\u043b\u0438 \u0442\u0440\u0438 \u043c\u043e\u0434\u0435\u043b\u0438 \u0438 \u0441\u0440\u0430\u0432\u043d\u0438\u043b\u0438 \u043f\u043e\u043a\u0430\u0437\u0430\u0442\u0435\u043b\u0438. \u041a\u0430\u0436\u0434\u0430\u044f \u0438\u0437 \u043d\u0438\u0445 \u0434\u0430\u0451\u0442 \u0445\u043e\u0440\u043e\u0448\u0438\u0435 \u0440\u0435\u0437\u0443\u043b\u044c\u0442\u0430\u0442\u044b \u0432 \u043a\u043b\u0430\u0441\u0441\u0438\u0444\u0438\u043a\u0430\u0446\u0438\u0438, \u043e\u0434\u043d\u0430\u043a\u043e \u0443 \u0432\u0441\u0435\u0445 \u043c\u043e\u0434\u0435\u043b\u0435\u0439 \u0435\u0441\u0442\u044c \u0431\u043e\u043b\u044c\u0448\u043e\u0439 \u043d\u0435\u0434\u043e\u0441\u0442\u0430\u0442\u043e\u043a -\n\u043d\u0435\u0443\u043c\u0435\u043d\u0438\u0435 \u0440\u0430\u0431\u043e\u0442\u0430\u0442\u044c \u0441\u043e \u0441\u043b\u043e\u0432\u0430\u043c\u0438, \u043d\u0435 \u043f\u0440\u0438\u0441\u0443\u0442\u0441\u0442\u0432\u0443\u044e\u0449\u0438\u043c\u0438 \u0432 \u0432\u044b\u0431\u043e\u0440\u043a\u0435. \u041d\u0430\u0438\u043c\u0435\u043d\u0435\u0435 \u0437\u0430\u043c\u0435\u0442\u043d\u043e \u044d\u0442\u043e \u0432 google word2vector, \u0432\u0435\u0434\u044c \u0432 \u043d\u0435\u0439 \u043d\u0430\u0431\u043e\u0440 \u0434\u0430\u043d\u043d\u044b\u0445 \u043a\u043e\u043b\u043e\u0441\u0441\u0430\u043b\u044c\u043d\u044b\u0439, \u043e\u0434\u043d\u0430\u043a\u043e \u0435\u0441\u043b\u0438 \u0441\u0442\u043e\u0438\u0442 \u0437\u0430\u0434\u0430\u0447\u0430\n\u043e\u0431\u0440\u0430\u0431\u0430\u0442\u044b\u0432\u0430\u0442\u044c \u043b\u044e\u0431\u044b\u0435 \u0441\u043b\u043e\u0432\u0430, \u043b\u0443\u0447\u0448\u0435 \u043f\u043e\u0434\u043e\u0439\u0434\u0451\u0442 \u043f\u0440\u0438\u043d\u0446\u0438\u043f\u0438\u0430\u043b\u044c\u043d\u043e \u043c\u043e\u0434\u0438\u0444\u0438\u0446\u0438\u0440\u043e\u0432\u0430\u043d\u043d\u0430\u044f \u043c\u043e\u0434\u0435\u043b\u044c, \u043d\u0430\u043f\u0440\u0438\u043c\u0435\u0440, fast2text."
        }
    ],
    "metadata": {
        "kernelspec": {
            "display_name": "Python 3 (ipykernel)",
            "language": "python",
            "name": "python3"
        },
        "language_info": {
            "codemirror_mode": {
                "name": "ipython",
                "version": 3
            },
            "file_extension": ".py",
            "mimetype": "text/x-python",
            "name": "python",
            "nbconvert_exporter": "python",
            "pygments_lexer": "ipython3",
            "version": "3.12.3"
        }
    },
    "nbformat": 4,
    "nbformat_minor": 5
}