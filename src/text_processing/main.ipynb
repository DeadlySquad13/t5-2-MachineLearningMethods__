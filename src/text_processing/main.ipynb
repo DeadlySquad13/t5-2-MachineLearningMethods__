{
    "cells": [
        {
            "cell_type": "markdown",
            "id": "2cfad0d5",
            "metadata": {},
            "source": "# \u041b\u0430\u0431\u043e\u0440\u0430\u0442\u043e\u0440\u043d\u0430\u044f \u0440\u0430\u0431\u043e\u0442\u0430 \u043f\u043e \u0442\u0435\u043c\u0435 \"\u041f\u0440\u0435\u0434\u043e\u0431\u0440\u0430\u0431\u043e\u0442\u043a\u0430 \u0442\u0435\u043a\u0441\u0442\u0430\"\n\u0412\u044b\u043f\u043e\u043b\u043d\u0438\u043b: \u041f\u0430\u043a\u0430\u043b\u043e \u0410\u043b\u0435\u043a\u0441\u0430\u043d\u0434\u0440 \u0421\u0435\u0440\u0433\u0435\u0435\u0432\u0438\u0447 \u0418\u04235-22\u041c\n\n## \u0417\u0430\u0434\u0430\u043d\u0438\u0435\n\u0414\u043b\u044f \u043f\u0440\u043e\u0438\u0437\u0432\u043e\u043b\u044c\u043d\u043e\u0433\u043e \u043f\u0440\u0435\u0434\u043b\u043e\u0436\u0435\u043d\u0438\u044f \u0438\u043b\u0438 \u0442\u0435\u043a\u0441\u0442\u0430 \u0440\u0435\u0448\u0438\u0442\u0435 \u0441\u043b\u0435\u0434\u0443\u044e\u0449\u0438\u0435 \u0437\u0430\u0434\u0430\u0447\u0438:\n1. \u0422\u043e\u043a\u0435\u043d\u0438\u0437\u0430\u0446\u0438\u044f.\n2. \u0427\u0430\u0441\u0442\u0435\u0440\u0435\u0447\u043d\u0430\u044f \u0440\u0430\u0437\u043c\u0435\u0442\u043a\u0430.\n3. \u041b\u0435\u043c\u043c\u0430\u0442\u0438\u0437\u0430\u0446\u0438\u044f.\n4. \u0412\u044b\u0434\u0435\u043b\u0435\u043d\u0438\u0435 (\u0440\u0430\u0441\u043f\u043e\u0437\u043d\u0430\u0432\u0430\u043d\u0438\u0435) \u0438\u043c\u0435\u043d\u043e\u0432\u0430\u043d\u043d\u044b\u0445 \u0441\u0443\u0449\u043d\u043e\u0441\u0442\u0435\u0439.\n5. \u0420\u0430\u0437\u0431\u043e\u0440 \u043f\u0440\u0435\u0434\u043b\u043e\u0436\u0435\u043d\u0438\u044f."
        },
        {
            "cell_type": "code",
            "execution_count": 48,
            "id": "0739a793",
            "metadata": {
                "trusted": true
            },
            "outputs": [],
            "source": "import spacy\nfrom spacy.lang.ru import Russian\n\n# Changes display style for spacy.displacy.\nIS_JUPYTER = True"
        },
        {
            "cell_type": "code",
            "execution_count": 51,
            "id": "65497125",
            "metadata": {
                "trusted": true
            },
            "outputs": [],
            "source": "text1 = \"Natural Language Toolkit (NLTK) - \u043e\u0434\u043d\u0430 \u0438\u0437 \u043d\u0430\u0438\u0431\u043e\u043b\u0435\u0435 \u0441\u0442\u0430\u0440\u044b\u0445 \u0438 \u0438\u0437\u0432\u0435\u0441\u0442\u043d\u044b\u0445 \u0431\u0438\u0431\u043b\u0438\u043e\u0442\u0435\u043a. Spacy - \u043d\u0430 \u0441\u0435\u0433\u043e\u0434\u043d\u044f\u0448\u043d\u0438\u0439 \u0434\u0435\u043d\u044c \u043e\u0434\u043d\u0430 \u0438\u0437 \u043d\u0430\u0438\u0431\u043e\u043b\u0435\u0435 \u0440\u0430\u0437\u0432\u0438\u0442\u044b\u0445 \u0431\u0438\u0431\u043b\u0438\u043e\u0442\u0435\u043a, \u043f\u0440\u0435\u0434\u043d\u0430\u0437\u043d\u0430\u0447\u0435\u043d\u043d\u044b\u0445 \u0434\u043b\u044f \u043e\u0431\u0440\u0430\u0431\u043e\u0442\u043a\u0438 \u0435\u0441\u0442\u0435\u0441\u0442\u0432\u0435\u043d\u043d\u043e\u0433\u043e \u044f\u0437\u044b\u043a\u0430, \u0432 \u0442\u043e\u043c \u0447\u0438\u0441\u043b\u0435 \u043e\u0440\u0438\u0435\u043d\u0442\u0438\u0440\u043e\u0432\u0430\u043d\u043d\u0430\u044f \u043d\u0430 \u0440\u0443\u0441\u0441\u043a\u0438\u0439 \u044f\u0437\u044b\u043a.\"\n# \u0425\u043e\u0440\u043e\u0448\u043e \u043f\u043e\u0434\u0445\u043e\u0434\u0438\u0442 \u0434\u043b\u044f \u0442\u0435\u0441\u0442\u0438\u0440\u043e\u0432\u0430\u043d\u0438\u044f \u0447\u0430\u0441\u0442\u0435\u0439 \u0440\u0435\u0447\u0438 (2 \u043f\u0443\u043d\u043a\u0442) \u0438 \u0440\u0430\u0437\u0431\u043e\u0440\u0430 \u043f\u0440\u0435\u0434\u043b\u043e\u0436\u0435\u043d\u0438\u044f\n# (\u043f\u0443\u043d\u043a\u0442 5).\ntext2 = \"\u041d\u0430 \u043a\u043e\u0441\u043e\u0439 \u043a\u043e\u0441\u0435 \u041a\u043e\u0441\u043e\u0439 \u043a\u043e\u0441\u0438\u043b \u0442\u0440\u0430\u0432\u0443 \u043a\u043e\u0441\u043e\u0439 \u043a\u043e\u0441\u043e\u0439.\"\n# \u0425\u043e\u0440\u043e\u0448\u043e \u043f\u043e\u0434\u0445\u043e\u0434\u0438\u0442 \u0434\u043b\u044f \u0442\u0435\u0441\u0442\u0438\u0440\u043e\u0432\u0430\u043d\u0438\u044f Named Entity Recognition (4 \u043f\u0443\u043d\u043a\u0442).\ntext3 = (\n    \"\u041c\u043e\u0441\u043a\u0432\u0430 - \u0441\u0442\u043e\u043b\u0438\u0446\u0430 \u0420\u043e\u0441\u0441\u0438\u0438, \u043f\u043e \u043f\u0440\u0435\u0434\u0430\u043d\u0438\u044e \u0435\u0435 \u043e\u0441\u043d\u043e\u0432\u0430\u043b \u043a\u043d\u044f\u0437\u044c \u042e\u0440\u0438\u0439 \u0414\u043e\u043b\u0433\u043e\u0440\u0443\u043a\u0438\u0439 \u0432 1147 \u0433\u043e\u0434\u0443.\"\n)\n# \nmy_text = \"Nyandex - \u043e\u0442\u043b\u0438\u0447\u043d\u0430\u044f \u043a\u043e\u043c\u043f\u0430\u043d\u0438\u044f, \u0432\u0435\u0434\u044c \u0432 \u043d\u0435\u0439 (\u043d\u0435) \u0440\u0430\u0431\u043e\u0442\u0430\u044e\u0442 \u0442\u0430\u043a\u0438\u0435 \u043b\u044e\u0434\u0438 \u043a\u0430\u043a \u041f\u0432\u0438\u043d\u043a\u043e\u0432\u0438\u0447\"\n\nCHOSEN_TEXT = my_text"
        },
        {
            "cell_type": "markdown",
            "id": "f46c2d97",
            "metadata": {},
            "source": "### 1. \u0422\u043e\u043a\u0435\u043d\u0438\u0437\u0430\u0446\u0438\u044f"
        },
        {
            "cell_type": "code",
            "execution_count": 52,
            "id": "a19fa404",
            "metadata": {
                "trusted": true
            },
            "outputs": [
                {
                    "name": "stdout",
                    "output_type": "stream",
                    "text": "Nyandex\n-\n\u043e\u0442\u043b\u0438\u0447\u043d\u0430\u044f\n\u043a\u043e\u043c\u043f\u0430\u043d\u0438\u044f\n,\n\u0432\u0435\u0434\u044c\n\u0432\n\u043d\u0435\u0439\n(\n\u043d\u0435\n)\n\u0440\u0430\u0431\u043e\u0442\u0430\u044e\u0442\n\u0442\u0430\u043a\u0438\u0435\n\u043b\u044e\u0434\u0438\n\u043a\u0430\u043a\n\u041f\u0432\u0438\u043d\u043a\u043e\u0432\u0438\u0447\n"
                }
            ],
            "source": "nlp = spacy.load(\"ru_core_news_sm\")\nspacy_text = nlp(CHOSEN_TEXT)\n\nfor token in spacy_text:\n    print(token)"
        },
        {
            "cell_type": "markdown",
            "id": "7d8a9659",
            "metadata": {},
            "source": "### 2. \u0427\u0430\u0441\u0442\u0435\u0440\u0435\u0447\u043d\u0430\u044f \u0440\u0430\u0437\u043c\u0435\u0442\u043a\u0430"
        },
        {
            "cell_type": "code",
            "execution_count": 53,
            "id": "eb9de1ce",
            "metadata": {
                "trusted": true
            },
            "outputs": [
                {
                    "data": {
                        "text/html": "<div>\n<style scoped>\n    .dataframe tbody tr th:only-of-type {\n        vertical-align: middle;\n    }\n\n    .dataframe tbody tr th {\n        vertical-align: top;\n    }\n\n    .dataframe thead th {\n        text-align: right;\n    }\n</style>\n<table border=\"1\" class=\"dataframe\">\n  <thead>\n    <tr style=\"text-align: right;\">\n      <th></th>\n      <th>text</th>\n      <th>position</th>\n      <th>dep</th>\n      <th>explanation</th>\n    </tr>\n  </thead>\n  <tbody>\n    <tr>\n      <th>0</th>\n      <td>Nyandex</td>\n      <td>PROPN</td>\n      <td>nsubj</td>\n      <td>proper noun, nominal subject</td>\n    </tr>\n    <tr>\n      <th>1</th>\n      <td>-</td>\n      <td>PROPN</td>\n      <td>amod</td>\n      <td>proper noun, adjectival modifier</td>\n    </tr>\n    <tr>\n      <th>2</th>\n      <td>\u043e\u0442\u043b\u0438\u0447\u043d\u0430\u044f</td>\n      <td>ADJ</td>\n      <td>amod</td>\n      <td>adjective, adjectival modifier</td>\n    </tr>\n    <tr>\n      <th>3</th>\n      <td>\u043a\u043e\u043c\u043f\u0430\u043d\u0438\u044f</td>\n      <td>NOUN</td>\n      <td>ROOT</td>\n      <td>noun, root</td>\n    </tr>\n    <tr>\n      <th>4</th>\n      <td>,</td>\n      <td>PUNCT</td>\n      <td>punct</td>\n      <td>punctuation, punctuation</td>\n    </tr>\n    <tr>\n      <th>5</th>\n      <td>\u0432\u0435\u0434\u044c</td>\n      <td>SCONJ</td>\n      <td>mark</td>\n      <td>subordinating conjunction, marker</td>\n    </tr>\n    <tr>\n      <th>6</th>\n      <td>\u0432</td>\n      <td>ADP</td>\n      <td>case</td>\n      <td>adposition, case marking</td>\n    </tr>\n    <tr>\n      <th>7</th>\n      <td>\u043d\u0435\u0439</td>\n      <td>PRON</td>\n      <td>obl</td>\n      <td>pronoun, oblique nominal</td>\n    </tr>\n    <tr>\n      <th>8</th>\n      <td>(</td>\n      <td>PUNCT</td>\n      <td>punct</td>\n      <td>punctuation, punctuation</td>\n    </tr>\n    <tr>\n      <th>9</th>\n      <td>\u043d\u0435</td>\n      <td>PART</td>\n      <td>advmod</td>\n      <td>particle, adverbial modifier</td>\n    </tr>\n    <tr>\n      <th>10</th>\n      <td>)</td>\n      <td>PUNCT</td>\n      <td>punct</td>\n      <td>punctuation, punctuation</td>\n    </tr>\n    <tr>\n      <th>11</th>\n      <td>\u0440\u0430\u0431\u043e\u0442\u0430\u044e\u0442</td>\n      <td>VERB</td>\n      <td>acl</td>\n      <td>verb, clausal modifier of noun (adjectival cla...</td>\n    </tr>\n    <tr>\n      <th>12</th>\n      <td>\u0442\u0430\u043a\u0438\u0435</td>\n      <td>DET</td>\n      <td>det</td>\n      <td>determiner, determiner</td>\n    </tr>\n    <tr>\n      <th>13</th>\n      <td>\u043b\u044e\u0434\u0438</td>\n      <td>NOUN</td>\n      <td>nsubj</td>\n      <td>noun, nominal subject</td>\n    </tr>\n    <tr>\n      <th>14</th>\n      <td>\u043a\u0430\u043a</td>\n      <td>SCONJ</td>\n      <td>case</td>\n      <td>subordinating conjunction, case marking</td>\n    </tr>\n    <tr>\n      <th>15</th>\n      <td>\u041f\u0432\u0438\u043d\u043a\u043e\u0432\u0438\u0447</td>\n      <td>PROPN</td>\n      <td>obl</td>\n      <td>proper noun, oblique nominal</td>\n    </tr>\n  </tbody>\n</table>\n</div>",
                        "text/plain": "         text position     dep  \\\n0     Nyandex    PROPN   nsubj   \n1           -    PROPN    amod   \n2    \u043e\u0442\u043b\u0438\u0447\u043d\u0430\u044f      ADJ    amod   \n3    \u043a\u043e\u043c\u043f\u0430\u043d\u0438\u044f     NOUN    ROOT   \n4           ,    PUNCT   punct   \n5        \u0432\u0435\u0434\u044c    SCONJ    mark   \n6           \u0432      ADP    case   \n7         \u043d\u0435\u0439     PRON     obl   \n8           (    PUNCT   punct   \n9          \u043d\u0435     PART  advmod   \n10          )    PUNCT   punct   \n11   \u0440\u0430\u0431\u043e\u0442\u0430\u044e\u0442     VERB     acl   \n12      \u0442\u0430\u043a\u0438\u0435      DET     det   \n13       \u043b\u044e\u0434\u0438     NOUN   nsubj   \n14        \u043a\u0430\u043a    SCONJ    case   \n15  \u041f\u0432\u0438\u043d\u043a\u043e\u0432\u0438\u0447    PROPN     obl   \n\n                                          explanation  \n0                        proper noun, nominal subject  \n1                    proper noun, adjectival modifier  \n2                      adjective, adjectival modifier  \n3                                          noun, root  \n4                            punctuation, punctuation  \n5                   subordinating conjunction, marker  \n6                            adposition, case marking  \n7                            pronoun, oblique nominal  \n8                            punctuation, punctuation  \n9                        particle, adverbial modifier  \n10                           punctuation, punctuation  \n11  verb, clausal modifier of noun (adjectival cla...  \n12                             determiner, determiner  \n13                              noun, nominal subject  \n14            subordinating conjunction, case marking  \n15                       proper noun, oblique nominal  "
                    },
                    "execution_count": 53,
                    "metadata": {},
                    "output_type": "execute_result"
                }
            ],
            "source": "import pandas as pd\n\n# You may need reduce or other method for larger texts because it can get slow:\n# for each column we iterate over all dataset.\ntoken_text_column = [token.text for token in spacy_text]\ntoken_position_column = [token.pos_ for token in spacy_text]\ntoken_dep_column = [token.dep_ for token in spacy_text]\ntoken_explanation_column = [f\"{spacy.explain(position)}, {spacy.explain(dep)}\" for position, dep in zip(token_position_column, token_dep_column)]\n\npd.DataFrame(\n    data={\n        \"text\": token_text_column,\n        \"position\": token_position_column,\n        \"dep\": token_dep_column,\n        \"explanation\": token_explanation_column,\n    }\n)"
        },
        {
            "cell_type": "markdown",
            "id": "222e9101",
            "metadata": {},
            "source": "### 3. \u041b\u0435\u043c\u043c\u0430\u0442\u0438\u0437\u0430\u0446\u0438\u044f"
        },
        {
            "cell_type": "code",
            "execution_count": 54,
            "id": "db87e981",
            "metadata": {
                "trusted": true
            },
            "outputs": [
                {
                    "data": {
                        "text/html": "<div>\n<style scoped>\n    .dataframe tbody tr th:only-of-type {\n        vertical-align: middle;\n    }\n\n    .dataframe tbody tr th {\n        vertical-align: top;\n    }\n\n    .dataframe thead th {\n        text-align: right;\n    }\n</style>\n<table border=\"1\" class=\"dataframe\">\n  <thead>\n    <tr style=\"text-align: right;\">\n      <th></th>\n      <th>text</th>\n      <th>lemma</th>\n    </tr>\n  </thead>\n  <tbody>\n    <tr>\n      <th>0</th>\n      <td>Nyandex</td>\n      <td>nyandex</td>\n    </tr>\n    <tr>\n      <th>1</th>\n      <td>-</td>\n      <td>-</td>\n    </tr>\n    <tr>\n      <th>2</th>\n      <td>\u043e\u0442\u043b\u0438\u0447\u043d\u0430\u044f</td>\n      <td>\u043e\u0442\u043b\u0438\u0447\u043d\u044b\u0439</td>\n    </tr>\n    <tr>\n      <th>3</th>\n      <td>\u043a\u043e\u043c\u043f\u0430\u043d\u0438\u044f</td>\n      <td>\u043a\u043e\u043c\u043f\u0430\u043d\u0438\u044f</td>\n    </tr>\n    <tr>\n      <th>4</th>\n      <td>,</td>\n      <td>,</td>\n    </tr>\n    <tr>\n      <th>5</th>\n      <td>\u0432\u0435\u0434\u044c</td>\n      <td>\u0432\u0435\u0434\u044c</td>\n    </tr>\n    <tr>\n      <th>6</th>\n      <td>\u0432</td>\n      <td>\u0432</td>\n    </tr>\n    <tr>\n      <th>7</th>\n      <td>\u043d\u0435\u0439</td>\n      <td>\u043d\u0435\u0439</td>\n    </tr>\n    <tr>\n      <th>8</th>\n      <td>(</td>\n      <td>(</td>\n    </tr>\n    <tr>\n      <th>9</th>\n      <td>\u043d\u0435</td>\n      <td>\u043d\u0435</td>\n    </tr>\n    <tr>\n      <th>10</th>\n      <td>)</td>\n      <td>)</td>\n    </tr>\n    <tr>\n      <th>11</th>\n      <td>\u0440\u0430\u0431\u043e\u0442\u0430\u044e\u0442</td>\n      <td>\u0440\u0430\u0431\u043e\u0442\u0430\u0442\u044c</td>\n    </tr>\n    <tr>\n      <th>12</th>\n      <td>\u0442\u0430\u043a\u0438\u0435</td>\n      <td>\u0442\u0430\u043a\u043e\u0439</td>\n    </tr>\n    <tr>\n      <th>13</th>\n      <td>\u043b\u044e\u0434\u0438</td>\n      <td>\u0447\u0435\u043b\u043e\u0432\u0435\u043a</td>\n    </tr>\n    <tr>\n      <th>14</th>\n      <td>\u043a\u0430\u043a</td>\n      <td>\u043a\u0430\u043a</td>\n    </tr>\n    <tr>\n      <th>15</th>\n      <td>\u041f\u0432\u0438\u043d\u043a\u043e\u0432\u0438\u0447</td>\n      <td>\u043f\u0432\u0438\u043d\u043a\u043e\u0432\u0438\u0447</td>\n    </tr>\n  </tbody>\n</table>\n</div>",
                        "text/plain": "         text      lemma\n0     Nyandex    nyandex\n1           -          -\n2    \u043e\u0442\u043b\u0438\u0447\u043d\u0430\u044f   \u043e\u0442\u043b\u0438\u0447\u043d\u044b\u0439\n3    \u043a\u043e\u043c\u043f\u0430\u043d\u0438\u044f   \u043a\u043e\u043c\u043f\u0430\u043d\u0438\u044f\n4           ,          ,\n5        \u0432\u0435\u0434\u044c       \u0432\u0435\u0434\u044c\n6           \u0432          \u0432\n7         \u043d\u0435\u0439        \u043d\u0435\u0439\n8           (          (\n9          \u043d\u0435         \u043d\u0435\n10          )          )\n11   \u0440\u0430\u0431\u043e\u0442\u0430\u044e\u0442   \u0440\u0430\u0431\u043e\u0442\u0430\u0442\u044c\n12      \u0442\u0430\u043a\u0438\u0435      \u0442\u0430\u043a\u043e\u0439\n13       \u043b\u044e\u0434\u0438    \u0447\u0435\u043b\u043e\u0432\u0435\u043a\n14        \u043a\u0430\u043a        \u043a\u0430\u043a\n15  \u041f\u0432\u0438\u043d\u043a\u043e\u0432\u0438\u0447  \u043f\u0432\u0438\u043d\u043a\u043e\u0432\u0438\u0447"
                    },
                    "execution_count": 54,
                    "metadata": {},
                    "output_type": "execute_result"
                }
            ],
            "source": "# You may need reduce or other method for larger texts because it can get slow:\n# for each column we iterate over all dataset.\ntoken_lemma_column = [token.lemma_ for token in spacy_text]\n\npd.DataFrame(\n    data={\n        \"text\": token_text_column,\n        \"lemma\": token_lemma_column,\n    }\n)"
        },
        {
            "cell_type": "markdown",
            "id": "a37b0b5d",
            "metadata": {},
            "source": "### 4. \u0412\u044b\u0434\u0435\u043b\u0435\u043d\u0438\u0435 (\u0440\u0430\u0441\u043f\u043e\u0437\u043d\u0430\u0432\u0430\u043d\u0438\u0435) \u0438\u043c\u0435\u043d\u043e\u0432\u0430\u043d\u043d\u044b\u0445 \u0441\u0443\u0449\u043d\u043e\u0441\u0442\u0435\u0439"
        },
        {
            "cell_type": "code",
            "execution_count": 55,
            "id": "0c30ceb1",
            "metadata": {
                "trusted": true
            },
            "outputs": [
                {
                    "data": {
                        "text/html": "<span class=\"tex2jax_ignore\"><div class=\"entities\" style=\"line-height: 2.5; direction: ltr\">\n<mark class=\"entity\" style=\"background: #7aecec; padding: 0.45em 0.6em; margin: 0 0.25em; line-height: 1; border-radius: 0.35em;\">\n    Nyandex - \u043e\u0442\u043b\u0438\u0447\u043d\u0430\u044f \u043a\u043e\u043c\u043f\u0430\u043d\u0438\u044f\n    <span style=\"font-size: 0.8em; font-weight: bold; line-height: 1; border-radius: 0.35em; vertical-align: middle; margin-left: 0.5rem\">ORG</span>\n</mark>\n, \u0432\u0435\u0434\u044c \u0432 \u043d\u0435\u0439 (\u043d\u0435) \u0440\u0430\u0431\u043e\u0442\u0430\u044e\u0442 \u0442\u0430\u043a\u0438\u0435 \u043b\u044e\u0434\u0438 \u043a\u0430\u043a \n<mark class=\"entity\" style=\"background: #ddd; padding: 0.45em 0.6em; margin: 0 0.25em; line-height: 1; border-radius: 0.35em;\">\n    \u041f\u0432\u0438\u043d\u043a\u043e\u0432\u0438\u0447\n    <span style=\"font-size: 0.8em; font-weight: bold; line-height: 1; border-radius: 0.35em; vertical-align: middle; margin-left: 0.5rem\">PER</span>\n</mark>\n</div></span>",
                        "text/plain": "<IPython.core.display.HTML object>"
                    },
                    "metadata": {},
                    "output_type": "display_data"
                }
            ],
            "source": "from spacy import displacy\n\ndisplacy.render(spacy_text, style=\"ent\", jupyter=IS_JUPYTER)"
        },
        {
            "cell_type": "code",
            "execution_count": 56,
            "id": "e9f417ef",
            "metadata": {
                "trusted": true
            },
            "outputs": [
                {
                    "data": {
                        "text/html": "<div>\n<style scoped>\n    .dataframe tbody tr th:only-of-type {\n        vertical-align: middle;\n    }\n\n    .dataframe tbody tr th {\n        vertical-align: top;\n    }\n\n    .dataframe thead th {\n        text-align: right;\n    }\n</style>\n<table border=\"1\" class=\"dataframe\">\n  <thead>\n    <tr style=\"text-align: right;\">\n      <th></th>\n      <th>entity</th>\n      <th>label</th>\n      <th>explanation</th>\n    </tr>\n  </thead>\n  <tbody>\n    <tr>\n      <th>0</th>\n      <td>Nyandex - \u043e\u0442\u043b\u0438\u0447\u043d\u0430\u044f \u043a\u043e\u043c\u043f\u0430\u043d\u0438\u044f</td>\n      <td>ORG</td>\n      <td>Companies, agencies, institutions, etc.</td>\n    </tr>\n    <tr>\n      <th>1</th>\n      <td>\u041f\u0432\u0438\u043d\u043a\u043e\u0432\u0438\u0447</td>\n      <td>PER</td>\n      <td>Named person or family.</td>\n    </tr>\n  </tbody>\n</table>\n</div>",
                        "text/plain": "                        entity label                              explanation\n0  Nyandex - \u043e\u0442\u043b\u0438\u0447\u043d\u0430\u044f \u043a\u043e\u043c\u043f\u0430\u043d\u0438\u044f   ORG  Companies, agencies, institutions, etc.\n1                    \u041f\u0432\u0438\u043d\u043a\u043e\u0432\u0438\u0447   PER                  Named person or family."
                    },
                    "execution_count": 56,
                    "metadata": {},
                    "output_type": "execute_result"
                }
            ],
            "source": "entity_text_column = [entity.text for entity in spacy_text.ents]\nentity_label_column = [entity.label_ for entity in spacy_text.ents]\nentity_explanation_column = [spacy.explain(entity) for entity in entity_label_column]\n\npd.DataFrame(\n    data={\n        \"entity\": entity_text_column,\n        \"label\": entity_label_column,\n        \"explanation\": entity_explanation_column,\n    }\n)"
        },
        {
            "cell_type": "markdown",
            "id": "dd91bb17",
            "metadata": {},
            "source": "### 5. \u0420\u0430\u0437\u0431\u043e\u0440 \u043f\u0440\u0435\u0434\u043b\u043e\u0436\u0435\u043d\u0438\u044f"
        },
        {
            "cell_type": "code",
            "execution_count": 57,
            "id": "5f39a7e4",
            "metadata": {
                "trusted": true
            },
            "outputs": [
                {
                    "data": {
                        "text/html": "<span class=\"tex2jax_ignore\"><svg xmlns=\"http://www.w3.org/2000/svg\" xmlns:xlink=\"http://www.w3.org/1999/xlink\" xml:lang=\"ru\" id=\"7140cd7993b049779c8b0936d7aaa96d-0\" class=\"displacy\" width=\"2150\" height=\"487.0\" direction=\"ltr\" style=\"max-width: none; height: 487.0px; color: #000000; background: #ffffff; font-family: Arial; direction: ltr\">\n<text class=\"displacy-token\" fill=\"currentColor\" text-anchor=\"middle\" y=\"397.0\">\n    <tspan class=\"displacy-word\" fill=\"currentColor\" x=\"50\">Nyandex -</tspan>\n    <tspan class=\"displacy-tag\" dy=\"2em\" fill=\"currentColor\" x=\"50\">PROPN</tspan>\n</text>\n\n<text class=\"displacy-token\" fill=\"currentColor\" text-anchor=\"middle\" y=\"397.0\">\n    <tspan class=\"displacy-word\" fill=\"currentColor\" x=\"225\">\u043e\u0442\u043b\u0438\u0447\u043d\u0430\u044f</tspan>\n    <tspan class=\"displacy-tag\" dy=\"2em\" fill=\"currentColor\" x=\"225\">ADJ</tspan>\n</text>\n\n<text class=\"displacy-token\" fill=\"currentColor\" text-anchor=\"middle\" y=\"397.0\">\n    <tspan class=\"displacy-word\" fill=\"currentColor\" x=\"400\">\u043a\u043e\u043c\u043f\u0430\u043d\u0438\u044f,</tspan>\n    <tspan class=\"displacy-tag\" dy=\"2em\" fill=\"currentColor\" x=\"400\">NOUN</tspan>\n</text>\n\n<text class=\"displacy-token\" fill=\"currentColor\" text-anchor=\"middle\" y=\"397.0\">\n    <tspan class=\"displacy-word\" fill=\"currentColor\" x=\"575\">\u0432\u0435\u0434\u044c</tspan>\n    <tspan class=\"displacy-tag\" dy=\"2em\" fill=\"currentColor\" x=\"575\">SCONJ</tspan>\n</text>\n\n<text class=\"displacy-token\" fill=\"currentColor\" text-anchor=\"middle\" y=\"397.0\">\n    <tspan class=\"displacy-word\" fill=\"currentColor\" x=\"750\">\u0432</tspan>\n    <tspan class=\"displacy-tag\" dy=\"2em\" fill=\"currentColor\" x=\"750\">ADP</tspan>\n</text>\n\n<text class=\"displacy-token\" fill=\"currentColor\" text-anchor=\"middle\" y=\"397.0\">\n    <tspan class=\"displacy-word\" fill=\"currentColor\" x=\"925\">\u043d\u0435\u0439 (</tspan>\n    <tspan class=\"displacy-tag\" dy=\"2em\" fill=\"currentColor\" x=\"925\">PRON</tspan>\n</text>\n\n<text class=\"displacy-token\" fill=\"currentColor\" text-anchor=\"middle\" y=\"397.0\">\n    <tspan class=\"displacy-word\" fill=\"currentColor\" x=\"1100\">\u043d\u0435)</tspan>\n    <tspan class=\"displacy-tag\" dy=\"2em\" fill=\"currentColor\" x=\"1100\">PART</tspan>\n</text>\n\n<text class=\"displacy-token\" fill=\"currentColor\" text-anchor=\"middle\" y=\"397.0\">\n    <tspan class=\"displacy-word\" fill=\"currentColor\" x=\"1275\">\u0440\u0430\u0431\u043e\u0442\u0430\u044e\u0442</tspan>\n    <tspan class=\"displacy-tag\" dy=\"2em\" fill=\"currentColor\" x=\"1275\">VERB</tspan>\n</text>\n\n<text class=\"displacy-token\" fill=\"currentColor\" text-anchor=\"middle\" y=\"397.0\">\n    <tspan class=\"displacy-word\" fill=\"currentColor\" x=\"1450\">\u0442\u0430\u043a\u0438\u0435</tspan>\n    <tspan class=\"displacy-tag\" dy=\"2em\" fill=\"currentColor\" x=\"1450\">DET</tspan>\n</text>\n\n<text class=\"displacy-token\" fill=\"currentColor\" text-anchor=\"middle\" y=\"397.0\">\n    <tspan class=\"displacy-word\" fill=\"currentColor\" x=\"1625\">\u043b\u044e\u0434\u0438</tspan>\n    <tspan class=\"displacy-tag\" dy=\"2em\" fill=\"currentColor\" x=\"1625\">NOUN</tspan>\n</text>\n\n<text class=\"displacy-token\" fill=\"currentColor\" text-anchor=\"middle\" y=\"397.0\">\n    <tspan class=\"displacy-word\" fill=\"currentColor\" x=\"1800\">\u043a\u0430\u043a</tspan>\n    <tspan class=\"displacy-tag\" dy=\"2em\" fill=\"currentColor\" x=\"1800\">SCONJ</tspan>\n</text>\n\n<text class=\"displacy-token\" fill=\"currentColor\" text-anchor=\"middle\" y=\"397.0\">\n    <tspan class=\"displacy-word\" fill=\"currentColor\" x=\"1975\">\u041f\u0432\u0438\u043d\u043a\u043e\u0432\u0438\u0447</tspan>\n    <tspan class=\"displacy-tag\" dy=\"2em\" fill=\"currentColor\" x=\"1975\">PROPN</tspan>\n</text>\n\n<g class=\"displacy-arrow\">\n    <path class=\"displacy-arc\" id=\"arrow-7140cd7993b049779c8b0936d7aaa96d-0-0\" stroke-width=\"2px\" d=\"M70,352.0 C70,177.0 390.0,177.0 390.0,352.0\" fill=\"none\" stroke=\"currentColor\"/>\n    <text dy=\"1.25em\" style=\"font-size: 0.8em; letter-spacing: 1px\">\n        <textPath xlink:href=\"#arrow-7140cd7993b049779c8b0936d7aaa96d-0-0\" class=\"displacy-label\" startOffset=\"50%\" side=\"left\" fill=\"currentColor\" text-anchor=\"middle\">nsubj</textPath>\n    </text>\n    <path class=\"displacy-arrowhead\" d=\"M70,354.0 L62,342.0 78,342.0\" fill=\"currentColor\"/>\n</g>\n\n<g class=\"displacy-arrow\">\n    <path class=\"displacy-arc\" id=\"arrow-7140cd7993b049779c8b0936d7aaa96d-0-1\" stroke-width=\"2px\" d=\"M245,352.0 C245,264.5 385.0,264.5 385.0,352.0\" fill=\"none\" stroke=\"currentColor\"/>\n    <text dy=\"1.25em\" style=\"font-size: 0.8em; letter-spacing: 1px\">\n        <textPath xlink:href=\"#arrow-7140cd7993b049779c8b0936d7aaa96d-0-1\" class=\"displacy-label\" startOffset=\"50%\" side=\"left\" fill=\"currentColor\" text-anchor=\"middle\">amod</textPath>\n    </text>\n    <path class=\"displacy-arrowhead\" d=\"M245,354.0 L237,342.0 253,342.0\" fill=\"currentColor\"/>\n</g>\n\n<g class=\"displacy-arrow\">\n    <path class=\"displacy-arc\" id=\"arrow-7140cd7993b049779c8b0936d7aaa96d-0-2\" stroke-width=\"2px\" d=\"M595,352.0 C595,89.5 1270.0,89.5 1270.0,352.0\" fill=\"none\" stroke=\"currentColor\"/>\n    <text dy=\"1.25em\" style=\"font-size: 0.8em; letter-spacing: 1px\">\n        <textPath xlink:href=\"#arrow-7140cd7993b049779c8b0936d7aaa96d-0-2\" class=\"displacy-label\" startOffset=\"50%\" side=\"left\" fill=\"currentColor\" text-anchor=\"middle\">mark</textPath>\n    </text>\n    <path class=\"displacy-arrowhead\" d=\"M595,354.0 L587,342.0 603,342.0\" fill=\"currentColor\"/>\n</g>\n\n<g class=\"displacy-arrow\">\n    <path class=\"displacy-arc\" id=\"arrow-7140cd7993b049779c8b0936d7aaa96d-0-3\" stroke-width=\"2px\" d=\"M770,352.0 C770,264.5 910.0,264.5 910.0,352.0\" fill=\"none\" stroke=\"currentColor\"/>\n    <text dy=\"1.25em\" style=\"font-size: 0.8em; letter-spacing: 1px\">\n        <textPath xlink:href=\"#arrow-7140cd7993b049779c8b0936d7aaa96d-0-3\" class=\"displacy-label\" startOffset=\"50%\" side=\"left\" fill=\"currentColor\" text-anchor=\"middle\">case</textPath>\n    </text>\n    <path class=\"displacy-arrowhead\" d=\"M770,354.0 L762,342.0 778,342.0\" fill=\"currentColor\"/>\n</g>\n\n<g class=\"displacy-arrow\">\n    <path class=\"displacy-arc\" id=\"arrow-7140cd7993b049779c8b0936d7aaa96d-0-4\" stroke-width=\"2px\" d=\"M945,352.0 C945,177.0 1265.0,177.0 1265.0,352.0\" fill=\"none\" stroke=\"currentColor\"/>\n    <text dy=\"1.25em\" style=\"font-size: 0.8em; letter-spacing: 1px\">\n        <textPath xlink:href=\"#arrow-7140cd7993b049779c8b0936d7aaa96d-0-4\" class=\"displacy-label\" startOffset=\"50%\" side=\"left\" fill=\"currentColor\" text-anchor=\"middle\">obl</textPath>\n    </text>\n    <path class=\"displacy-arrowhead\" d=\"M945,354.0 L937,342.0 953,342.0\" fill=\"currentColor\"/>\n</g>\n\n<g class=\"displacy-arrow\">\n    <path class=\"displacy-arc\" id=\"arrow-7140cd7993b049779c8b0936d7aaa96d-0-5\" stroke-width=\"2px\" d=\"M1120,352.0 C1120,264.5 1260.0,264.5 1260.0,352.0\" fill=\"none\" stroke=\"currentColor\"/>\n    <text dy=\"1.25em\" style=\"font-size: 0.8em; letter-spacing: 1px\">\n        <textPath xlink:href=\"#arrow-7140cd7993b049779c8b0936d7aaa96d-0-5\" class=\"displacy-label\" startOffset=\"50%\" side=\"left\" fill=\"currentColor\" text-anchor=\"middle\">advmod</textPath>\n    </text>\n    <path class=\"displacy-arrowhead\" d=\"M1120,354.0 L1112,342.0 1128,342.0\" fill=\"currentColor\"/>\n</g>\n\n<g class=\"displacy-arrow\">\n    <path class=\"displacy-arc\" id=\"arrow-7140cd7993b049779c8b0936d7aaa96d-0-6\" stroke-width=\"2px\" d=\"M420,352.0 C420,2.0 1275.0,2.0 1275.0,352.0\" fill=\"none\" stroke=\"currentColor\"/>\n    <text dy=\"1.25em\" style=\"font-size: 0.8em; letter-spacing: 1px\">\n        <textPath xlink:href=\"#arrow-7140cd7993b049779c8b0936d7aaa96d-0-6\" class=\"displacy-label\" startOffset=\"50%\" side=\"left\" fill=\"currentColor\" text-anchor=\"middle\">acl</textPath>\n    </text>\n    <path class=\"displacy-arrowhead\" d=\"M1275.0,354.0 L1283.0,342.0 1267.0,342.0\" fill=\"currentColor\"/>\n</g>\n\n<g class=\"displacy-arrow\">\n    <path class=\"displacy-arc\" id=\"arrow-7140cd7993b049779c8b0936d7aaa96d-0-7\" stroke-width=\"2px\" d=\"M1470,352.0 C1470,264.5 1610.0,264.5 1610.0,352.0\" fill=\"none\" stroke=\"currentColor\"/>\n    <text dy=\"1.25em\" style=\"font-size: 0.8em; letter-spacing: 1px\">\n        <textPath xlink:href=\"#arrow-7140cd7993b049779c8b0936d7aaa96d-0-7\" class=\"displacy-label\" startOffset=\"50%\" side=\"left\" fill=\"currentColor\" text-anchor=\"middle\">det</textPath>\n    </text>\n    <path class=\"displacy-arrowhead\" d=\"M1470,354.0 L1462,342.0 1478,342.0\" fill=\"currentColor\"/>\n</g>\n\n<g class=\"displacy-arrow\">\n    <path class=\"displacy-arc\" id=\"arrow-7140cd7993b049779c8b0936d7aaa96d-0-8\" stroke-width=\"2px\" d=\"M1295,352.0 C1295,177.0 1615.0,177.0 1615.0,352.0\" fill=\"none\" stroke=\"currentColor\"/>\n    <text dy=\"1.25em\" style=\"font-size: 0.8em; letter-spacing: 1px\">\n        <textPath xlink:href=\"#arrow-7140cd7993b049779c8b0936d7aaa96d-0-8\" class=\"displacy-label\" startOffset=\"50%\" side=\"left\" fill=\"currentColor\" text-anchor=\"middle\">nsubj</textPath>\n    </text>\n    <path class=\"displacy-arrowhead\" d=\"M1615.0,354.0 L1623.0,342.0 1607.0,342.0\" fill=\"currentColor\"/>\n</g>\n\n<g class=\"displacy-arrow\">\n    <path class=\"displacy-arc\" id=\"arrow-7140cd7993b049779c8b0936d7aaa96d-0-9\" stroke-width=\"2px\" d=\"M1820,352.0 C1820,264.5 1960.0,264.5 1960.0,352.0\" fill=\"none\" stroke=\"currentColor\"/>\n    <text dy=\"1.25em\" style=\"font-size: 0.8em; letter-spacing: 1px\">\n        <textPath xlink:href=\"#arrow-7140cd7993b049779c8b0936d7aaa96d-0-9\" class=\"displacy-label\" startOffset=\"50%\" side=\"left\" fill=\"currentColor\" text-anchor=\"middle\">case</textPath>\n    </text>\n    <path class=\"displacy-arrowhead\" d=\"M1820,354.0 L1812,342.0 1828,342.0\" fill=\"currentColor\"/>\n</g>\n\n<g class=\"displacy-arrow\">\n    <path class=\"displacy-arc\" id=\"arrow-7140cd7993b049779c8b0936d7aaa96d-0-10\" stroke-width=\"2px\" d=\"M1295,352.0 C1295,89.5 1970.0,89.5 1970.0,352.0\" fill=\"none\" stroke=\"currentColor\"/>\n    <text dy=\"1.25em\" style=\"font-size: 0.8em; letter-spacing: 1px\">\n        <textPath xlink:href=\"#arrow-7140cd7993b049779c8b0936d7aaa96d-0-10\" class=\"displacy-label\" startOffset=\"50%\" side=\"left\" fill=\"currentColor\" text-anchor=\"middle\">obl</textPath>\n    </text>\n    <path class=\"displacy-arrowhead\" d=\"M1970.0,354.0 L1978.0,342.0 1962.0,342.0\" fill=\"currentColor\"/>\n</g>\n</svg></span>",
                        "text/plain": "<IPython.core.display.HTML object>"
                    },
                    "metadata": {},
                    "output_type": "display_data"
                }
            ],
            "source": "from spacy import displacy\n\ndisplacy.render(spacy_text, style=\"dep\", jupyter=IS_JUPYTER)"
        },
        {
            "cell_type": "markdown",
            "id": "eb115c3c",
            "metadata": {},
            "source": "## \u0412\u044b\u0432\u043e\u0434\n\u0411\u0438\u0431\u043b\u0438\u043e\u0442\u0435\u043a\u0430 `spacy` \u043e\u0442\u043b\u0438\u0447\u043d\u043e \u0441\u043f\u0440\u0430\u0432\u043b\u044f\u0435\u0442\u0441\u044f \u0441 \u0437\u0430\u0434\u0430\u0447\u0430\u043c\u0438 \u043f\u0440\u0435\u043e\u0431\u0440\u0430\u0431\u043e\u0442\u043a\u0438 \u0438 \u0430\u043d\u0430\u043b\u0438\u0437\u0430 \u0442\u0435\u043a\u0441\u0442\u043e\u0432.\n\u0421 \u043f\u043e\u043c\u043e\u0449\u044c\u044e \u043d\u0435\u0451 \u043c\u044b \u043c\u043e\u0436\u0435\u043c \u0442\u043e\u043a\u0435\u043d\u0438\u0437\u0438\u0440\u043e\u0432\u0430\u0442\u044c \u0442\u0435\u043a\u0441\u0442, \u043e\u043f\u0440\u0435\u0434\u0435\u043b\u0438\u0442\u044c \u043b\u0435\u043c\u043c\u044b, \u0432\u044b\u0434\u0435\u043b\u0438\u0442\u044c \u0438\u043c\u0435\u043d\u043e\u0432\u0430\u043d\u043d\u044b\u0435 \u0441\u0443\u0449\u043d\u043e\u0441\u0442\u0438\n\u0438 \u0434\u0430\u0436\u0435 \u0440\u0430\u0437\u043e\u0431\u0440\u0430\u0442\u044c \u043f\u0440\u0435\u0434\u043b\u043e\u0436\u0435\u043d\u0438\u0435."
        }
    ],
    "metadata": {
        "kernelspec": {
            "display_name": "Python 3 (ipykernel)",
            "language": "python",
            "name": "python3"
        },
        "language_info": {
            "codemirror_mode": {
                "name": "ipython",
                "version": 3
            },
            "file_extension": ".py",
            "mimetype": "text/x-python",
            "name": "python",
            "nbconvert_exporter": "python",
            "pygments_lexer": "ipython3",
            "version": "3.12.3"
        }
    },
    "nbformat": 4,
    "nbformat_minor": 5
}