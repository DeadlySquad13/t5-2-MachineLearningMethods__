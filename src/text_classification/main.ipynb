{
    "cells": [
        {
            "cell_type": "markdown",
            "id": "714040f5",
            "metadata": {},
            "source": "# \u041b\u0430\u0431\u043e\u0440\u0430\u0442\u043e\u0440\u043d\u0430\u044f \u0440\u0430\u0431\u043e\u0442\u0430 \u043f\u043e \u0442\u0435\u043c\u0435 \"\u041a\u043b\u0430\u0441\u0441\u0438\u0444\u0438\u043a\u0430\u0446\u0438\u044f \u0442\u0435\u043a\u0441\u0442\u0430\"\n\u0412\u044b\u043f\u043e\u043b\u043d\u0438\u043b: \u041f\u0430\u043a\u0430\u043b\u043e \u0410\u043b\u0435\u043a\u0441\u0430\u043d\u0434\u0440 \u0421\u0435\u0440\u0433\u0435\u0435\u0432\u0438\u0447 \u0418\u04235-22\u041c\n\n## \u0417\u0430\u0434\u0430\u043d\u0438\u0435\n\u0414\u043b\u044f \u043f\u0440\u043e\u0438\u0437\u0432\u043e\u043b\u044c\u043d\u043e\u0433\u043e \u043d\u0430\u0431\u043e\u0440\u0430 \u0434\u0430\u043d\u043d\u044b\u0445, \u043f\u0440\u0435\u0434\u043d\u0430\u0437\u043d\u0430\u0447\u0435\u043d\u043d\u043e\u0433\u043e \u0434\u043b\u044f \u043a\u043b\u0430\u0441\u0441\u0438\u0444\u0438\u043a\u0430\u0446\u0438\u0438 \u0442\u0435\u043a\u0441\u0442\u043e\u0432, \u0440\u0435\u0448\u0438\u0442\u0435 \u0437\u0430\u0434\u0430\u0447\u0443 \u043a\u043b\u0430\u0441\u0441\u0438\u0444\u0438\u043a\u0430\u0446\u0438\u0438 \u0442\u0435\u043a\u0441\u0442\u0430 \u0434\u0432\u0443\u043c\u044f \u0441\u043f\u043e\u0441\u043e\u0431\u0430\u043c\u0438:\n\n- \u0421\u043f\u043e\u0441\u043e\u0431 1. \u041d\u0430 \u043e\u0441\u043d\u043e\u0432\u0435 CountVectorizer \u0438\u043b\u0438 **TfidfVectorizer**.\n- \u0421\u043f\u043e\u0441\u043e\u0431 2. \u041d\u0430 \u043e\u0441\u043d\u043e\u0432\u0435 \u043c\u043e\u0434\u0435\u043b\u0435\u0439 **word2vec** \u0438\u043b\u0438 Glove \u0438\u043b\u0438 fastText.\n\n\u0421\u0440\u0430\u0432\u043d\u0438\u0442\u0435 \u043a\u0430\u0447\u0435\u0441\u0442\u0432\u043e \u043f\u043e\u043b\u0443\u0447\u0435\u043d\u043d\u044b\u0445 \u043c\u043e\u0434\u0435\u043b\u0435\u0439.\n\u0414\u043b\u044f \u043f\u043e\u0438\u0441\u043a\u0430 \u043d\u0430\u0431\u043e\u0440\u043e\u0432 \u0434\u0430\u043d\u043d\u044b\u0445 \u0432 \u043f\u043e\u0438\u0441\u043a\u043e\u0432\u043e\u0439 \u0441\u0438\u0441\u0442\u0435\u043c\u0435 \u043c\u043e\u0436\u043d\u043e \u0438\u0441\u043f\u043e\u043b\u044c\u0437\u043e\u0432\u0430\u0442\u044c \u043a\u043b\u044e\u0447\u0435\u0432\u044b\u0435 \u0441\u043b\u043e\u0432\u0430 \"datasets for text classification\"."
        },
        {
            "cell_type": "code",
            "execution_count": 57,
            "id": "82cd1837",
            "metadata": {
                "trusted": true
            },
            "outputs": [],
            "source": "RANDOM_SEED = 13"
        },
        {
            "cell_type": "markdown",
            "id": "ff753073",
            "metadata": {},
            "source": "## \u041d\u0430\u0431\u043e\u0440 \u0434\u0430\u043d\u043d\u044b\u0445\n\u041f\u0440\u043e\u0432\u0435\u0434\u0451\u043c \u043a\u043b\u0430\u0441\u0441\u0438\u0444\u0438\u043a\u0430\u0446\u0438\u044e \u0442\u0435\u043a\u0441\u0442\u0430 \u0438\u0441\u043f\u043e\u043b\u044c\u0437\u0443\u044f \u043d\u0430\u0431\u043e\u0440 \u0434\u0430\u043d\u043d\u044b\u0445 [BBC News Archive](https://www.kaggle.com/datasets/hgultekin/bbcnewsarchive)"
        },
        {
            "cell_type": "markdown",
            "id": "b17d7ce9",
            "metadata": {},
            "source": "\u041f\u043e\u0434\u0433\u043e\u0442\u043e\u0432\u043a\u0430 \u043f\u0435\u0440\u0435\u043c\u0435\u043d\u043d\u044b\u0445 \u0434\u043b\u044f \u0440\u0430\u0431\u043e\u0442\u044b \u0441 \u0434\u0430\u043d\u043d\u044b\u043c\u0438"
        },
        {
            "cell_type": "code",
            "execution_count": 58,
            "id": "56f7b647",
            "metadata": {
                "trusted": true
            },
            "outputs": [],
            "source": "from pathlib import Path\n\ndata_path = Path(\"../../data\")\nexternal_data_path = data_path / \"external\"\nraw_data_path = data_path / \"raw\"\n\ndataset_filename = \"bbc-news-data.zip\""
        },
        {
            "cell_type": "markdown",
            "id": "0cb17855",
            "metadata": {},
            "source": "\u0420\u0430\u0437\u0430\u0440\u0445\u0438\u0432\u0438\u0440\u043e\u0432\u0430\u043d\u0438\u0435 \u043d\u0430\u0431\u043e\u0440\u0430 \u0434\u0430\u043d\u043d\u044b\u0445"
        },
        {
            "cell_type": "code",
            "execution_count": 59,
            "id": "49dc7a32",
            "metadata": {
                "trusted": true
            },
            "outputs": [],
            "source": "import os\nimport shutil\n\nraw_data_path.mkdir(exist_ok=True)\n\nfile_path = external_data_path / dataset_filename\nraw_data_path = external_data_path / dataset_filename\n\nif not os.path.isfile(raw_data_path):\n    shutil.unpack_archive(file_path, extract_dir=raw_data_path)\n    # file_path.unlink()  # Remove archive after extracting it."
        },
        {
            "cell_type": "markdown",
            "id": "25ddfbb9",
            "metadata": {},
            "source": "\u0417\u0430\u0433\u0440\u0443\u0437\u043a\u0430 \u0434\u0430\u043d\u043d\u044b\u0445 \u0438\u0437 csv"
        },
        {
            "cell_type": "code",
            "execution_count": 60,
            "id": "35de1ec6",
            "metadata": {
                "trusted": true
            },
            "outputs": [],
            "source": "import pandas as pd\n\ndf = pd.read_csv(raw_data_path, sep=\"\\t\")"
        },
        {
            "cell_type": "markdown",
            "id": "8ec0cbb0",
            "metadata": {},
            "source": "### \u0420\u0430\u0437\u0432\u0435\u0434\u043e\u0447\u043d\u044b\u0439 \u0430\u043d\u0430\u043b\u0438\u0437 \u0434\u0430\u043d\u043d\u044b\u0445\n\u041e\u0437\u043d\u0430\u043a\u043e\u043c\u0438\u043c\u0441\u044f \u043d\u0435\u043c\u043d\u043e\u0433\u043e \u0441 \u0434\u0430\u043d\u043d\u044b\u043c\u0438, \u0441 \u043a\u043e\u0442\u043e\u0440\u044b\u043c\u0438 \u0441\u043e\u0431\u0438\u0440\u0430\u0435\u043c\u0441\u044f \u0440\u0430\u0431\u043e\u0442\u0430\u0442\u044c"
        },
        {
            "cell_type": "markdown",
            "id": "fb8466cc",
            "metadata": {},
            "source": "\u041e\u0441\u043d\u043e\u0432\u043d\u044b\u0435 \u0445\u0430\u0440\u0430\u043a\u0442\u0435\u0440\u0438\u0441\u0442\u0438\u043a\u0438 \u0434\u0430\u0442\u0430\u0441\u0435\u0442\u0430"
        },
        {
            "cell_type": "code",
            "execution_count": 61,
            "id": "156e9d61",
            "metadata": {
                "trusted": true
            },
            "outputs": [
                {
                    "data": {
                        "text/html": "<div>\n<style scoped>\n    .dataframe tbody tr th:only-of-type {\n        vertical-align: middle;\n    }\n\n    .dataframe tbody tr th {\n        vertical-align: top;\n    }\n\n    .dataframe thead th {\n        text-align: right;\n    }\n</style>\n<table border=\"1\" class=\"dataframe\">\n  <thead>\n    <tr style=\"text-align: right;\">\n      <th></th>\n      <th>category</th>\n      <th>filename</th>\n      <th>title</th>\n      <th>content</th>\n    </tr>\n  </thead>\n  <tbody>\n    <tr>\n      <th>0</th>\n      <td>business</td>\n      <td>001.txt</td>\n      <td>Ad sales boost Time Warner profit</td>\n      <td>Quarterly profits at US media giant TimeWarne...</td>\n    </tr>\n    <tr>\n      <th>1</th>\n      <td>business</td>\n      <td>002.txt</td>\n      <td>Dollar gains on Greenspan speech</td>\n      <td>The dollar has hit its highest level against ...</td>\n    </tr>\n    <tr>\n      <th>2</th>\n      <td>business</td>\n      <td>003.txt</td>\n      <td>Yukos unit buyer faces loan claim</td>\n      <td>The owners of embattled Russian oil giant Yuk...</td>\n    </tr>\n    <tr>\n      <th>3</th>\n      <td>business</td>\n      <td>004.txt</td>\n      <td>High fuel prices hit BA's profits</td>\n      <td>British Airways has blamed high fuel prices f...</td>\n    </tr>\n    <tr>\n      <th>4</th>\n      <td>business</td>\n      <td>005.txt</td>\n      <td>Pernod takeover talk lifts Domecq</td>\n      <td>Shares in UK drinks and food firm Allied Dome...</td>\n    </tr>\n  </tbody>\n</table>\n</div>",
                        "text/plain": "   category filename                              title  \\\n0  business  001.txt  Ad sales boost Time Warner profit   \n1  business  002.txt   Dollar gains on Greenspan speech   \n2  business  003.txt  Yukos unit buyer faces loan claim   \n3  business  004.txt  High fuel prices hit BA's profits   \n4  business  005.txt  Pernod takeover talk lifts Domecq   \n\n                                             content  \n0   Quarterly profits at US media giant TimeWarne...  \n1   The dollar has hit its highest level against ...  \n2   The owners of embattled Russian oil giant Yuk...  \n3   British Airways has blamed high fuel prices f...  \n4   Shares in UK drinks and food firm Allied Dome...  "
                    },
                    "execution_count": 61,
                    "metadata": {},
                    "output_type": "execute_result"
                }
            ],
            "source": "df.head()"
        },
        {
            "cell_type": "code",
            "execution_count": 62,
            "id": "e8d7b742",
            "metadata": {
                "trusted": true
            },
            "outputs": [
                {
                    "data": {
                        "text/html": "<div>\n<style scoped>\n    .dataframe tbody tr th:only-of-type {\n        vertical-align: middle;\n    }\n\n    .dataframe tbody tr th {\n        vertical-align: top;\n    }\n\n    .dataframe thead th {\n        text-align: right;\n    }\n</style>\n<table border=\"1\" class=\"dataframe\">\n  <thead>\n    <tr style=\"text-align: right;\">\n      <th></th>\n      <th>category</th>\n      <th>filename</th>\n      <th>title</th>\n      <th>content</th>\n    </tr>\n  </thead>\n  <tbody>\n    <tr>\n      <th>2220</th>\n      <td>tech</td>\n      <td>397.txt</td>\n      <td>BT program to beat dialler scams</td>\n      <td>BT is introducing two initiatives to help bea...</td>\n    </tr>\n    <tr>\n      <th>2221</th>\n      <td>tech</td>\n      <td>398.txt</td>\n      <td>Spam e-mails tempt net shoppers</td>\n      <td>Computer users across the world continue to i...</td>\n    </tr>\n    <tr>\n      <th>2222</th>\n      <td>tech</td>\n      <td>399.txt</td>\n      <td>Be careful how you code</td>\n      <td>A new European directive could put software w...</td>\n    </tr>\n    <tr>\n      <th>2223</th>\n      <td>tech</td>\n      <td>400.txt</td>\n      <td>US cyber security chief resigns</td>\n      <td>The man making sure US computer networks are ...</td>\n    </tr>\n    <tr>\n      <th>2224</th>\n      <td>tech</td>\n      <td>401.txt</td>\n      <td>Losing yourself in online gaming</td>\n      <td>Online role playing games are time-consuming,...</td>\n    </tr>\n  </tbody>\n</table>\n</div>",
                        "text/plain": "     category filename                             title  \\\n2220     tech  397.txt  BT program to beat dialler scams   \n2221     tech  398.txt   Spam e-mails tempt net shoppers   \n2222     tech  399.txt           Be careful how you code   \n2223     tech  400.txt   US cyber security chief resigns   \n2224     tech  401.txt  Losing yourself in online gaming   \n\n                                                content  \n2220   BT is introducing two initiatives to help bea...  \n2221   Computer users across the world continue to i...  \n2222   A new European directive could put software w...  \n2223   The man making sure US computer networks are ...  \n2224   Online role playing games are time-consuming,...  "
                    },
                    "execution_count": 62,
                    "metadata": {},
                    "output_type": "execute_result"
                }
            ],
            "source": "df.tail()"
        },
        {
            "cell_type": "markdown",
            "id": "5f8cece1",
            "metadata": {},
            "source": "\u0420\u0430\u0437\u043c\u0435\u0440 \u0434\u0430\u0442\u0430\u0441\u0435\u0442\u0430"
        },
        {
            "cell_type": "code",
            "execution_count": 63,
            "id": "434cfdeb",
            "metadata": {
                "trusted": true
            },
            "outputs": [
                {
                    "name": "stdout",
                    "output_type": "stream",
                    "text": "\u0420\u0430\u0437\u043c\u0435\u0440 \u0434\u0430\u0442\u0430\u0441\u0435\u0442\u0430: 2225 \u0441\u0442\u0440\u043e\u043a, 4 \u043a\u043e\u043b\u043e\u043d\u043e\u043a\n"
                }
            ],
            "source": "num_of_rows, num_of_columns = df.shape\nprint(f'\u0420\u0430\u0437\u043c\u0435\u0440 \u0434\u0430\u0442\u0430\u0441\u0435\u0442\u0430: {num_of_rows} \u0441\u0442\u0440\u043e\u043a, {num_of_columns} \u043a\u043e\u043b\u043e\u043d\u043e\u043a')"
        },
        {
            "cell_type": "markdown",
            "id": "6517b8ae",
            "metadata": {},
            "source": "\u041e\u043f\u0440\u0435\u0434\u0435\u043b\u0435\u043d\u0438\u0435 \u0442\u0438\u043f\u043e\u0432"
        },
        {
            "cell_type": "code",
            "execution_count": 64,
            "id": "1a0e6990",
            "metadata": {
                "trusted": true
            },
            "outputs": [
                {
                    "data": {
                        "text/plain": "category    object\nfilename    object\ntitle       object\ncontent     object\ndtype: object"
                    },
                    "execution_count": 64,
                    "metadata": {},
                    "output_type": "execute_result"
                }
            ],
            "source": "df.dtypes"
        },
        {
            "cell_type": "markdown",
            "id": "f28d4b5b",
            "metadata": {},
            "source": "\u041f\u0440\u043e\u0432\u0435\u0440\u043a\u0430 \u043d\u0430 \u043d\u0430\u043b\u0438\u0447\u0438\u0435 \u043f\u0443\u0441\u0442\u044b\u0445 \u0437\u043d\u0430\u0447\u0435\u043d\u0438\u0439"
        },
        {
            "cell_type": "code",
            "execution_count": 65,
            "id": "e5a9daa9",
            "metadata": {
                "trusted": true
            },
            "outputs": [
                {
                    "data": {
                        "text/plain": "category    0\nfilename    0\ntitle       0\ncontent     0\ndtype: int64"
                    },
                    "execution_count": 65,
                    "metadata": {},
                    "output_type": "execute_result"
                }
            ],
            "source": "df.isnull().sum()"
        },
        {
            "cell_type": "markdown",
            "id": "8882e5c5",
            "metadata": {},
            "source": "\u041e\u0431\u0440\u0430\u0431\u043e\u0442\u043a\u0438 \u043f\u0443\u0441\u0442\u044b\u0445 \u0437\u043d\u0430\u0447\u0435\u043d\u0438\u0439 \u043d\u0435 \u0442\u0440\u0435\u0431\u0443\u0435\u0442\u0441\u044f"
        },
        {
            "cell_type": "markdown",
            "id": "e22c847d",
            "metadata": {},
            "source": "\u041f\u0440\u043e\u0432\u0435\u0440\u043a\u0430 \u043d\u0430 \u0443\u043d\u0438\u043a\u0430\u043b\u044c\u043d\u044b\u0435 \u0437\u043d\u0430\u0447\u0435\u043d\u0438\u044f"
        },
        {
            "cell_type": "code",
            "execution_count": 66,
            "id": "333d28c2",
            "metadata": {
                "trusted": true
            },
            "outputs": [
                {
                    "data": {
                        "text/plain": "0         business\n1    entertainment\n2         politics\n3            sport\n4             tech\ndtype: object"
                    },
                    "execution_count": 66,
                    "metadata": {},
                    "output_type": "execute_result"
                }
            ],
            "source": "pd.Series(df[\"category\"].unique())"
        },
        {
            "cell_type": "markdown",
            "id": "0c422a3e",
            "metadata": {},
            "source": "### \u041f\u043e\u0434\u0433\u043e\u0442\u043e\u0432\u043a\u0430 \u043a\u043e\u0440\u043f\u0443\u0441\u0430"
        },
        {
            "cell_type": "markdown",
            "id": "7bc03c22",
            "metadata": {},
            "source": "\u041d\u0435\u043a\u043e\u0442\u043e\u0440\u044b\u0435 \u043a\u043e\u043b\u043e\u043d\u043a\u0438 \u0438\u043c\u0435\u044e\u0442 \u043d\u0435\u0432\u0435\u0440\u043d\u044b\u0435 \u0442\u0438\u043f\u044b \u0434\u0430\u043d\u043d\u044b\u0445, \u0438\u0445 \u0441\u043b\u0435\u0434\u0443\u0435\u0442 \u043f\u0440\u0435\u043e\u0431\u0440\u0430\u0437\u043e\u0432\u0430\u0442\u044c.\n\n\u0421\u0442\u0440\u043e\u043a\u0438 \u0432\u043c\u0435\u0441\u0442\u043e `object` \u0441\u0434\u0435\u043b\u0430\u0435\u043c `string`, \u0430 \u043a\u043e\u043b\u043e\u043d\u043a\u0443 \"category\" \u0441\u0434\u0435\u043b\u0430\u0435\u043c\n\u0442\u0438\u043f\u0430 `category`."
        },
        {
            "cell_type": "code",
            "execution_count": 67,
            "id": "d590605a",
            "metadata": {
                "trusted": true
            },
            "outputs": [
                {
                    "data": {
                        "text/plain": "category          category\nfilename    string[python]\ntitle       string[python]\ncontent     string[python]\ndtype: object"
                    },
                    "execution_count": 67,
                    "metadata": {},
                    "output_type": "execute_result"
                }
            ],
            "source": "df = df.astype({\n    \"category\": \"category\",\n    \"filename\": \"string\",\n    \"title\": \"string\",\n    \"content\": \"string\",\n})\ndf.dtypes"
        },
        {
            "cell_type": "markdown",
            "id": "e1330326",
            "metadata": {},
            "source": "\u0422\u043e\u043a\u0435\u043d\u0438\u0437\u0430\u0446\u0438\u044f"
        },
        {
            "cell_type": "markdown",
            "id": "fe59466a",
            "metadata": {},
            "source": "\u0417\u0430\u0433\u0440\u0443\u0437\u043a\u0430 \u043c\u043e\u0434\u0435\u043b\u0438 spacy."
        },
        {
            "cell_type": "code",
            "execution_count": 68,
            "id": "6af8e04c",
            "metadata": {
                "trusted": true
            },
            "outputs": [],
            "source": "import spacy\n\nspacy_prefers_gpu = spacy.prefer_gpu()\nnlp = spacy.load(\"en_core_web_sm\")"
        },
        {
            "cell_type": "markdown",
            "id": "9d784d08",
            "metadata": {},
            "source": "\u0422\u043e\u043a\u0435\u043d\u0438\u0437\u0430\u0446\u0438\u044f \u0442\u0435\u043a\u0441\u0442\u043e\u0432\u044b\u0445 \u0437\u043d\u0430\u0447\u0435\u043d\u0438\u0439 \u043d\u0430\u0431\u043e\u0440\u0430 \u0434\u0430\u043d\u043d\u044b\u0445 (\u043a\u0440\u043e\u043c\u0435 \u043d\u0430\u0437\u0432\u0430\u043d\u0438\u044f \u0444\u0430\u0439\u043b\u0430)"
        },
        {
            "cell_type": "code",
            "execution_count": 69,
            "id": "838db2f7",
            "metadata": {
                "trusted": true
            },
            "outputs": [
                {
                    "data": {
                        "text/plain": "[Ad sales boost Time Warner profit Quarterly profits at US media giant TimeWarner jumped 76% to $1.13bn (\u00a3600m) for the three months to December, from $639m year-earlier.  The firm, which is now one of the biggest investors in Google, benefited from sales of high-speed internet connections and higher advert sales. TimeWarner said fourth quarter sales rose 2% to $11.1bn from $10.9bn. Its profits were buoyed by one-off gains which offset a profit dip at Warner Bros, and less users for AOL.  Time Warner said on Friday that it now owns 8% of search-engine Google. But its own internet business, AOL, had has mixed fortunes. It lost 464,000 subscribers in the fourth quarter profits were lower than in the preceding three quarters. However, the company said AOL's underlying profit before exceptional items rose 8% on the back of stronger internet advertising revenues. It hopes to increase subscribers by offering the online service free to TimeWarner internet customers and will try to sign up AOL's existing customers for high-speed broadband. TimeWarner also has to restate 2000 and 2003 results following a probe by the US Securities Exchange Commission (SEC), which is close to concluding.  Time Warner's fourth quarter profits were slightly better than analysts' expectations. But its film division saw profits slump 27% to $284m, helped by box-office flops Alexander and Catwoman, a sharp contrast to year-earlier, when the third and final film in the Lord of the Rings trilogy boosted results. For the full-year, TimeWarner posted a profit of $3.36bn, up 27% from its 2003 performance, while revenues grew 6.4% to $42.09bn. \"Our financial performance was strong, meeting or exceeding all of our full-year objectives and greatly enhancing our flexibility,\" chairman and chief executive Richard Parsons said. For 2005, TimeWarner is projecting operating earnings growth of around 5%, and also expects higher revenue and wider profit margins.  TimeWarner is to restate its accounts as part of efforts to resolve an inquiry into AOL by US market regulators. It has already offered to pay $300m to settle charges, in a deal that is under review by the SEC. The company said it was unable to estimate the amount it needed to set aside for legal reserves, which it previously set at $500m. It intends to adjust the way it accounts for a deal with German music publisher Bertelsmann's purchase of a stake in AOL Europe, which it had reported as advertising revenue. It will now book the sale of its stake in AOL Europe as a loss on the value of that stake. ,\n Dollar gains on Greenspan speech The dollar has hit its highest level against the euro in almost three months after the Federal Reserve head said the US trade deficit is set to stabilise.  And Alan Greenspan highlighted the US government's willingness to curb spending and rising household savings as factors which may help to reduce it. In late trading in New York, the dollar reached $1.2871 against the euro, from $1.2974 on Thursday. Market concerns about the deficit has hit the greenback in recent months. On Friday, Federal Reserve chairman Mr Greenspan's speech in London ahead of the meeting of G7 finance ministers sent the dollar higher after it had earlier tumbled on the back of worse-than-expected US jobs data. \"I think the chairman's taking a much more sanguine view on the current account deficit than he's taken for some time,\" said Robert Sinche, head of currency strategy at Bank of America in New York. \"He's taking a longer-term view, laying out a set of conditions under which the current account deficit can improve this year and next.\"  Worries about the deficit concerns about China do, however, remain. China's currency remains pegged to the dollar and the US currency's sharp falls in recent months have therefore made Chinese export prices highly competitive. But calls for a shift in Beijing's policy have fallen on deaf ears, despite recent comments in a major Chinese newspaper that the \"time is ripe\" for a loosening of the peg. The G7 meeting is thought unlikely to produce any meaningful movement in Chinese policy. In the meantime, the US Federal Reserve's decision on 2 February to boost interest rates by a quarter of a point - the sixth such move in as many months - has opened up a differential with European rates. The half-point window, some believe, could be enough to keep US assets looking more attractive, and could help prop up the dollar. The recent falls have partly been the result of big budget deficits, as well as the US's yawning current account gap, both of which need to be funded by the buying of US bonds and assets by foreign firms and governments. The White House will announce its budget on Monday, and many commentators believe the deficit will remain at close to half a trillion dollars. ,\n Yukos unit buyer faces loan claim The owners of embattled Russian oil giant Yukos are to ask the buyer of its former production unit to pay back a $900m (\u00a3479m) loan.  State-owned Rosneft bought the Yugansk unit for $9.3bn in a sale forced by Russia to part settle a $27.5bn tax claim against Yukos. Yukos' owner Menatep Group says it will ask Rosneft to repay a loan that Yugansk had secured on its assets. Rosneft already faces a similar $540m repayment demand from foreign banks. Legal experts said Rosneft's purchase of Yugansk would include such obligations. \"The pledged assets are with Rosneft, so it will have to pay real money to the creditors to avoid seizure of Yugansk assets,\" said Moscow-based US lawyer Jamie Firestone, who is not connected to the case. Menatep Group's managing director Tim Osborne told the Reuters news agency: \"If they default, we will fight them where the rule of law exists under the international arbitration clauses of the credit.\"  Rosneft officials were unavailable for comment. But the company has said it intends to take action against Menatep to recover some of the tax claims and debts owed by Yugansk. Yukos had filed for bankruptcy protection in a US court in an attempt to prevent the forced sale of its main production arm. The sale went ahead in December and Yugansk was sold to a little-known shell company which in turn was bought by Rosneft. Yukos claims its downfall was punishment for the political ambitions of its founder Mikhail Khodorkovsky and has vowed to sue any participant in the sale. ]"
                    },
                    "execution_count": 69,
                    "metadata": {},
                    "output_type": "execute_result"
                }
            ],
            "source": "from spacy.tokens.doc import Doc\n\ncorpus: list[Doc] = []\n\nfor text in (df[\"title\"] + df[\"content\"]).values:\n    corpus.append(nlp(text))\n\ncorpus[:3]"
        },
        {
            "cell_type": "code",
            "execution_count": 70,
            "id": "431b40a4",
            "metadata": {
                "trusted": true
            },
            "outputs": [],
            "source": "assert len(corpus) == num_of_rows"
        },
        {
            "cell_type": "markdown",
            "id": "a828086a",
            "metadata": {},
            "source": "\u0417\u0430\u043c\u0435\u0442\u0438\u043c, \u0447\u0442\u043e spacy \u043f\u0440\u0438 \u043f\u0435\u0447\u0430\u0442\u0438 \u0438 \u0432\u044b\u0432\u043e\u0434\u0438\u0442 \u0442\u0435\u043a\u0441\u0442, \u043d\u0430 \u0441\u0430\u043c\u043e\u043c \u0434\u0435\u043b\u0435 \u044d\u0442\u043e \u043e\u0431\u044a\u0435\u043a\u0442.\nWord2Vec \u043e\u0436\u0438\u0434\u0430\u0435\u0442 \u0443\u0432\u0438\u0434\u0435\u0442\u044c \u0441\u0442\u0440\u043e\u043a\u0438 \u043b\u0438\u0431\u043e \u0441\u043f\u0438\u0441\u043a\u0438."
        },
        {
            "cell_type": "code",
            "execution_count": 71,
            "id": "f0304319",
            "metadata": {
                "trusted": true
            },
            "outputs": [
                {
                    "data": {
                        "text/plain": "(training: nlp!, spacy.tokens.doc.Doc, spacy.tokens.token.Token)"
                    },
                    "execution_count": 71,
                    "metadata": {},
                    "output_type": "execute_result"
                }
            ],
            "source": "spacy_text = nlp('training: nlp!')\nspacy_text, type(spacy_text), type(spacy_text[0])"
        },
        {
            "cell_type": "code",
            "execution_count": 72,
            "id": "a02e499e",
            "metadata": {
                "trusted": true
            },
            "outputs": [
                {
                    "data": {
                        "text/plain": "['training', ':', 'nlp', '!']"
                    },
                    "execution_count": 72,
                    "metadata": {},
                    "output_type": "execute_result"
                }
            ],
            "source": "[token.text for token in spacy_text]"
        },
        {
            "cell_type": "markdown",
            "id": "efc7d231",
            "metadata": {},
            "source": "\u041f\u043e\u044d\u0442\u043e\u043c\u0443 \u043f\u0440\u0435\u043e\u0431\u0440\u0430\u0437\u0443\u0435\u043c \u043d\u0430\u0448 `corpus` \u0432 \u0443\u043f\u0440\u043e\u0449\u0451\u043d\u043d\u044b\u0439 \u0444\u043e\u0440\u043c\u0430\u0442, \u0441\u043e\u0432\u043c\u0435\u0441\u0442\u0438\u043c\u044b\u0439 \u0441 word2vec."
        },
        {
            "cell_type": "code",
            "execution_count": 73,
            "id": "6462e069",
            "metadata": {
                "trusted": true
            },
            "outputs": [
                {
                    "data": {
                        "text/plain": "[['Ad',\n  'sales',\n  'boost',\n  'Time',\n  'Warner',\n  'profit',\n  'Quarterly',\n  'profits',\n  'at',\n  'US',\n  'media',\n  'giant',\n  'TimeWarner',\n  'jumped',\n  '76',\n  '%',\n  'to',\n  '$',\n  '1.13bn',\n  '(',\n  '\u00a3',\n  '600',\n  'm',\n  ')',\n  'for',\n  'the',\n  'three',\n  'months',\n  'to',\n  'December',\n  ',',\n  'from',\n  '$',\n  '639',\n  'm',\n  'year',\n  '-',\n  'earlier',\n  '.',\n  ' ',\n  'The',\n  'firm',\n  ',',\n  'which',\n  'is',\n  'now',\n  'one',\n  'of',\n  'the',\n  'biggest',\n  'investors',\n  'in',\n  'Google',\n  ',',\n  'benefited',\n  'from',\n  'sales',\n  'of',\n  'high',\n  '-',\n  'speed',\n  'internet',\n  'connections',\n  'and',\n  'higher',\n  'advert',\n  'sales',\n  '.',\n  'TimeWarner',\n  'said',\n  'fourth',\n  'quarter',\n  'sales',\n  'rose',\n  '2',\n  '%',\n  'to',\n  '$',\n  '11.1bn',\n  'from',\n  '$',\n  '10.9bn',\n  '.',\n  'Its',\n  'profits',\n  'were',\n  'buoyed',\n  'by',\n  'one',\n  '-',\n  'off',\n  'gains',\n  'which',\n  'offset',\n  'a',\n  'profit',\n  'dip',\n  'at',\n  'Warner',\n  'Bros',\n  ',',\n  'and',\n  'less',\n  'users',\n  'for',\n  'AOL',\n  '.',\n  ' ',\n  'Time',\n  'Warner',\n  'said',\n  'on',\n  'Friday',\n  'that',\n  'it',\n  'now',\n  'owns',\n  '8',\n  '%',\n  'of',\n  'search',\n  '-',\n  'engine',\n  'Google',\n  '.',\n  'But',\n  'its',\n  'own',\n  'internet',\n  'business',\n  ',',\n  'AOL',\n  ',',\n  'had',\n  'has',\n  'mixed',\n  'fortunes',\n  '.',\n  'It',\n  'lost',\n  '464,000',\n  'subscribers',\n  'in',\n  'the',\n  'fourth',\n  'quarter',\n  'profits',\n  'were',\n  'lower',\n  'than',\n  'in',\n  'the',\n  'preceding',\n  'three',\n  'quarters',\n  '.',\n  'However',\n  ',',\n  'the',\n  'company',\n  'said',\n  'AOL',\n  \"'s\",\n  'underlying',\n  'profit',\n  'before',\n  'exceptional',\n  'items',\n  'rose',\n  '8',\n  '%',\n  'on',\n  'the',\n  'back',\n  'of',\n  'stronger',\n  'internet',\n  'advertising',\n  'revenues',\n  '.',\n  'It',\n  'hopes',\n  'to',\n  'increase',\n  'subscribers',\n  'by',\n  'offering',\n  'the',\n  'online',\n  'service',\n  'free',\n  'to',\n  'TimeWarner',\n  'internet',\n  'customers',\n  'and',\n  'will',\n  'try',\n  'to',\n  'sign',\n  'up',\n  'AOL',\n  \"'s\",\n  'existing',\n  'customers',\n  'for',\n  'high',\n  '-',\n  'speed',\n  'broadband',\n  '.',\n  'TimeWarner',\n  'also',\n  'has',\n  'to',\n  'restate',\n  '2000',\n  'and',\n  '2003',\n  'results',\n  'following',\n  'a',\n  'probe',\n  'by',\n  'the',\n  'US',\n  'Securities',\n  'Exchange',\n  'Commission',\n  '(',\n  'SEC',\n  ')',\n  ',',\n  'which',\n  'is',\n  'close',\n  'to',\n  'concluding',\n  '.',\n  ' ',\n  'Time',\n  'Warner',\n  \"'s\",\n  'fourth',\n  'quarter',\n  'profits',\n  'were',\n  'slightly',\n  'better',\n  'than',\n  'analysts',\n  \"'\",\n  'expectations',\n  '.',\n  'But',\n  'its',\n  'film',\n  'division',\n  'saw',\n  'profits',\n  'slump',\n  '27',\n  '%',\n  'to',\n  '$',\n  '284',\n  'm',\n  ',',\n  'helped',\n  'by',\n  'box',\n  '-',\n  'office',\n  'flops',\n  'Alexander',\n  'and',\n  'Catwoman',\n  ',',\n  'a',\n  'sharp',\n  'contrast',\n  'to',\n  'year',\n  '-',\n  'earlier',\n  ',',\n  'when',\n  'the',\n  'third',\n  'and',\n  'final',\n  'film',\n  'in',\n  'the',\n  'Lord',\n  'of',\n  'the',\n  'Rings',\n  'trilogy',\n  'boosted',\n  'results',\n  '.',\n  'For',\n  'the',\n  'full',\n  '-',\n  'year',\n  ',',\n  'TimeWarner',\n  'posted',\n  'a',\n  'profit',\n  'of',\n  '$',\n  '3.36bn',\n  ',',\n  'up',\n  '27',\n  '%',\n  'from',\n  'its',\n  '2003',\n  'performance',\n  ',',\n  'while',\n  'revenues',\n  'grew',\n  '6.4',\n  '%',\n  'to',\n  '$',\n  '42.09bn',\n  '.',\n  '\"',\n  'Our',\n  'financial',\n  'performance',\n  'was',\n  'strong',\n  ',',\n  'meeting',\n  'or',\n  'exceeding',\n  'all',\n  'of',\n  'our',\n  'full',\n  '-',\n  'year',\n  'objectives',\n  'and',\n  'greatly',\n  'enhancing',\n  'our',\n  'flexibility',\n  ',',\n  '\"',\n  'chairman',\n  'and',\n  'chief',\n  'executive',\n  'Richard',\n  'Parsons',\n  'said',\n  '.',\n  'For',\n  '2005',\n  ',',\n  'TimeWarner',\n  'is',\n  'projecting',\n  'operating',\n  'earnings',\n  'growth',\n  'of',\n  'around',\n  '5',\n  '%',\n  ',',\n  'and',\n  'also',\n  'expects',\n  'higher',\n  'revenue',\n  'and',\n  'wider',\n  'profit',\n  'margins',\n  '.',\n  ' ',\n  'TimeWarner',\n  'is',\n  'to',\n  'restate',\n  'its',\n  'accounts',\n  'as',\n  'part',\n  'of',\n  'efforts',\n  'to',\n  'resolve',\n  'an',\n  'inquiry',\n  'into',\n  'AOL',\n  'by',\n  'US',\n  'market',\n  'regulators',\n  '.',\n  'It',\n  'has',\n  'already',\n  'offered',\n  'to',\n  'pay',\n  '$',\n  '300',\n  'm',\n  'to',\n  'settle',\n  'charges',\n  ',',\n  'in',\n  'a',\n  'deal',\n  'that',\n  'is',\n  'under',\n  'review',\n  'by',\n  'the',\n  'SEC',\n  '.',\n  'The',\n  'company',\n  'said',\n  'it',\n  'was',\n  'unable',\n  'to',\n  'estimate',\n  'the',\n  'amount',\n  'it',\n  'needed',\n  'to',\n  'set',\n  'aside',\n  'for',\n  'legal',\n  'reserves',\n  ',',\n  'which',\n  'it',\n  'previously',\n  'set',\n  'at',\n  '$',\n  '500',\n  'm.',\n  'It',\n  'intends',\n  'to',\n  'adjust',\n  'the',\n  'way',\n  'it',\n  'accounts',\n  'for',\n  'a',\n  'deal',\n  'with',\n  'German',\n  'music',\n  'publisher',\n  'Bertelsmann',\n  \"'s\",\n  'purchase',\n  'of',\n  'a',\n  'stake',\n  'in',\n  'AOL',\n  'Europe',\n  ',',\n  'which',\n  'it',\n  'had',\n  'reported',\n  'as',\n  'advertising',\n  'revenue',\n  '.',\n  'It',\n  'will',\n  'now',\n  'book',\n  'the',\n  'sale',\n  'of',\n  'its',\n  'stake',\n  'in',\n  'AOL',\n  'Europe',\n  'as',\n  'a',\n  'loss',\n  'on',\n  'the',\n  'value',\n  'of',\n  'that',\n  'stake',\n  '.'],\n ['Dollar',\n  'gains',\n  'on',\n  'Greenspan',\n  'speech',\n  'The',\n  'dollar',\n  'has',\n  'hit',\n  'its',\n  'highest',\n  'level',\n  'against',\n  'the',\n  'euro',\n  'in',\n  'almost',\n  'three',\n  'months',\n  'after',\n  'the',\n  'Federal',\n  'Reserve',\n  'head',\n  'said',\n  'the',\n  'US',\n  'trade',\n  'deficit',\n  'is',\n  'set',\n  'to',\n  'stabilise',\n  '.',\n  ' ',\n  'And',\n  'Alan',\n  'Greenspan',\n  'highlighted',\n  'the',\n  'US',\n  'government',\n  \"'s\",\n  'willingness',\n  'to',\n  'curb',\n  'spending',\n  'and',\n  'rising',\n  'household',\n  'savings',\n  'as',\n  'factors',\n  'which',\n  'may',\n  'help',\n  'to',\n  'reduce',\n  'it',\n  '.',\n  'In',\n  'late',\n  'trading',\n  'in',\n  'New',\n  'York',\n  ',',\n  'the',\n  'dollar',\n  'reached',\n  '$',\n  '1.2871',\n  'against',\n  'the',\n  'euro',\n  ',',\n  'from',\n  '$',\n  '1.2974',\n  'on',\n  'Thursday',\n  '.',\n  'Market',\n  'concerns',\n  'about',\n  'the',\n  'deficit',\n  'has',\n  'hit',\n  'the',\n  'greenback',\n  'in',\n  'recent',\n  'months',\n  '.',\n  'On',\n  'Friday',\n  ',',\n  'Federal',\n  'Reserve',\n  'chairman',\n  'Mr',\n  'Greenspan',\n  \"'s\",\n  'speech',\n  'in',\n  'London',\n  'ahead',\n  'of',\n  'the',\n  'meeting',\n  'of',\n  'G7',\n  'finance',\n  'ministers',\n  'sent',\n  'the',\n  'dollar',\n  'higher',\n  'after',\n  'it',\n  'had',\n  'earlier',\n  'tumbled',\n  'on',\n  'the',\n  'back',\n  'of',\n  'worse',\n  '-',\n  'than',\n  '-',\n  'expected',\n  'US',\n  'jobs',\n  'data',\n  '.',\n  '\"',\n  'I',\n  'think',\n  'the',\n  'chairman',\n  \"'s\",\n  'taking',\n  'a',\n  'much',\n  'more',\n  'sanguine',\n  'view',\n  'on',\n  'the',\n  'current',\n  'account',\n  'deficit',\n  'than',\n  'he',\n  \"'s\",\n  'taken',\n  'for',\n  'some',\n  'time',\n  ',',\n  '\"',\n  'said',\n  'Robert',\n  'Sinche',\n  ',',\n  'head',\n  'of',\n  'currency',\n  'strategy',\n  'at',\n  'Bank',\n  'of',\n  'America',\n  'in',\n  'New',\n  'York',\n  '.',\n  '\"',\n  'He',\n  \"'s\",\n  'taking',\n  'a',\n  'longer',\n  '-',\n  'term',\n  'view',\n  ',',\n  'laying',\n  'out',\n  'a',\n  'set',\n  'of',\n  'conditions',\n  'under',\n  'which',\n  'the',\n  'current',\n  'account',\n  'deficit',\n  'can',\n  'improve',\n  'this',\n  'year',\n  'and',\n  'next',\n  '.',\n  '\"',\n  ' ',\n  'Worries',\n  'about',\n  'the',\n  'deficit',\n  'concerns',\n  'about',\n  'China',\n  'do',\n  ',',\n  'however',\n  ',',\n  'remain',\n  '.',\n  'China',\n  \"'s\",\n  'currency',\n  'remains',\n  'pegged',\n  'to',\n  'the',\n  'dollar',\n  'and',\n  'the',\n  'US',\n  'currency',\n  \"'s\",\n  'sharp',\n  'falls',\n  'in',\n  'recent',\n  'months',\n  'have',\n  'therefore',\n  'made',\n  'Chinese',\n  'export',\n  'prices',\n  'highly',\n  'competitive',\n  '.',\n  'But',\n  'calls',\n  'for',\n  'a',\n  'shift',\n  'in',\n  'Beijing',\n  \"'s\",\n  'policy',\n  'have',\n  'fallen',\n  'on',\n  'deaf',\n  'ears',\n  ',',\n  'despite',\n  'recent',\n  'comments',\n  'in',\n  'a',\n  'major',\n  'Chinese',\n  'newspaper',\n  'that',\n  'the',\n  '\"',\n  'time',\n  'is',\n  'ripe',\n  '\"',\n  'for',\n  'a',\n  'loosening',\n  'of',\n  'the',\n  'peg',\n  '.',\n  'The',\n  'G7',\n  'meeting',\n  'is',\n  'thought',\n  'unlikely',\n  'to',\n  'produce',\n  'any',\n  'meaningful',\n  'movement',\n  'in',\n  'Chinese',\n  'policy',\n  '.',\n  'In',\n  'the',\n  'meantime',\n  ',',\n  'the',\n  'US',\n  'Federal',\n  'Reserve',\n  \"'s\",\n  'decision',\n  'on',\n  '2',\n  'February',\n  'to',\n  'boost',\n  'interest',\n  'rates',\n  'by',\n  'a',\n  'quarter',\n  'of',\n  'a',\n  'point',\n  '-',\n  'the',\n  'sixth',\n  'such',\n  'move',\n  'in',\n  'as',\n  'many',\n  'months',\n  '-',\n  'has',\n  'opened',\n  'up',\n  'a',\n  'differential',\n  'with',\n  'European',\n  'rates',\n  '.',\n  'The',\n  'half',\n  '-',\n  'point',\n  'window',\n  ',',\n  'some',\n  'believe',\n  ',',\n  'could',\n  'be',\n  'enough',\n  'to',\n  'keep',\n  'US',\n  'assets',\n  'looking',\n  'more',\n  'attractive',\n  ',',\n  'and',\n  'could',\n  'help',\n  'prop',\n  'up',\n  'the',\n  'dollar',\n  '.',\n  'The',\n  'recent',\n  'falls',\n  'have',\n  'partly',\n  'been',\n  'the',\n  'result',\n  'of',\n  'big',\n  'budget',\n  'deficits',\n  ',',\n  'as',\n  'well',\n  'as',\n  'the',\n  'US',\n  \"'s\",\n  'yawning',\n  'current',\n  'account',\n  'gap',\n  ',',\n  'both',\n  'of',\n  'which',\n  'need',\n  'to',\n  'be',\n  'funded',\n  'by',\n  'the',\n  'buying',\n  'of',\n  'US',\n  'bonds',\n  'and',\n  'assets',\n  'by',\n  'foreign',\n  'firms',\n  'and',\n  'governments',\n  '.',\n  'The',\n  'White',\n  'House',\n  'will',\n  'announce',\n  'its',\n  'budget',\n  'on',\n  'Monday',\n  ',',\n  'and',\n  'many',\n  'commentators',\n  'believe',\n  'the',\n  'deficit',\n  'will',\n  'remain',\n  'at',\n  'close',\n  'to',\n  'half',\n  'a',\n  'trillion',\n  'dollars',\n  '.'],\n ['Yukos',\n  'unit',\n  'buyer',\n  'faces',\n  'loan',\n  'claim',\n  'The',\n  'owners',\n  'of',\n  'embattled',\n  'Russian',\n  'oil',\n  'giant',\n  'Yukos',\n  'are',\n  'to',\n  'ask',\n  'the',\n  'buyer',\n  'of',\n  'its',\n  'former',\n  'production',\n  'unit',\n  'to',\n  'pay',\n  'back',\n  'a',\n  '$',\n  '900',\n  'm',\n  '(',\n  '\u00a3',\n  '479',\n  'm',\n  ')',\n  'loan',\n  '.',\n  ' ',\n  'State',\n  '-',\n  'owned',\n  'Rosneft',\n  'bought',\n  'the',\n  'Yugansk',\n  'unit',\n  'for',\n  '$',\n  '9.3bn',\n  'in',\n  'a',\n  'sale',\n  'forced',\n  'by',\n  'Russia',\n  'to',\n  'part',\n  'settle',\n  'a',\n  '$',\n  '27.5bn',\n  'tax',\n  'claim',\n  'against',\n  'Yukos',\n  '.',\n  'Yukos',\n  \"'\",\n  'owner',\n  'Menatep',\n  'Group',\n  'says',\n  'it',\n  'will',\n  'ask',\n  'Rosneft',\n  'to',\n  'repay',\n  'a',\n  'loan',\n  'that',\n  'Yugansk',\n  'had',\n  'secured',\n  'on',\n  'its',\n  'assets',\n  '.',\n  'Rosneft',\n  'already',\n  'faces',\n  'a',\n  'similar',\n  '$',\n  '540',\n  'm',\n  'repayment',\n  'demand',\n  'from',\n  'foreign',\n  'banks',\n  '.',\n  'Legal',\n  'experts',\n  'said',\n  'Rosneft',\n  \"'s\",\n  'purchase',\n  'of',\n  'Yugansk',\n  'would',\n  'include',\n  'such',\n  'obligations',\n  '.',\n  '\"',\n  'The',\n  'pledged',\n  'assets',\n  'are',\n  'with',\n  'Rosneft',\n  ',',\n  'so',\n  'it',\n  'will',\n  'have',\n  'to',\n  'pay',\n  'real',\n  'money',\n  'to',\n  'the',\n  'creditors',\n  'to',\n  'avoid',\n  'seizure',\n  'of',\n  'Yugansk',\n  'assets',\n  ',',\n  '\"',\n  'said',\n  'Moscow',\n  '-',\n  'based',\n  'US',\n  'lawyer',\n  'Jamie',\n  'Firestone',\n  ',',\n  'who',\n  'is',\n  'not',\n  'connected',\n  'to',\n  'the',\n  'case',\n  '.',\n  'Menatep',\n  'Group',\n  \"'s\",\n  'managing',\n  'director',\n  'Tim',\n  'Osborne',\n  'told',\n  'the',\n  'Reuters',\n  'news',\n  'agency',\n  ':',\n  '\"',\n  'If',\n  'they',\n  'default',\n  ',',\n  'we',\n  'will',\n  'fight',\n  'them',\n  'where',\n  'the',\n  'rule',\n  'of',\n  'law',\n  'exists',\n  'under',\n  'the',\n  'international',\n  'arbitration',\n  'clauses',\n  'of',\n  'the',\n  'credit',\n  '.',\n  '\"',\n  ' ',\n  'Rosneft',\n  'officials',\n  'were',\n  'unavailable',\n  'for',\n  'comment',\n  '.',\n  'But',\n  'the',\n  'company',\n  'has',\n  'said',\n  'it',\n  'intends',\n  'to',\n  'take',\n  'action',\n  'against',\n  'Menatep',\n  'to',\n  'recover',\n  'some',\n  'of',\n  'the',\n  'tax',\n  'claims',\n  'and',\n  'debts',\n  'owed',\n  'by',\n  'Yugansk',\n  '.',\n  'Yukos',\n  'had',\n  'filed',\n  'for',\n  'bankruptcy',\n  'protection',\n  'in',\n  'a',\n  'US',\n  'court',\n  'in',\n  'an',\n  'attempt',\n  'to',\n  'prevent',\n  'the',\n  'forced',\n  'sale',\n  'of',\n  'its',\n  'main',\n  'production',\n  'arm',\n  '.',\n  'The',\n  'sale',\n  'went',\n  'ahead',\n  'in',\n  'December',\n  'and',\n  'Yugansk',\n  'was',\n  'sold',\n  'to',\n  'a',\n  'little',\n  '-',\n  'known',\n  'shell',\n  'company',\n  'which',\n  'in',\n  'turn',\n  'was',\n  'bought',\n  'by',\n  'Rosneft',\n  '.',\n  'Yukos',\n  'claims',\n  'its',\n  'downfall',\n  'was',\n  'punishment',\n  'for',\n  'the',\n  'political',\n  'ambitions',\n  'of',\n  'its',\n  'founder',\n  'Mikhail',\n  'Khodorkovsky',\n  'and',\n  'has',\n  'vowed',\n  'to',\n  'sue',\n  'any',\n  'participant',\n  'in',\n  'the',\n  'sale',\n  '.']]"
                    },
                    "execution_count": 73,
                    "metadata": {},
                    "output_type": "execute_result"
                }
            ],
            "source": "corpus_for_word2vec = [[token.text for token in spacy_text] for spacy_text in corpus]\n\ncorpus_for_word2vec[:3]"
        },
        {
            "cell_type": "markdown",
            "id": "ac6ec028",
            "metadata": {},
            "source": "## \u041c\u043e\u0434\u0435\u043b\u044c word2vec\n\u0421\u043f\u0438\u0441\u043e\u043a \u0434\u043e\u0441\u0442\u0443\u043f\u043d\u044b\u0445 \u043f\u0440\u0435\u0434\u043e\u0431\u0443\u0447\u0435\u043d\u043d\u043d\u044b\u0445 \u043c\u043e\u0434\u0435\u043b\u0435\u0439"
        },
        {
            "cell_type": "code",
            "execution_count": 74,
            "id": "82aae3dc",
            "metadata": {
                "trusted": true
            },
            "outputs": [
                {
                    "data": {
                        "text/plain": "['fasttext-wiki-news-subwords-300',\n 'conceptnet-numberbatch-17-06-300',\n 'word2vec-ruscorpora-300',\n 'word2vec-google-news-300',\n 'glove-wiki-gigaword-50',\n 'glove-wiki-gigaword-100',\n 'glove-wiki-gigaword-200',\n 'glove-wiki-gigaword-300',\n 'glove-twitter-25',\n 'glove-twitter-50',\n 'glove-twitter-100',\n 'glove-twitter-200',\n '__testing_word2vec-matrix-synopsis']"
                    },
                    "execution_count": 74,
                    "metadata": {},
                    "output_type": "execute_result"
                }
            ],
            "source": "from gensim.downloader import info\n\nlist(info()['models'].keys())"
        },
        {
            "cell_type": "markdown",
            "id": "0f829fe4",
            "metadata": {},
            "source": "\u0417\u0430\u0433\u0440\u0443\u0437\u043a\u0430 \u043c\u043e\u0434\u0435\u043b\u0438"
        },
        {
            "cell_type": "code",
            "execution_count": 75,
            "id": "5084d8b2",
            "metadata": {
                "trusted": true
            },
            "outputs": [],
            "source": "from gensim.downloader import info, load\n\n# You can safely restart this cell, gensim will download it only once.\n# It still takes some time to load, though.\nword2vec_google_news_300_model = load(\"word2vec-google-news-300\")"
        },
        {
            "cell_type": "markdown",
            "id": "4606f49b",
            "metadata": {},
            "source": "\u041d\u0435\u0431\u043e\u043b\u044c\u0448\u0430\u044f \u043f\u0440\u043e\u0432\u0435\u0440\u043a\u0430 \u0440\u0430\u0431\u043e\u0442\u044b \u043c\u043e\u0434\u0435\u043b\u0438"
        },
        {
            "cell_type": "code",
            "execution_count": 76,
            "id": "cdccea93",
            "metadata": {
                "trusted": true
            },
            "outputs": [],
            "source": "words = [\"king\", \"queen\", \"man\", \"woman\"]"
        },
        {
            "cell_type": "code",
            "execution_count": 77,
            "id": "64065264",
            "metadata": {
                "trusted": true
            },
            "outputs": [
                {
                    "data": {
                        "text/plain": "[\"\u0414\u043b\u044f \u043f\u0430\u0440\u044b \u0441\u043b\u043e\u0432 ('king', 'queen') \u0441\u0445\u043e\u0436\u0435\u0441\u0442\u044c: 0.65\",\n \"\u0414\u043b\u044f \u043f\u0430\u0440\u044b \u0441\u043b\u043e\u0432 ('king', 'man') \u0441\u0445\u043e\u0436\u0435\u0441\u0442\u044c: 0.23\",\n \"\u0414\u043b\u044f \u043f\u0430\u0440\u044b \u0441\u043b\u043e\u0432 ('king', 'woman') \u0441\u0445\u043e\u0436\u0435\u0441\u0442\u044c: 0.13\",\n \"\u0414\u043b\u044f \u043f\u0430\u0440\u044b \u0441\u043b\u043e\u0432 ('queen', 'king') \u0441\u0445\u043e\u0436\u0435\u0441\u0442\u044c: 0.65\",\n \"\u0414\u043b\u044f \u043f\u0430\u0440\u044b \u0441\u043b\u043e\u0432 ('queen', 'man') \u0441\u0445\u043e\u0436\u0435\u0441\u0442\u044c: 0.17\",\n \"\u0414\u043b\u044f \u043f\u0430\u0440\u044b \u0441\u043b\u043e\u0432 ('queen', 'woman') \u0441\u0445\u043e\u0436\u0435\u0441\u0442\u044c: 0.32\",\n \"\u0414\u043b\u044f \u043f\u0430\u0440\u044b \u0441\u043b\u043e\u0432 ('man', 'king') \u0441\u0445\u043e\u0436\u0435\u0441\u0442\u044c: 0.23\",\n \"\u0414\u043b\u044f \u043f\u0430\u0440\u044b \u0441\u043b\u043e\u0432 ('man', 'queen') \u0441\u0445\u043e\u0436\u0435\u0441\u0442\u044c: 0.17\",\n \"\u0414\u043b\u044f \u043f\u0430\u0440\u044b \u0441\u043b\u043e\u0432 ('man', 'woman') \u0441\u0445\u043e\u0436\u0435\u0441\u0442\u044c: 0.77\",\n \"\u0414\u043b\u044f \u043f\u0430\u0440\u044b \u0441\u043b\u043e\u0432 ('woman', 'king') \u0441\u0445\u043e\u0436\u0435\u0441\u0442\u044c: 0.13\",\n \"\u0414\u043b\u044f \u043f\u0430\u0440\u044b \u0441\u043b\u043e\u0432 ('woman', 'queen') \u0441\u0445\u043e\u0436\u0435\u0441\u0442\u044c: 0.32\",\n \"\u0414\u043b\u044f \u043f\u0430\u0440\u044b \u0441\u043b\u043e\u0432 ('woman', 'man') \u0441\u0445\u043e\u0436\u0435\u0441\u0442\u044c: 0.77\"]"
                    },
                    "execution_count": 77,
                    "metadata": {},
                    "output_type": "execute_result"
                }
            ],
            "source": "from itertools import permutations\n\nPAIRS = 2\n[f\"\u0414\u043b\u044f \u043f\u0430\u0440\u044b \u0441\u043b\u043e\u0432 {word_pair} \u0441\u0445\u043e\u0436\u0435\u0441\u0442\u044c: {word2vec_google_news_300_model.similarity(*word_pair):1.2f}\" for word_pair in permutations(words, PAIRS)]"
        },
        {
            "cell_type": "markdown",
            "id": "cfbd2bb2",
            "metadata": {},
            "source": "### \u041e\u0431\u0443\u0447\u0435\u043d\u0438\u0435 \u0441\u043e\u0431\u0441\u0442\u0432\u0435\u043d\u043d\u043e\u0439 \u043c\u043e\u0434\u0435\u043b\u0438"
        },
        {
            "cell_type": "code",
            "execution_count": 78,
            "id": "33f58f0d",
            "metadata": {
                "trusted": true
            },
            "outputs": [
                {
                    "data": {
                        "text/plain": "'Ad sales boost Time Warner profit Quarterly profits at US media giant TimeWarner jumped 76% to $1.13bn (\u00a3600m) for the three months to December, from $639m year-earlier.  The firm, which is now one of the biggest investors in Google, benefited from sales of high-speed internet connections and higher advert sales. TimeWarner said fourth quarter sales rose 2% to $11.1bn from $10.9bn. Its profits were buoyed by one-off gains which offset a profit dip at Warner Bros, and less users for AOL.  Time Warner said on Friday that it now owns 8% of search-engine Google. But its own internet business, AOL, had has mixed fortunes. It lost 464,000 subscribers in the fourth quarter profits were lower than in the preceding three quarters. However, the company said AOL\\'s underlying profit before exceptional items rose 8% on the back of stronger internet advertising revenues. It hopes to increase subscribers by offering the online service free to TimeWarner internet customers and will try to sign up AOL\\'s existing customers for high-speed broadband. TimeWarner also has to restate 2000 and 2003 results following a probe by the US Securities Exchange Commission (SEC), which is close to concluding.  Time Warner\\'s fourth quarter profits were slightly better than analysts\\' expectations. But its film division saw profits slump 27% to $284m, helped by box-office flops Alexander and Catwoman, a sharp contrast to year-earlier, when the third and final film in the Lord of the Rings trilogy boosted results. For the full-year, TimeWarner posted a profit of $3.36bn, up 27% from its 2003 performance, while revenues grew 6.4% to $42.09bn. \"Our financial performance was strong, meeting or exceeding all of our full-year objectives and greatly enhancing our flexibility,\" chairman and chief executive Richard Parsons said. For 2005, TimeWarner is projecting operating earnings growth of around 5%, and also expects higher revenue and wider profit margins.  TimeWarner is to restate its accounts as part of efforts to resolve an inquiry into AOL by US market regulators. It has already offered to pay $300m to settle charges, in a deal that is under review by the SEC. The company said it was unable to estimate the amount it needed to set aside for legal reserves, which it previously set at $500m. It intends to adjust the way it accounts for a deal with German music publisher Bertelsmann\\'s purchase of a stake in AOL Europe, which it had reported as advertising revenue. It will now book the sale of its stake in AOL Europe as a loss on the value of that stake. '"
                    },
                    "execution_count": 78,
                    "metadata": {},
                    "output_type": "execute_result"
                }
            ],
            "source": "corpus[0].text"
        },
        {
            "cell_type": "code",
            "execution_count": 79,
            "id": "8e5b037d",
            "metadata": {
                "trusted": true
            },
            "outputs": [
                {
                    "name": "stdout",
                    "output_type": "stream",
                    "text": "CPU times: user 3.47 s, sys: 25.6 ms, total: 3.5 s\nWall time: 795 ms\n"
                }
            ],
            "source": "from gensim.models import word2vec\n\nmodel_trained_on_dataset: word2vec.Word2Vec\n\n%time model_trained_on_dataset = word2vec.Word2Vec(corpus_for_word2vec, workers=8, min_count=10, window=10, sample=1e-3)"
        },
        {
            "cell_type": "code",
            "execution_count": 80,
            "id": "3732dd60",
            "metadata": {
                "trusted": true
            },
            "outputs": [],
            "source": "wv = model_trained_on_dataset.wv"
        },
        {
            "cell_type": "code",
            "execution_count": 81,
            "id": "727df5d0",
            "metadata": {
                "trusted": true
            },
            "outputs": [
                {
                    "name": "stdout",
                    "output_type": "stream",
                    "text": "word #0/7528 is the\nword #1/7528 is .\nword #2/7528 is ,\nword #3/7528 is to\nword #4/7528 is \"\nword #5/7528 is of\nword #6/7528 is and\nword #7/7528 is a\nword #8/7528 is in\nword #9/7528 is -\n"
                }
            ],
            "source": "for index, word in enumerate(wv.index_to_key):\n    if index == 10:\n        break\n    print(f\"word #{index}/{len(wv.index_to_key)} is {word}\")"
        },
        {
            "cell_type": "code",
            "execution_count": 82,
            "id": "a5628f85",
            "metadata": {
                "trusted": true
            },
            "outputs": [
                {
                    "data": {
                        "text/plain": "array([-0.21301916,  0.96134305,  0.570858  ,  0.65237725, -0.5658019 ,\n       -0.08913191,  0.20575383,  0.15995279, -1.2419115 , -0.01477181,\n        2.1432834 , -0.991645  , -0.14930533,  0.63669986, -0.92634475,\n        0.8376255 ,  0.1880484 ,  0.33773234, -2.0019088 , -0.46364135,\n        0.03703735,  0.52010554,  0.70667076, -0.8200041 ,  0.1972685 ,\n        0.2503851 ,  0.65281194, -0.6029144 ,  0.6210972 ,  0.39389113,\n       -1.008311  , -0.56049097,  0.6144267 , -0.1464569 ,  0.58911675,\n        0.03114563,  1.1652747 ,  0.10978822,  1.2686033 ,  2.4955502 ,\n        0.00831013, -0.18758383, -0.83285916,  0.03863758, -0.26911268,\n        0.69443476, -0.8546432 ,  0.4108124 ,  0.04733808, -0.12580162,\n       -1.4045991 ,  0.88983035,  0.6915624 , -0.69054973,  0.9264084 ,\n       -0.6066204 ,  0.8158913 ,  0.5977509 ,  0.61007303,  1.5540982 ,\n        0.41702354, -0.6322446 , -1.8030816 , -0.02713953,  0.17229663,\n        0.17330086, -0.2925538 ,  0.54839545,  0.3275358 , -0.69460577,\n        0.10279787,  0.16553968,  0.35422876, -0.7260754 ,  0.3888899 ,\n       -0.23346333, -0.17582092,  0.5740204 , -1.7112525 , -0.8896936 ,\n        0.12105805,  1.3382053 ,  1.1210415 ,  0.1903041 , -1.5476595 ,\n       -1.1273148 ,  1.0440449 ,  0.4153607 ,  0.84858745,  0.02495936,\n        0.96548235,  0.37167853,  0.68576926, -0.16006316,  0.9962787 ,\n       -0.00710814, -0.311619  , -0.35217902, -0.8878846 ,  1.1845499 ],\n      dtype=float32)"
                    },
                    "execution_count": 82,
                    "metadata": {},
                    "output_type": "execute_result"
                }
            ],
            "source": "wv['the']"
        },
        {
            "cell_type": "code",
            "execution_count": 83,
            "id": "70bad251",
            "metadata": {
                "trusted": true
            },
            "outputs": [
                {
                    "data": {
                        "text/plain": "[('a', 0.5522565841674805),\n ('an', 0.5077643990516663),\n ('another', 0.5072342157363892),\n ('unclear', 0.4965258836746216),\n ('election', 0.47948259115219116)]"
                    },
                    "execution_count": 83,
                    "metadata": {},
                    "output_type": "execute_result"
                }
            ],
            "source": "model_trained_on_dataset.wv.most_similar(positive=['the'], topn=5)"
        },
        {
            "cell_type": "markdown",
            "id": "af270b14",
            "metadata": {},
            "source": "## \u041a\u043b\u0430\u0441\u0441\u0438\u0444\u0438\u043a\u0430\u0446\u0438\u044f"
        },
        {
            "cell_type": "markdown",
            "id": "3ce91660",
            "metadata": {},
            "source": "### \u041f\u043e\u0434\u0433\u043e\u0442\u043e\u0432\u043a\u0430 \u0434\u0430\u043d\u043d\u044b\u0445 \u0434\u043b\u044f \u043a\u043b\u0430\u0441\u0441\u0438\u0444\u0438\u043a\u0430\u0446\u0438\u0438"
        },
        {
            "cell_type": "markdown",
            "id": "d8eea08d",
            "metadata": {},
            "source": "\u0412\u044b\u0431\u0435\u0440\u0435\u043c `X` \u0438 `y` \u0441\u0440\u0435\u0434\u0438 \u043d\u0430\u0448\u0435\u0433\u043e \u043d\u0430\u0431\u043e\u0440\u0430 \u0434\u0430\u043d\u043d\u044b\u0445"
        },
        {
            "cell_type": "code",
            "execution_count": 84,
            "id": "8351f628",
            "metadata": {
                "trusted": true
            },
            "outputs": [],
            "source": "X = corpus_for_word2vec\ny = df[\"category\"].values"
        },
        {
            "cell_type": "markdown",
            "id": "9466ff92",
            "metadata": {},
            "source": "\u0421\u043e\u0441\u0442\u0430\u0432\u0438\u043c \u0432\u044b\u0431\u043e\u0440\u043a\u0438 \u0434\u043b\u044f \u043e\u0431\u0443\u0447\u0435\u043d\u0438\u044f"
        },
        {
            "cell_type": "code",
            "execution_count": 85,
            "id": "e8902b24",
            "metadata": {
                "trusted": true
            },
            "outputs": [],
            "source": "from sklearn.model_selection import train_test_split\n\nX_train, X_test, y_train, y_test = train_test_split(\n    X, y,\n    test_size=0.33,\n    random_state=RANDOM_SEED\n)"
        },
        {
            "cell_type": "markdown",
            "id": "ecd11190",
            "metadata": {},
            "source": "\u0410\u043d\u0430\u043b\u043e\u0433\u0438\u0447\u043d\u044b\u0435 \u0432\u044b\u0431\u043e\u0440\u043a\u0438 \u0441\u0434\u0435\u043b\u0430\u0435\u043c \u0434\u043b\u044f \u043c\u043e\u0434\u0435\u043b\u0435\u0439, \u043a\u043e\u0442\u043e\u0440\u044b\u0435 \u0432 \u0441\u0435\u0431\u044f \u043f\u0440\u0438\u043d\u0438\u043c\u0430\u044e\u0442 \u0441\u043f\u0438\u0441\u043e\u043a\n\u0441\u0442\u0440\u043e\u043a, \u0430 \u043d\u0435 \u0441\u043f\u0438\u0441\u043e\u043a \u0442\u043e\u043a\u0435\u043d\u043e\u0432."
        },
        {
            "cell_type": "code",
            "execution_count": 86,
            "id": "ac615480",
            "metadata": {
                "trusted": true
            },
            "outputs": [],
            "source": "X_str = [spacy_text.text for spacy_text in corpus]"
        },
        {
            "cell_type": "code",
            "execution_count": 87,
            "id": "c17c6340",
            "metadata": {
                "trusted": true
            },
            "outputs": [],
            "source": "from sklearn.model_selection import train_test_split\n\nX_str_train, X_str_test, y_str_train, y_str_test = train_test_split(\n    X_str, y,\n    test_size=0.33,\n    random_state=RANDOM_SEED\n)"
        },
        {
            "cell_type": "markdown",
            "id": "6022daaf",
            "metadata": {},
            "source": "### \u0421\u043e\u0441\u0442\u0430\u0432\u0438\u043c pipeline"
        },
        {
            "cell_type": "markdown",
            "id": "60f6083b",
            "metadata": {},
            "source": "\u041f\u043e\u0434\u0433\u043e\u0442\u043e\u0432\u0438\u043c scaler'\u044b \u0434\u043b\u044f \u043f\u043e\u0441\u043b\u0435\u0434\u0443\u044e\u0449\u0438\u0445 \u043c\u043e\u0434\u0435\u043b\u0435\u0439.\n\n\u041d\u0430\u043f\u0440\u0438\u043c\u0435\u0440, NaiveBayes \u0443\u043c\u0435\u0435\u0442 \u0440\u0430\u0431\u043e\u0442\u0430\u0442\u044c \u0442\u043e\u043b\u044c\u043a\u043e \u0441 \u043d\u0435\u043e\u0442\u0440\u0438\u0446\u0430\u0442\u0435\u043b\u044c\u043d\u044b\u043c\u0438 \u0447\u0438\u0441\u043b\u0430\u043c\u0438."
        },
        {
            "cell_type": "code",
            "execution_count": 88,
            "id": "1b5539a9",
            "metadata": {
                "trusted": true
            },
            "outputs": [],
            "source": "from sklearn.preprocessing import MinMaxScaler, StandardScaler\n\nstandard_scaler = StandardScaler()\nmin_max_scaler = MinMaxScaler()"
        },
        {
            "cell_type": "markdown",
            "id": "41b47709",
            "metadata": {},
            "source": "\u0421\u043e\u0441\u0442\u0430\u0432\u0438\u043c pipeline"
        },
        {
            "cell_type": "code",
            "execution_count": 89,
            "id": "f2db07bb",
            "metadata": {
                "trusted": true
            },
            "outputs": [],
            "source": "import numpy as np\nfrom IPython.display import display\nfrom sklearn.linear_model import LogisticRegression\nfrom sklearn.metrics import accuracy_score, balanced_accuracy_score\n\n\ndef accuracy_score_for_classes(\n    y_true: np.ndarray, \n    y_pred: np.ndarray) -> dict[int, float]:\n    \"\"\"\n    \u0412\u044b\u0447\u0438\u0441\u043b\u0435\u043d\u0438\u0435 \u043c\u0435\u0442\u0440\u0438\u043a\u0438 accuracy \u0434\u043b\u044f \u043a\u0430\u0436\u0434\u043e\u0433\u043e \u043a\u043b\u0430\u0441\u0441\u0430\n    y_true - \u0438\u0441\u0442\u0438\u043d\u043d\u044b\u0435 \u0437\u043d\u0430\u0447\u0435\u043d\u0438\u044f \u043a\u043b\u0430\u0441\u0441\u043e\u0432\n    y_pred - \u043f\u0440\u0435\u0434\u0441\u043a\u0430\u0437\u0430\u043d\u043d\u044b\u0435 \u0437\u043d\u0430\u0447\u0435\u043d\u0438\u044f \u043a\u043b\u0430\u0441\u0441\u043e\u0432\n    \u0412\u043e\u0437\u0432\u0440\u0430\u0449\u0430\u0435\u0442 \u0441\u043b\u043e\u0432\u0430\u0440\u044c: \u043a\u043b\u044e\u0447 - \u043c\u0435\u0442\u043a\u0430 \u043a\u043b\u0430\u0441\u0441\u0430, \n    \u0437\u043d\u0430\u0447\u0435\u043d\u0438\u0435 - Accuracy \u0434\u043b\u044f \u0434\u0430\u043d\u043d\u043e\u0433\u043e \u043a\u043b\u0430\u0441\u0441\u0430\n    \"\"\"\n    # \u0414\u043b\u044f \u0443\u0434\u043e\u0431\u0441\u0442\u0432\u0430 \u0444\u0438\u043b\u044c\u0442\u0440\u0430\u0446\u0438\u0438 \u0441\u0444\u043e\u0440\u043c\u0438\u0440\u0443\u0435\u043c Pandas DataFrame \n    d = {'t': y_true, 'p': y_pred}\n    df = pd.DataFrame(data=d)\n    # \u041c\u0435\u0442\u043a\u0438 \u043a\u043b\u0430\u0441\u0441\u043e\u0432\n    classes = np.unique(y_true)\n    # \u0420\u0435\u0437\u0443\u043b\u044c\u0442\u0438\u0440\u0443\u044e\u0449\u0438\u0439 \u0441\u043b\u043e\u0432\u0430\u0440\u044c\n    res = dict()\n    # \u041f\u0435\u0440\u0435\u0431\u043e\u0440 \u043c\u0435\u0442\u043e\u043a \u043a\u043b\u0430\u0441\u0441\u043e\u0432\n    for c in classes:\n        # \u043e\u0442\u0444\u0438\u043b\u044c\u0442\u0440\u0443\u0435\u043c \u0434\u0430\u043d\u043d\u044b\u0435, \u043a\u043e\u0442\u043e\u0440\u044b\u0435 \u0441\u043e\u043e\u0442\u0432\u0435\u0442\u0441\u0442\u0432\u0443\u044e\u0442 \n        # \u0442\u0435\u043a\u0443\u0449\u0435\u0439 \u043c\u0435\u0442\u043a\u0435 \u043a\u043b\u0430\u0441\u0441\u0430 \u0432 \u0438\u0441\u0442\u0438\u043d\u043d\u044b\u0445 \u0437\u043d\u0430\u0447\u0435\u043d\u0438\u044f\u0445\n        temp_data_flt = df[df['t']==c]\n        # \u0440\u0430\u0441\u0447\u0435\u0442 accuracy \u0434\u043b\u044f \u0437\u0430\u0434\u0430\u043d\u043d\u043e\u0439 \u043c\u0435\u0442\u043a\u0438 \u043a\u043b\u0430\u0441\u0441\u0430\n        temp_acc = accuracy_score(\n            temp_data_flt['t'].values, \n            temp_data_flt['p'].values)\n        # \u0441\u043e\u0445\u0440\u0430\u043d\u0435\u043d\u0438\u0435 \u0440\u0435\u0437\u0443\u043b\u044c\u0442\u0430\u0442\u0430 \u0432 \u0441\u043b\u043e\u0432\u0430\u0440\u044c\n        res[c] = temp_acc\n    return res\n\ndef print_accuracy_score_for_classes(\n    y_true: np.ndarray, \n    y_pred: np.ndarray):\n    \"\"\"\n    \u0412\u044b\u0432\u043e\u0434 \u043c\u0435\u0442\u0440\u0438\u043a\u0438 accuracy \u0434\u043b\u044f \u043a\u0430\u0436\u0434\u043e\u0433\u043e \u043a\u043b\u0430\u0441\u0441\u0430\n    \"\"\"\n\n    accs = accuracy_score_for_classes(y_true, y_pred)\n    results = pd.DataFrame(data={ \"\u041a\u0430\u0442\u0435\u0433\u043e\u0440\u0438\u044f\": accs.keys(), \"\u0422\u043e\u0447\u043d\u043e\u0441\u0442\u044c\": accs.values() })\n\n    display(results)\n\n    return results"
        },
        {
            "cell_type": "code",
            "execution_count": 90,
            "id": "aad13670",
            "metadata": {
                "trusted": true
            },
            "outputs": [],
            "source": "class EmbeddingVectorizer(object):\n    '''\n    \u0414\u043b\u044f \u0442\u0435\u043a\u0441\u0442\u0430 \u0443\u0441\u0440\u0435\u0434\u043d\u0438\u043c \u0432\u0435\u043a\u0442\u043e\u0440\u0430 \u0432\u0445\u043e\u0434\u044f\u0449\u0438\u0445 \u0432 \u043d\u0435\u0433\u043e \u0441\u043b\u043e\u0432\n    '''\n    def __init__(self, model):\n        self.model = model\n        self.size = model.vector_size\n\n    def fit(self, X, y):\n        return self\n\n    def transform(self, X):\n        return np.array([np.mean(\n            [self.model[w] for w in words if w in self.model] \n            or [np.zeros(self.size)], axis=0)\n            for words in X])"
        },
        {
            "cell_type": "code",
            "execution_count": 91,
            "id": "1b95354d",
            "metadata": {
                "trusted": true
            },
            "outputs": [],
            "source": "from sklearn.pipeline import Pipeline\n\n\ndef classifier_pipeline(v, c, scaler=None, corpus_already_tokenized=True):\n    pipeline_steps = [\n        (\"vectorizer\", v), \n    ]\n\n    if scaler:\n        pipeline_steps.append((\"scaler\", scaler))\n\n    pipeline_steps.append((\"classifier\", c))\n\n    pipeline = Pipeline(pipeline_steps)\n\n    classifier_X_train = X_train\n    classifier_y_train = y_train\n    classifier_X_test = X_test\n    classifier_y_test = y_test\n\n    if not corpus_already_tokenized:\n        classifier_X_train = X_str_train\n        classifier_y_train = y_str_train\n        classifier_X_test = X_str_test\n        classifier_y_test = y_str_test\n\n    pipeline.fit(classifier_X_train, classifier_y_train)\n    y_pred = pipeline.predict(classifier_X_test)\n\n    return print_accuracy_score_for_classes(classifier_y_test, y_pred)"
        },
        {
            "cell_type": "markdown",
            "id": "1117f049",
            "metadata": {},
            "source": "### \u041f\u0440\u043e\u0432\u0435\u0440\u043a\u0430 \u0440\u0435\u0437\u0443\u043b\u044c\u0442\u0430\u0442\u043e\u0432"
        },
        {
            "cell_type": "code",
            "execution_count": 92,
            "id": "7da75176",
            "metadata": {
                "trusted": true
            },
            "outputs": [],
            "source": "ClassifierName = str\nModelName = str\n\nmetrics_data: dict[ClassifierName, dict[ModelName, float]] = {}"
        },
        {
            "cell_type": "code",
            "execution_count": 93,
            "id": "d145a5f6",
            "metadata": {
                "trusted": true
            },
            "outputs": [],
            "source": "def add_metrics_data(classier_name: ClassifierName, model_name: ModelName, results: pd.DataFrame):\n    if not metrics_data.get(classier_name):\n        metrics_data[classier_name] = {}\n\n    metrics_data[classier_name][model_name] = np.mean(results['\u0422\u043e\u0447\u043d\u043e\u0441\u0442\u044c'])\n\n    return metrics_data"
        },
        {
            "cell_type": "markdown",
            "id": "d136e647",
            "metadata": {},
            "source": "### \u041f\u0440\u043e\u0442\u0435\u0441\u0442\u0438\u0440\u0443\u0435\u043c \u0441\u043e\u0431\u0441\u0442\u0432\u0435\u043d\u043d\u043e-\u043e\u0431\u0443\u0447\u0435\u043d\u043d\u0443\u044e \u043c\u043e\u0434\u0435\u043b\u044c Word2Vec."
        },
        {
            "cell_type": "markdown",
            "id": "2d817b1e",
            "metadata": {},
            "source": "#### LogisticRegression"
        },
        {
            "cell_type": "code",
            "execution_count": 94,
            "id": "5c5ee16f",
            "metadata": {
                "trusted": true
            },
            "outputs": [
                {
                    "name": "stderr",
                    "output_type": "stream",
                    "text": "/home/ds13/Projects/--educational/Bmstu__/t5-2-/MachineLearningMethods__/t5-2-MachineLearningMethods__Fundamentals/.venv/lib/python3.12/site-packages/sklearn/linear_model/_logistic.py:469: ConvergenceWarning: lbfgs failed to converge (status=1):\nSTOP: TOTAL NO. of ITERATIONS REACHED LIMIT.\n\nIncrease the number of iterations (max_iter) or scale the data as shown in:\n    https://scikit-learn.org/stable/modules/preprocessing.html\nPlease also refer to the documentation for alternative solver options:\n    https://scikit-learn.org/stable/modules/linear_model.html#logistic-regression\n  n_iter_i = _check_optimize_result(\n"
                },
                {
                    "data": {
                        "text/html": "<div>\n<style scoped>\n    .dataframe tbody tr th:only-of-type {\n        vertical-align: middle;\n    }\n\n    .dataframe tbody tr th {\n        vertical-align: top;\n    }\n\n    .dataframe thead th {\n        text-align: right;\n    }\n</style>\n<table border=\"1\" class=\"dataframe\">\n  <thead>\n    <tr style=\"text-align: right;\">\n      <th></th>\n      <th>\u041a\u0430\u0442\u0435\u0433\u043e\u0440\u0438\u044f</th>\n      <th>\u0422\u043e\u0447\u043d\u043e\u0441\u0442\u044c</th>\n    </tr>\n  </thead>\n  <tbody>\n    <tr>\n      <th>0</th>\n      <td>business</td>\n      <td>0.849057</td>\n    </tr>\n    <tr>\n      <th>1</th>\n      <td>entertainment</td>\n      <td>0.781022</td>\n    </tr>\n    <tr>\n      <th>2</th>\n      <td>politics</td>\n      <td>0.877698</td>\n    </tr>\n    <tr>\n      <th>3</th>\n      <td>sport</td>\n      <td>0.930818</td>\n    </tr>\n    <tr>\n      <th>4</th>\n      <td>tech</td>\n      <td>0.886525</td>\n    </tr>\n  </tbody>\n</table>\n</div>",
                        "text/plain": "       \u041a\u0430\u0442\u0435\u0433\u043e\u0440\u0438\u044f  \u0422\u043e\u0447\u043d\u043e\u0441\u0442\u044c\n0       business  0.849057\n1  entertainment  0.781022\n2       politics  0.877698\n3          sport  0.930818\n4           tech  0.886525"
                    },
                    "metadata": {},
                    "output_type": "display_data"
                },
                {
                    "data": {
                        "text/plain": "{'LogisticRegression': {'our w2v': 0.8650237552136701}}"
                    },
                    "execution_count": 94,
                    "metadata": {},
                    "output_type": "execute_result"
                }
            ],
            "source": "add_metrics_data(\"LogisticRegression\", \"our w2v\", classifier_pipeline(EmbeddingVectorizer(model_trained_on_dataset.wv), LogisticRegression(C=5.0)))"
        },
        {
            "cell_type": "markdown",
            "id": "281c69eb",
            "metadata": {},
            "source": "LogisticRegression \u0441 min_max_scaler"
        },
        {
            "cell_type": "code",
            "execution_count": 95,
            "id": "bfbe202a",
            "metadata": {
                "trusted": true
            },
            "outputs": [
                {
                    "name": "stderr",
                    "output_type": "stream",
                    "text": "/home/ds13/Projects/--educational/Bmstu__/t5-2-/MachineLearningMethods__/t5-2-MachineLearningMethods__Fundamentals/.venv/lib/python3.12/site-packages/sklearn/linear_model/_logistic.py:469: ConvergenceWarning: lbfgs failed to converge (status=1):\nSTOP: TOTAL NO. of ITERATIONS REACHED LIMIT.\n\nIncrease the number of iterations (max_iter) or scale the data as shown in:\n    https://scikit-learn.org/stable/modules/preprocessing.html\nPlease also refer to the documentation for alternative solver options:\n    https://scikit-learn.org/stable/modules/linear_model.html#logistic-regression\n  n_iter_i = _check_optimize_result(\n"
                },
                {
                    "data": {
                        "text/html": "<div>\n<style scoped>\n    .dataframe tbody tr th:only-of-type {\n        vertical-align: middle;\n    }\n\n    .dataframe tbody tr th {\n        vertical-align: top;\n    }\n\n    .dataframe thead th {\n        text-align: right;\n    }\n</style>\n<table border=\"1\" class=\"dataframe\">\n  <thead>\n    <tr style=\"text-align: right;\">\n      <th></th>\n      <th>\u041a\u0430\u0442\u0435\u0433\u043e\u0440\u0438\u044f</th>\n      <th>\u0422\u043e\u0447\u043d\u043e\u0441\u0442\u044c</th>\n    </tr>\n  </thead>\n  <tbody>\n    <tr>\n      <th>0</th>\n      <td>business</td>\n      <td>0.855346</td>\n    </tr>\n    <tr>\n      <th>1</th>\n      <td>entertainment</td>\n      <td>0.788321</td>\n    </tr>\n    <tr>\n      <th>2</th>\n      <td>politics</td>\n      <td>0.884892</td>\n    </tr>\n    <tr>\n      <th>3</th>\n      <td>sport</td>\n      <td>0.924528</td>\n    </tr>\n    <tr>\n      <th>4</th>\n      <td>tech</td>\n      <td>0.865248</td>\n    </tr>\n  </tbody>\n</table>\n</div>",
                        "text/plain": "       \u041a\u0430\u0442\u0435\u0433\u043e\u0440\u0438\u044f  \u0422\u043e\u0447\u043d\u043e\u0441\u0442\u044c\n0       business  0.855346\n1  entertainment  0.788321\n2       politics  0.884892\n3          sport  0.924528\n4           tech  0.865248"
                    },
                    "metadata": {},
                    "output_type": "display_data"
                },
                {
                    "data": {
                        "text/plain": "{'LogisticRegression': {'our w2v': 0.8650237552136701},\n 'LogisticRegression with scaler': {'our w2v': 0.863667139000196}}"
                    },
                    "execution_count": 95,
                    "metadata": {},
                    "output_type": "execute_result"
                }
            ],
            "source": "add_metrics_data(\"LogisticRegression with scaler\", \"our w2v\", classifier_pipeline(EmbeddingVectorizer(model_trained_on_dataset.wv), LogisticRegression(C=5.0), scaler=min_max_scaler))"
        },
        {
            "cell_type": "markdown",
            "id": "051bae7e",
            "metadata": {},
            "source": "#### MultinomialNaiveBayes"
        },
        {
            "cell_type": "code",
            "execution_count": 96,
            "id": "2ea1902c",
            "metadata": {
                "trusted": true
            },
            "outputs": [
                {
                    "data": {
                        "text/html": "<div>\n<style scoped>\n    .dataframe tbody tr th:only-of-type {\n        vertical-align: middle;\n    }\n\n    .dataframe tbody tr th {\n        vertical-align: top;\n    }\n\n    .dataframe thead th {\n        text-align: right;\n    }\n</style>\n<table border=\"1\" class=\"dataframe\">\n  <thead>\n    <tr style=\"text-align: right;\">\n      <th></th>\n      <th>\u041a\u0430\u0442\u0435\u0433\u043e\u0440\u0438\u044f</th>\n      <th>\u0422\u043e\u0447\u043d\u043e\u0441\u0442\u044c</th>\n    </tr>\n  </thead>\n  <tbody>\n    <tr>\n      <th>0</th>\n      <td>business</td>\n      <td>0.792453</td>\n    </tr>\n    <tr>\n      <th>1</th>\n      <td>entertainment</td>\n      <td>0.540146</td>\n    </tr>\n    <tr>\n      <th>2</th>\n      <td>politics</td>\n      <td>0.776978</td>\n    </tr>\n    <tr>\n      <th>3</th>\n      <td>sport</td>\n      <td>0.779874</td>\n    </tr>\n    <tr>\n      <th>4</th>\n      <td>tech</td>\n      <td>0.829787</td>\n    </tr>\n  </tbody>\n</table>\n</div>",
                        "text/plain": "       \u041a\u0430\u0442\u0435\u0433\u043e\u0440\u0438\u044f  \u0422\u043e\u0447\u043d\u043e\u0441\u0442\u044c\n0       business  0.792453\n1  entertainment  0.540146\n2       politics  0.776978\n3          sport  0.779874\n4           tech  0.829787"
                    },
                    "metadata": {},
                    "output_type": "display_data"
                },
                {
                    "data": {
                        "text/plain": "{'LogisticRegression': {'our w2v': 0.8650237552136701},\n 'LogisticRegression with scaler': {'our w2v': 0.863667139000196},\n 'MultinomialNB': {'our w2v': 0.7438477361470713}}"
                    },
                    "execution_count": 96,
                    "metadata": {},
                    "output_type": "execute_result"
                }
            ],
            "source": "from sklearn.naive_bayes import MultinomialNB\n\n# NB \u043d\u0443\u0436\u043d\u044b \u043d\u0435\u043e\u0442\u0440\u0438\u0446\u0430\u0442\u0435\u043b\u044c\u043d\u044b\u0435 \u0437\u043d\u0430\u0447\u0435\u043d\u0438\u044f.\nadd_metrics_data(\"MultinomialNB\", \"our w2v\", classifier_pipeline(EmbeddingVectorizer(model_trained_on_dataset.wv), MultinomialNB(), scaler=min_max_scaler))"
        },
        {
            "cell_type": "markdown",
            "id": "b5153b3a",
            "metadata": {},
            "source": "#### KNeighborsClassifier"
        },
        {
            "cell_type": "code",
            "execution_count": 97,
            "id": "09922781",
            "metadata": {
                "trusted": true
            },
            "outputs": [
                {
                    "data": {
                        "text/html": "<div>\n<style scoped>\n    .dataframe tbody tr th:only-of-type {\n        vertical-align: middle;\n    }\n\n    .dataframe tbody tr th {\n        vertical-align: top;\n    }\n\n    .dataframe thead th {\n        text-align: right;\n    }\n</style>\n<table border=\"1\" class=\"dataframe\">\n  <thead>\n    <tr style=\"text-align: right;\">\n      <th></th>\n      <th>\u041a\u0430\u0442\u0435\u0433\u043e\u0440\u0438\u044f</th>\n      <th>\u0422\u043e\u0447\u043d\u043e\u0441\u0442\u044c</th>\n    </tr>\n  </thead>\n  <tbody>\n    <tr>\n      <th>0</th>\n      <td>business</td>\n      <td>0.849057</td>\n    </tr>\n    <tr>\n      <th>1</th>\n      <td>entertainment</td>\n      <td>0.700730</td>\n    </tr>\n    <tr>\n      <th>2</th>\n      <td>politics</td>\n      <td>0.841727</td>\n    </tr>\n    <tr>\n      <th>3</th>\n      <td>sport</td>\n      <td>0.905660</td>\n    </tr>\n    <tr>\n      <th>4</th>\n      <td>tech</td>\n      <td>0.858156</td>\n    </tr>\n  </tbody>\n</table>\n</div>",
                        "text/plain": "       \u041a\u0430\u0442\u0435\u0433\u043e\u0440\u0438\u044f  \u0422\u043e\u0447\u043d\u043e\u0441\u0442\u044c\n0       business  0.849057\n1  entertainment  0.700730\n2       politics  0.841727\n3          sport  0.905660\n4           tech  0.858156"
                    },
                    "metadata": {},
                    "output_type": "display_data"
                },
                {
                    "data": {
                        "text/plain": "{'LogisticRegression': {'our w2v': 0.8650237552136701},\n 'LogisticRegression with scaler': {'our w2v': 0.863667139000196},\n 'MultinomialNB': {'our w2v': 0.7438477361470713},\n 'KNeighborsClassifier': {'our w2v': 0.831065911042641}}"
                    },
                    "execution_count": 97,
                    "metadata": {},
                    "output_type": "execute_result"
                }
            ],
            "source": "from sklearn.neighbors import KNeighborsClassifier\n\n# KNC \u043d\u0443\u0436\u043d\u044b \u0437\u043d\u0430\u0447\u0435\u043d\u0438\u044f, \u0440\u0430\u0441\u043f\u0440\u0435\u0434\u0435\u043b\u0451\u043d\u043d\u044b\u0435 \u043f\u043e \u043d\u043e\u0440\u043c\u0430\u043b\u044c\u043d\u043e\u043c\u0443 \u0440\u0430\u0441\u043f\u0440\u0435\u0434\u0435\u043b\u0435\u043d\u0438\u044e.\nadd_metrics_data(\"KNeighborsClassifier\", \"our w2v\", classifier_pipeline(EmbeddingVectorizer(model_trained_on_dataset.wv), KNeighborsClassifier(n_neighbors=15), scaler=standard_scaler))"
        },
        {
            "cell_type": "markdown",
            "id": "f586af2e",
            "metadata": {},
            "source": "#### DecisionTreeClassifier"
        },
        {
            "cell_type": "code",
            "execution_count": 98,
            "id": "90c77562",
            "metadata": {
                "trusted": true
            },
            "outputs": [
                {
                    "data": {
                        "text/html": "<div>\n<style scoped>\n    .dataframe tbody tr th:only-of-type {\n        vertical-align: middle;\n    }\n\n    .dataframe tbody tr th {\n        vertical-align: top;\n    }\n\n    .dataframe thead th {\n        text-align: right;\n    }\n</style>\n<table border=\"1\" class=\"dataframe\">\n  <thead>\n    <tr style=\"text-align: right;\">\n      <th></th>\n      <th>\u041a\u0430\u0442\u0435\u0433\u043e\u0440\u0438\u044f</th>\n      <th>\u0422\u043e\u0447\u043d\u043e\u0441\u0442\u044c</th>\n    </tr>\n  </thead>\n  <tbody>\n    <tr>\n      <th>0</th>\n      <td>business</td>\n      <td>0.761006</td>\n    </tr>\n    <tr>\n      <th>1</th>\n      <td>entertainment</td>\n      <td>0.671533</td>\n    </tr>\n    <tr>\n      <th>2</th>\n      <td>politics</td>\n      <td>0.755396</td>\n    </tr>\n    <tr>\n      <th>3</th>\n      <td>sport</td>\n      <td>0.811321</td>\n    </tr>\n    <tr>\n      <th>4</th>\n      <td>tech</td>\n      <td>0.836879</td>\n    </tr>\n  </tbody>\n</table>\n</div>",
                        "text/plain": "       \u041a\u0430\u0442\u0435\u0433\u043e\u0440\u0438\u044f  \u0422\u043e\u0447\u043d\u043e\u0441\u0442\u044c\n0       business  0.761006\n1  entertainment  0.671533\n2       politics  0.755396\n3          sport  0.811321\n4           tech  0.836879"
                    },
                    "metadata": {},
                    "output_type": "display_data"
                },
                {
                    "data": {
                        "text/html": "<div>\n<style scoped>\n    .dataframe tbody tr th:only-of-type {\n        vertical-align: middle;\n    }\n\n    .dataframe tbody tr th {\n        vertical-align: top;\n    }\n\n    .dataframe thead th {\n        text-align: right;\n    }\n</style>\n<table border=\"1\" class=\"dataframe\">\n  <thead>\n    <tr style=\"text-align: right;\">\n      <th></th>\n      <th>\u041a\u0430\u0442\u0435\u0433\u043e\u0440\u0438\u044f</th>\n      <th>\u0422\u043e\u0447\u043d\u043e\u0441\u0442\u044c</th>\n    </tr>\n  </thead>\n  <tbody>\n    <tr>\n      <th>0</th>\n      <td>business</td>\n      <td>0.761006</td>\n    </tr>\n    <tr>\n      <th>1</th>\n      <td>entertainment</td>\n      <td>0.671533</td>\n    </tr>\n    <tr>\n      <th>2</th>\n      <td>politics</td>\n      <td>0.755396</td>\n    </tr>\n    <tr>\n      <th>3</th>\n      <td>sport</td>\n      <td>0.811321</td>\n    </tr>\n    <tr>\n      <th>4</th>\n      <td>tech</td>\n      <td>0.836879</td>\n    </tr>\n  </tbody>\n</table>\n</div>",
                        "text/plain": "       \u041a\u0430\u0442\u0435\u0433\u043e\u0440\u0438\u044f  \u0422\u043e\u0447\u043d\u043e\u0441\u0442\u044c\n0       business  0.761006\n1  entertainment  0.671533\n2       politics  0.755396\n3          sport  0.811321\n4           tech  0.836879"
                    },
                    "execution_count": 98,
                    "metadata": {},
                    "output_type": "execute_result"
                }
            ],
            "source": "from sklearn.tree import DecisionTreeClassifier\n\nclassifier_pipeline(EmbeddingVectorizer(model_trained_on_dataset.wv), DecisionTreeClassifier(max_depth=20, criterion=\"gini\"))"
        },
        {
            "cell_type": "code",
            "execution_count": 99,
            "id": "f274cc54",
            "metadata": {
                "trusted": true
            },
            "outputs": [
                {
                    "data": {
                        "text/html": "<div>\n<style scoped>\n    .dataframe tbody tr th:only-of-type {\n        vertical-align: middle;\n    }\n\n    .dataframe tbody tr th {\n        vertical-align: top;\n    }\n\n    .dataframe thead th {\n        text-align: right;\n    }\n</style>\n<table border=\"1\" class=\"dataframe\">\n  <thead>\n    <tr style=\"text-align: right;\">\n      <th></th>\n      <th>\u041a\u0430\u0442\u0435\u0433\u043e\u0440\u0438\u044f</th>\n      <th>\u0422\u043e\u0447\u043d\u043e\u0441\u0442\u044c</th>\n    </tr>\n  </thead>\n  <tbody>\n    <tr>\n      <th>0</th>\n      <td>business</td>\n      <td>0.805031</td>\n    </tr>\n    <tr>\n      <th>1</th>\n      <td>entertainment</td>\n      <td>0.671533</td>\n    </tr>\n    <tr>\n      <th>2</th>\n      <td>politics</td>\n      <td>0.762590</td>\n    </tr>\n    <tr>\n      <th>3</th>\n      <td>sport</td>\n      <td>0.811321</td>\n    </tr>\n    <tr>\n      <th>4</th>\n      <td>tech</td>\n      <td>0.843972</td>\n    </tr>\n  </tbody>\n</table>\n</div>",
                        "text/plain": "       \u041a\u0430\u0442\u0435\u0433\u043e\u0440\u0438\u044f  \u0422\u043e\u0447\u043d\u043e\u0441\u0442\u044c\n0       business  0.805031\n1  entertainment  0.671533\n2       politics  0.762590\n3          sport  0.811321\n4           tech  0.843972"
                    },
                    "metadata": {},
                    "output_type": "display_data"
                },
                {
                    "data": {
                        "text/html": "<div>\n<style scoped>\n    .dataframe tbody tr th:only-of-type {\n        vertical-align: middle;\n    }\n\n    .dataframe tbody tr th {\n        vertical-align: top;\n    }\n\n    .dataframe thead th {\n        text-align: right;\n    }\n</style>\n<table border=\"1\" class=\"dataframe\">\n  <thead>\n    <tr style=\"text-align: right;\">\n      <th></th>\n      <th>\u041a\u0430\u0442\u0435\u0433\u043e\u0440\u0438\u044f</th>\n      <th>\u0422\u043e\u0447\u043d\u043e\u0441\u0442\u044c</th>\n    </tr>\n  </thead>\n  <tbody>\n    <tr>\n      <th>0</th>\n      <td>business</td>\n      <td>0.805031</td>\n    </tr>\n    <tr>\n      <th>1</th>\n      <td>entertainment</td>\n      <td>0.671533</td>\n    </tr>\n    <tr>\n      <th>2</th>\n      <td>politics</td>\n      <td>0.762590</td>\n    </tr>\n    <tr>\n      <th>3</th>\n      <td>sport</td>\n      <td>0.811321</td>\n    </tr>\n    <tr>\n      <th>4</th>\n      <td>tech</td>\n      <td>0.843972</td>\n    </tr>\n  </tbody>\n</table>\n</div>",
                        "text/plain": "       \u041a\u0430\u0442\u0435\u0433\u043e\u0440\u0438\u044f  \u0422\u043e\u0447\u043d\u043e\u0441\u0442\u044c\n0       business  0.805031\n1  entertainment  0.671533\n2       politics  0.762590\n3          sport  0.811321\n4           tech  0.843972"
                    },
                    "execution_count": 99,
                    "metadata": {},
                    "output_type": "execute_result"
                }
            ],
            "source": "classifier_pipeline(EmbeddingVectorizer(model_trained_on_dataset.wv), DecisionTreeClassifier(max_depth=60, criterion=\"gini\"))"
        },
        {
            "cell_type": "code",
            "execution_count": 100,
            "id": "86fac023",
            "metadata": {
                "trusted": true
            },
            "outputs": [
                {
                    "data": {
                        "text/html": "<div>\n<style scoped>\n    .dataframe tbody tr th:only-of-type {\n        vertical-align: middle;\n    }\n\n    .dataframe tbody tr th {\n        vertical-align: top;\n    }\n\n    .dataframe thead th {\n        text-align: right;\n    }\n</style>\n<table border=\"1\" class=\"dataframe\">\n  <thead>\n    <tr style=\"text-align: right;\">\n      <th></th>\n      <th>\u041a\u0430\u0442\u0435\u0433\u043e\u0440\u0438\u044f</th>\n      <th>\u0422\u043e\u0447\u043d\u043e\u0441\u0442\u044c</th>\n    </tr>\n  </thead>\n  <tbody>\n    <tr>\n      <th>0</th>\n      <td>business</td>\n      <td>0.786164</td>\n    </tr>\n    <tr>\n      <th>1</th>\n      <td>entertainment</td>\n      <td>0.656934</td>\n    </tr>\n    <tr>\n      <th>2</th>\n      <td>politics</td>\n      <td>0.748201</td>\n    </tr>\n    <tr>\n      <th>3</th>\n      <td>sport</td>\n      <td>0.811321</td>\n    </tr>\n    <tr>\n      <th>4</th>\n      <td>tech</td>\n      <td>0.808511</td>\n    </tr>\n  </tbody>\n</table>\n</div>",
                        "text/plain": "       \u041a\u0430\u0442\u0435\u0433\u043e\u0440\u0438\u044f  \u0422\u043e\u0447\u043d\u043e\u0441\u0442\u044c\n0       business  0.786164\n1  entertainment  0.656934\n2       politics  0.748201\n3          sport  0.811321\n4           tech  0.808511"
                    },
                    "metadata": {},
                    "output_type": "display_data"
                },
                {
                    "data": {
                        "text/plain": "{'LogisticRegression': {'our w2v': 0.8650237552136701},\n 'LogisticRegression with scaler': {'our w2v': 0.863667139000196},\n 'MultinomialNB': {'our w2v': 0.7438477361470713},\n 'KNeighborsClassifier': {'our w2v': 0.831065911042641},\n 'DecisionTreeClassifier': {'our w2v': 0.7622261320891393}}"
                    },
                    "execution_count": 100,
                    "metadata": {},
                    "output_type": "execute_result"
                }
            ],
            "source": "add_metrics_data(\"DecisionTreeClassifier\", \"our w2v\", classifier_pipeline(EmbeddingVectorizer(model_trained_on_dataset.wv), DecisionTreeClassifier(max_depth=200, criterion=\"gini\")))"
        },
        {
            "cell_type": "markdown",
            "id": "2f0bdef1",
            "metadata": {},
            "source": "### \u041f\u0440\u043e\u0442\u0435\u0441\u0442\u0438\u0440\u0443\u0435\u043c \u043f\u0440\u0435\u0434\u043e\u0431\u0443\u0447\u0435\u043d\u043d\u0443\u044e \u043c\u043e\u0434\u0435\u043b\u044c \u043e\u0442 google Word2Vec."
        },
        {
            "cell_type": "markdown",
            "id": "3672462d",
            "metadata": {},
            "source": "#### LogisticRegression"
        },
        {
            "cell_type": "code",
            "execution_count": 101,
            "id": "8e738e7f",
            "metadata": {
                "trusted": true
            },
            "outputs": [
                {
                    "data": {
                        "text/html": "<div>\n<style scoped>\n    .dataframe tbody tr th:only-of-type {\n        vertical-align: middle;\n    }\n\n    .dataframe tbody tr th {\n        vertical-align: top;\n    }\n\n    .dataframe thead th {\n        text-align: right;\n    }\n</style>\n<table border=\"1\" class=\"dataframe\">\n  <thead>\n    <tr style=\"text-align: right;\">\n      <th></th>\n      <th>\u041a\u0430\u0442\u0435\u0433\u043e\u0440\u0438\u044f</th>\n      <th>\u0422\u043e\u0447\u043d\u043e\u0441\u0442\u044c</th>\n    </tr>\n  </thead>\n  <tbody>\n    <tr>\n      <th>0</th>\n      <td>business</td>\n      <td>0.943396</td>\n    </tr>\n    <tr>\n      <th>1</th>\n      <td>entertainment</td>\n      <td>0.963504</td>\n    </tr>\n    <tr>\n      <th>2</th>\n      <td>politics</td>\n      <td>0.949640</td>\n    </tr>\n    <tr>\n      <th>3</th>\n      <td>sport</td>\n      <td>0.993711</td>\n    </tr>\n    <tr>\n      <th>4</th>\n      <td>tech</td>\n      <td>0.971631</td>\n    </tr>\n  </tbody>\n</table>\n</div>",
                        "text/plain": "       \u041a\u0430\u0442\u0435\u0433\u043e\u0440\u0438\u044f  \u0422\u043e\u0447\u043d\u043e\u0441\u0442\u044c\n0       business  0.943396\n1  entertainment  0.963504\n2       politics  0.949640\n3          sport  0.993711\n4           tech  0.971631"
                    },
                    "metadata": {},
                    "output_type": "display_data"
                },
                {
                    "data": {
                        "text/plain": "{'LogisticRegression': {'our w2v': 0.8650237552136701,\n  'google w2v': 0.9643764122635148},\n 'LogisticRegression with scaler': {'our w2v': 0.863667139000196},\n 'MultinomialNB': {'our w2v': 0.7438477361470713},\n 'KNeighborsClassifier': {'our w2v': 0.831065911042641},\n 'DecisionTreeClassifier': {'our w2v': 0.7622261320891393}}"
                    },
                    "execution_count": 101,
                    "metadata": {},
                    "output_type": "execute_result"
                }
            ],
            "source": "add_metrics_data(\"LogisticRegression\", \"google w2v\", classifier_pipeline(EmbeddingVectorizer(word2vec_google_news_300_model), LogisticRegression(C=5.0)))"
        },
        {
            "cell_type": "markdown",
            "id": "66788a80",
            "metadata": {},
            "source": "LogisticRegression \u0441 min_max_scaler"
        },
        {
            "cell_type": "code",
            "execution_count": 102,
            "id": "9a573204",
            "metadata": {
                "trusted": true
            },
            "outputs": [
                {
                    "data": {
                        "text/html": "<div>\n<style scoped>\n    .dataframe tbody tr th:only-of-type {\n        vertical-align: middle;\n    }\n\n    .dataframe tbody tr th {\n        vertical-align: top;\n    }\n\n    .dataframe thead th {\n        text-align: right;\n    }\n</style>\n<table border=\"1\" class=\"dataframe\">\n  <thead>\n    <tr style=\"text-align: right;\">\n      <th></th>\n      <th>\u041a\u0430\u0442\u0435\u0433\u043e\u0440\u0438\u044f</th>\n      <th>\u0422\u043e\u0447\u043d\u043e\u0441\u0442\u044c</th>\n    </tr>\n  </thead>\n  <tbody>\n    <tr>\n      <th>0</th>\n      <td>business</td>\n      <td>0.955975</td>\n    </tr>\n    <tr>\n      <th>1</th>\n      <td>entertainment</td>\n      <td>0.978102</td>\n    </tr>\n    <tr>\n      <th>2</th>\n      <td>politics</td>\n      <td>0.942446</td>\n    </tr>\n    <tr>\n      <th>3</th>\n      <td>sport</td>\n      <td>0.993711</td>\n    </tr>\n    <tr>\n      <th>4</th>\n      <td>tech</td>\n      <td>0.992908</td>\n    </tr>\n  </tbody>\n</table>\n</div>",
                        "text/plain": "       \u041a\u0430\u0442\u0435\u0433\u043e\u0440\u0438\u044f  \u0422\u043e\u0447\u043d\u043e\u0441\u0442\u044c\n0       business  0.955975\n1  entertainment  0.978102\n2       politics  0.942446\n3          sport  0.993711\n4           tech  0.992908"
                    },
                    "metadata": {},
                    "output_type": "display_data"
                },
                {
                    "data": {
                        "text/plain": "{'LogisticRegression': {'our w2v': 0.8650237552136701,\n  'google w2v': 0.9643764122635148},\n 'LogisticRegression with scaler': {'our w2v': 0.863667139000196,\n  'google w2v': 0.9726283137912249},\n 'MultinomialNB': {'our w2v': 0.7438477361470713},\n 'KNeighborsClassifier': {'our w2v': 0.831065911042641},\n 'DecisionTreeClassifier': {'our w2v': 0.7622261320891393}}"
                    },
                    "execution_count": 102,
                    "metadata": {},
                    "output_type": "execute_result"
                }
            ],
            "source": "add_metrics_data(\"LogisticRegression with scaler\", \"google w2v\", classifier_pipeline(EmbeddingVectorizer(word2vec_google_news_300_model), LogisticRegression(C=5.0), scaler=min_max_scaler))"
        },
        {
            "cell_type": "markdown",
            "id": "95029028",
            "metadata": {},
            "source": "#### MultinomialNaiveBayes"
        },
        {
            "cell_type": "code",
            "execution_count": 103,
            "id": "6928a866",
            "metadata": {
                "trusted": true
            },
            "outputs": [
                {
                    "data": {
                        "text/html": "<div>\n<style scoped>\n    .dataframe tbody tr th:only-of-type {\n        vertical-align: middle;\n    }\n\n    .dataframe tbody tr th {\n        vertical-align: top;\n    }\n\n    .dataframe thead th {\n        text-align: right;\n    }\n</style>\n<table border=\"1\" class=\"dataframe\">\n  <thead>\n    <tr style=\"text-align: right;\">\n      <th></th>\n      <th>\u041a\u0430\u0442\u0435\u0433\u043e\u0440\u0438\u044f</th>\n      <th>\u0422\u043e\u0447\u043d\u043e\u0441\u0442\u044c</th>\n    </tr>\n  </thead>\n  <tbody>\n    <tr>\n      <th>0</th>\n      <td>business</td>\n      <td>0.924528</td>\n    </tr>\n    <tr>\n      <th>1</th>\n      <td>entertainment</td>\n      <td>0.905109</td>\n    </tr>\n    <tr>\n      <th>2</th>\n      <td>politics</td>\n      <td>0.949640</td>\n    </tr>\n    <tr>\n      <th>3</th>\n      <td>sport</td>\n      <td>0.987421</td>\n    </tr>\n    <tr>\n      <th>4</th>\n      <td>tech</td>\n      <td>0.929078</td>\n    </tr>\n  </tbody>\n</table>\n</div>",
                        "text/plain": "       \u041a\u0430\u0442\u0435\u0433\u043e\u0440\u0438\u044f  \u0422\u043e\u0447\u043d\u043e\u0441\u0442\u044c\n0       business  0.924528\n1  entertainment  0.905109\n2       politics  0.949640\n3          sport  0.987421\n4           tech  0.929078"
                    },
                    "metadata": {},
                    "output_type": "display_data"
                },
                {
                    "data": {
                        "text/plain": "{'LogisticRegression': {'our w2v': 0.8650237552136701,\n  'google w2v': 0.9643764122635148},\n 'LogisticRegression with scaler': {'our w2v': 0.863667139000196,\n  'google w2v': 0.9726283137912249},\n 'MultinomialNB': {'our w2v': 0.7438477361470713,\n  'google w2v': 0.9391554953079735},\n 'KNeighborsClassifier': {'our w2v': 0.831065911042641},\n 'DecisionTreeClassifier': {'our w2v': 0.7622261320891393}}"
                    },
                    "execution_count": 103,
                    "metadata": {},
                    "output_type": "execute_result"
                }
            ],
            "source": "from sklearn.naive_bayes import MultinomialNB\n\n# NB \u043d\u0443\u0436\u043d\u044b \u043d\u0435\u043e\u0442\u0440\u0438\u0446\u0430\u0442\u0435\u043b\u044c\u043d\u044b\u0435 \u0437\u043d\u0430\u0447\u0435\u043d\u0438\u044f.\nadd_metrics_data(\"MultinomialNB\", \"google w2v\", classifier_pipeline(EmbeddingVectorizer(word2vec_google_news_300_model), MultinomialNB(), scaler=min_max_scaler))"
        },
        {
            "cell_type": "markdown",
            "id": "5bd659ae",
            "metadata": {},
            "source": "#### KNeighborsClassifier"
        },
        {
            "cell_type": "code",
            "execution_count": 104,
            "id": "35d560e1",
            "metadata": {
                "trusted": true
            },
            "outputs": [
                {
                    "data": {
                        "text/html": "<div>\n<style scoped>\n    .dataframe tbody tr th:only-of-type {\n        vertical-align: middle;\n    }\n\n    .dataframe tbody tr th {\n        vertical-align: top;\n    }\n\n    .dataframe thead th {\n        text-align: right;\n    }\n</style>\n<table border=\"1\" class=\"dataframe\">\n  <thead>\n    <tr style=\"text-align: right;\">\n      <th></th>\n      <th>\u041a\u0430\u0442\u0435\u0433\u043e\u0440\u0438\u044f</th>\n      <th>\u0422\u043e\u0447\u043d\u043e\u0441\u0442\u044c</th>\n    </tr>\n  </thead>\n  <tbody>\n    <tr>\n      <th>0</th>\n      <td>business</td>\n      <td>0.905660</td>\n    </tr>\n    <tr>\n      <th>1</th>\n      <td>entertainment</td>\n      <td>0.948905</td>\n    </tr>\n    <tr>\n      <th>2</th>\n      <td>politics</td>\n      <td>0.971223</td>\n    </tr>\n    <tr>\n      <th>3</th>\n      <td>sport</td>\n      <td>1.000000</td>\n    </tr>\n    <tr>\n      <th>4</th>\n      <td>tech</td>\n      <td>0.964539</td>\n    </tr>\n  </tbody>\n</table>\n</div>",
                        "text/plain": "       \u041a\u0430\u0442\u0435\u0433\u043e\u0440\u0438\u044f  \u0422\u043e\u0447\u043d\u043e\u0441\u0442\u044c\n0       business  0.905660\n1  entertainment  0.948905\n2       politics  0.971223\n3          sport  1.000000\n4           tech  0.964539"
                    },
                    "metadata": {},
                    "output_type": "display_data"
                },
                {
                    "data": {
                        "text/plain": "{'LogisticRegression': {'our w2v': 0.8650237552136701,\n  'google w2v': 0.9643764122635148},\n 'LogisticRegression with scaler': {'our w2v': 0.863667139000196,\n  'google w2v': 0.9726283137912249},\n 'MultinomialNB': {'our w2v': 0.7438477361470713,\n  'google w2v': 0.9391554953079735},\n 'KNeighborsClassifier': {'our w2v': 0.831065911042641,\n  'google w2v': 0.9580655031044948},\n 'DecisionTreeClassifier': {'our w2v': 0.7622261320891393}}"
                    },
                    "execution_count": 104,
                    "metadata": {},
                    "output_type": "execute_result"
                }
            ],
            "source": "from sklearn.neighbors import KNeighborsClassifier\n\n# KNC \u043d\u0443\u0436\u043d\u044b \u0437\u043d\u0430\u0447\u0435\u043d\u0438\u044f, \u0440\u0430\u0441\u043f\u0440\u0435\u0434\u0435\u043b\u0451\u043d\u043d\u044b\u0435 \u043f\u043e \u043d\u043e\u0440\u043c\u0430\u043b\u044c\u043d\u043e\u043c\u0443 \u0440\u0430\u0441\u043f\u0440\u0435\u0434\u0435\u043b\u0435\u043d\u0438\u044e.\nadd_metrics_data(\"KNeighborsClassifier\", \"google w2v\", classifier_pipeline(EmbeddingVectorizer(word2vec_google_news_300_model), KNeighborsClassifier(n_neighbors=15), scaler=standard_scaler))"
        },
        {
            "cell_type": "markdown",
            "id": "e498fe31",
            "metadata": {},
            "source": "#### DecisionTreeClassifier"
        },
        {
            "cell_type": "code",
            "execution_count": 105,
            "id": "6a7e1b24",
            "metadata": {
                "trusted": true
            },
            "outputs": [
                {
                    "data": {
                        "text/html": "<div>\n<style scoped>\n    .dataframe tbody tr th:only-of-type {\n        vertical-align: middle;\n    }\n\n    .dataframe tbody tr th {\n        vertical-align: top;\n    }\n\n    .dataframe thead th {\n        text-align: right;\n    }\n</style>\n<table border=\"1\" class=\"dataframe\">\n  <thead>\n    <tr style=\"text-align: right;\">\n      <th></th>\n      <th>\u041a\u0430\u0442\u0435\u0433\u043e\u0440\u0438\u044f</th>\n      <th>\u0422\u043e\u0447\u043d\u043e\u0441\u0442\u044c</th>\n    </tr>\n  </thead>\n  <tbody>\n    <tr>\n      <th>0</th>\n      <td>business</td>\n      <td>0.886792</td>\n    </tr>\n    <tr>\n      <th>1</th>\n      <td>entertainment</td>\n      <td>0.802920</td>\n    </tr>\n    <tr>\n      <th>2</th>\n      <td>politics</td>\n      <td>0.841727</td>\n    </tr>\n    <tr>\n      <th>3</th>\n      <td>sport</td>\n      <td>0.955975</td>\n    </tr>\n    <tr>\n      <th>4</th>\n      <td>tech</td>\n      <td>0.829787</td>\n    </tr>\n  </tbody>\n</table>\n</div>",
                        "text/plain": "       \u041a\u0430\u0442\u0435\u0433\u043e\u0440\u0438\u044f  \u0422\u043e\u0447\u043d\u043e\u0441\u0442\u044c\n0       business  0.886792\n1  entertainment  0.802920\n2       politics  0.841727\n3          sport  0.955975\n4           tech  0.829787"
                    },
                    "metadata": {},
                    "output_type": "display_data"
                },
                {
                    "data": {
                        "text/plain": "{'LogisticRegression': {'our w2v': 0.8650237552136701,\n  'google w2v': 0.9643764122635148},\n 'LogisticRegression with scaler': {'our w2v': 0.863667139000196,\n  'google w2v': 0.9726283137912249},\n 'MultinomialNB': {'our w2v': 0.7438477361470713,\n  'google w2v': 0.9391554953079735},\n 'KNeighborsClassifier': {'our w2v': 0.831065911042641,\n  'google w2v': 0.9580655031044948},\n 'DecisionTreeClassifier': {'our w2v': 0.7622261320891393,\n  'google w2v': 0.8634401712748542}}"
                    },
                    "execution_count": 105,
                    "metadata": {},
                    "output_type": "execute_result"
                }
            ],
            "source": "from sklearn.tree import DecisionTreeClassifier\n\nadd_metrics_data(\"DecisionTreeClassifier\", \"google w2v\", classifier_pipeline(EmbeddingVectorizer(word2vec_google_news_300_model), DecisionTreeClassifier(max_depth=200, criterion=\"gini\")))"
        },
        {
            "cell_type": "markdown",
            "id": "7fc890aa",
            "metadata": {},
            "source": "### TFIDF\nScaler \u043d\u0435 \u043d\u0443\u0436\u0435\u043d (\u0438 \u0435\u0433\u043e \u0434\u0430\u0436\u0435 \u043d\u0435\u0432\u043e\u0437\u043c\u043e\u0436\u043d\u043e \u043f\u0440\u0438\u043c\u0435\u043d\u0438\u0442\u044c, \u0432\u0435\u0434\u044c tfidf \u0432\u043e\u0437\u0432\u0440\u0430\u0449\u0430\u0435\u0442\n\u0440\u0430\u0437\u0440\u0435\u0436\u0435\u043d\u043d\u0443\u044e \u043c\u0430\u0442\u0440\u0438\u0446\u0443)"
        },
        {
            "cell_type": "code",
            "execution_count": 106,
            "id": "f3383660",
            "metadata": {
                "trusted": true
            },
            "outputs": [],
            "source": "from sklearn.feature_extraction.text import TfidfVectorizer\n\ntfidf = TfidfVectorizer(ngram_range=(1,3))"
        },
        {
            "cell_type": "markdown",
            "id": "d8a220c6",
            "metadata": {},
            "source": "#### LogisticRegression"
        },
        {
            "cell_type": "code",
            "execution_count": 107,
            "id": "2a021d82",
            "metadata": {
                "trusted": true
            },
            "outputs": [
                {
                    "data": {
                        "text/html": "<div>\n<style scoped>\n    .dataframe tbody tr th:only-of-type {\n        vertical-align: middle;\n    }\n\n    .dataframe tbody tr th {\n        vertical-align: top;\n    }\n\n    .dataframe thead th {\n        text-align: right;\n    }\n</style>\n<table border=\"1\" class=\"dataframe\">\n  <thead>\n    <tr style=\"text-align: right;\">\n      <th></th>\n      <th>\u041a\u0430\u0442\u0435\u0433\u043e\u0440\u0438\u044f</th>\n      <th>\u0422\u043e\u0447\u043d\u043e\u0441\u0442\u044c</th>\n    </tr>\n  </thead>\n  <tbody>\n    <tr>\n      <th>0</th>\n      <td>business</td>\n      <td>0.955975</td>\n    </tr>\n    <tr>\n      <th>1</th>\n      <td>entertainment</td>\n      <td>0.919708</td>\n    </tr>\n    <tr>\n      <th>2</th>\n      <td>politics</td>\n      <td>0.971223</td>\n    </tr>\n    <tr>\n      <th>3</th>\n      <td>sport</td>\n      <td>0.993711</td>\n    </tr>\n    <tr>\n      <th>4</th>\n      <td>tech</td>\n      <td>0.992908</td>\n    </tr>\n  </tbody>\n</table>\n</div>",
                        "text/plain": "       \u041a\u0430\u0442\u0435\u0433\u043e\u0440\u0438\u044f  \u0422\u043e\u0447\u043d\u043e\u0441\u0442\u044c\n0       business  0.955975\n1  entertainment  0.919708\n2       politics  0.971223\n3          sport  0.993711\n4           tech  0.992908"
                    },
                    "metadata": {},
                    "output_type": "display_data"
                },
                {
                    "data": {
                        "text/plain": "{'LogisticRegression': {'our w2v': 0.8650237552136701,\n  'google w2v': 0.9643764122635148,\n  'tfidf': 0.9667048773578898},\n 'LogisticRegression with scaler': {'our w2v': 0.863667139000196,\n  'google w2v': 0.9726283137912249},\n 'MultinomialNB': {'our w2v': 0.7438477361470713,\n  'google w2v': 0.9391554953079735},\n 'KNeighborsClassifier': {'our w2v': 0.831065911042641,\n  'google w2v': 0.9580655031044948},\n 'DecisionTreeClassifier': {'our w2v': 0.7622261320891393,\n  'google w2v': 0.8634401712748542}}"
                    },
                    "execution_count": 107,
                    "metadata": {},
                    "output_type": "execute_result"
                }
            ],
            "source": "add_metrics_data(\"LogisticRegression\", \"tfidf\", classifier_pipeline(tfidf, LogisticRegression(C=5.0), corpus_already_tokenized=False))"
        },
        {
            "cell_type": "markdown",
            "id": "d7ed373e",
            "metadata": {},
            "source": "#### MultinomialNaiveBayes"
        },
        {
            "cell_type": "code",
            "execution_count": 108,
            "id": "2f822073",
            "metadata": {
                "trusted": true
            },
            "outputs": [
                {
                    "data": {
                        "text/html": "<div>\n<style scoped>\n    .dataframe tbody tr th:only-of-type {\n        vertical-align: middle;\n    }\n\n    .dataframe tbody tr th {\n        vertical-align: top;\n    }\n\n    .dataframe thead th {\n        text-align: right;\n    }\n</style>\n<table border=\"1\" class=\"dataframe\">\n  <thead>\n    <tr style=\"text-align: right;\">\n      <th></th>\n      <th>\u041a\u0430\u0442\u0435\u0433\u043e\u0440\u0438\u044f</th>\n      <th>\u0422\u043e\u0447\u043d\u043e\u0441\u0442\u044c</th>\n    </tr>\n  </thead>\n  <tbody>\n    <tr>\n      <th>0</th>\n      <td>business</td>\n      <td>0.974843</td>\n    </tr>\n    <tr>\n      <th>1</th>\n      <td>entertainment</td>\n      <td>0.598540</td>\n    </tr>\n    <tr>\n      <th>2</th>\n      <td>politics</td>\n      <td>0.949640</td>\n    </tr>\n    <tr>\n      <th>3</th>\n      <td>sport</td>\n      <td>1.000000</td>\n    </tr>\n    <tr>\n      <th>4</th>\n      <td>tech</td>\n      <td>0.921986</td>\n    </tr>\n  </tbody>\n</table>\n</div>",
                        "text/plain": "       \u041a\u0430\u0442\u0435\u0433\u043e\u0440\u0438\u044f  \u0422\u043e\u0447\u043d\u043e\u0441\u0442\u044c\n0       business  0.974843\n1  entertainment  0.598540\n2       politics  0.949640\n3          sport  1.000000\n4           tech  0.921986"
                    },
                    "metadata": {},
                    "output_type": "display_data"
                },
                {
                    "data": {
                        "text/plain": "{'LogisticRegression': {'our w2v': 0.8650237552136701,\n  'google w2v': 0.9643764122635148,\n  'tfidf': 0.9667048773578898},\n 'LogisticRegression with scaler': {'our w2v': 0.863667139000196,\n  'google w2v': 0.9726283137912249},\n 'MultinomialNB': {'our w2v': 0.7438477361470713,\n  'google w2v': 0.9391554953079735,\n  'tfidf': 0.8890018033307239},\n 'KNeighborsClassifier': {'our w2v': 0.831065911042641,\n  'google w2v': 0.9580655031044948},\n 'DecisionTreeClassifier': {'our w2v': 0.7622261320891393,\n  'google w2v': 0.8634401712748542}}"
                    },
                    "execution_count": 108,
                    "metadata": {},
                    "output_type": "execute_result"
                }
            ],
            "source": "from sklearn.naive_bayes import MultinomialNB\n\n# NB \u043d\u0443\u0436\u043d\u044b \u043d\u0435\u043e\u0442\u0440\u0438\u0446\u0430\u0442\u0435\u043b\u044c\u043d\u044b\u0435 \u0437\u043d\u0430\u0447\u0435\u043d\u0438\u044f.\nadd_metrics_data(\"MultinomialNB\", \"tfidf\", classifier_pipeline(tfidf, MultinomialNB(), corpus_already_tokenized=False))"
        },
        {
            "cell_type": "markdown",
            "id": "883158ad",
            "metadata": {},
            "source": "#### KNeighborsClassifier"
        },
        {
            "cell_type": "code",
            "execution_count": 109,
            "id": "0cf5db48",
            "metadata": {
                "trusted": true
            },
            "outputs": [
                {
                    "data": {
                        "text/html": "<div>\n<style scoped>\n    .dataframe tbody tr th:only-of-type {\n        vertical-align: middle;\n    }\n\n    .dataframe tbody tr th {\n        vertical-align: top;\n    }\n\n    .dataframe thead th {\n        text-align: right;\n    }\n</style>\n<table border=\"1\" class=\"dataframe\">\n  <thead>\n    <tr style=\"text-align: right;\">\n      <th></th>\n      <th>\u041a\u0430\u0442\u0435\u0433\u043e\u0440\u0438\u044f</th>\n      <th>\u0422\u043e\u0447\u043d\u043e\u0441\u0442\u044c</th>\n    </tr>\n  </thead>\n  <tbody>\n    <tr>\n      <th>0</th>\n      <td>business</td>\n      <td>0.874214</td>\n    </tr>\n    <tr>\n      <th>1</th>\n      <td>entertainment</td>\n      <td>0.868613</td>\n    </tr>\n    <tr>\n      <th>2</th>\n      <td>politics</td>\n      <td>0.964029</td>\n    </tr>\n    <tr>\n      <th>3</th>\n      <td>sport</td>\n      <td>0.981132</td>\n    </tr>\n    <tr>\n      <th>4</th>\n      <td>tech</td>\n      <td>0.950355</td>\n    </tr>\n  </tbody>\n</table>\n</div>",
                        "text/plain": "       \u041a\u0430\u0442\u0435\u0433\u043e\u0440\u0438\u044f  \u0422\u043e\u0447\u043d\u043e\u0441\u0442\u044c\n0       business  0.874214\n1  entertainment  0.868613\n2       politics  0.964029\n3          sport  0.981132\n4           tech  0.950355"
                    },
                    "metadata": {},
                    "output_type": "display_data"
                },
                {
                    "data": {
                        "text/plain": "{'LogisticRegression': {'our w2v': 0.8650237552136701,\n  'google w2v': 0.9643764122635148,\n  'tfidf': 0.9667048773578898},\n 'LogisticRegression with scaler': {'our w2v': 0.863667139000196,\n  'google w2v': 0.9726283137912249},\n 'MultinomialNB': {'our w2v': 0.7438477361470713,\n  'google w2v': 0.9391554953079735,\n  'tfidf': 0.8890018033307239},\n 'KNeighborsClassifier': {'our w2v': 0.831065911042641,\n  'google w2v': 0.9580655031044948,\n  'tfidf': 0.9276684875086623},\n 'DecisionTreeClassifier': {'our w2v': 0.7622261320891393,\n  'google w2v': 0.8634401712748542}}"
                    },
                    "execution_count": 109,
                    "metadata": {},
                    "output_type": "execute_result"
                }
            ],
            "source": "from sklearn.neighbors import KNeighborsClassifier\n\n# KNC \u043d\u0443\u0436\u043d\u044b \u0437\u043d\u0430\u0447\u0435\u043d\u0438\u044f, \u0440\u0430\u0441\u043f\u0440\u0435\u0434\u0435\u043b\u0451\u043d\u043d\u044b\u0435 \u043f\u043e \u043d\u043e\u0440\u043c\u0430\u043b\u044c\u043d\u043e\u043c\u0443 \u0440\u0430\u0441\u043f\u0440\u0435\u0434\u0435\u043b\u0435\u043d\u0438\u044e.\nadd_metrics_data(\"KNeighborsClassifier\", \"tfidf\", classifier_pipeline(tfidf, KNeighborsClassifier(n_neighbors=15), corpus_already_tokenized=False))"
        },
        {
            "cell_type": "markdown",
            "id": "61d0ccfb",
            "metadata": {},
            "source": "#### DecisionTreeClassifier"
        },
        {
            "cell_type": "code",
            "execution_count": 110,
            "id": "42915de2",
            "metadata": {
                "trusted": true
            },
            "outputs": [
                {
                    "data": {
                        "text/html": "<div>\n<style scoped>\n    .dataframe tbody tr th:only-of-type {\n        vertical-align: middle;\n    }\n\n    .dataframe tbody tr th {\n        vertical-align: top;\n    }\n\n    .dataframe thead th {\n        text-align: right;\n    }\n</style>\n<table border=\"1\" class=\"dataframe\">\n  <thead>\n    <tr style=\"text-align: right;\">\n      <th></th>\n      <th>\u041a\u0430\u0442\u0435\u0433\u043e\u0440\u0438\u044f</th>\n      <th>\u0422\u043e\u0447\u043d\u043e\u0441\u0442\u044c</th>\n    </tr>\n  </thead>\n  <tbody>\n    <tr>\n      <th>0</th>\n      <td>business</td>\n      <td>0.754717</td>\n    </tr>\n    <tr>\n      <th>1</th>\n      <td>entertainment</td>\n      <td>0.700730</td>\n    </tr>\n    <tr>\n      <th>2</th>\n      <td>politics</td>\n      <td>0.697842</td>\n    </tr>\n    <tr>\n      <th>3</th>\n      <td>sport</td>\n      <td>0.880503</td>\n    </tr>\n    <tr>\n      <th>4</th>\n      <td>tech</td>\n      <td>0.765957</td>\n    </tr>\n  </tbody>\n</table>\n</div>",
                        "text/plain": "       \u041a\u0430\u0442\u0435\u0433\u043e\u0440\u0438\u044f  \u0422\u043e\u0447\u043d\u043e\u0441\u0442\u044c\n0       business  0.754717\n1  entertainment  0.700730\n2       politics  0.697842\n3          sport  0.880503\n4           tech  0.765957"
                    },
                    "metadata": {},
                    "output_type": "display_data"
                },
                {
                    "data": {
                        "text/plain": "{'LogisticRegression': {'our w2v': 0.8650237552136701,\n  'google w2v': 0.9643764122635148,\n  'tfidf': 0.9667048773578898},\n 'LogisticRegression with scaler': {'our w2v': 0.863667139000196,\n  'google w2v': 0.9726283137912249},\n 'MultinomialNB': {'our w2v': 0.7438477361470713,\n  'google w2v': 0.9391554953079735,\n  'tfidf': 0.8890018033307239},\n 'KNeighborsClassifier': {'our w2v': 0.831065911042641,\n  'google w2v': 0.9580655031044948,\n  'tfidf': 0.9276684875086623},\n 'DecisionTreeClassifier': {'our w2v': 0.7622261320891393,\n  'google w2v': 0.8634401712748542,\n  'tfidf': 0.7599498452441356}}"
                    },
                    "execution_count": 110,
                    "metadata": {},
                    "output_type": "execute_result"
                }
            ],
            "source": "from sklearn.tree import DecisionTreeClassifier\n\nadd_metrics_data(\"DecisionTreeClassifier\", \"tfidf\", classifier_pipeline(tfidf, DecisionTreeClassifier(max_depth=200, criterion=\"gini\"), corpus_already_tokenized=False))"
        },
        {
            "cell_type": "markdown",
            "id": "2dd42547",
            "metadata": {},
            "source": "### \u0421\u0440\u0430\u0432\u043d\u0435\u043d\u0438\u0435 \u0440\u0435\u0437\u0443\u043b\u044c\u0442\u0430\u0442\u043e\u0432"
        },
        {
            "cell_type": "code",
            "execution_count": 166,
            "id": "36a795d6",
            "metadata": {
                "trusted": true
            },
            "outputs": [],
            "source": "import matplotlib.pyplot as plt\n\ndef grouped_bar_chart(ax, data: dict[str, list[float]],\n                      tick_labels, colors=None, total_width=0.8,\n             single_width=1):\n    \"\"\"Draws a bar plot with multiple bars per data point.\n\n    Parameters\n    ----------\n    ax: matplotlib.pyplot.axis\n        The axis we want to draw our plot on.\n\n    data: Dict[str, List[float]]\n        A dictionary containing the data we want to plot. Keys are the names of the\n        data, the items is a list of the values.\n\n        Example:\n        data = {\n            \"x\":[ 1, 2,      3      ],\n            \"y\":[ 1, np.nan, 3      ],\n            \"z\":[ 1, 2,      np.nan ],\n        }\n\n    tick_labels: list\n        Labels which will be displayed under each group.\n\n        Example:\n        tick_labels = ['Accuracy', 'F1', 'Precision']\n\n        Note:\n        Length should be the same as number of groups.\n        \n\n    colors: array-like, optional\n        A list of colors which are used for the bars. If None, the colors\n        will be the standard matplotlib color cyle. (default: None)\n\n    total_width: float, optional, default: 0.8\n        The width of a bar group. 0.8 means that 80% of the x-axis is covered\n        by bars and 20% will be spaces between the bars.\n\n    single_width: float, optional, default: 1\n        The relative width of a single bar within a group. 1 means the bars\n        will touch eachother within a group, values less than 1 will make\n        these bars thinner.\n    \"\"\"\n\n    # Check if colors where provided, otherwhise use the default color cycle\n    if colors is None:\n        colors = plt.rcParams['axes.prop_cycle'].by_key()['color']\n\n\n    # Number of bars per group.\n    n_bars = len(data)\n\n    # The width of a single bar.\n    bar_width = total_width / n_bars\n\n    tick_locations = np.arange(len(tick_labels))\n\n    # Iterate over all data.\n    for i, (name, values) in enumerate(data.items()):\n        # The offset in x direction of that bar.\n        tick_offset = (i - n_bars / 2) * bar_width + bar_width / 2\n\n        # One bar plot consists of multiple rectangles.\n        rects = ax.bar(tick_locations + tick_offset, values, width=bar_width * single_width,\n                     color=colors[i % len(colors)],\n                     label=name)\n        # Add a handle to the last drawn bar, which we'll need for the legend.\n        # bars.append(bars[0])\n\n        # Add label (value) above each bar. Format it to 5 fixed numbers after\n        # comma.\n        ax.bar_label(rects, fmt=\"%0.5f\", padding=3)\n\n    ax.set_xticks(tick_locations, labels=tick_labels)"
        },
        {
            "cell_type": "code",
            "execution_count": 167,
            "id": "f552fae8",
            "metadata": {
                "trusted": true
            },
            "outputs": [],
            "source": "def show_metrics_grouped_bar_chart(metrics_data: dict[str, dict[str, float]]):\n    \"\"\" Creates grouped bar chart for metrics.\n    :param metrics_data: a dictionary of metrics and their values for each\n        model.\n    :type metrics_data: dict[str, dict[str, float]]\n\n        Example:\n\n        metrics_data = {\n            'GridSearchCV': { \n                'Accuracy': 1,\n                'a': 2,\n                'b': 3,\n            },\n            'RandomSearchCV': {\n                'Roc': 2,\n                'a': 3,\n                'b': 4,\n            },\n        }\n\n    \"\"\"\n    # plt.figure(figsize=(7,3))\n    width = 15\n    height = 15\n    plt.rcParams['figure.figsize'] = width, height\n\n    fig, ax = plt.subplots()\n\n    # Extracting unique metric names from our data.\n    tick_labels = set()\n    for model_metrics in metrics_data.values():\n        tick_labels.update(list(model_metrics.keys()))\n\n    \"\"\" Converting our dictionary to a `fully filled` dictionary of lists:\n    data = {\n        'GridSearchCV': [ \n            1, # was 'Accuracy': 1,\n            2, # was 'a': 2,\n            3, # was 'b': 3,\n            None, # didn't have value for 'Roc';\n        ],\n        'RandomSearchCV': [\n            None, # didn't have value for 'Accuracy',\n            3, # was 'a': 3,\n            4, # was 'b': 4,\n            2, # was 'Roc': 2;\n        ],\n    }\n    \"\"\"\n    filled_metrics_data = {}\n\n    for model in metrics_data.keys():\n        filled_metrics_data[model] = []\n        for metric in tick_labels:\n            filled_metrics_data[model].append(metrics_data[model].get(metric)\n                                              or np.nan)\n            \n    \n    grouped_bar_chart(ax, filled_metrics_data, tick_labels=tick_labels,\n                      total_width=.8, single_width=.9, colors=['#aadddd',\n                          '#eebbbb', '#ccbbbb', '#77bb77', \"#cb9978\"])\n\n    plt.title('\u0421\u0440\u0430\u0432\u043d\u0435\u043d\u0438\u0435 \u043c\u043e\u0434\u0435\u043b\u0435\u0439 \u0438 \u043a\u043b\u0430\u0441\u0441\u0438\u0444\u0438\u043a\u0430\u0442\u043e\u0440\u043e\u0432')\n    plt.xlabel('\u041c\u043e\u0434\u0435\u043b\u044c')\n    plt.ylabel('\u0417\u043d\u0430\u0447\u0435\u043d\u0438\u0435 (\u0441\u0440\u0435\u0434\u043d\u0435\u0435 \u043f\u043e \u0432\u0441\u0435\u043c \u043a\u0430\u0442\u0435\u0433\u043e\u0440\u0438\u044f\u043c)')\n\n    ax.legend(title='\u041a\u043b\u0430\u0441\u0441\u0438\u0444\u0438\u043a\u0430\u0442\u043e\u0440', bbox_to_anchor=(1.2, 1))\n\n    # plt.yscale('log')\n    plt.show()"
        },
        {
            "cell_type": "code",
            "execution_count": 168,
            "id": "201b2cf1",
            "metadata": {
                "trusted": true
            },
            "outputs": [
                {
                    "name": "stdout",
                    "output_type": "stream",
                    "text": "<BarContainer object of 3 artists>\n<BarContainer object of 3 artists>\n<BarContainer object of 3 artists>\n<BarContainer object of 3 artists>\n<BarContainer object of 3 artists>\n"
                },
                {
                    "data": {
                        "image/png": "[encoded data removed]",
                        "text/plain": "<Figure size 1500x1500 with 1 Axes>"
                    },
                    "metadata": {},
                    "output_type": "display_data"
                }
            ],
            "source": "show_metrics_grouped_bar_chart(metrics_data)"
        },
        {
            "cell_type": "markdown",
            "id": "75395723",
            "metadata": {},
            "source": "> \u0423 TFIDF \u043d\u0435\u0442 \"LogisticRegression with scaler\", \u043f\u043e\u0442\u043e\u043c\u0443 \u0447\u0442\u043e scaler \u043d\u0435 \u043d\u0443\u0436\u0435\u043d (\u0438 \u0435\u0433\u043e \u043d\u0435\u0432\u043e\u0437\u043c\u043e\u0436\u043d\u043e \u043f\u0440\u0438\u043c\u0435\u043d\u0438\u0442\u044c \u0434\u043b\u044f \u0440\u0430\u0437\u0440\u0435\u0436\u0435\u043d\u043d\u043e\u0439 \u043c\u0430\u0442\u0440\u0438\u0446\u044b)."
        },
        {
            "cell_type": "markdown",
            "id": "968a0c30",
            "metadata": {},
            "source": "## \u0412\u044b\u0432\u043e\u0434\n\u041a\u0430\u043a \u0432\u0438\u0434\u043d\u043e \u043f\u043e \u0433\u0440\u0430\u0444\u0438\u043a\u0443 \u0441\u0440\u0430\u0432\u043d\u0435\u043d\u0438\u044f \u043c\u043e\u0434\u0435\u043b\u0435\u0439 \u0438 \u043a\u043b\u0430\u0441\u0441\u0438\u0444\u0438\u043a\u0430\u0442\u043e\u0440\u043e\u0432, \u043d\u0430\u0438\u0431\u043e\u043b\u0435\u0435 \u0443\u0441\u043f\u0435\u0448\u043d\u043e\u0439 \u043e\u043a\u0430\u0437\u0430\u043b\u0430\u0441\u044c \u0441\u0432\u044f\u0437\u043a\u0430 word2vector, \u043f\u0440\u0435\u0434\u043e\u0431\u0443\u0447\u0435\u043d\u043d\u0430\u044f google, \u0438 \u043b\u043e\u0433\u0438\u0441\u0442\u0438\u0447\u0435\u0441\u043a\u043e\u0439 \u0440\u0435\u0433\u0440\u0435\u0441\u0441\u0438\u0438 \u0441\u043e scaler'\u043e\u043c.\n\n\u0412 \u0441\u0440\u0435\u0434\u043d\u0435\u043c, \u043c\u043e\u0434\u0435\u043b\u044c \u043e\u0442 google \u043f\u0440\u043e\u0434\u0435\u043c\u043e\u043d\u0441\u0442\u0440\u0438\u0440\u043e\u0432\u0430\u043b\u0430 \u0441\u0430\u043c\u044b\u0439 \u0432\u044b\u0441\u043e\u043a\u0438\u0439 \u0440\u0435\u0437\u0443\u043b\u044c\u0442\u0430\u0442 \u0434\u043b\u044f \u043b\u044e\u0431\u043e\u0433\u043e \u043a\u043b\u0430\u0441\u0441\u0438\u0444\u0438\u043a\u0430\u0442\u043e\u0440\u0430. \u0415\u0434\u0438\u043d\u0441\u0442\u0432\u0435\u043d\u043d\u043e\u0435 \u0438\u0441\u043a\u043b\u044e\u0447\u0435\u043d\u0438\u0435 - \u043b\u043e\u0433\u0438\u0441\u0442\u0438\u0447\u0435\u0441\u043a\u0430\u044f \u0440\u0435\u0433\u0440\u0435\u0441\u0441\u0438\u044f \u0434\u043b\u044f tfidf. \u042d\u0442\u043e \u043a\u043e\u043c\u0431\u0438\u043d\u0430\u0446\u0438\u044f \u043f\u043e\u043a\u0430\u0437\u0430\u043b\u0430\n\u043e\u0447\u0435\u043d\u044c \u0445\u043e\u0440\u043e\u0448\u0438\u0439 \u0440\u0435\u0437\u0443\u043b\u044c\u0442\u0430\u0442, \u043a\u043e\u0442\u043e\u0440\u044b\u0439 \u043b\u0438\u0448\u044c \u043d\u0435\u043c\u043d\u043e\u0433\u043e \u043e\u0442\u0441\u0442\u0430\u0451\u0442 \u043e\u0442 \u043b\u0443\u0447\u0448\u0438\u0445 \u0437\u043d\u0430\u0447\u0435\u043d\u0438\u0439 google word2vector.\n\n\u0422\u0430\u043a, \u0432\u0438\u0434\u043d\u043e, \u0447\u0442\u043e \u0432 \u0441\u0440\u0435\u0434\u043d\u0435\u043c tfidf \u0434\u043e\u0441\u0442\u0438\u0433\u0430\u0435\u0442 \u043f\u043e\u043a\u0430\u0437\u0430\u0442\u0435\u043b\u0435\u0439 \u043b\u0438\u0448\u044c \u043d\u0430 2-5 \u043f\u0440\u043e\u0446\u0435\u043d\u0442\u043e\u0432 \u0445\u0443\u0436\u0435 google2vector. \u0423\u0447\u0438\u0442\u044b\u0432\u0430\u044f \u043f\u0440\u043e\u0441\u0442\u043e\u0442\u0443 \u0430\u043b\u0433\u043e\u0440\u0438\u0442\u043c\u0430, \u044d\u0442\u043e \u0443\u0434\u0438\u0432\u0438\u0442\u0435\u043b\u044c\u043d\u044b\u0439 \u0440\u0435\u0437\u0443\u043b\u044c\u0442\u0430\u0442.\n\n\u041e\u0431\u0443\u0447\u0435\u043d\u043d\u0430\u044f \u043d\u0430\u043c\u0438 \u043c\u043e\u0434\u0435\u043b\u044c word2vec \u0434\u0430\u0451\u0442 \u0432 \u043b\u0443\u0447\u0448\u0435\u043c \u0432\u0430\u0440\u0438\u0430\u043d\u0442\u0435 86%, \u0447\u0442\u043e \u044f\u0432\u043b\u044f\u0435\u0442\u0441\u044f \u0432\u043f\u043e\u043b\u043d\u0435 \u043f\u0440\u0438\u0435\u043c\u043b\u0435\u043c\u044b\u043c. \u041e\u0434\u043d\u0430\u043a\u043e \u0432 \u0441\u0440\u0435\u0434\u043d\u0435\u043c \u0443 \u043d\u0435\u0451 \u0441\u0430\u043c\u044b\u0435 \u043f\u043b\u043e\u0445\u0438\u0435 \u0440\u0435\u0437\u0443\u043b\u044c\u0442\u0430\u0442\u044b \u0441\u0440\u0435\u0434\u0438 \u0440\u0430\u0441\u0441\u043c\u0430\u0442\u0440\u0438\u0432\u0430\u0435\u043c\u044b\u0445 \u043c\u043e\u0434\u0435\u043b\u0435\u0439.\n\u042d\u0442\u043e \u0434\u043e\u0432\u043e\u043b\u044c\u043d\u043e \u043d\u0435\u043e\u0436\u0438\u0434\u0430\u043d\u043d\u043e, \u0432\u0435\u0434\u044c \u043e\u0431\u0443\u0447\u0435\u043d\u0438\u0435 \u0438 \u0442\u0440\u0435\u043d\u0438\u0440\u043e\u0432\u043a\u0430 \u043d\u0430 \u0434\u0430\u043d\u043d\u044b\u0445 \u0438\u0437 \u043e\u0434\u043d\u043e\u0439 \u043f\u0440\u0435\u0434\u043c\u0435\u0442\u043d\u043e\u0439 \u043e\u0431\u043b\u0430\u0441\u0442\u0438 \u0434\u043e\u043b\u0436\u043d\u044b \u0431\u044b\u043b\u0438 \u0434\u0430\u0442\u044c \u043b\u0443\u0447\u0448\u0435\u0435 \u043a\u0430\u0447\u0435\u0441\u0442\u0432\u043e.\n\n\u041f\u044b\u0442\u0430\u044f\u0441\u044c \u043d\u0430\u0439\u0442\u0438 \u043f\u0440\u0438\u0447\u0438\u043d\u044b, \u043f\u0435\u0440\u0432\u044b\u043c \u043f\u0440\u0438\u0445\u043e\u0434\u0438\u0442 \u043d\u0430 \u0443\u043c \u043d\u0435\u0434\u043e\u0441\u0442\u0430\u0442\u043e\u043a \u0434\u0430\u043d\u043d\u044b\u0445: \u043d\u0430\u0448 \u043d\u0430\u0431\u043e\u0440 \u043d\u0435 \u043e\u0447\u0435\u043d\u044c \u0441\u043f\u0435\u0444\u0438\u0447\u043d\u044b\u0439 \u0438 \u043d\u0430 \u043d\u0435\u0441\u043a\u043e\u043b\u044c\u043a\u043e \u043f\u043e\u0440\u044f\u0434\u043a\u043e\u0432 \u043c\u0435\u043d\u044c\u0448\u0435 \u043d\u0430\u0431\u043e\u0440\u0430 \u0434\u0430\u043d\u043d\u044b\u0445 google. \u041d\u043e \u0432 \u0442\u043e \u0436\u0435 \u0432\u0440\u0435\u043c\u044f\n\u043e\u0431\u044a\u0451\u043c \u043d\u0430\u0448\u0435\u0439 \u0432\u044b\u0431\u043e\u0440\u043a\u0438 \u0445\u043e\u0442\u044c \u0438 \u0441\u043e\u0441\u0442\u0430\u0432\u043b\u044f\u0435\u0442 \u043d\u0435\u0441\u043a\u043e\u043b\u044c\u043a\u043e \u0442\u044b\u0441\u044f\u0447 \u0441\u0442\u0440\u043e\u043a, \u0432 \u043a\u0430\u0436\u0434\u043e\u0439 \u0438\u0437 \u043d\u0438\u0445 \u0435\u0441\u0442\u044c \u044f\u0447\u0435\u0439\u043a\u0430 \u0441 \u0441\u043e\u0434\u0435\u0440\u0436\u0430\u043d\u0438\u0435\u043c \u043f\u043e\u043b\u043d\u043e\u0446\u0435\u043d\u043d\u043e\u0439 \u0441\u0442\u0430\u0442\u044c\u0438, \u0442\u043e \u0435\u0441\u0442\u044c \u043a\u043e\u043b\u0438\u0447\u0435\u0441\u0442\u0432\u043e \u0442\u043e\u043a\u0435\u043d\u043e\u0432 \u0434\u043e\u043b\u0436\u043d\u043e \u043e\u0442\u0432\u0435\u0447\u0430\u0442\u044c\n\u0437\u0430\u043f\u0440\u043e\u0441\u0430\u043c word2vec.\n\n\u0412\u0435\u0440\u043e\u044f\u0442\u043d\u043e, \u043f\u0435\u0440\u0432\u043e\u043f\u0440\u0438\u0447\u0438\u043d\u0430 \u043a\u0440\u043e\u0435\u0442\u0441\u044f \u0432 \u043a\u0430\u0447\u0435\u0441\u0442\u0432\u0435 \u0441\u0430\u043c\u043e\u0433\u043e \u043e\u0431\u0443\u0447\u0435\u043d\u0438\u044f: \u043c\u044b \u043c\u0430\u043b\u043e \u043f\u0440\u043e\u0432\u043e\u0434\u0438\u043b\u0438 \u0440\u0430\u0431\u043e\u0442\u044b \u0441 \u043a\u043e\u0440\u043f\u0443\u0441\u043e\u043c \u0442\u043e\u043a\u0435\u043d\u043e\u0432. \u0421\u0440\u0430\u0437\u0443 \u043f\u043e\u0441\u043b\u0435 \u0440\u0430\u0437\u0431\u0438\u0435\u043d\u0438\u044f \u0442\u0435\u043a\u0441\u0442\u0430 \u0441 \u043f\u043e\u043c\u043e\u0449\u044c\u044e `spacy`\n\u043d\u0430 \u0442\u043e\u043a\u0435\u043d\u044b, \u043c\u044b \u043e\u0442\u043f\u0440\u0430\u0432\u0438\u043b\u0438 \u043c\u043e\u0434\u0435\u043b\u044c \u043e\u0431\u0443\u0447\u0430\u0442\u044c\u0441\u044f. \u0412\u043f\u043e\u043b\u043d\u0435 \u0432\u043e\u0437\u043c\u043e\u0436\u043d\u043e, \u0434\u043e\u043f\u043e\u043b\u043d\u0438\u0442\u0435\u043b\u044c\u043d\u044b\u0435 \u043e\u043f\u0442\u0438\u043c\u0438\u0437\u0430\u0446\u0438\u0438 \u043d\u0430 \u0443\u0440\u043e\u0432\u043d\u0435 \u043f\u0440\u0435\u0434\u043b\u043e\u0436\u0435\u043d\u0438\u0439 \u0438 \u044f\u0437\u044b\u043a\u0430 \u043f\u043e\u0441\u043f\u043e\u0441\u043e\u0431\u0441\u0442\u0432\u043e\u0432\u0430\u043b\u0438 \u0431\u044b \u0443\u043b\u0443\u0447\u0448\u0435\u043d\u0438\u044e \u043a\u0430\u0447\u0435\u0441\u0442\u0432\u0430\n\u043c\u043e\u0434\u0435\u043b\u0438. \u041d\u0430\u043f\u0440\u0438\u043c\u0435\u0440, \u0443\u0441\u0442\u0440\u0430\u043d\u0435\u043d\u0438\u0435 \u0441\u0442\u043e\u043f-\u0441\u043b\u043e\u0432 \u0438\u043b\u0438 \u043e\u0447\u0435\u043d\u044c \u0447\u0430\u0441\u0442\u044b\u0445 \u0441\u043b\u043e\u0432, \u043d\u0435\u0441\u0443\u0449\u0438\u0445 \u043c\u0430\u043b\u044b\u0439 \u0441\u043c\u044b\u0441\u043b \u0432 \u0440\u0430\u043c\u043a\u0430\u0445 \u043d\u0430\u0448\u0435\u0439 \u0437\u0430\u0434\u0430\u0447\u0438 (\u0441\u043e\u044e\u0437\u044b, \u043f\u0440\u0435\u0434\u043b\u043e\u0433\u0438), \u0438\u0437 \u0432\u044b\u0431\u043e\u0440\u043a\u0438. \u041d\u0430 \u044d\u0442\u043e \u0435\u0449\u0451 \u0431\u043e\u043b\u044c\u0448\u0435\n\u043d\u0430\u043c\u0435\u043a\u0430\u0435\u0442 \u0445\u043e\u0440\u043e\u0448\u0438\u0439 \u0440\u0435\u0437\u0443\u043b\u044c\u0442\u0430\u0442 TFIDF, \u0432\u0435\u0434\u044c \u043e\u043d \u044d\u0442\u0438 \u043e\u043f\u0442\u0438\u043c\u0438\u0437\u0430\u0446\u0438\u0438 \u043f\u0440\u043e\u0432\u043e\u0434\u0438\u0442 \"\u0430\u0432\u0442\u043e\u043c\u0430\u0442\u0438\u0447\u0435\u0441\u043a\u0438\" \u0432\u0432\u0438\u0434\u0443 \u043e\u0441\u043e\u0431\u0435\u043d\u043d\u043e\u0441\u0442\u0435\u0439 \u0444\u043e\u0440\u043c\u0443\u043b\u044b.\n\n\u0422\u0430\u043a\u0438\u043c \u043e\u0431\u0440\u0430\u0437\u043e\u043c, \u043c\u044b \u043e\u0431\u0443\u0447\u0438\u043b\u0438 \u0442\u0440\u0438 \u043c\u043e\u0434\u0435\u043b\u0438 \u0438 \u0441\u0440\u0430\u0432\u043d\u0438\u043b\u0438 \u043f\u043e\u043a\u0430\u0437\u0430\u0442\u0435\u043b\u0438. \u041a\u0430\u0436\u0434\u0430\u044f \u0438\u0437 \u043d\u0438\u0445 \u0434\u0430\u0451\u0442 \u0445\u043e\u0440\u043e\u0448\u0438\u0435 \u0440\u0435\u0437\u0443\u043b\u044c\u0442\u0430\u0442\u044b \u0432 \u043a\u043b\u0430\u0441\u0441\u0438\u0444\u0438\u043a\u0430\u0446\u0438\u0438, \u043e\u0434\u043d\u0430\u043a\u043e \u0443 \u0432\u0441\u0435\u0445 \u043c\u043e\u0434\u0435\u043b\u0435\u0439 \u0435\u0441\u0442\u044c \u0431\u043e\u043b\u044c\u0448\u043e\u0439 \u043d\u0435\u0434\u043e\u0441\u0442\u0430\u0442\u043e\u043a -\n\u043d\u0435\u0443\u043c\u0435\u043d\u0438\u0435 \u0440\u0430\u0431\u043e\u0442\u0430\u0442\u044c \u0441\u043e \u0441\u043b\u043e\u0432\u0430\u043c\u0438, \u043d\u0435 \u043f\u0440\u0438\u0441\u0443\u0442\u0441\u0442\u0432\u0443\u044e\u0449\u0438\u043c\u0438 \u0432 \u0432\u044b\u0431\u043e\u0440\u043a\u0435. \u041d\u0430\u0438\u043c\u0435\u043d\u0435\u0435 \u0437\u0430\u043c\u0435\u0442\u043d\u043e \u044d\u0442\u043e \u0432 google word2vector, \u0432\u0435\u0434\u044c \u0432 \u043d\u0435\u0439 \u043d\u0430\u0431\u043e\u0440 \u0434\u0430\u043d\u043d\u044b\u0445 \u043a\u043e\u043b\u043e\u0441\u0441\u0430\u043b\u044c\u043d\u044b\u0439, \u043e\u0434\u043d\u0430\u043a\u043e \u0435\u0441\u043b\u0438 \u0441\u0442\u043e\u0438\u0442 \u0437\u0430\u0434\u0430\u0447\u0430\n\u043e\u0431\u0440\u0430\u0431\u0430\u0442\u044b\u0432\u0430\u0442\u044c \u043b\u044e\u0431\u044b\u0435 \u0441\u043b\u043e\u0432\u0430, \u043b\u0443\u0447\u0448\u0435 \u043f\u043e\u0434\u043e\u0439\u0434\u0451\u0442 \u043f\u0440\u0438\u043d\u0446\u0438\u043f\u0438\u0430\u043b\u044c\u043d\u043e \u043c\u043e\u0434\u0438\u0444\u0438\u0446\u0438\u0440\u043e\u0432\u0430\u043d\u043d\u0430\u044f \u043c\u043e\u0434\u0435\u043b\u044c, \u043d\u0430\u043f\u0440\u0438\u043c\u0435\u0440, fast2text."
        }
    ],
    "metadata": {
        "kernelspec": {
            "display_name": "Python 3 (ipykernel)",
            "language": "python",
            "name": "python3"
        },
        "language_info": {
            "codemirror_mode": {
                "name": "ipython",
                "version": 3
            },
            "file_extension": ".py",
            "mimetype": "text/x-python",
            "name": "python",
            "nbconvert_exporter": "python",
            "pygments_lexer": "ipython3",
            "version": "3.12.3"
        }
    },
    "nbformat": 4,
    "nbformat_minor": 5
}