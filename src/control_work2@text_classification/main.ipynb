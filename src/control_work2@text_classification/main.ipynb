{
    "cells": [
        {
            "cell_type": "markdown",
            "id": "d758075e",
            "metadata": {},
            "source": "# \u041a\u043e\u043d\u0442\u0440\u043e\u043b\u044c\u043d\u0430\u044f \u0440\u0430\u0431\u043e\u0442\u0430 \u043f\u043e \u0442\u0435\u043c\u0435 \"\u041a\u043b\u0430\u0441\u0441\u0438\u0444\u0438\u043a\u0430\u0446\u0438\u044f \u0442\u0435\u043a\u0441\u0442\u0430\"\n\u0412\u044b\u043f\u043e\u043b\u043d\u0438\u043b: \u041f\u0430\u043a\u0430\u043b\u043e \u0410\u043b\u0435\u043a\u0441\u0430\u043d\u0434\u0440 \u0421\u0435\u0440\u0433\u0435\u0435\u0432\u0438\u0447 \u0418\u04235-22\u041c\n\n## \u0417\u0430\u0434\u0430\u043d\u0438\u0435\n\u041d\u0435\u043e\u0431\u0445\u043e\u0434\u0438\u043c\u043e \u0440\u0435\u0448\u0438\u0442\u044c \u0437\u0430\u0434\u0430\u0447\u0443 \u043a\u043b\u0430\u0441\u0441\u0438\u0444\u0438\u043a\u0430\u0446\u0438\u0438 \u0442\u0435\u043a\u0441\u0442\u043e\u0432 \u043d\u0430 \u043e\u0441\u043d\u043e\u0432\u0435 \u043b\u044e\u0431\u043e\u0433\u043e \u0432\u044b\u0431\u0440\u0430\u043d\u043d\u043e\u0433\u043e \u0412\u0430\u043c\u0438 \u0434\u0430\u0442\u0430\u0441\u0435\u0442\u0430 (\u043a\u0440\u043e\u043c\u0435 \u043f\u0440\u0438\u043c\u0435\u0440\u0430, \u043a\u043e\u0442\u043e\u0440\u044b\u0439 \u0440\u0430\u0441\u0441\u043c\u0430\u0442\u0440\u0438\u0432\u0430\u043b\u0441\u044f \u0432 \u043b\u0435\u043a\u0446\u0438\u0438). \u041a\u043b\u0430\u0441\u0441\u0438\u0444\u0438\u043a\u0430\u0446\u0438\u044f \u043c\u043e\u0436\u0435\u0442 \u0431\u044b\u0442\u044c \u0431\u0438\u043d\u0430\u0440\u043d\u043e\u0439 \u0438\u043b\u0438 \u043c\u043d\u043e\u0433\u043e\u043a\u043b\u0430\u0441\u0441\u043e\u0432\u043e\u0439. \u0426\u0435\u043b\u0435\u0432\u043e\u0439 \u043f\u0440\u0438\u0437\u043d\u0430\u043a \u0438\u0437 \u0432\u044b\u0431\u0440\u0430\u043d\u043d\u043e\u0433\u043e \u0412\u0430\u043c\u0438 \u0434\u0430\u0442\u0430\u0441\u0435\u0442\u0430 \u043c\u043e\u0436\u0435\u0442 \u0438\u043c\u0435\u0442\u044c \u043b\u044e\u0431\u043e\u0439 \u0444\u0438\u0437\u0438\u0447\u0435\u0441\u043a\u0438\u0439 \u0441\u043c\u044b\u0441\u043b, \u043f\u0440\u0438\u043c\u0435\u0440\u043e\u043c \u044f\u0432\u043b\u044f\u0435\u0442\u0441\u044f \u0437\u0430\u0434\u0430\u0447\u0430 \u0430\u043d\u0430\u043b\u0438\u0437\u0430 \u0442\u043e\u043d\u0430\u043b\u044c\u043d\u043e\u0441\u0442\u0438 \u0442\u0435\u043a\u0441\u0442\u0430.\n\n\u041d\u0435\u043e\u0431\u0445\u043e\u0434\u0438\u043c\u043e \u0441\u0444\u043e\u0440\u043c\u0438\u0440\u043e\u0432\u0430\u0442\u044c \u0434\u0432\u0430 \u0432\u0430\u0440\u0438\u0430\u043d\u0442\u0430 \u0432\u0435\u043a\u0442\u043e\u0440\u0438\u0437\u0430\u0446\u0438\u0438 \u043f\u0440\u0438\u0437\u043d\u0430\u043a\u043e\u0432 - \u043d\u0430 \u043e\u0441\u043d\u043e\u0432\u0435 CountVectorizer \u0438 \u043d\u0430 \u043e\u0441\u043d\u043e\u0432\u0435 TfidfVectorizer.\n\n\u0412 \u043a\u0430\u0447\u0435\u0441\u0442\u0432\u0435 \u043a\u043b\u0430\u0441\u0441\u0438\u0444\u0438\u043a\u0430\u0442\u043e\u0440\u043e\u0432 \u043d\u0435\u043e\u0431\u0445\u043e\u0434\u0438\u043c\u043e \u0438\u0441\u043f\u043e\u043b\u044c\u0437\u043e\u0432\u0430\u0442\u044c \u0434\u0432\u0430 \u043a\u043b\u0430\u0441\u0441\u0438\u0444\u0438\u043a\u0430\u0442\u043e\u0440\u0430 \u043f\u043e \u0432\u0430\u0440\u0438\u0430\u043d\u0442\u0443 \u0434\u043b\u044f \u0412\u0430\u0448\u0435\u0439 \u0433\u0440\u0443\u043f\u043f\u044b: RandomForestClassifier, LogisticRegression"
        },
        {
            "cell_type": "code",
            "execution_count": 1,
            "id": "15347b56",
            "metadata": {
                "trusted": true
            },
            "outputs": [],
            "source": "RANDOM_SEED = 13"
        },
        {
            "cell_type": "markdown",
            "id": "0ba3526b",
            "metadata": {},
            "source": "## \u041d\u0430\u0431\u043e\u0440 \u0434\u0430\u043d\u043d\u044b\u0445\n\u041f\u0440\u043e\u0432\u0435\u0434\u0451\u043c \u043a\u043b\u0430\u0441\u0441\u0438\u0444\u0438\u043a\u0430\u0446\u0438\u044e \u0442\u0435\u043a\u0441\u0442\u0430 \u0438\u0441\u043f\u043e\u043b\u044c\u0437\u0443\u044f \u043d\u0430\u0431\u043e\u0440 \u0434\u0430\u043d\u043d\u044b\u0445 [BBC News Archive](https://www.kaggle.com/datasets/hgultekin/bbcnewsarchive)"
        },
        {
            "cell_type": "markdown",
            "id": "0b36b490",
            "metadata": {},
            "source": "\u041f\u043e\u0434\u0433\u043e\u0442\u043e\u0432\u043a\u0430 \u043f\u0435\u0440\u0435\u043c\u0435\u043d\u043d\u044b\u0445 \u0434\u043b\u044f \u0440\u0430\u0431\u043e\u0442\u044b \u0441 \u0434\u0430\u043d\u043d\u044b\u043c\u0438"
        },
        {
            "cell_type": "code",
            "execution_count": 2,
            "id": "c818891a",
            "metadata": {
                "trusted": true
            },
            "outputs": [],
            "source": "from pathlib import Path\n\ndata_path = Path(\"../../data\")\nexternal_data_path = data_path / \"external\"\nraw_data_path = data_path / \"raw\"\n\ndataset_filename = \"bbc-news-data.zip\""
        },
        {
            "cell_type": "markdown",
            "id": "d478a182",
            "metadata": {},
            "source": "\u0420\u0430\u0437\u0430\u0440\u0445\u0438\u0432\u0438\u0440\u043e\u0432\u0430\u043d\u0438\u0435 \u043d\u0430\u0431\u043e\u0440\u0430 \u0434\u0430\u043d\u043d\u044b\u0445"
        },
        {
            "cell_type": "code",
            "execution_count": 3,
            "id": "65269a6e",
            "metadata": {
                "trusted": true
            },
            "outputs": [],
            "source": "import os\nimport shutil\n\nraw_data_path.mkdir(exist_ok=True)\n\nfile_path = external_data_path / dataset_filename\nraw_data_path = external_data_path / dataset_filename\n\nif not os.path.isfile(raw_data_path):\n    shutil.unpack_archive(file_path, extract_dir=raw_data_path)\n    # file_path.unlink()  # Remove archive after extracting it."
        },
        {
            "cell_type": "markdown",
            "id": "af3af580",
            "metadata": {},
            "source": "\u0417\u0430\u0433\u0440\u0443\u0437\u043a\u0430 \u0434\u0430\u043d\u043d\u044b\u0445 \u0438\u0437 csv"
        },
        {
            "cell_type": "code",
            "execution_count": 4,
            "id": "41de9763",
            "metadata": {
                "trusted": true
            },
            "outputs": [],
            "source": "import pandas as pd\n\ndf = pd.read_csv(raw_data_path, sep=\"\\t\")"
        },
        {
            "cell_type": "markdown",
            "id": "2326e65b",
            "metadata": {},
            "source": "### \u0420\u0430\u0437\u0432\u0435\u0434\u043e\u0447\u043d\u044b\u0439 \u0430\u043d\u0430\u043b\u0438\u0437 \u0434\u0430\u043d\u043d\u044b\u0445\n\u041e\u0437\u043d\u0430\u043a\u043e\u043c\u0438\u043c\u0441\u044f \u043d\u0435\u043c\u043d\u043e\u0433\u043e \u0441 \u0434\u0430\u043d\u043d\u044b\u043c\u0438, \u0441 \u043a\u043e\u0442\u043e\u0440\u044b\u043c\u0438 \u0441\u043e\u0431\u0438\u0440\u0430\u0435\u043c\u0441\u044f \u0440\u0430\u0431\u043e\u0442\u0430\u0442\u044c"
        },
        {
            "cell_type": "markdown",
            "id": "1196d170",
            "metadata": {},
            "source": "\u041e\u0441\u043d\u043e\u0432\u043d\u044b\u0435 \u0445\u0430\u0440\u0430\u043a\u0442\u0435\u0440\u0438\u0441\u0442\u0438\u043a\u0438 \u0434\u0430\u0442\u0430\u0441\u0435\u0442\u0430"
        },
        {
            "cell_type": "code",
            "execution_count": 5,
            "id": "e8b55258",
            "metadata": {
                "trusted": true
            },
            "outputs": [
                {
                    "data": {
                        "text/html": "<div>\n<style scoped>\n    .dataframe tbody tr th:only-of-type {\n        vertical-align: middle;\n    }\n\n    .dataframe tbody tr th {\n        vertical-align: top;\n    }\n\n    .dataframe thead th {\n        text-align: right;\n    }\n</style>\n<table border=\"1\" class=\"dataframe\">\n  <thead>\n    <tr style=\"text-align: right;\">\n      <th></th>\n      <th>category</th>\n      <th>filename</th>\n      <th>title</th>\n      <th>content</th>\n    </tr>\n  </thead>\n  <tbody>\n    <tr>\n      <th>0</th>\n      <td>business</td>\n      <td>001.txt</td>\n      <td>Ad sales boost Time Warner profit</td>\n      <td>Quarterly profits at US media giant TimeWarne...</td>\n    </tr>\n    <tr>\n      <th>1</th>\n      <td>business</td>\n      <td>002.txt</td>\n      <td>Dollar gains on Greenspan speech</td>\n      <td>The dollar has hit its highest level against ...</td>\n    </tr>\n    <tr>\n      <th>2</th>\n      <td>business</td>\n      <td>003.txt</td>\n      <td>Yukos unit buyer faces loan claim</td>\n      <td>The owners of embattled Russian oil giant Yuk...</td>\n    </tr>\n    <tr>\n      <th>3</th>\n      <td>business</td>\n      <td>004.txt</td>\n      <td>High fuel prices hit BA's profits</td>\n      <td>British Airways has blamed high fuel prices f...</td>\n    </tr>\n    <tr>\n      <th>4</th>\n      <td>business</td>\n      <td>005.txt</td>\n      <td>Pernod takeover talk lifts Domecq</td>\n      <td>Shares in UK drinks and food firm Allied Dome...</td>\n    </tr>\n  </tbody>\n</table>\n</div>",
                        "text/plain": "   category filename                              title  \\\n0  business  001.txt  Ad sales boost Time Warner profit   \n1  business  002.txt   Dollar gains on Greenspan speech   \n2  business  003.txt  Yukos unit buyer faces loan claim   \n3  business  004.txt  High fuel prices hit BA's profits   \n4  business  005.txt  Pernod takeover talk lifts Domecq   \n\n                                             content  \n0   Quarterly profits at US media giant TimeWarne...  \n1   The dollar has hit its highest level against ...  \n2   The owners of embattled Russian oil giant Yuk...  \n3   British Airways has blamed high fuel prices f...  \n4   Shares in UK drinks and food firm Allied Dome...  "
                    },
                    "execution_count": 5,
                    "metadata": {},
                    "output_type": "execute_result"
                }
            ],
            "source": "df.head()"
        },
        {
            "cell_type": "code",
            "execution_count": 6,
            "id": "704d224d",
            "metadata": {
                "trusted": true
            },
            "outputs": [
                {
                    "data": {
                        "text/html": "<div>\n<style scoped>\n    .dataframe tbody tr th:only-of-type {\n        vertical-align: middle;\n    }\n\n    .dataframe tbody tr th {\n        vertical-align: top;\n    }\n\n    .dataframe thead th {\n        text-align: right;\n    }\n</style>\n<table border=\"1\" class=\"dataframe\">\n  <thead>\n    <tr style=\"text-align: right;\">\n      <th></th>\n      <th>category</th>\n      <th>filename</th>\n      <th>title</th>\n      <th>content</th>\n    </tr>\n  </thead>\n  <tbody>\n    <tr>\n      <th>2220</th>\n      <td>tech</td>\n      <td>397.txt</td>\n      <td>BT program to beat dialler scams</td>\n      <td>BT is introducing two initiatives to help bea...</td>\n    </tr>\n    <tr>\n      <th>2221</th>\n      <td>tech</td>\n      <td>398.txt</td>\n      <td>Spam e-mails tempt net shoppers</td>\n      <td>Computer users across the world continue to i...</td>\n    </tr>\n    <tr>\n      <th>2222</th>\n      <td>tech</td>\n      <td>399.txt</td>\n      <td>Be careful how you code</td>\n      <td>A new European directive could put software w...</td>\n    </tr>\n    <tr>\n      <th>2223</th>\n      <td>tech</td>\n      <td>400.txt</td>\n      <td>US cyber security chief resigns</td>\n      <td>The man making sure US computer networks are ...</td>\n    </tr>\n    <tr>\n      <th>2224</th>\n      <td>tech</td>\n      <td>401.txt</td>\n      <td>Losing yourself in online gaming</td>\n      <td>Online role playing games are time-consuming,...</td>\n    </tr>\n  </tbody>\n</table>\n</div>",
                        "text/plain": "     category filename                             title  \\\n2220     tech  397.txt  BT program to beat dialler scams   \n2221     tech  398.txt   Spam e-mails tempt net shoppers   \n2222     tech  399.txt           Be careful how you code   \n2223     tech  400.txt   US cyber security chief resigns   \n2224     tech  401.txt  Losing yourself in online gaming   \n\n                                                content  \n2220   BT is introducing two initiatives to help bea...  \n2221   Computer users across the world continue to i...  \n2222   A new European directive could put software w...  \n2223   The man making sure US computer networks are ...  \n2224   Online role playing games are time-consuming,...  "
                    },
                    "execution_count": 6,
                    "metadata": {},
                    "output_type": "execute_result"
                }
            ],
            "source": "df.tail()"
        },
        {
            "cell_type": "markdown",
            "id": "f8e0072b",
            "metadata": {},
            "source": "\u0420\u0430\u0437\u043c\u0435\u0440 \u0434\u0430\u0442\u0430\u0441\u0435\u0442\u0430"
        },
        {
            "cell_type": "code",
            "execution_count": 7,
            "id": "43fd6e46",
            "metadata": {
                "trusted": true
            },
            "outputs": [
                {
                    "name": "stdout",
                    "output_type": "stream",
                    "text": "\u0420\u0430\u0437\u043c\u0435\u0440 \u0434\u0430\u0442\u0430\u0441\u0435\u0442\u0430: 2225 \u0441\u0442\u0440\u043e\u043a, 4 \u043a\u043e\u043b\u043e\u043d\u043e\u043a\n"
                }
            ],
            "source": "num_of_rows, num_of_columns = df.shape\nprint(f'\u0420\u0430\u0437\u043c\u0435\u0440 \u0434\u0430\u0442\u0430\u0441\u0435\u0442\u0430: {num_of_rows} \u0441\u0442\u0440\u043e\u043a, {num_of_columns} \u043a\u043e\u043b\u043e\u043d\u043e\u043a')"
        },
        {
            "cell_type": "markdown",
            "id": "784fd364",
            "metadata": {},
            "source": "\u041e\u043f\u0440\u0435\u0434\u0435\u043b\u0435\u043d\u0438\u0435 \u0442\u0438\u043f\u043e\u0432"
        },
        {
            "cell_type": "code",
            "execution_count": 8,
            "id": "238f8e67",
            "metadata": {
                "trusted": true
            },
            "outputs": [
                {
                    "data": {
                        "text/plain": "category    object\nfilename    object\ntitle       object\ncontent     object\ndtype: object"
                    },
                    "execution_count": 8,
                    "metadata": {},
                    "output_type": "execute_result"
                }
            ],
            "source": "df.dtypes"
        },
        {
            "cell_type": "markdown",
            "id": "790ebf6b",
            "metadata": {},
            "source": "\u041f\u0440\u043e\u0432\u0435\u0440\u043a\u0430 \u043d\u0430 \u043d\u0430\u043b\u0438\u0447\u0438\u0435 \u043f\u0443\u0441\u0442\u044b\u0445 \u0437\u043d\u0430\u0447\u0435\u043d\u0438\u0439"
        },
        {
            "cell_type": "code",
            "execution_count": 9,
            "id": "bba09e27",
            "metadata": {
                "trusted": true
            },
            "outputs": [
                {
                    "data": {
                        "text/plain": "category    0\nfilename    0\ntitle       0\ncontent     0\ndtype: int64"
                    },
                    "execution_count": 9,
                    "metadata": {},
                    "output_type": "execute_result"
                }
            ],
            "source": "df.isnull().sum()"
        },
        {
            "cell_type": "markdown",
            "id": "c24fcd7d",
            "metadata": {},
            "source": "\u041e\u0431\u0440\u0430\u0431\u043e\u0442\u043a\u0438 \u043f\u0443\u0441\u0442\u044b\u0445 \u0437\u043d\u0430\u0447\u0435\u043d\u0438\u0439 \u043d\u0435 \u0442\u0440\u0435\u0431\u0443\u0435\u0442\u0441\u044f"
        },
        {
            "cell_type": "markdown",
            "id": "cf948aa2",
            "metadata": {},
            "source": "\u041f\u0440\u043e\u0432\u0435\u0440\u043a\u0430 \u043d\u0430 \u0443\u043d\u0438\u043a\u0430\u043b\u044c\u043d\u044b\u0435 \u0437\u043d\u0430\u0447\u0435\u043d\u0438\u044f"
        },
        {
            "cell_type": "code",
            "execution_count": 10,
            "id": "a3d09ab7",
            "metadata": {
                "trusted": true
            },
            "outputs": [
                {
                    "data": {
                        "text/plain": "0         business\n1    entertainment\n2         politics\n3            sport\n4             tech\ndtype: object"
                    },
                    "execution_count": 10,
                    "metadata": {},
                    "output_type": "execute_result"
                }
            ],
            "source": "pd.Series(df[\"category\"].unique())"
        },
        {
            "cell_type": "markdown",
            "id": "08d72f13",
            "metadata": {},
            "source": "### \u041f\u043e\u0434\u0433\u043e\u0442\u043e\u0432\u043a\u0430 \u043a\u043e\u0440\u043f\u0443\u0441\u0430"
        },
        {
            "cell_type": "markdown",
            "id": "6041ecec",
            "metadata": {},
            "source": "\u041d\u0435\u043a\u043e\u0442\u043e\u0440\u044b\u0435 \u043a\u043e\u043b\u043e\u043d\u043a\u0438 \u0438\u043c\u0435\u044e\u0442 \u043d\u0435\u0432\u0435\u0440\u043d\u044b\u0435 \u0442\u0438\u043f\u044b \u0434\u0430\u043d\u043d\u044b\u0445, \u0438\u0445 \u0441\u043b\u0435\u0434\u0443\u0435\u0442 \u043f\u0440\u0435\u043e\u0431\u0440\u0430\u0437\u043e\u0432\u0430\u0442\u044c.\n\n\u0421\u0442\u0440\u043e\u043a\u0438 \u0432\u043c\u0435\u0441\u0442\u043e `object` \u0441\u0434\u0435\u043b\u0430\u0435\u043c `string`, \u0430 \u043a\u043e\u043b\u043e\u043d\u043a\u0443 \"category\" \u0441\u0434\u0435\u043b\u0430\u0435\u043c\n\u0442\u0438\u043f\u0430 `category`."
        },
        {
            "cell_type": "code",
            "execution_count": 11,
            "id": "10365d34",
            "metadata": {
                "trusted": true
            },
            "outputs": [
                {
                    "data": {
                        "text/plain": "category          category\nfilename    string[python]\ntitle       string[python]\ncontent     string[python]\ndtype: object"
                    },
                    "execution_count": 11,
                    "metadata": {},
                    "output_type": "execute_result"
                }
            ],
            "source": "df = df.astype({\n    \"category\": \"category\",\n    \"filename\": \"string\",\n    \"title\": \"string\",\n    \"content\": \"string\",\n})\ndf.dtypes"
        },
        {
            "cell_type": "markdown",
            "id": "6be71d13",
            "metadata": {},
            "source": "\u0422\u043e\u043a\u0435\u043d\u0438\u0437\u0430\u0446\u0438\u044f"
        },
        {
            "cell_type": "markdown",
            "id": "7c359dce",
            "metadata": {},
            "source": "\u0417\u0430\u0433\u0440\u0443\u0437\u043a\u0430 \u043c\u043e\u0434\u0435\u043b\u0438 spacy."
        },
        {
            "cell_type": "code",
            "execution_count": 12,
            "id": "41e412c0",
            "metadata": {
                "trusted": true
            },
            "outputs": [],
            "source": "import spacy\n\nspacy_prefers_gpu = spacy.prefer_gpu()\nnlp = spacy.load(\"en_core_web_sm\")"
        },
        {
            "cell_type": "markdown",
            "id": "153b39f4",
            "metadata": {},
            "source": "\u0422\u043e\u043a\u0435\u043d\u0438\u0437\u0430\u0446\u0438\u044f \u0442\u0435\u043a\u0441\u0442\u043e\u0432\u044b\u0445 \u0437\u043d\u0430\u0447\u0435\u043d\u0438\u0439 \u043d\u0430\u0431\u043e\u0440\u0430 \u0434\u0430\u043d\u043d\u044b\u0445 (\u043a\u0440\u043e\u043c\u0435 \u043d\u0430\u0437\u0432\u0430\u043d\u0438\u044f \u0444\u0430\u0439\u043b\u0430)"
        },
        {
            "cell_type": "code",
            "execution_count": 13,
            "id": "1c499152",
            "metadata": {
                "trusted": true
            },
            "outputs": [
                {
                    "data": {
                        "text/plain": "[Ad sales boost Time Warner profit Quarterly profits at US media giant TimeWarner jumped 76% to $1.13bn (\u00a3600m) for the three months to December, from $639m year-earlier.  The firm, which is now one of the biggest investors in Google, benefited from sales of high-speed internet connections and higher advert sales. TimeWarner said fourth quarter sales rose 2% to $11.1bn from $10.9bn. Its profits were buoyed by one-off gains which offset a profit dip at Warner Bros, and less users for AOL.  Time Warner said on Friday that it now owns 8% of search-engine Google. But its own internet business, AOL, had has mixed fortunes. It lost 464,000 subscribers in the fourth quarter profits were lower than in the preceding three quarters. However, the company said AOL's underlying profit before exceptional items rose 8% on the back of stronger internet advertising revenues. It hopes to increase subscribers by offering the online service free to TimeWarner internet customers and will try to sign up AOL's existing customers for high-speed broadband. TimeWarner also has to restate 2000 and 2003 results following a probe by the US Securities Exchange Commission (SEC), which is close to concluding.  Time Warner's fourth quarter profits were slightly better than analysts' expectations. But its film division saw profits slump 27% to $284m, helped by box-office flops Alexander and Catwoman, a sharp contrast to year-earlier, when the third and final film in the Lord of the Rings trilogy boosted results. For the full-year, TimeWarner posted a profit of $3.36bn, up 27% from its 2003 performance, while revenues grew 6.4% to $42.09bn. \"Our financial performance was strong, meeting or exceeding all of our full-year objectives and greatly enhancing our flexibility,\" chairman and chief executive Richard Parsons said. For 2005, TimeWarner is projecting operating earnings growth of around 5%, and also expects higher revenue and wider profit margins.  TimeWarner is to restate its accounts as part of efforts to resolve an inquiry into AOL by US market regulators. It has already offered to pay $300m to settle charges, in a deal that is under review by the SEC. The company said it was unable to estimate the amount it needed to set aside for legal reserves, which it previously set at $500m. It intends to adjust the way it accounts for a deal with German music publisher Bertelsmann's purchase of a stake in AOL Europe, which it had reported as advertising revenue. It will now book the sale of its stake in AOL Europe as a loss on the value of that stake. ,\n Dollar gains on Greenspan speech The dollar has hit its highest level against the euro in almost three months after the Federal Reserve head said the US trade deficit is set to stabilise.  And Alan Greenspan highlighted the US government's willingness to curb spending and rising household savings as factors which may help to reduce it. In late trading in New York, the dollar reached $1.2871 against the euro, from $1.2974 on Thursday. Market concerns about the deficit has hit the greenback in recent months. On Friday, Federal Reserve chairman Mr Greenspan's speech in London ahead of the meeting of G7 finance ministers sent the dollar higher after it had earlier tumbled on the back of worse-than-expected US jobs data. \"I think the chairman's taking a much more sanguine view on the current account deficit than he's taken for some time,\" said Robert Sinche, head of currency strategy at Bank of America in New York. \"He's taking a longer-term view, laying out a set of conditions under which the current account deficit can improve this year and next.\"  Worries about the deficit concerns about China do, however, remain. China's currency remains pegged to the dollar and the US currency's sharp falls in recent months have therefore made Chinese export prices highly competitive. But calls for a shift in Beijing's policy have fallen on deaf ears, despite recent comments in a major Chinese newspaper that the \"time is ripe\" for a loosening of the peg. The G7 meeting is thought unlikely to produce any meaningful movement in Chinese policy. In the meantime, the US Federal Reserve's decision on 2 February to boost interest rates by a quarter of a point - the sixth such move in as many months - has opened up a differential with European rates. The half-point window, some believe, could be enough to keep US assets looking more attractive, and could help prop up the dollar. The recent falls have partly been the result of big budget deficits, as well as the US's yawning current account gap, both of which need to be funded by the buying of US bonds and assets by foreign firms and governments. The White House will announce its budget on Monday, and many commentators believe the deficit will remain at close to half a trillion dollars. ,\n Yukos unit buyer faces loan claim The owners of embattled Russian oil giant Yukos are to ask the buyer of its former production unit to pay back a $900m (\u00a3479m) loan.  State-owned Rosneft bought the Yugansk unit for $9.3bn in a sale forced by Russia to part settle a $27.5bn tax claim against Yukos. Yukos' owner Menatep Group says it will ask Rosneft to repay a loan that Yugansk had secured on its assets. Rosneft already faces a similar $540m repayment demand from foreign banks. Legal experts said Rosneft's purchase of Yugansk would include such obligations. \"The pledged assets are with Rosneft, so it will have to pay real money to the creditors to avoid seizure of Yugansk assets,\" said Moscow-based US lawyer Jamie Firestone, who is not connected to the case. Menatep Group's managing director Tim Osborne told the Reuters news agency: \"If they default, we will fight them where the rule of law exists under the international arbitration clauses of the credit.\"  Rosneft officials were unavailable for comment. But the company has said it intends to take action against Menatep to recover some of the tax claims and debts owed by Yugansk. Yukos had filed for bankruptcy protection in a US court in an attempt to prevent the forced sale of its main production arm. The sale went ahead in December and Yugansk was sold to a little-known shell company which in turn was bought by Rosneft. Yukos claims its downfall was punishment for the political ambitions of its founder Mikhail Khodorkovsky and has vowed to sue any participant in the sale. ]"
                    },
                    "execution_count": 13,
                    "metadata": {},
                    "output_type": "execute_result"
                }
            ],
            "source": "from spacy.tokens.doc import Doc\n\ncorpus: list[Doc] = []\n\nfor text in (df[\"title\"] + df[\"content\"]).values:\n    corpus.append(nlp(text))\n\ncorpus[:3]"
        },
        {
            "cell_type": "code",
            "execution_count": 14,
            "id": "cc4d32a2",
            "metadata": {
                "trusted": true
            },
            "outputs": [],
            "source": "assert len(corpus) == num_of_rows"
        },
        {
            "cell_type": "markdown",
            "id": "360400d6",
            "metadata": {},
            "source": "## \u041a\u043b\u0430\u0441\u0441\u0438\u0444\u0438\u043a\u0430\u0446\u0438\u044f"
        },
        {
            "cell_type": "markdown",
            "id": "b9cc72af",
            "metadata": {},
            "source": "### \u041f\u043e\u0434\u0433\u043e\u0442\u043e\u0432\u043a\u0430 \u0434\u0430\u043d\u043d\u044b\u0445 \u0434\u043b\u044f \u043a\u043b\u0430\u0441\u0441\u0438\u0444\u0438\u043a\u0430\u0446\u0438\u0438"
        },
        {
            "cell_type": "markdown",
            "id": "cd01b9bc",
            "metadata": {},
            "source": "\u0417\u0430\u043c\u0435\u0442\u0438\u043c, \u0447\u0442\u043e \u0445\u043e\u0442\u044c spacy \u043f\u0440\u0438 \u043f\u0435\u0447\u0430\u0442\u0438 \u0438 \u0432\u044b\u0432\u043e\u0434\u0438\u0442 \u0442\u0435\u043a\u0441\u0442, \u043d\u0430 \u0441\u0430\u043c\u043e\u043c \u0434\u0435\u043b\u0435 \u044d\u0442\u043e \u043e\u0431\u044a\u0435\u043a\u0442.\n\u041d\u0430\u0448\u0438 \u043c\u043e\u0434\u0435\u043b\u0438 \u043e\u0436\u0438\u0434\u0430\u044e\u0442 \u0443\u0432\u0438\u0434\u0435\u0442\u044c \u0441\u0442\u0440\u043e\u043a\u0438."
        },
        {
            "cell_type": "code",
            "execution_count": 36,
            "id": "f24f59de",
            "metadata": {
                "trusted": true
            },
            "outputs": [
                {
                    "data": {
                        "text/plain": "(training: nlp!, spacy.tokens.doc.Doc, spacy.tokens.token.Token)"
                    },
                    "execution_count": 36,
                    "metadata": {},
                    "output_type": "execute_result"
                }
            ],
            "source": "spacy_text = nlp('training: nlp!')\nspacy_text, type(spacy_text), type(spacy_text[0])"
        },
        {
            "cell_type": "code",
            "execution_count": 37,
            "id": "e0b85b75",
            "metadata": {
                "trusted": true
            },
            "outputs": [
                {
                    "data": {
                        "text/plain": "['training', ':', 'nlp', '!']"
                    },
                    "execution_count": 37,
                    "metadata": {},
                    "output_type": "execute_result"
                }
            ],
            "source": "[token.text for token in spacy_text]"
        },
        {
            "cell_type": "markdown",
            "id": "8cf002b5",
            "metadata": {},
            "source": "\u041f\u043e\u044d\u0442\u043e\u043c\u0443 \u043f\u0440\u0435\u043e\u0431\u0440\u0430\u0437\u0443\u0435\u043c \u043d\u0430\u0448 `corpus` \u0432 \u0443\u043f\u0440\u043e\u0449\u0451\u043d\u043d\u044b\u0439 \u0444\u043e\u0440\u043c\u0430\u0442, \u0441\u043e\u0432\u043c\u0435\u0441\u0442\u0438\u043c\u044b\u0439 \u0441 word2vec."
        },
        {
            "cell_type": "code",
            "execution_count": 38,
            "id": "a0d4d09a",
            "metadata": {
                "trusted": true
            },
            "outputs": [],
            "source": "str_corpus = [spacy_text.text for spacy_text in corpus]"
        },
        {
            "cell_type": "markdown",
            "id": "13ffb14a",
            "metadata": {},
            "source": "\u0412\u044b\u0431\u0435\u0440\u0435\u043c `X` \u0438 `y` \u0441\u0440\u0435\u0434\u0438 \u043d\u0430\u0448\u0435\u0433\u043e \u043d\u0430\u0431\u043e\u0440\u0430 \u0434\u0430\u043d\u043d\u044b\u0445"
        },
        {
            "cell_type": "code",
            "execution_count": 39,
            "id": "69d9300a",
            "metadata": {
                "trusted": true
            },
            "outputs": [],
            "source": "X = str_corpus\ny = df[\"category\"].values"
        },
        {
            "cell_type": "markdown",
            "id": "1dfe50c5",
            "metadata": {},
            "source": "\u0421\u043e\u0441\u0442\u0430\u0432\u0438\u043c \u0432\u044b\u0431\u043e\u0440\u043a\u0438 \u0434\u043b\u044f \u043e\u0431\u0443\u0447\u0435\u043d\u0438\u044f"
        },
        {
            "cell_type": "code",
            "execution_count": 40,
            "id": "a7d5b13a",
            "metadata": {
                "trusted": true
            },
            "outputs": [],
            "source": "from sklearn.model_selection import train_test_split\n\nX_train, X_test, y_train, y_test = train_test_split(\n    X, y,\n    test_size=0.33,\n    random_state=RANDOM_SEED\n)"
        },
        {
            "cell_type": "markdown",
            "id": "447ece25",
            "metadata": {},
            "source": "### \u0421\u043e\u0441\u0442\u0430\u0432\u0438\u043c pipeline"
        },
        {
            "cell_type": "code",
            "execution_count": 41,
            "id": "68330cda",
            "metadata": {
                "trusted": true
            },
            "outputs": [],
            "source": "import numpy as np\nfrom IPython.display import display\nfrom sklearn.linear_model import LogisticRegression\nfrom sklearn.metrics import accuracy_score, balanced_accuracy_score\n\n\ndef accuracy_score_for_classes(\n    y_true: np.ndarray, \n    y_pred: np.ndarray) -> dict[int, float]:\n    \"\"\"\n    \u0412\u044b\u0447\u0438\u0441\u043b\u0435\u043d\u0438\u0435 \u043c\u0435\u0442\u0440\u0438\u043a\u0438 accuracy \u0434\u043b\u044f \u043a\u0430\u0436\u0434\u043e\u0433\u043e \u043a\u043b\u0430\u0441\u0441\u0430\n    y_true - \u0438\u0441\u0442\u0438\u043d\u043d\u044b\u0435 \u0437\u043d\u0430\u0447\u0435\u043d\u0438\u044f \u043a\u043b\u0430\u0441\u0441\u043e\u0432\n    y_pred - \u043f\u0440\u0435\u0434\u0441\u043a\u0430\u0437\u0430\u043d\u043d\u044b\u0435 \u0437\u043d\u0430\u0447\u0435\u043d\u0438\u044f \u043a\u043b\u0430\u0441\u0441\u043e\u0432\n    \u0412\u043e\u0437\u0432\u0440\u0430\u0449\u0430\u0435\u0442 \u0441\u043b\u043e\u0432\u0430\u0440\u044c: \u043a\u043b\u044e\u0447 - \u043c\u0435\u0442\u043a\u0430 \u043a\u043b\u0430\u0441\u0441\u0430, \n    \u0437\u043d\u0430\u0447\u0435\u043d\u0438\u0435 - Accuracy \u0434\u043b\u044f \u0434\u0430\u043d\u043d\u043e\u0433\u043e \u043a\u043b\u0430\u0441\u0441\u0430\n    \"\"\"\n    # \u0414\u043b\u044f \u0443\u0434\u043e\u0431\u0441\u0442\u0432\u0430 \u0444\u0438\u043b\u044c\u0442\u0440\u0430\u0446\u0438\u0438 \u0441\u0444\u043e\u0440\u043c\u0438\u0440\u0443\u0435\u043c Pandas DataFrame \n    d = {'t': y_true, 'p': y_pred}\n    df = pd.DataFrame(data=d)\n    # \u041c\u0435\u0442\u043a\u0438 \u043a\u043b\u0430\u0441\u0441\u043e\u0432\n    classes = np.unique(y_true)\n    # \u0420\u0435\u0437\u0443\u043b\u044c\u0442\u0438\u0440\u0443\u044e\u0449\u0438\u0439 \u0441\u043b\u043e\u0432\u0430\u0440\u044c\n    res = dict()\n    # \u041f\u0435\u0440\u0435\u0431\u043e\u0440 \u043c\u0435\u0442\u043e\u043a \u043a\u043b\u0430\u0441\u0441\u043e\u0432\n    for c in classes:\n        # \u043e\u0442\u0444\u0438\u043b\u044c\u0442\u0440\u0443\u0435\u043c \u0434\u0430\u043d\u043d\u044b\u0435, \u043a\u043e\u0442\u043e\u0440\u044b\u0435 \u0441\u043e\u043e\u0442\u0432\u0435\u0442\u0441\u0442\u0432\u0443\u044e\u0442 \n        # \u0442\u0435\u043a\u0443\u0449\u0435\u0439 \u043c\u0435\u0442\u043a\u0435 \u043a\u043b\u0430\u0441\u0441\u0430 \u0432 \u0438\u0441\u0442\u0438\u043d\u043d\u044b\u0445 \u0437\u043d\u0430\u0447\u0435\u043d\u0438\u044f\u0445\n        temp_data_flt = df[df['t']==c]\n        # \u0440\u0430\u0441\u0447\u0435\u0442 accuracy \u0434\u043b\u044f \u0437\u0430\u0434\u0430\u043d\u043d\u043e\u0439 \u043c\u0435\u0442\u043a\u0438 \u043a\u043b\u0430\u0441\u0441\u0430\n        temp_acc = accuracy_score(\n            temp_data_flt['t'].values, \n            temp_data_flt['p'].values)\n        # \u0441\u043e\u0445\u0440\u0430\u043d\u0435\u043d\u0438\u0435 \u0440\u0435\u0437\u0443\u043b\u044c\u0442\u0430\u0442\u0430 \u0432 \u0441\u043b\u043e\u0432\u0430\u0440\u044c\n        res[c] = temp_acc\n    return res\n\ndef print_accuracy_score_for_classes(\n    y_true: np.ndarray, \n    y_pred: np.ndarray):\n    \"\"\"\n    \u0412\u044b\u0432\u043e\u0434 \u043c\u0435\u0442\u0440\u0438\u043a\u0438 accuracy \u0434\u043b\u044f \u043a\u0430\u0436\u0434\u043e\u0433\u043e \u043a\u043b\u0430\u0441\u0441\u0430\n    \"\"\"\n\n    accs = accuracy_score_for_classes(y_true, y_pred)\n    results = pd.DataFrame(data={ \"\u041a\u0430\u0442\u0435\u0433\u043e\u0440\u0438\u044f\": accs.keys(), \"\u0422\u043e\u0447\u043d\u043e\u0441\u0442\u044c\": accs.values() })\n\n    display(results)\n\n    return results"
        },
        {
            "cell_type": "code",
            "execution_count": 42,
            "id": "a53a2a5d",
            "metadata": {
                "trusted": true
            },
            "outputs": [],
            "source": "class EmbeddingVectorizer(object):\n    '''\n    \u0414\u043b\u044f \u0442\u0435\u043a\u0441\u0442\u0430 \u0443\u0441\u0440\u0435\u0434\u043d\u0438\u043c \u0432\u0435\u043a\u0442\u043e\u0440\u0430 \u0432\u0445\u043e\u0434\u044f\u0449\u0438\u0445 \u0432 \u043d\u0435\u0433\u043e \u0441\u043b\u043e\u0432\n    '''\n    def __init__(self, model):\n        self.model = model\n        self.size = model.vector_size\n\n    def fit(self, X, y):\n        return self\n\n    def transform(self, X):\n        return np.array([np.mean(\n            [self.model[w] for w in words if w in self.model] \n            or [np.zeros(self.size)], axis=0)\n            for words in X])"
        },
        {
            "cell_type": "code",
            "execution_count": 43,
            "id": "43624321",
            "metadata": {
                "trusted": true
            },
            "outputs": [],
            "source": "from sklearn.pipeline import Pipeline\n\n\ndef classifier_pipeline(v, c, scaler=None):\n    pipeline_steps = [\n        (\"vectorizer\", v), \n    ]\n\n    if scaler:\n        pipeline_steps.append((\"scaler\", scaler))\n\n    pipeline_steps.append((\"classifier\", c))\n\n    pipeline = Pipeline(pipeline_steps)\n\n    classifier_X_train = X_train\n    classifier_y_train = y_train\n    classifier_X_test = X_test\n    classifier_y_test = y_test\n\n    pipeline.fit(classifier_X_train, classifier_y_train)\n    y_pred = pipeline.predict(classifier_X_test)\n\n    return print_accuracy_score_for_classes(classifier_y_test, y_pred)"
        },
        {
            "cell_type": "markdown",
            "id": "5672f8bc",
            "metadata": {},
            "source": "### \u041f\u0440\u043e\u0432\u0435\u0440\u043a\u0430 \u0440\u0435\u0437\u0443\u043b\u044c\u0442\u0430\u0442\u043e\u0432"
        },
        {
            "cell_type": "code",
            "execution_count": 44,
            "id": "00ecf287",
            "metadata": {
                "trusted": true
            },
            "outputs": [],
            "source": "ClassifierName = str\nModelName = str\n\nmetrics_data: dict[ClassifierName, dict[ModelName, float]] = {}"
        },
        {
            "cell_type": "code",
            "execution_count": 45,
            "id": "399ff601",
            "metadata": {
                "trusted": true
            },
            "outputs": [],
            "source": "def add_metrics_data(classier_name: ClassifierName, model_name: ModelName, results: pd.DataFrame):\n    if not metrics_data.get(classier_name):\n        metrics_data[classier_name] = {}\n\n    metrics_data[classier_name][model_name] = np.mean(results['\u0422\u043e\u0447\u043d\u043e\u0441\u0442\u044c'])\n\n    return metrics_data"
        },
        {
            "cell_type": "markdown",
            "id": "dab61969",
            "metadata": {},
            "source": "### CountVectorizer\nScaler \u043d\u0435 \u043d\u0443\u0436\u0435\u043d (\u0438 \u0435\u0433\u043e \u0434\u0430\u0436\u0435 \u043d\u0435\u0432\u043e\u0437\u043c\u043e\u0436\u043d\u043e \u043f\u0440\u0438\u043c\u0435\u043d\u0438\u0442\u044c, \u0432\u0435\u0434\u044c CountVectorizer \u0432\u043e\u0437\u0432\u0440\u0430\u0449\u0430\u0435\u0442\n\u0440\u0430\u0437\u0440\u0435\u0436\u0435\u043d\u043d\u0443\u044e \u043c\u0430\u0442\u0440\u0438\u0446\u0443)"
        },
        {
            "cell_type": "code",
            "execution_count": 46,
            "id": "061c16d3",
            "metadata": {
                "trusted": true
            },
            "outputs": [],
            "source": "from sklearn.feature_extraction.text import CountVectorizer\n\ncount_vectorizer = CountVectorizer(ngram_range=(1,3))"
        },
        {
            "cell_type": "markdown",
            "id": "a571fa1d",
            "metadata": {},
            "source": "#### LogisticRegression"
        },
        {
            "cell_type": "code",
            "execution_count": 47,
            "id": "799f7994",
            "metadata": {
                "trusted": true
            },
            "outputs": [
                {
                    "data": {
                        "text/html": "<div>\n<style scoped>\n    .dataframe tbody tr th:only-of-type {\n        vertical-align: middle;\n    }\n\n    .dataframe tbody tr th {\n        vertical-align: top;\n    }\n\n    .dataframe thead th {\n        text-align: right;\n    }\n</style>\n<table border=\"1\" class=\"dataframe\">\n  <thead>\n    <tr style=\"text-align: right;\">\n      <th></th>\n      <th>\u041a\u0430\u0442\u0435\u0433\u043e\u0440\u0438\u044f</th>\n      <th>\u0422\u043e\u0447\u043d\u043e\u0441\u0442\u044c</th>\n    </tr>\n  </thead>\n  <tbody>\n    <tr>\n      <th>0</th>\n      <td>business</td>\n      <td>0.968553</td>\n    </tr>\n    <tr>\n      <th>1</th>\n      <td>entertainment</td>\n      <td>0.912409</td>\n    </tr>\n    <tr>\n      <th>2</th>\n      <td>politics</td>\n      <td>0.942446</td>\n    </tr>\n    <tr>\n      <th>3</th>\n      <td>sport</td>\n      <td>0.993711</td>\n    </tr>\n    <tr>\n      <th>4</th>\n      <td>tech</td>\n      <td>0.921986</td>\n    </tr>\n  </tbody>\n</table>\n</div>",
                        "text/plain": "       \u041a\u0430\u0442\u0435\u0433\u043e\u0440\u0438\u044f  \u0422\u043e\u0447\u043d\u043e\u0441\u0442\u044c\n0       business  0.968553\n1  entertainment  0.912409\n2       politics  0.942446\n3          sport  0.993711\n4           tech  0.921986"
                    },
                    "metadata": {},
                    "output_type": "display_data"
                },
                {
                    "data": {
                        "text/plain": "{'LogisticRegression': {'count vectorizer': 0.9478209537671576}}"
                    },
                    "execution_count": 47,
                    "metadata": {},
                    "output_type": "execute_result"
                }
            ],
            "source": "add_metrics_data(\"LogisticRegression\", \"count vectorizer\", classifier_pipeline(count_vectorizer, LogisticRegression(C=5.0)))"
        },
        {
            "cell_type": "markdown",
            "id": "945112de",
            "metadata": {},
            "source": "#### RandomForestClassifier"
        },
        {
            "cell_type": "code",
            "execution_count": 48,
            "id": "3f8a1374",
            "metadata": {
                "trusted": true
            },
            "outputs": [
                {
                    "data": {
                        "text/html": "<div>\n<style scoped>\n    .dataframe tbody tr th:only-of-type {\n        vertical-align: middle;\n    }\n\n    .dataframe tbody tr th {\n        vertical-align: top;\n    }\n\n    .dataframe thead th {\n        text-align: right;\n    }\n</style>\n<table border=\"1\" class=\"dataframe\">\n  <thead>\n    <tr style=\"text-align: right;\">\n      <th></th>\n      <th>\u041a\u0430\u0442\u0435\u0433\u043e\u0440\u0438\u044f</th>\n      <th>\u0422\u043e\u0447\u043d\u043e\u0441\u0442\u044c</th>\n    </tr>\n  </thead>\n  <tbody>\n    <tr>\n      <th>0</th>\n      <td>business</td>\n      <td>0.974843</td>\n    </tr>\n    <tr>\n      <th>1</th>\n      <td>entertainment</td>\n      <td>0.817518</td>\n    </tr>\n    <tr>\n      <th>2</th>\n      <td>politics</td>\n      <td>0.877698</td>\n    </tr>\n    <tr>\n      <th>3</th>\n      <td>sport</td>\n      <td>0.993711</td>\n    </tr>\n    <tr>\n      <th>4</th>\n      <td>tech</td>\n      <td>0.836879</td>\n    </tr>\n  </tbody>\n</table>\n</div>",
                        "text/plain": "       \u041a\u0430\u0442\u0435\u0433\u043e\u0440\u0438\u044f  \u0422\u043e\u0447\u043d\u043e\u0441\u0442\u044c\n0       business  0.974843\n1  entertainment  0.817518\n2       politics  0.877698\n3          sport  0.993711\n4           tech  0.836879"
                    },
                    "metadata": {},
                    "output_type": "display_data"
                },
                {
                    "data": {
                        "text/plain": "{'LogisticRegression': {'count vectorizer': 0.9478209537671576},\n 'RandomForestClassifier': {'count vectorizer': 0.9001297963290822}}"
                    },
                    "execution_count": 48,
                    "metadata": {},
                    "output_type": "execute_result"
                }
            ],
            "source": "from sklearn.ensemble import RandomForestClassifier\n\nadd_metrics_data(\"RandomForestClassifier\", \"count vectorizer\", classifier_pipeline(count_vectorizer, RandomForestClassifier(max_depth=200, criterion=\"gini\")))"
        },
        {
            "cell_type": "markdown",
            "id": "80c242ba",
            "metadata": {},
            "source": "### TFIDF\nScaler \u043d\u0435 \u043d\u0443\u0436\u0435\u043d (\u0438 \u0435\u0433\u043e \u0434\u0430\u0436\u0435 \u043d\u0435\u0432\u043e\u0437\u043c\u043e\u0436\u043d\u043e \u043f\u0440\u0438\u043c\u0435\u043d\u0438\u0442\u044c, \u0432\u0435\u0434\u044c tfidf \u0432\u043e\u0437\u0432\u0440\u0430\u0449\u0430\u0435\u0442\n\u0440\u0430\u0437\u0440\u0435\u0436\u0435\u043d\u043d\u0443\u044e \u043c\u0430\u0442\u0440\u0438\u0446\u0443)"
        },
        {
            "cell_type": "code",
            "execution_count": 49,
            "id": "3fee22d0",
            "metadata": {
                "trusted": true
            },
            "outputs": [],
            "source": "from sklearn.feature_extraction.text import TfidfVectorizer\n\ntfidf = TfidfVectorizer(ngram_range=(1,3))"
        },
        {
            "cell_type": "markdown",
            "id": "4c76a2a2",
            "metadata": {},
            "source": "#### LogisticRegression"
        },
        {
            "cell_type": "code",
            "execution_count": 50,
            "id": "9b63ebbb",
            "metadata": {
                "trusted": true
            },
            "outputs": [
                {
                    "data": {
                        "text/html": "<div>\n<style scoped>\n    .dataframe tbody tr th:only-of-type {\n        vertical-align: middle;\n    }\n\n    .dataframe tbody tr th {\n        vertical-align: top;\n    }\n\n    .dataframe thead th {\n        text-align: right;\n    }\n</style>\n<table border=\"1\" class=\"dataframe\">\n  <thead>\n    <tr style=\"text-align: right;\">\n      <th></th>\n      <th>\u041a\u0430\u0442\u0435\u0433\u043e\u0440\u0438\u044f</th>\n      <th>\u0422\u043e\u0447\u043d\u043e\u0441\u0442\u044c</th>\n    </tr>\n  </thead>\n  <tbody>\n    <tr>\n      <th>0</th>\n      <td>business</td>\n      <td>0.955975</td>\n    </tr>\n    <tr>\n      <th>1</th>\n      <td>entertainment</td>\n      <td>0.919708</td>\n    </tr>\n    <tr>\n      <th>2</th>\n      <td>politics</td>\n      <td>0.971223</td>\n    </tr>\n    <tr>\n      <th>3</th>\n      <td>sport</td>\n      <td>0.993711</td>\n    </tr>\n    <tr>\n      <th>4</th>\n      <td>tech</td>\n      <td>0.992908</td>\n    </tr>\n  </tbody>\n</table>\n</div>",
                        "text/plain": "       \u041a\u0430\u0442\u0435\u0433\u043e\u0440\u0438\u044f  \u0422\u043e\u0447\u043d\u043e\u0441\u0442\u044c\n0       business  0.955975\n1  entertainment  0.919708\n2       politics  0.971223\n3          sport  0.993711\n4           tech  0.992908"
                    },
                    "metadata": {},
                    "output_type": "display_data"
                },
                {
                    "data": {
                        "text/plain": "{'LogisticRegression': {'count vectorizer': 0.9478209537671576,\n  'tfidf': 0.9667048773578898},\n 'RandomForestClassifier': {'count vectorizer': 0.9001297963290822}}"
                    },
                    "execution_count": 50,
                    "metadata": {},
                    "output_type": "execute_result"
                }
            ],
            "source": "add_metrics_data(\"LogisticRegression\", \"tfidf\", classifier_pipeline(tfidf, LogisticRegression(C=5.0)))"
        },
        {
            "cell_type": "markdown",
            "id": "a9a96031",
            "metadata": {},
            "source": "#### RandomForestClassifier"
        },
        {
            "cell_type": "code",
            "execution_count": 51,
            "id": "eeeed340",
            "metadata": {
                "trusted": true
            },
            "outputs": [
                {
                    "data": {
                        "text/html": "<div>\n<style scoped>\n    .dataframe tbody tr th:only-of-type {\n        vertical-align: middle;\n    }\n\n    .dataframe tbody tr th {\n        vertical-align: top;\n    }\n\n    .dataframe thead th {\n        text-align: right;\n    }\n</style>\n<table border=\"1\" class=\"dataframe\">\n  <thead>\n    <tr style=\"text-align: right;\">\n      <th></th>\n      <th>\u041a\u0430\u0442\u0435\u0433\u043e\u0440\u0438\u044f</th>\n      <th>\u0422\u043e\u0447\u043d\u043e\u0441\u0442\u044c</th>\n    </tr>\n  </thead>\n  <tbody>\n    <tr>\n      <th>0</th>\n      <td>business</td>\n      <td>0.962264</td>\n    </tr>\n    <tr>\n      <th>1</th>\n      <td>entertainment</td>\n      <td>0.802920</td>\n    </tr>\n    <tr>\n      <th>2</th>\n      <td>politics</td>\n      <td>0.863309</td>\n    </tr>\n    <tr>\n      <th>3</th>\n      <td>sport</td>\n      <td>1.000000</td>\n    </tr>\n    <tr>\n      <th>4</th>\n      <td>tech</td>\n      <td>0.865248</td>\n    </tr>\n  </tbody>\n</table>\n</div>",
                        "text/plain": "       \u041a\u0430\u0442\u0435\u0433\u043e\u0440\u0438\u044f  \u0422\u043e\u0447\u043d\u043e\u0441\u0442\u044c\n0       business  0.962264\n1  entertainment  0.802920\n2       politics  0.863309\n3          sport  1.000000\n4           tech  0.865248"
                    },
                    "metadata": {},
                    "output_type": "display_data"
                },
                {
                    "data": {
                        "text/plain": "{'LogisticRegression': {'count vectorizer': 0.9478209537671576,\n  'tfidf': 0.9667048773578898},\n 'RandomForestClassifier': {'count vectorizer': 0.9001297963290822,\n  'tfidf': 0.8987482876881867}}"
                    },
                    "execution_count": 51,
                    "metadata": {},
                    "output_type": "execute_result"
                }
            ],
            "source": "from sklearn.ensemble import RandomForestClassifier\n\nadd_metrics_data(\"RandomForestClassifier\", \"tfidf\", classifier_pipeline(tfidf, RandomForestClassifier(max_depth=200, criterion=\"gini\")))"
        },
        {
            "cell_type": "markdown",
            "id": "95f7525e",
            "metadata": {},
            "source": "### \u0421\u0440\u0430\u0432\u043d\u0435\u043d\u0438\u0435 \u0440\u0435\u0437\u0443\u043b\u044c\u0442\u0430\u0442\u043e\u0432"
        },
        {
            "cell_type": "code",
            "execution_count": 52,
            "id": "04e44d15",
            "metadata": {
                "trusted": true
            },
            "outputs": [],
            "source": "import matplotlib.pyplot as plt\n\ndef grouped_bar_chart(ax, data: dict[str, list[float]],\n                      tick_labels, colors=None, total_width=0.8,\n             single_width=1):\n    \"\"\"Draws a bar plot with multiple bars per data point.\n\n    Parameters\n    ----------\n    ax: matplotlib.pyplot.axis\n        The axis we want to draw our plot on.\n\n    data: Dict[str, List[float]]\n        A dictionary containing the data we want to plot. Keys are the names of the\n        data, the items is a list of the values.\n\n        Example:\n        data = {\n            \"x\":[ 1, 2,      3      ],\n            \"y\":[ 1, np.nan, 3      ],\n            \"z\":[ 1, 2,      np.nan ],\n        }\n\n    tick_labels: list\n        Labels which will be displayed under each group.\n\n        Example:\n        tick_labels = ['Accuracy', 'F1', 'Precision']\n\n        Note:\n        Length should be the same as number of groups.\n        \n\n    colors: array-like, optional\n        A list of colors which are used for the bars. If None, the colors\n        will be the standard matplotlib color cyle. (default: None)\n\n    total_width: float, optional, default: 0.8\n        The width of a bar group. 0.8 means that 80% of the x-axis is covered\n        by bars and 20% will be spaces between the bars.\n\n    single_width: float, optional, default: 1\n        The relative width of a single bar within a group. 1 means the bars\n        will touch eachother within a group, values less than 1 will make\n        these bars thinner.\n    \"\"\"\n\n    # Check if colors where provided, otherwhise use the default color cycle\n    if colors is None:\n        colors = plt.rcParams['axes.prop_cycle'].by_key()['color']\n\n\n    # Number of bars per group.\n    n_bars = len(data)\n\n    # The width of a single bar.\n    bar_width = total_width / n_bars\n\n    tick_locations = np.arange(len(tick_labels))\n\n    # Iterate over all data.\n    for i, (name, values) in enumerate(data.items()):\n        # The offset in x direction of that bar.\n        tick_offset = (i - n_bars / 2) * bar_width + bar_width / 2\n\n        # One bar plot consists of multiple rectangles.\n        rects = ax.bar(tick_locations + tick_offset, values, width=bar_width * single_width,\n                     color=colors[i % len(colors)],\n                     label=name)\n        # Add a handle to the last drawn bar, which we'll need for the legend.\n        # bars.append(bars[0])\n\n        # Add label (value) above each bar. Format it to 5 fixed numbers after\n        # comma.\n        ax.bar_label(rects, fmt=\"%0.5f\", padding=3)\n\n    ax.set_xticks(tick_locations, labels=tick_labels)"
        },
        {
            "cell_type": "code",
            "execution_count": 53,
            "id": "b263ac14",
            "metadata": {
                "trusted": true
            },
            "outputs": [],
            "source": "def show_metrics_grouped_bar_chart(metrics_data: dict[str, dict[str, float]]):\n    \"\"\" Creates grouped bar chart for metrics.\n    :param metrics_data: a dictionary of metrics and their values for each\n        model.\n    :type metrics_data: dict[str, dict[str, float]]\n\n        Example:\n\n        metrics_data = {\n            'GridSearchCV': { \n                'Accuracy': 1,\n                'a': 2,\n                'b': 3,\n            },\n            'RandomSearchCV': {\n                'Roc': 2,\n                'a': 3,\n                'b': 4,\n            },\n        }\n\n    \"\"\"\n    # plt.figure(figsize=(7,3))\n    width = 15\n    height = 15\n    plt.rcParams['figure.figsize'] = width, height\n\n    fig, ax = plt.subplots()\n\n    # Extracting unique metric names from our data.\n    tick_labels = set()\n    for model_metrics in metrics_data.values():\n        tick_labels.update(list(model_metrics.keys()))\n\n    \"\"\" Converting our dictionary to a `fully filled` dictionary of lists:\n    data = {\n        'GridSearchCV': [ \n            1, # was 'Accuracy': 1,\n            2, # was 'a': 2,\n            3, # was 'b': 3,\n            None, # didn't have value for 'Roc';\n        ],\n        'RandomSearchCV': [\n            None, # didn't have value for 'Accuracy',\n            3, # was 'a': 3,\n            4, # was 'b': 4,\n            2, # was 'Roc': 2;\n        ],\n    }\n    \"\"\"\n    filled_metrics_data = {}\n\n    for model in metrics_data.keys():\n        filled_metrics_data[model] = []\n        for metric in tick_labels:\n            filled_metrics_data[model].append(metrics_data[model].get(metric)\n                                              or np.nan)\n            \n    \n    grouped_bar_chart(ax, filled_metrics_data, tick_labels=tick_labels,\n                      total_width=.8, single_width=.9, colors=['#aadddd',\n                          '#eebbbb', '#ccbbbb', '#77bb77', \"#cb9978\"])\n\n    plt.title('\u0421\u0440\u0430\u0432\u043d\u0435\u043d\u0438\u0435 \u043c\u043e\u0434\u0435\u043b\u0435\u0439 \u0438 \u043a\u043b\u0430\u0441\u0441\u0438\u0444\u0438\u043a\u0430\u0442\u043e\u0440\u043e\u0432')\n    plt.xlabel('\u041c\u043e\u0434\u0435\u043b\u044c')\n    plt.ylabel('\u0417\u043d\u0430\u0447\u0435\u043d\u0438\u0435 (\u0441\u0440\u0435\u0434\u043d\u0435\u0435 \u043f\u043e \u0432\u0441\u0435\u043c \u043a\u0430\u0442\u0435\u0433\u043e\u0440\u0438\u044f\u043c)')\n\n    ax.legend(title='\u041a\u043b\u0430\u0441\u0441\u0438\u0444\u0438\u043a\u0430\u0442\u043e\u0440', bbox_to_anchor=(1.2, 1))\n\n    # plt.yscale('log')\n    plt.show()"
        },
        {
            "cell_type": "code",
            "execution_count": 54,
            "id": "cacf8ce5",
            "metadata": {
                "trusted": true
            },
            "outputs": [
                {
                    "data": {
                        "image/png": "[encoded data removed]",
                        "text/plain": "<Figure size 1500x1500 with 1 Axes>"
                    },
                    "metadata": {},
                    "output_type": "display_data"
                }
            ],
            "source": "show_metrics_grouped_bar_chart(metrics_data)"
        },
        {
            "cell_type": "markdown",
            "id": "ce648d70",
            "metadata": {},
            "source": "## \u0412\u044b\u0432\u043e\u0434\n\u041a\u0430\u043a \u0432\u0438\u0434\u043d\u043e \u043f\u043e \u0433\u0440\u0430\u0444\u0438\u043a\u0443 \u0441\u0440\u0430\u0432\u043d\u0435\u043d\u0438\u044f \u043c\u043e\u0434\u0435\u043b\u0435\u0439 \u0438 \u043a\u043b\u0430\u0441\u0441\u0438\u0444\u0438\u043a\u0430\u0442\u043e\u0440\u043e\u0432, \u043d\u0430\u0438\u0431\u043e\u043b\u0435\u0435 \u0443\u0441\u043f\u0435\u0448\u043d\u043e\u0439 \u043e\u043a\u0430\u0437\u0430\u043b\u0430\u0441\u044c \u0441\u0432\u044f\u0437\u043a\u0430 TFIDF \u0438 LogisticRegression.\n\n\u0412 \u043e\u0431\u0449\u0435\u043c, \u0437\u043d\u0430\u0447\u0435\u043d\u0438\u044f \u043c\u043e\u0434\u0435\u043b\u0435\u0439 \u0441 \u043a\u043b\u0430\u0441\u0441\u0438\u0444\u0438\u043a\u0430\u0442\u043e\u0440\u043e\u043c \u043b\u043e\u0433\u0438\u0441\u0442\u0438\u0441\u0442\u0438\u0447\u0435\u0441\u043a\u043e\u0439 \u0440\u0435\u0433\u0440\u0435\u0441\u0441\u0438\u0438 \u0432\u044b\u0448\u0435 \u043d\u0430 5%, \u0447\u0435\u043c \u0443 \u0441\u043e\u043e\u0442\u0432\u0435\u0442\u0441\u0442\u0432\u0443\u044e\u0449\u0438\u0445 \u043c\u043e\u0434\u0435\u043b\u0435\u0439 \u0441 RandomForestClassifier.\n\n\u041f\u0440\u0438 \u044d\u0442\u043e\u043c \u0437\u043d\u0430\u0447\u0435\u043d\u0438\u044f \u043c\u043e\u0434\u0435\u043b\u0435\u0439 \u043f\u0440\u0438 \u043e\u0434\u0438\u043d\u0430\u043a\u043e\u0432\u044b\u0445 \u043a\u043b\u0430\u0441\u0441\u0438\u0444\u0438\u043a\u0430\u0442\u043e\u0440\u0430\u0445 \u043f\u043e\u0447\u0442\u0438 \u043d\u0435 \u043e\u0442\u043b\u0438\u0447\u0430\u044e\u0442\u0441\u044f: \u0438 TFIDF, \u0438 CountVectorizer \u0434\u0435\u043c\u043e\u043d\u0441\u0442\u0440\u0438\u0440\u0443\u044e\u0442 \u0445\u043e\u0440\u043e\u0448\u0438\u0435 \u0440\u0435\u0437\u0443\u043b\u044c\u0442\u0430\u0442\u044b."
        }
    ],
    "metadata": {
        "kernelspec": {
            "display_name": "Python 3 (ipykernel)",
            "language": "python",
            "name": "python3"
        },
        "language_info": {
            "codemirror_mode": {
                "name": "ipython",
                "version": 3
            },
            "file_extension": ".py",
            "mimetype": "text/x-python",
            "name": "python",
            "nbconvert_exporter": "python",
            "pygments_lexer": "ipython3",
            "version": "3.12.3"
        }
    },
    "nbformat": 4,
    "nbformat_minor": 5
}